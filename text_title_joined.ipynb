{
 "cells": [
  {
   "cell_type": "markdown",
   "id": "a2b1b67a",
   "metadata": {
    "colab_type": "text",
    "id": "view-in-github"
   },
   "source": [
    "<a href=\"https://colab.research.google.com/github/adrianacupp/fake_new_classification/blob/main/text_title_joined.ipynb\" target=\"_parent\"><img src=\"https://colab.research.google.com/assets/colab-badge.svg\" alt=\"Open In Colab\"/></a>"
   ]
  },
  {
   "cell_type": "markdown",
   "id": "f4986024",
   "metadata": {
    "id": "f4986024"
   },
   "source": [
    "# Importing"
   ]
  },
  {
   "cell_type": "code",
   "execution_count": 2,
   "id": "02ffee36",
   "metadata": {
    "colab": {
     "base_uri": "https://localhost:8080/"
    },
    "id": "02ffee36",
    "outputId": "f996d23b-5559-4094-9f5a-5d7845504c1c"
   },
   "outputs": [
    {
     "name": "stderr",
     "output_type": "stream",
     "text": [
      "[nltk_data] Downloading package stopwords to\n",
      "[nltk_data]     /Users/adrianacuppuleri/nltk_data...\n",
      "[nltk_data]   Package stopwords is already up-to-date!\n"
     ]
    }
   ],
   "source": [
    "import pandas as pd\n",
    "import nltk\n",
    "import spacy\n",
    "from nltk import ngrams\n",
    "from nltk.tokenize import word_tokenize \n",
    "from sklearn.datasets import make_classification\n",
    "from nltk.corpus import stopwords\n",
    "nltk.download('stopwords')\n",
    "from nltk.stem import WordNetLemmatizer\n",
    "import re\n",
    "import pycld2 as cld2\n",
    "from langdetect import detect\n",
    "import numpy as np\n",
    "from sklearn.feature_extraction.text import CountVectorizer\n",
    "from sklearn.model_selection import train_test_split\n",
    "from sklearn.feature_extraction.text import TfidfVectorizer\n",
    "from sklearn.svm import LinearSVC\n",
    "from sklearn.metrics import accuracy_score\n",
    "from sklearn.metrics import roc_auc_score\n",
    "from sklearn.metrics import cohen_kappa_score, classification_report \n",
    "from sklearn.svm import SVC\n",
    "from sklearn import metrics\n",
    "from sklearn.datasets import make_classification\n",
    "from sklearn.metrics import RocCurveDisplay, plot_roc_curve"
   ]
  },
  {
   "cell_type": "code",
   "execution_count": 4,
   "id": "-ENfVhcSapHi",
   "metadata": {
    "colab": {
     "base_uri": "https://localhost:8080/"
    },
    "id": "-ENfVhcSapHi",
    "outputId": "7c9f90ce-909f-493e-b175-af0430da119e"
   },
   "outputs": [
    {
     "name": "stdout",
     "output_type": "stream",
     "text": [
      "Requirement already satisfied: langdetect in /opt/anaconda3/lib/python3.9/site-packages (1.0.9)\r\n",
      "Requirement already satisfied: six in /opt/anaconda3/lib/python3.9/site-packages (from langdetect) (1.16.0)\r\n"
     ]
    }
   ],
   "source": [
    "!pip install langdetect"
   ]
  },
  {
   "cell_type": "code",
   "execution_count": 3,
   "id": "12306168",
   "metadata": {
    "colab": {
     "base_uri": "https://localhost:8080/",
     "height": 378
    },
    "id": "12306168",
    "outputId": "5723f95a-685d-440d-b504-82ab5518ad49"
   },
   "outputs": [
    {
     "data": {
      "text/html": [
       "<div>\n",
       "<style scoped>\n",
       "    .dataframe tbody tr th:only-of-type {\n",
       "        vertical-align: middle;\n",
       "    }\n",
       "\n",
       "    .dataframe tbody tr th {\n",
       "        vertical-align: top;\n",
       "    }\n",
       "\n",
       "    .dataframe thead th {\n",
       "        text-align: right;\n",
       "    }\n",
       "</style>\n",
       "<table border=\"1\" class=\"dataframe\">\n",
       "  <thead>\n",
       "    <tr style=\"text-align: right;\">\n",
       "      <th></th>\n",
       "      <th>title</th>\n",
       "      <th>text</th>\n",
       "      <th>label</th>\n",
       "    </tr>\n",
       "  </thead>\n",
       "  <tbody>\n",
       "    <tr>\n",
       "      <th>0</th>\n",
       "      <td>LAW ENFORCEMENT ON HIGH ALERT Following Threat...</td>\n",
       "      <td>No comment is expected from Barack Obama Membe...</td>\n",
       "      <td>1</td>\n",
       "    </tr>\n",
       "    <tr>\n",
       "      <th>1</th>\n",
       "      <td>NaN</td>\n",
       "      <td>Did they post their votes for Hillary already?</td>\n",
       "      <td>1</td>\n",
       "    </tr>\n",
       "    <tr>\n",
       "      <th>2</th>\n",
       "      <td>UNBELIEVABLE! OBAMA’S ATTORNEY GENERAL SAYS MO...</td>\n",
       "      <td>Now, most of the demonstrators gathered last ...</td>\n",
       "      <td>1</td>\n",
       "    </tr>\n",
       "    <tr>\n",
       "      <th>3</th>\n",
       "      <td>Bobby Jindal, raised Hindu, uses story of Chri...</td>\n",
       "      <td>A dozen politically active pastors came here f...</td>\n",
       "      <td>0</td>\n",
       "    </tr>\n",
       "    <tr>\n",
       "      <th>4</th>\n",
       "      <td>SATAN 2: Russia unvelis an image of its terrif...</td>\n",
       "      <td>The RS-28 Sarmat missile, dubbed Satan 2, will...</td>\n",
       "      <td>1</td>\n",
       "    </tr>\n",
       "    <tr>\n",
       "      <th>...</th>\n",
       "      <td>...</td>\n",
       "      <td>...</td>\n",
       "      <td>...</td>\n",
       "    </tr>\n",
       "    <tr>\n",
       "      <th>72129</th>\n",
       "      <td>Russians steal research on Trump in hack of U....</td>\n",
       "      <td>WASHINGTON (Reuters) - Hackers believed to be ...</td>\n",
       "      <td>0</td>\n",
       "    </tr>\n",
       "    <tr>\n",
       "      <th>72130</th>\n",
       "      <td>WATCH: Giuliani Demands That Democrats Apolog...</td>\n",
       "      <td>You know, because in fantasyland Republicans n...</td>\n",
       "      <td>1</td>\n",
       "    </tr>\n",
       "    <tr>\n",
       "      <th>72131</th>\n",
       "      <td>Migrants Refuse To Leave Train At Refugee Camp...</td>\n",
       "      <td>Migrants Refuse To Leave Train At Refugee Camp...</td>\n",
       "      <td>0</td>\n",
       "    </tr>\n",
       "    <tr>\n",
       "      <th>72132</th>\n",
       "      <td>Trump tussle gives unpopular Mexican leader mu...</td>\n",
       "      <td>MEXICO CITY (Reuters) - Donald Trump’s combati...</td>\n",
       "      <td>0</td>\n",
       "    </tr>\n",
       "    <tr>\n",
       "      <th>72133</th>\n",
       "      <td>Goldman Sachs Endorses Hillary Clinton For Pre...</td>\n",
       "      <td>Goldman Sachs Endorses Hillary Clinton For Pre...</td>\n",
       "      <td>1</td>\n",
       "    </tr>\n",
       "  </tbody>\n",
       "</table>\n",
       "<p>72134 rows × 3 columns</p>\n",
       "</div>"
      ],
      "text/plain": [
       "                                                   title  \\\n",
       "0      LAW ENFORCEMENT ON HIGH ALERT Following Threat...   \n",
       "1                                                    NaN   \n",
       "2      UNBELIEVABLE! OBAMA’S ATTORNEY GENERAL SAYS MO...   \n",
       "3      Bobby Jindal, raised Hindu, uses story of Chri...   \n",
       "4      SATAN 2: Russia unvelis an image of its terrif...   \n",
       "...                                                  ...   \n",
       "72129  Russians steal research on Trump in hack of U....   \n",
       "72130   WATCH: Giuliani Demands That Democrats Apolog...   \n",
       "72131  Migrants Refuse To Leave Train At Refugee Camp...   \n",
       "72132  Trump tussle gives unpopular Mexican leader mu...   \n",
       "72133  Goldman Sachs Endorses Hillary Clinton For Pre...   \n",
       "\n",
       "                                                    text  label  \n",
       "0      No comment is expected from Barack Obama Membe...      1  \n",
       "1         Did they post their votes for Hillary already?      1  \n",
       "2       Now, most of the demonstrators gathered last ...      1  \n",
       "3      A dozen politically active pastors came here f...      0  \n",
       "4      The RS-28 Sarmat missile, dubbed Satan 2, will...      1  \n",
       "...                                                  ...    ...  \n",
       "72129  WASHINGTON (Reuters) - Hackers believed to be ...      0  \n",
       "72130  You know, because in fantasyland Republicans n...      1  \n",
       "72131  Migrants Refuse To Leave Train At Refugee Camp...      0  \n",
       "72132  MEXICO CITY (Reuters) - Donald Trump’s combati...      0  \n",
       "72133  Goldman Sachs Endorses Hillary Clinton For Pre...      1  \n",
       "\n",
       "[72134 rows x 3 columns]"
      ]
     },
     "execution_count": 3,
     "metadata": {},
     "output_type": "execute_result"
    }
   ],
   "source": [
    "df = pd.read_csv(\"data/WELFake_Dataset.csv\")\n",
    "df.drop(columns=[\"Unnamed: 0\"], inplace=True)\n",
    "df"
   ]
  },
  {
   "cell_type": "code",
   "execution_count": 4,
   "id": "0db641bb",
   "metadata": {
    "id": "0db641bb",
    "outputId": "5aebef43-8931-4270-c9c7-14dd56fb331a"
   },
   "outputs": [
    {
     "name": "stdout",
     "output_type": "stream",
     "text": [
      "<class 'pandas.core.frame.DataFrame'>\n",
      "RangeIndex: 72134 entries, 0 to 72133\n",
      "Data columns (total 3 columns):\n",
      " #   Column  Non-Null Count  Dtype \n",
      "---  ------  --------------  ----- \n",
      " 0   title   71576 non-null  object\n",
      " 1   text    72095 non-null  object\n",
      " 2   label   72134 non-null  int64 \n",
      "dtypes: int64(1), object(2)\n",
      "memory usage: 1.7+ MB\n"
     ]
    }
   ],
   "source": [
    "df.info()"
   ]
  },
  {
   "cell_type": "code",
   "execution_count": 5,
   "id": "92022f1b",
   "metadata": {
    "id": "92022f1b",
    "outputId": "ba5fc5ef-6df2-4d17-809a-d2ce1cb508e1"
   },
   "outputs": [
    {
     "data": {
      "text/plain": [
       "1    37106\n",
       "0    35028\n",
       "Name: label, dtype: int64"
      ]
     },
     "execution_count": 5,
     "metadata": {},
     "output_type": "execute_result"
    }
   ],
   "source": [
    "df['label'].value_counts()"
   ]
  },
  {
   "cell_type": "code",
   "execution_count": 6,
   "id": "8b15658b",
   "metadata": {
    "id": "8b15658b",
    "outputId": "35385051-ccc5-41b1-8265-9692a7da4ad8"
   },
   "outputs": [
    {
     "data": {
      "text/html": [
       "<div>\n",
       "<style scoped>\n",
       "    .dataframe tbody tr th:only-of-type {\n",
       "        vertical-align: middle;\n",
       "    }\n",
       "\n",
       "    .dataframe tbody tr th {\n",
       "        vertical-align: top;\n",
       "    }\n",
       "\n",
       "    .dataframe thead th {\n",
       "        text-align: right;\n",
       "    }\n",
       "</style>\n",
       "<table border=\"1\" class=\"dataframe\">\n",
       "  <thead>\n",
       "    <tr style=\"text-align: right;\">\n",
       "      <th></th>\n",
       "      <th>title</th>\n",
       "      <th>text</th>\n",
       "      <th>label</th>\n",
       "    </tr>\n",
       "  </thead>\n",
       "  <tbody>\n",
       "  </tbody>\n",
       "</table>\n",
       "</div>"
      ],
      "text/plain": [
       "Empty DataFrame\n",
       "Columns: [title, text, label]\n",
       "Index: []"
      ]
     },
     "execution_count": 6,
     "metadata": {},
     "output_type": "execute_result"
    }
   ],
   "source": [
    "df[df['title'].isna() & df['text'].isna()]"
   ]
  },
  {
   "cell_type": "code",
   "execution_count": 7,
   "id": "7cfc1eff",
   "metadata": {
    "id": "7cfc1eff",
    "outputId": "b676f615-5e24-472b-8a9d-db40c921ab17"
   },
   "outputs": [
    {
     "data": {
      "text/html": [
       "<div>\n",
       "<style scoped>\n",
       "    .dataframe tbody tr th:only-of-type {\n",
       "        vertical-align: middle;\n",
       "    }\n",
       "\n",
       "    .dataframe tbody tr th {\n",
       "        vertical-align: top;\n",
       "    }\n",
       "\n",
       "    .dataframe thead th {\n",
       "        text-align: right;\n",
       "    }\n",
       "</style>\n",
       "<table border=\"1\" class=\"dataframe\">\n",
       "  <thead>\n",
       "    <tr style=\"text-align: right;\">\n",
       "      <th></th>\n",
       "      <th>title</th>\n",
       "      <th>text</th>\n",
       "      <th>label</th>\n",
       "    </tr>\n",
       "  </thead>\n",
       "  <tbody>\n",
       "    <tr>\n",
       "      <th>1</th>\n",
       "      <td>NaN</td>\n",
       "      <td>Did they post their votes for Hillary already?</td>\n",
       "      <td>1</td>\n",
       "    </tr>\n",
       "    <tr>\n",
       "      <th>43</th>\n",
       "      <td>NaN</td>\n",
       "      <td>True. Hillary needs a distraction and what bet...</td>\n",
       "      <td>1</td>\n",
       "    </tr>\n",
       "    <tr>\n",
       "      <th>162</th>\n",
       "      <td>NaN</td>\n",
       "      <td>All eyes on Electoral delegates. The People kn...</td>\n",
       "      <td>1</td>\n",
       "    </tr>\n",
       "    <tr>\n",
       "      <th>185</th>\n",
       "      <td>NaN</td>\n",
       "      <td>Cool</td>\n",
       "      <td>1</td>\n",
       "    </tr>\n",
       "    <tr>\n",
       "      <th>269</th>\n",
       "      <td>NaN</td>\n",
       "      <td>A leading US senator: US Supporting War in Syr...</td>\n",
       "      <td>1</td>\n",
       "    </tr>\n",
       "    <tr>\n",
       "      <th>...</th>\n",
       "      <td>...</td>\n",
       "      <td>...</td>\n",
       "      <td>...</td>\n",
       "    </tr>\n",
       "    <tr>\n",
       "      <th>71484</th>\n",
       "      <td>NaN</td>\n",
       "      <td>Another Arab supremacist masturbation fantasy....</td>\n",
       "      <td>1</td>\n",
       "    </tr>\n",
       "    <tr>\n",
       "      <th>71521</th>\n",
       "      <td>NaN</td>\n",
       "      <td>I'm sure they drastically changed accounting m...</td>\n",
       "      <td>1</td>\n",
       "    </tr>\n",
       "    <tr>\n",
       "      <th>71540</th>\n",
       "      <td>NaN</td>\n",
       "      <td>It's easy to imagine Obama or Kerry pissing hi...</td>\n",
       "      <td>1</td>\n",
       "    </tr>\n",
       "    <tr>\n",
       "      <th>71570</th>\n",
       "      <td>NaN</td>\n",
       "      <td>Ever since the powers to be assassinated JFK A...</td>\n",
       "      <td>1</td>\n",
       "    </tr>\n",
       "    <tr>\n",
       "      <th>71734</th>\n",
       "      <td>NaN</td>\n",
       "      <td>Hmm, free college, now that's an idea.</td>\n",
       "      <td>1</td>\n",
       "    </tr>\n",
       "  </tbody>\n",
       "</table>\n",
       "<p>597 rows × 3 columns</p>\n",
       "</div>"
      ],
      "text/plain": [
       "      title                                               text  label\n",
       "1       NaN     Did they post their votes for Hillary already?      1\n",
       "43      NaN  True. Hillary needs a distraction and what bet...      1\n",
       "162     NaN  All eyes on Electoral delegates. The People kn...      1\n",
       "185     NaN                                               Cool      1\n",
       "269     NaN  A leading US senator: US Supporting War in Syr...      1\n",
       "...     ...                                                ...    ...\n",
       "71484   NaN  Another Arab supremacist masturbation fantasy....      1\n",
       "71521   NaN  I'm sure they drastically changed accounting m...      1\n",
       "71540   NaN  It's easy to imagine Obama or Kerry pissing hi...      1\n",
       "71570   NaN  Ever since the powers to be assassinated JFK A...      1\n",
       "71734   NaN             Hmm, free college, now that's an idea.      1\n",
       "\n",
       "[597 rows x 3 columns]"
      ]
     },
     "execution_count": 7,
     "metadata": {},
     "output_type": "execute_result"
    }
   ],
   "source": [
    "df[df['title'].isna() | df['text'].isna()]"
   ]
  },
  {
   "cell_type": "code",
   "execution_count": 8,
   "id": "14ff2eb2",
   "metadata": {
    "id": "14ff2eb2"
   },
   "outputs": [],
   "source": [
    "df['text'] = df['title'] + ' ' + df['text']"
   ]
  },
  {
   "cell_type": "code",
   "execution_count": 9,
   "id": "5b45bee3",
   "metadata": {
    "id": "5b45bee3"
   },
   "outputs": [],
   "source": [
    "df.drop(['title'], axis=1,inplace=True)"
   ]
  },
  {
   "cell_type": "code",
   "execution_count": 10,
   "id": "57847b94",
   "metadata": {
    "id": "57847b94",
    "outputId": "779d4284-7e1c-4f74-f078-f67241ab1590"
   },
   "outputs": [
    {
     "data": {
      "text/html": [
       "<div>\n",
       "<style scoped>\n",
       "    .dataframe tbody tr th:only-of-type {\n",
       "        vertical-align: middle;\n",
       "    }\n",
       "\n",
       "    .dataframe tbody tr th {\n",
       "        vertical-align: top;\n",
       "    }\n",
       "\n",
       "    .dataframe thead th {\n",
       "        text-align: right;\n",
       "    }\n",
       "</style>\n",
       "<table border=\"1\" class=\"dataframe\">\n",
       "  <thead>\n",
       "    <tr style=\"text-align: right;\">\n",
       "      <th></th>\n",
       "      <th>text</th>\n",
       "      <th>label</th>\n",
       "    </tr>\n",
       "  </thead>\n",
       "  <tbody>\n",
       "    <tr>\n",
       "      <th>0</th>\n",
       "      <td>LAW ENFORCEMENT ON HIGH ALERT Following Threat...</td>\n",
       "      <td>1</td>\n",
       "    </tr>\n",
       "    <tr>\n",
       "      <th>1</th>\n",
       "      <td>NaN</td>\n",
       "      <td>1</td>\n",
       "    </tr>\n",
       "    <tr>\n",
       "      <th>2</th>\n",
       "      <td>UNBELIEVABLE! OBAMA’S ATTORNEY GENERAL SAYS MO...</td>\n",
       "      <td>1</td>\n",
       "    </tr>\n",
       "    <tr>\n",
       "      <th>3</th>\n",
       "      <td>Bobby Jindal, raised Hindu, uses story of Chri...</td>\n",
       "      <td>0</td>\n",
       "    </tr>\n",
       "    <tr>\n",
       "      <th>4</th>\n",
       "      <td>SATAN 2: Russia unvelis an image of its terrif...</td>\n",
       "      <td>1</td>\n",
       "    </tr>\n",
       "    <tr>\n",
       "      <th>...</th>\n",
       "      <td>...</td>\n",
       "      <td>...</td>\n",
       "    </tr>\n",
       "    <tr>\n",
       "      <th>72129</th>\n",
       "      <td>Russians steal research on Trump in hack of U....</td>\n",
       "      <td>0</td>\n",
       "    </tr>\n",
       "    <tr>\n",
       "      <th>72130</th>\n",
       "      <td>WATCH: Giuliani Demands That Democrats Apolog...</td>\n",
       "      <td>1</td>\n",
       "    </tr>\n",
       "    <tr>\n",
       "      <th>72131</th>\n",
       "      <td>Migrants Refuse To Leave Train At Refugee Camp...</td>\n",
       "      <td>0</td>\n",
       "    </tr>\n",
       "    <tr>\n",
       "      <th>72132</th>\n",
       "      <td>Trump tussle gives unpopular Mexican leader mu...</td>\n",
       "      <td>0</td>\n",
       "    </tr>\n",
       "    <tr>\n",
       "      <th>72133</th>\n",
       "      <td>Goldman Sachs Endorses Hillary Clinton For Pre...</td>\n",
       "      <td>1</td>\n",
       "    </tr>\n",
       "  </tbody>\n",
       "</table>\n",
       "<p>72134 rows × 2 columns</p>\n",
       "</div>"
      ],
      "text/plain": [
       "                                                    text  label\n",
       "0      LAW ENFORCEMENT ON HIGH ALERT Following Threat...      1\n",
       "1                                                    NaN      1\n",
       "2      UNBELIEVABLE! OBAMA’S ATTORNEY GENERAL SAYS MO...      1\n",
       "3      Bobby Jindal, raised Hindu, uses story of Chri...      0\n",
       "4      SATAN 2: Russia unvelis an image of its terrif...      1\n",
       "...                                                  ...    ...\n",
       "72129  Russians steal research on Trump in hack of U....      0\n",
       "72130   WATCH: Giuliani Demands That Democrats Apolog...      1\n",
       "72131  Migrants Refuse To Leave Train At Refugee Camp...      0\n",
       "72132  Trump tussle gives unpopular Mexican leader mu...      0\n",
       "72133  Goldman Sachs Endorses Hillary Clinton For Pre...      1\n",
       "\n",
       "[72134 rows x 2 columns]"
      ]
     },
     "execution_count": 10,
     "metadata": {},
     "output_type": "execute_result"
    }
   ],
   "source": [
    "df"
   ]
  },
  {
   "cell_type": "code",
   "execution_count": 13,
   "id": "78b75825",
   "metadata": {
    "id": "78b75825"
   },
   "outputs": [],
   "source": [
    "df.dropna(axis=0, how='any', inplace=True)"
   ]
  },
  {
   "cell_type": "code",
   "execution_count": 14,
   "id": "00b97007",
   "metadata": {
    "id": "00b97007",
    "outputId": "8691a464-85de-4a00-e01d-58674c37aaf4"
   },
   "outputs": [
    {
     "data": {
      "text/html": [
       "<div>\n",
       "<style scoped>\n",
       "    .dataframe tbody tr th:only-of-type {\n",
       "        vertical-align: middle;\n",
       "    }\n",
       "\n",
       "    .dataframe tbody tr th {\n",
       "        vertical-align: top;\n",
       "    }\n",
       "\n",
       "    .dataframe thead th {\n",
       "        text-align: right;\n",
       "    }\n",
       "</style>\n",
       "<table border=\"1\" class=\"dataframe\">\n",
       "  <thead>\n",
       "    <tr style=\"text-align: right;\">\n",
       "      <th></th>\n",
       "      <th>text</th>\n",
       "      <th>label</th>\n",
       "    </tr>\n",
       "  </thead>\n",
       "  <tbody>\n",
       "    <tr>\n",
       "      <th>0</th>\n",
       "      <td>LAW ENFORCEMENT ON HIGH ALERT Following Threat...</td>\n",
       "      <td>1</td>\n",
       "    </tr>\n",
       "    <tr>\n",
       "      <th>1</th>\n",
       "      <td>UNBELIEVABLE! OBAMA’S ATTORNEY GENERAL SAYS MO...</td>\n",
       "      <td>1</td>\n",
       "    </tr>\n",
       "    <tr>\n",
       "      <th>2</th>\n",
       "      <td>Bobby Jindal, raised Hindu, uses story of Chri...</td>\n",
       "      <td>0</td>\n",
       "    </tr>\n",
       "    <tr>\n",
       "      <th>3</th>\n",
       "      <td>SATAN 2: Russia unvelis an image of its terrif...</td>\n",
       "      <td>1</td>\n",
       "    </tr>\n",
       "    <tr>\n",
       "      <th>4</th>\n",
       "      <td>About Time! Christian Group Sues Amazon and SP...</td>\n",
       "      <td>1</td>\n",
       "    </tr>\n",
       "    <tr>\n",
       "      <th>...</th>\n",
       "      <td>...</td>\n",
       "      <td>...</td>\n",
       "    </tr>\n",
       "    <tr>\n",
       "      <th>71532</th>\n",
       "      <td>Russians steal research on Trump in hack of U....</td>\n",
       "      <td>0</td>\n",
       "    </tr>\n",
       "    <tr>\n",
       "      <th>71533</th>\n",
       "      <td>WATCH: Giuliani Demands That Democrats Apolog...</td>\n",
       "      <td>1</td>\n",
       "    </tr>\n",
       "    <tr>\n",
       "      <th>71534</th>\n",
       "      <td>Migrants Refuse To Leave Train At Refugee Camp...</td>\n",
       "      <td>0</td>\n",
       "    </tr>\n",
       "    <tr>\n",
       "      <th>71535</th>\n",
       "      <td>Trump tussle gives unpopular Mexican leader mu...</td>\n",
       "      <td>0</td>\n",
       "    </tr>\n",
       "    <tr>\n",
       "      <th>71536</th>\n",
       "      <td>Goldman Sachs Endorses Hillary Clinton For Pre...</td>\n",
       "      <td>1</td>\n",
       "    </tr>\n",
       "  </tbody>\n",
       "</table>\n",
       "<p>71537 rows × 2 columns</p>\n",
       "</div>"
      ],
      "text/plain": [
       "                                                    text  label\n",
       "0      LAW ENFORCEMENT ON HIGH ALERT Following Threat...      1\n",
       "1      UNBELIEVABLE! OBAMA’S ATTORNEY GENERAL SAYS MO...      1\n",
       "2      Bobby Jindal, raised Hindu, uses story of Chri...      0\n",
       "3      SATAN 2: Russia unvelis an image of its terrif...      1\n",
       "4      About Time! Christian Group Sues Amazon and SP...      1\n",
       "...                                                  ...    ...\n",
       "71532  Russians steal research on Trump in hack of U....      0\n",
       "71533   WATCH: Giuliani Demands That Democrats Apolog...      1\n",
       "71534  Migrants Refuse To Leave Train At Refugee Camp...      0\n",
       "71535  Trump tussle gives unpopular Mexican leader mu...      0\n",
       "71536  Goldman Sachs Endorses Hillary Clinton For Pre...      1\n",
       "\n",
       "[71537 rows x 2 columns]"
      ]
     },
     "execution_count": 14,
     "metadata": {},
     "output_type": "execute_result"
    }
   ],
   "source": [
    "df.reset_index(drop=True, inplace=True)\n",
    "df"
   ]
  },
  {
   "cell_type": "markdown",
   "id": "d02fcba2",
   "metadata": {
    "id": "d02fcba2"
   },
   "source": [
    "# Text preprocessing\n",
    "## With NLTK"
   ]
  },
  {
   "cell_type": "markdown",
   "id": "0d2fbb7c",
   "metadata": {
    "id": "0d2fbb7c"
   },
   "source": [
    "### Cleaning text"
   ]
  },
  {
   "cell_type": "code",
   "execution_count": 15,
   "id": "043308c1",
   "metadata": {
    "id": "043308c1"
   },
   "outputs": [],
   "source": [
    "def clean(text):\n",
    "    text = str(text).lower()\n",
    "    text = re.sub(r'\\s+', ' ', text)           # sequences of white spaces\n",
    "    text = re.sub(r'[^\\x00-\\x7F]+',' ', text)  # Removing all the non ASCII characters\n",
    "    text = re.sub(r'\\s+',' ', text)            # Replacing multiple Spaces with Single Space\n",
    "    text = re.sub(r'\\.{2,}', ' ', text)        # Replacing Two or more dots with one\n",
    "    text = re.sub(r'[^\\x00-\\x7F]+',' ', text)  # Removing all the non ASCII characters\n",
    "    text = re.sub(r'\\W+',' ', text)            # Replace everything non-alpahnumeric with a space\n",
    "    return text.strip()"
   ]
  },
  {
   "cell_type": "code",
   "execution_count": 16,
   "id": "9ad59b07",
   "metadata": {
    "id": "9ad59b07"
   },
   "outputs": [],
   "source": [
    "df['text_clean'] = df['text'].map(clean)"
   ]
  },
  {
   "cell_type": "code",
   "execution_count": 17,
   "id": "5a77d168",
   "metadata": {
    "id": "5a77d168"
   },
   "outputs": [],
   "source": [
    "df[\"empty_cell_text\"] = df['text_clean'].str.contains(r'^\\s*$', na=False)"
   ]
  },
  {
   "cell_type": "code",
   "execution_count": 18,
   "id": "355ccbd4",
   "metadata": {
    "id": "355ccbd4",
    "outputId": "8dba8f59-4d5a-4194-f0d7-13e95f9b1257"
   },
   "outputs": [
    {
     "data": {
      "text/html": [
       "<div>\n",
       "<style scoped>\n",
       "    .dataframe tbody tr th:only-of-type {\n",
       "        vertical-align: middle;\n",
       "    }\n",
       "\n",
       "    .dataframe tbody tr th {\n",
       "        vertical-align: top;\n",
       "    }\n",
       "\n",
       "    .dataframe thead th {\n",
       "        text-align: right;\n",
       "    }\n",
       "</style>\n",
       "<table border=\"1\" class=\"dataframe\">\n",
       "  <thead>\n",
       "    <tr style=\"text-align: right;\">\n",
       "      <th></th>\n",
       "      <th>text</th>\n",
       "      <th>label</th>\n",
       "      <th>text_clean</th>\n",
       "      <th>empty_cell_text</th>\n",
       "    </tr>\n",
       "  </thead>\n",
       "  <tbody>\n",
       "    <tr>\n",
       "      <th>0</th>\n",
       "      <td>LAW ENFORCEMENT ON HIGH ALERT Following Threat...</td>\n",
       "      <td>1</td>\n",
       "      <td>law enforcement on high alert following threat...</td>\n",
       "      <td>False</td>\n",
       "    </tr>\n",
       "    <tr>\n",
       "      <th>1</th>\n",
       "      <td>UNBELIEVABLE! OBAMA’S ATTORNEY GENERAL SAYS MO...</td>\n",
       "      <td>1</td>\n",
       "      <td>unbelievable obama s attorney general says mos...</td>\n",
       "      <td>False</td>\n",
       "    </tr>\n",
       "    <tr>\n",
       "      <th>2</th>\n",
       "      <td>Bobby Jindal, raised Hindu, uses story of Chri...</td>\n",
       "      <td>0</td>\n",
       "      <td>bobby jindal raised hindu uses story of christ...</td>\n",
       "      <td>False</td>\n",
       "    </tr>\n",
       "    <tr>\n",
       "      <th>3</th>\n",
       "      <td>SATAN 2: Russia unvelis an image of its terrif...</td>\n",
       "      <td>1</td>\n",
       "      <td>satan 2 russia unvelis an image of its terrify...</td>\n",
       "      <td>False</td>\n",
       "    </tr>\n",
       "    <tr>\n",
       "      <th>4</th>\n",
       "      <td>About Time! Christian Group Sues Amazon and SP...</td>\n",
       "      <td>1</td>\n",
       "      <td>about time christian group sues amazon and spl...</td>\n",
       "      <td>False</td>\n",
       "    </tr>\n",
       "    <tr>\n",
       "      <th>...</th>\n",
       "      <td>...</td>\n",
       "      <td>...</td>\n",
       "      <td>...</td>\n",
       "      <td>...</td>\n",
       "    </tr>\n",
       "    <tr>\n",
       "      <th>71532</th>\n",
       "      <td>Russians steal research on Trump in hack of U....</td>\n",
       "      <td>0</td>\n",
       "      <td>russians steal research on trump in hack of u ...</td>\n",
       "      <td>False</td>\n",
       "    </tr>\n",
       "    <tr>\n",
       "      <th>71533</th>\n",
       "      <td>WATCH: Giuliani Demands That Democrats Apolog...</td>\n",
       "      <td>1</td>\n",
       "      <td>watch giuliani demands that democrats apologiz...</td>\n",
       "      <td>False</td>\n",
       "    </tr>\n",
       "    <tr>\n",
       "      <th>71534</th>\n",
       "      <td>Migrants Refuse To Leave Train At Refugee Camp...</td>\n",
       "      <td>0</td>\n",
       "      <td>migrants refuse to leave train at refugee camp...</td>\n",
       "      <td>False</td>\n",
       "    </tr>\n",
       "    <tr>\n",
       "      <th>71535</th>\n",
       "      <td>Trump tussle gives unpopular Mexican leader mu...</td>\n",
       "      <td>0</td>\n",
       "      <td>trump tussle gives unpopular mexican leader mu...</td>\n",
       "      <td>False</td>\n",
       "    </tr>\n",
       "    <tr>\n",
       "      <th>71536</th>\n",
       "      <td>Goldman Sachs Endorses Hillary Clinton For Pre...</td>\n",
       "      <td>1</td>\n",
       "      <td>goldman sachs endorses hillary clinton for pre...</td>\n",
       "      <td>False</td>\n",
       "    </tr>\n",
       "  </tbody>\n",
       "</table>\n",
       "<p>71537 rows × 4 columns</p>\n",
       "</div>"
      ],
      "text/plain": [
       "                                                    text  label  \\\n",
       "0      LAW ENFORCEMENT ON HIGH ALERT Following Threat...      1   \n",
       "1      UNBELIEVABLE! OBAMA’S ATTORNEY GENERAL SAYS MO...      1   \n",
       "2      Bobby Jindal, raised Hindu, uses story of Chri...      0   \n",
       "3      SATAN 2: Russia unvelis an image of its terrif...      1   \n",
       "4      About Time! Christian Group Sues Amazon and SP...      1   \n",
       "...                                                  ...    ...   \n",
       "71532  Russians steal research on Trump in hack of U....      0   \n",
       "71533   WATCH: Giuliani Demands That Democrats Apolog...      1   \n",
       "71534  Migrants Refuse To Leave Train At Refugee Camp...      0   \n",
       "71535  Trump tussle gives unpopular Mexican leader mu...      0   \n",
       "71536  Goldman Sachs Endorses Hillary Clinton For Pre...      1   \n",
       "\n",
       "                                              text_clean  empty_cell_text  \n",
       "0      law enforcement on high alert following threat...            False  \n",
       "1      unbelievable obama s attorney general says mos...            False  \n",
       "2      bobby jindal raised hindu uses story of christ...            False  \n",
       "3      satan 2 russia unvelis an image of its terrify...            False  \n",
       "4      about time christian group sues amazon and spl...            False  \n",
       "...                                                  ...              ...  \n",
       "71532  russians steal research on trump in hack of u ...            False  \n",
       "71533  watch giuliani demands that democrats apologiz...            False  \n",
       "71534  migrants refuse to leave train at refugee camp...            False  \n",
       "71535  trump tussle gives unpopular mexican leader mu...            False  \n",
       "71536  goldman sachs endorses hillary clinton for pre...            False  \n",
       "\n",
       "[71537 rows x 4 columns]"
      ]
     },
     "execution_count": 18,
     "metadata": {},
     "output_type": "execute_result"
    }
   ],
   "source": [
    "df"
   ]
  },
  {
   "cell_type": "markdown",
   "id": "e11e1a96",
   "metadata": {
    "id": "e11e1a96"
   },
   "source": [
    "### Removing empty cells"
   ]
  },
  {
   "cell_type": "code",
   "execution_count": 19,
   "id": "d7293250",
   "metadata": {
    "id": "d7293250",
    "outputId": "b73a166f-ca31-4888-ca7d-6be5830dffe7",
    "scrolled": false
   },
   "outputs": [
    {
     "data": {
      "text/html": [
       "<div>\n",
       "<style scoped>\n",
       "    .dataframe tbody tr th:only-of-type {\n",
       "        vertical-align: middle;\n",
       "    }\n",
       "\n",
       "    .dataframe tbody tr th {\n",
       "        vertical-align: top;\n",
       "    }\n",
       "\n",
       "    .dataframe thead th {\n",
       "        text-align: right;\n",
       "    }\n",
       "</style>\n",
       "<table border=\"1\" class=\"dataframe\">\n",
       "  <thead>\n",
       "    <tr style=\"text-align: right;\">\n",
       "      <th></th>\n",
       "      <th>text</th>\n",
       "      <th>label</th>\n",
       "      <th>text_clean</th>\n",
       "      <th>empty_cell_text</th>\n",
       "    </tr>\n",
       "  </thead>\n",
       "  <tbody>\n",
       "    <tr>\n",
       "      <th>0</th>\n",
       "      <td>LAW ENFORCEMENT ON HIGH ALERT Following Threat...</td>\n",
       "      <td>1</td>\n",
       "      <td>law enforcement on high alert following threat...</td>\n",
       "      <td>False</td>\n",
       "    </tr>\n",
       "    <tr>\n",
       "      <th>1</th>\n",
       "      <td>UNBELIEVABLE! OBAMA’S ATTORNEY GENERAL SAYS MO...</td>\n",
       "      <td>1</td>\n",
       "      <td>unbelievable obama s attorney general says mos...</td>\n",
       "      <td>False</td>\n",
       "    </tr>\n",
       "    <tr>\n",
       "      <th>2</th>\n",
       "      <td>Bobby Jindal, raised Hindu, uses story of Chri...</td>\n",
       "      <td>0</td>\n",
       "      <td>bobby jindal raised hindu uses story of christ...</td>\n",
       "      <td>False</td>\n",
       "    </tr>\n",
       "    <tr>\n",
       "      <th>3</th>\n",
       "      <td>SATAN 2: Russia unvelis an image of its terrif...</td>\n",
       "      <td>1</td>\n",
       "      <td>satan 2 russia unvelis an image of its terrify...</td>\n",
       "      <td>False</td>\n",
       "    </tr>\n",
       "    <tr>\n",
       "      <th>4</th>\n",
       "      <td>About Time! Christian Group Sues Amazon and SP...</td>\n",
       "      <td>1</td>\n",
       "      <td>about time christian group sues amazon and spl...</td>\n",
       "      <td>False</td>\n",
       "    </tr>\n",
       "    <tr>\n",
       "      <th>...</th>\n",
       "      <td>...</td>\n",
       "      <td>...</td>\n",
       "      <td>...</td>\n",
       "      <td>...</td>\n",
       "    </tr>\n",
       "    <tr>\n",
       "      <th>71532</th>\n",
       "      <td>Russians steal research on Trump in hack of U....</td>\n",
       "      <td>0</td>\n",
       "      <td>russians steal research on trump in hack of u ...</td>\n",
       "      <td>False</td>\n",
       "    </tr>\n",
       "    <tr>\n",
       "      <th>71533</th>\n",
       "      <td>WATCH: Giuliani Demands That Democrats Apolog...</td>\n",
       "      <td>1</td>\n",
       "      <td>watch giuliani demands that democrats apologiz...</td>\n",
       "      <td>False</td>\n",
       "    </tr>\n",
       "    <tr>\n",
       "      <th>71534</th>\n",
       "      <td>Migrants Refuse To Leave Train At Refugee Camp...</td>\n",
       "      <td>0</td>\n",
       "      <td>migrants refuse to leave train at refugee camp...</td>\n",
       "      <td>False</td>\n",
       "    </tr>\n",
       "    <tr>\n",
       "      <th>71535</th>\n",
       "      <td>Trump tussle gives unpopular Mexican leader mu...</td>\n",
       "      <td>0</td>\n",
       "      <td>trump tussle gives unpopular mexican leader mu...</td>\n",
       "      <td>False</td>\n",
       "    </tr>\n",
       "    <tr>\n",
       "      <th>71536</th>\n",
       "      <td>Goldman Sachs Endorses Hillary Clinton For Pre...</td>\n",
       "      <td>1</td>\n",
       "      <td>goldman sachs endorses hillary clinton for pre...</td>\n",
       "      <td>False</td>\n",
       "    </tr>\n",
       "  </tbody>\n",
       "</table>\n",
       "<p>71525 rows × 4 columns</p>\n",
       "</div>"
      ],
      "text/plain": [
       "                                                    text  label  \\\n",
       "0      LAW ENFORCEMENT ON HIGH ALERT Following Threat...      1   \n",
       "1      UNBELIEVABLE! OBAMA’S ATTORNEY GENERAL SAYS MO...      1   \n",
       "2      Bobby Jindal, raised Hindu, uses story of Chri...      0   \n",
       "3      SATAN 2: Russia unvelis an image of its terrif...      1   \n",
       "4      About Time! Christian Group Sues Amazon and SP...      1   \n",
       "...                                                  ...    ...   \n",
       "71532  Russians steal research on Trump in hack of U....      0   \n",
       "71533   WATCH: Giuliani Demands That Democrats Apolog...      1   \n",
       "71534  Migrants Refuse To Leave Train At Refugee Camp...      0   \n",
       "71535  Trump tussle gives unpopular Mexican leader mu...      0   \n",
       "71536  Goldman Sachs Endorses Hillary Clinton For Pre...      1   \n",
       "\n",
       "                                              text_clean  empty_cell_text  \n",
       "0      law enforcement on high alert following threat...            False  \n",
       "1      unbelievable obama s attorney general says mos...            False  \n",
       "2      bobby jindal raised hindu uses story of christ...            False  \n",
       "3      satan 2 russia unvelis an image of its terrify...            False  \n",
       "4      about time christian group sues amazon and spl...            False  \n",
       "...                                                  ...              ...  \n",
       "71532  russians steal research on trump in hack of u ...            False  \n",
       "71533  watch giuliani demands that democrats apologiz...            False  \n",
       "71534  migrants refuse to leave train at refugee camp...            False  \n",
       "71535  trump tussle gives unpopular mexican leader mu...            False  \n",
       "71536  goldman sachs endorses hillary clinton for pre...            False  \n",
       "\n",
       "[71525 rows x 4 columns]"
      ]
     },
     "execution_count": 19,
     "metadata": {},
     "output_type": "execute_result"
    }
   ],
   "source": [
    "df.drop(df.loc[df[\"empty_cell_text\"]].index, inplace=True)\n",
    "df"
   ]
  },
  {
   "cell_type": "code",
   "execution_count": 20,
   "id": "5919917e",
   "metadata": {
    "id": "5919917e"
   },
   "outputs": [],
   "source": [
    "df.reset_index(drop=True, inplace=True)\n",
    "df.drop(columns=[\"empty_cell_text\"], inplace=True)"
   ]
  },
  {
   "cell_type": "code",
   "execution_count": 21,
   "id": "0a46e769",
   "metadata": {
    "id": "0a46e769",
    "outputId": "83d7893b-6e7a-468d-8977-e9b9373ab2af"
   },
   "outputs": [
    {
     "data": {
      "text/html": [
       "<div>\n",
       "<style scoped>\n",
       "    .dataframe tbody tr th:only-of-type {\n",
       "        vertical-align: middle;\n",
       "    }\n",
       "\n",
       "    .dataframe tbody tr th {\n",
       "        vertical-align: top;\n",
       "    }\n",
       "\n",
       "    .dataframe thead th {\n",
       "        text-align: right;\n",
       "    }\n",
       "</style>\n",
       "<table border=\"1\" class=\"dataframe\">\n",
       "  <thead>\n",
       "    <tr style=\"text-align: right;\">\n",
       "      <th></th>\n",
       "      <th>text</th>\n",
       "      <th>label</th>\n",
       "      <th>text_clean</th>\n",
       "    </tr>\n",
       "  </thead>\n",
       "  <tbody>\n",
       "    <tr>\n",
       "      <th>0</th>\n",
       "      <td>LAW ENFORCEMENT ON HIGH ALERT Following Threat...</td>\n",
       "      <td>1</td>\n",
       "      <td>law enforcement on high alert following threat...</td>\n",
       "    </tr>\n",
       "    <tr>\n",
       "      <th>1</th>\n",
       "      <td>UNBELIEVABLE! OBAMA’S ATTORNEY GENERAL SAYS MO...</td>\n",
       "      <td>1</td>\n",
       "      <td>unbelievable obama s attorney general says mos...</td>\n",
       "    </tr>\n",
       "    <tr>\n",
       "      <th>2</th>\n",
       "      <td>Bobby Jindal, raised Hindu, uses story of Chri...</td>\n",
       "      <td>0</td>\n",
       "      <td>bobby jindal raised hindu uses story of christ...</td>\n",
       "    </tr>\n",
       "    <tr>\n",
       "      <th>3</th>\n",
       "      <td>SATAN 2: Russia unvelis an image of its terrif...</td>\n",
       "      <td>1</td>\n",
       "      <td>satan 2 russia unvelis an image of its terrify...</td>\n",
       "    </tr>\n",
       "    <tr>\n",
       "      <th>4</th>\n",
       "      <td>About Time! Christian Group Sues Amazon and SP...</td>\n",
       "      <td>1</td>\n",
       "      <td>about time christian group sues amazon and spl...</td>\n",
       "    </tr>\n",
       "    <tr>\n",
       "      <th>...</th>\n",
       "      <td>...</td>\n",
       "      <td>...</td>\n",
       "      <td>...</td>\n",
       "    </tr>\n",
       "    <tr>\n",
       "      <th>71520</th>\n",
       "      <td>Russians steal research on Trump in hack of U....</td>\n",
       "      <td>0</td>\n",
       "      <td>russians steal research on trump in hack of u ...</td>\n",
       "    </tr>\n",
       "    <tr>\n",
       "      <th>71521</th>\n",
       "      <td>WATCH: Giuliani Demands That Democrats Apolog...</td>\n",
       "      <td>1</td>\n",
       "      <td>watch giuliani demands that democrats apologiz...</td>\n",
       "    </tr>\n",
       "    <tr>\n",
       "      <th>71522</th>\n",
       "      <td>Migrants Refuse To Leave Train At Refugee Camp...</td>\n",
       "      <td>0</td>\n",
       "      <td>migrants refuse to leave train at refugee camp...</td>\n",
       "    </tr>\n",
       "    <tr>\n",
       "      <th>71523</th>\n",
       "      <td>Trump tussle gives unpopular Mexican leader mu...</td>\n",
       "      <td>0</td>\n",
       "      <td>trump tussle gives unpopular mexican leader mu...</td>\n",
       "    </tr>\n",
       "    <tr>\n",
       "      <th>71524</th>\n",
       "      <td>Goldman Sachs Endorses Hillary Clinton For Pre...</td>\n",
       "      <td>1</td>\n",
       "      <td>goldman sachs endorses hillary clinton for pre...</td>\n",
       "    </tr>\n",
       "  </tbody>\n",
       "</table>\n",
       "<p>71525 rows × 3 columns</p>\n",
       "</div>"
      ],
      "text/plain": [
       "                                                    text  label  \\\n",
       "0      LAW ENFORCEMENT ON HIGH ALERT Following Threat...      1   \n",
       "1      UNBELIEVABLE! OBAMA’S ATTORNEY GENERAL SAYS MO...      1   \n",
       "2      Bobby Jindal, raised Hindu, uses story of Chri...      0   \n",
       "3      SATAN 2: Russia unvelis an image of its terrif...      1   \n",
       "4      About Time! Christian Group Sues Amazon and SP...      1   \n",
       "...                                                  ...    ...   \n",
       "71520  Russians steal research on Trump in hack of U....      0   \n",
       "71521   WATCH: Giuliani Demands That Democrats Apolog...      1   \n",
       "71522  Migrants Refuse To Leave Train At Refugee Camp...      0   \n",
       "71523  Trump tussle gives unpopular Mexican leader mu...      0   \n",
       "71524  Goldman Sachs Endorses Hillary Clinton For Pre...      1   \n",
       "\n",
       "                                              text_clean  \n",
       "0      law enforcement on high alert following threat...  \n",
       "1      unbelievable obama s attorney general says mos...  \n",
       "2      bobby jindal raised hindu uses story of christ...  \n",
       "3      satan 2 russia unvelis an image of its terrify...  \n",
       "4      about time christian group sues amazon and spl...  \n",
       "...                                                  ...  \n",
       "71520  russians steal research on trump in hack of u ...  \n",
       "71521  watch giuliani demands that democrats apologiz...  \n",
       "71522  migrants refuse to leave train at refugee camp...  \n",
       "71523  trump tussle gives unpopular mexican leader mu...  \n",
       "71524  goldman sachs endorses hillary clinton for pre...  \n",
       "\n",
       "[71525 rows x 3 columns]"
      ]
     },
     "execution_count": 21,
     "metadata": {},
     "output_type": "execute_result"
    }
   ],
   "source": [
    "df"
   ]
  },
  {
   "cell_type": "markdown",
   "id": "34c04487",
   "metadata": {
    "id": "34c04487"
   },
   "source": [
    "### Language detection"
   ]
  },
  {
   "cell_type": "code",
   "execution_count": 22,
   "id": "425677e1",
   "metadata": {
    "id": "425677e1"
   },
   "outputs": [],
   "source": [
    "def detect_lang(text):\n",
    "    _, _, _, detected_language = cld2.detect(text, returnVectors=True)\n",
    "    return str(detected_language)"
   ]
  },
  {
   "cell_type": "code",
   "execution_count": 23,
   "id": "45128b57",
   "metadata": {
    "id": "45128b57"
   },
   "outputs": [],
   "source": [
    "df['text_lang'] = df['text_clean'].map(detect_lang)"
   ]
  },
  {
   "cell_type": "code",
   "execution_count": 24,
   "id": "01b4579d",
   "metadata": {
    "id": "01b4579d",
    "outputId": "4fe96107-f34b-4763-921e-7e63e5f8d49f",
    "scrolled": true
   },
   "outputs": [
    {
     "data": {
      "text/plain": [
       "0        ((0, 4965, 'ENGLISH', 'en'),)\n",
       "1         ((0, 343, 'ENGLISH', 'en'),)\n",
       "2        ((0, 7896, 'ENGLISH', 'en'),)\n",
       "3        ((0, 1970, 'ENGLISH', 'en'),)\n",
       "4        ((0, 1561, 'ENGLISH', 'en'),)\n",
       "                     ...              \n",
       "71520    ((0, 4727, 'ENGLISH', 'en'),)\n",
       "71521    ((0, 3673, 'ENGLISH', 'en'),)\n",
       "71522    ((0, 2836, 'ENGLISH', 'en'),)\n",
       "71523    ((0, 3356, 'ENGLISH', 'en'),)\n",
       "71524    ((0, 2681, 'ENGLISH', 'en'),)\n",
       "Name: text_lang, Length: 71525, dtype: object"
      ]
     },
     "execution_count": 24,
     "metadata": {},
     "output_type": "execute_result"
    }
   ],
   "source": [
    "df['text_lang'].astype(str)"
   ]
  },
  {
   "cell_type": "code",
   "execution_count": 25,
   "id": "4e3fc81f",
   "metadata": {
    "id": "4e3fc81f"
   },
   "outputs": [],
   "source": [
    "df['text_lang'] = ~df[\"text_lang\"].str.contains('ENGLISH|Unknown', regex=True)"
   ]
  },
  {
   "cell_type": "code",
   "execution_count": 26,
   "id": "9e15e0f2",
   "metadata": {
    "id": "9e15e0f2",
    "outputId": "5aa2b2ff-b7dd-48d6-935b-3f7d55f55ad5"
   },
   "outputs": [
    {
     "data": {
      "text/html": [
       "<div>\n",
       "<style scoped>\n",
       "    .dataframe tbody tr th:only-of-type {\n",
       "        vertical-align: middle;\n",
       "    }\n",
       "\n",
       "    .dataframe tbody tr th {\n",
       "        vertical-align: top;\n",
       "    }\n",
       "\n",
       "    .dataframe thead th {\n",
       "        text-align: right;\n",
       "    }\n",
       "</style>\n",
       "<table border=\"1\" class=\"dataframe\">\n",
       "  <thead>\n",
       "    <tr style=\"text-align: right;\">\n",
       "      <th></th>\n",
       "      <th>text</th>\n",
       "      <th>label</th>\n",
       "      <th>text_clean</th>\n",
       "      <th>text_lang</th>\n",
       "    </tr>\n",
       "  </thead>\n",
       "  <tbody>\n",
       "    <tr>\n",
       "      <th>0</th>\n",
       "      <td>LAW ENFORCEMENT ON HIGH ALERT Following Threat...</td>\n",
       "      <td>1</td>\n",
       "      <td>law enforcement on high alert following threat...</td>\n",
       "      <td>False</td>\n",
       "    </tr>\n",
       "    <tr>\n",
       "      <th>1</th>\n",
       "      <td>UNBELIEVABLE! OBAMA’S ATTORNEY GENERAL SAYS MO...</td>\n",
       "      <td>1</td>\n",
       "      <td>unbelievable obama s attorney general says mos...</td>\n",
       "      <td>False</td>\n",
       "    </tr>\n",
       "    <tr>\n",
       "      <th>2</th>\n",
       "      <td>Bobby Jindal, raised Hindu, uses story of Chri...</td>\n",
       "      <td>0</td>\n",
       "      <td>bobby jindal raised hindu uses story of christ...</td>\n",
       "      <td>False</td>\n",
       "    </tr>\n",
       "    <tr>\n",
       "      <th>3</th>\n",
       "      <td>SATAN 2: Russia unvelis an image of its terrif...</td>\n",
       "      <td>1</td>\n",
       "      <td>satan 2 russia unvelis an image of its terrify...</td>\n",
       "      <td>False</td>\n",
       "    </tr>\n",
       "    <tr>\n",
       "      <th>4</th>\n",
       "      <td>About Time! Christian Group Sues Amazon and SP...</td>\n",
       "      <td>1</td>\n",
       "      <td>about time christian group sues amazon and spl...</td>\n",
       "      <td>False</td>\n",
       "    </tr>\n",
       "    <tr>\n",
       "      <th>...</th>\n",
       "      <td>...</td>\n",
       "      <td>...</td>\n",
       "      <td>...</td>\n",
       "      <td>...</td>\n",
       "    </tr>\n",
       "    <tr>\n",
       "      <th>71520</th>\n",
       "      <td>Russians steal research on Trump in hack of U....</td>\n",
       "      <td>0</td>\n",
       "      <td>russians steal research on trump in hack of u ...</td>\n",
       "      <td>False</td>\n",
       "    </tr>\n",
       "    <tr>\n",
       "      <th>71521</th>\n",
       "      <td>WATCH: Giuliani Demands That Democrats Apolog...</td>\n",
       "      <td>1</td>\n",
       "      <td>watch giuliani demands that democrats apologiz...</td>\n",
       "      <td>False</td>\n",
       "    </tr>\n",
       "    <tr>\n",
       "      <th>71522</th>\n",
       "      <td>Migrants Refuse To Leave Train At Refugee Camp...</td>\n",
       "      <td>0</td>\n",
       "      <td>migrants refuse to leave train at refugee camp...</td>\n",
       "      <td>False</td>\n",
       "    </tr>\n",
       "    <tr>\n",
       "      <th>71523</th>\n",
       "      <td>Trump tussle gives unpopular Mexican leader mu...</td>\n",
       "      <td>0</td>\n",
       "      <td>trump tussle gives unpopular mexican leader mu...</td>\n",
       "      <td>False</td>\n",
       "    </tr>\n",
       "    <tr>\n",
       "      <th>71524</th>\n",
       "      <td>Goldman Sachs Endorses Hillary Clinton For Pre...</td>\n",
       "      <td>1</td>\n",
       "      <td>goldman sachs endorses hillary clinton for pre...</td>\n",
       "      <td>False</td>\n",
       "    </tr>\n",
       "  </tbody>\n",
       "</table>\n",
       "<p>71525 rows × 4 columns</p>\n",
       "</div>"
      ],
      "text/plain": [
       "                                                    text  label  \\\n",
       "0      LAW ENFORCEMENT ON HIGH ALERT Following Threat...      1   \n",
       "1      UNBELIEVABLE! OBAMA’S ATTORNEY GENERAL SAYS MO...      1   \n",
       "2      Bobby Jindal, raised Hindu, uses story of Chri...      0   \n",
       "3      SATAN 2: Russia unvelis an image of its terrif...      1   \n",
       "4      About Time! Christian Group Sues Amazon and SP...      1   \n",
       "...                                                  ...    ...   \n",
       "71520  Russians steal research on Trump in hack of U....      0   \n",
       "71521   WATCH: Giuliani Demands That Democrats Apolog...      1   \n",
       "71522  Migrants Refuse To Leave Train At Refugee Camp...      0   \n",
       "71523  Trump tussle gives unpopular Mexican leader mu...      0   \n",
       "71524  Goldman Sachs Endorses Hillary Clinton For Pre...      1   \n",
       "\n",
       "                                              text_clean  text_lang  \n",
       "0      law enforcement on high alert following threat...      False  \n",
       "1      unbelievable obama s attorney general says mos...      False  \n",
       "2      bobby jindal raised hindu uses story of christ...      False  \n",
       "3      satan 2 russia unvelis an image of its terrify...      False  \n",
       "4      about time christian group sues amazon and spl...      False  \n",
       "...                                                  ...        ...  \n",
       "71520  russians steal research on trump in hack of u ...      False  \n",
       "71521  watch giuliani demands that democrats apologiz...      False  \n",
       "71522  migrants refuse to leave train at refugee camp...      False  \n",
       "71523  trump tussle gives unpopular mexican leader mu...      False  \n",
       "71524  goldman sachs endorses hillary clinton for pre...      False  \n",
       "\n",
       "[71525 rows x 4 columns]"
      ]
     },
     "execution_count": 26,
     "metadata": {},
     "output_type": "execute_result"
    }
   ],
   "source": [
    "df"
   ]
  },
  {
   "cell_type": "code",
   "execution_count": 27,
   "id": "0d158929",
   "metadata": {
    "id": "0d158929"
   },
   "outputs": [],
   "source": [
    "df.drop(df.loc[df[\"text_lang\" ]].index, inplace=True)"
   ]
  },
  {
   "cell_type": "code",
   "execution_count": 28,
   "id": "49241ac9",
   "metadata": {
    "id": "49241ac9",
    "outputId": "30716475-7206-4bd7-9cd3-e42fa588ecb8"
   },
   "outputs": [
    {
     "data": {
      "text/html": [
       "<div>\n",
       "<style scoped>\n",
       "    .dataframe tbody tr th:only-of-type {\n",
       "        vertical-align: middle;\n",
       "    }\n",
       "\n",
       "    .dataframe tbody tr th {\n",
       "        vertical-align: top;\n",
       "    }\n",
       "\n",
       "    .dataframe thead th {\n",
       "        text-align: right;\n",
       "    }\n",
       "</style>\n",
       "<table border=\"1\" class=\"dataframe\">\n",
       "  <thead>\n",
       "    <tr style=\"text-align: right;\">\n",
       "      <th></th>\n",
       "      <th>text</th>\n",
       "      <th>label</th>\n",
       "      <th>text_clean</th>\n",
       "      <th>text_lang</th>\n",
       "    </tr>\n",
       "  </thead>\n",
       "  <tbody>\n",
       "    <tr>\n",
       "      <th>0</th>\n",
       "      <td>LAW ENFORCEMENT ON HIGH ALERT Following Threat...</td>\n",
       "      <td>1</td>\n",
       "      <td>law enforcement on high alert following threat...</td>\n",
       "      <td>False</td>\n",
       "    </tr>\n",
       "    <tr>\n",
       "      <th>1</th>\n",
       "      <td>UNBELIEVABLE! OBAMA’S ATTORNEY GENERAL SAYS MO...</td>\n",
       "      <td>1</td>\n",
       "      <td>unbelievable obama s attorney general says mos...</td>\n",
       "      <td>False</td>\n",
       "    </tr>\n",
       "    <tr>\n",
       "      <th>2</th>\n",
       "      <td>Bobby Jindal, raised Hindu, uses story of Chri...</td>\n",
       "      <td>0</td>\n",
       "      <td>bobby jindal raised hindu uses story of christ...</td>\n",
       "      <td>False</td>\n",
       "    </tr>\n",
       "    <tr>\n",
       "      <th>3</th>\n",
       "      <td>SATAN 2: Russia unvelis an image of its terrif...</td>\n",
       "      <td>1</td>\n",
       "      <td>satan 2 russia unvelis an image of its terrify...</td>\n",
       "      <td>False</td>\n",
       "    </tr>\n",
       "    <tr>\n",
       "      <th>4</th>\n",
       "      <td>About Time! Christian Group Sues Amazon and SP...</td>\n",
       "      <td>1</td>\n",
       "      <td>about time christian group sues amazon and spl...</td>\n",
       "      <td>False</td>\n",
       "    </tr>\n",
       "    <tr>\n",
       "      <th>...</th>\n",
       "      <td>...</td>\n",
       "      <td>...</td>\n",
       "      <td>...</td>\n",
       "      <td>...</td>\n",
       "    </tr>\n",
       "    <tr>\n",
       "      <th>71520</th>\n",
       "      <td>Russians steal research on Trump in hack of U....</td>\n",
       "      <td>0</td>\n",
       "      <td>russians steal research on trump in hack of u ...</td>\n",
       "      <td>False</td>\n",
       "    </tr>\n",
       "    <tr>\n",
       "      <th>71521</th>\n",
       "      <td>WATCH: Giuliani Demands That Democrats Apolog...</td>\n",
       "      <td>1</td>\n",
       "      <td>watch giuliani demands that democrats apologiz...</td>\n",
       "      <td>False</td>\n",
       "    </tr>\n",
       "    <tr>\n",
       "      <th>71522</th>\n",
       "      <td>Migrants Refuse To Leave Train At Refugee Camp...</td>\n",
       "      <td>0</td>\n",
       "      <td>migrants refuse to leave train at refugee camp...</td>\n",
       "      <td>False</td>\n",
       "    </tr>\n",
       "    <tr>\n",
       "      <th>71523</th>\n",
       "      <td>Trump tussle gives unpopular Mexican leader mu...</td>\n",
       "      <td>0</td>\n",
       "      <td>trump tussle gives unpopular mexican leader mu...</td>\n",
       "      <td>False</td>\n",
       "    </tr>\n",
       "    <tr>\n",
       "      <th>71524</th>\n",
       "      <td>Goldman Sachs Endorses Hillary Clinton For Pre...</td>\n",
       "      <td>1</td>\n",
       "      <td>goldman sachs endorses hillary clinton for pre...</td>\n",
       "      <td>False</td>\n",
       "    </tr>\n",
       "  </tbody>\n",
       "</table>\n",
       "<p>71425 rows × 4 columns</p>\n",
       "</div>"
      ],
      "text/plain": [
       "                                                    text  label  \\\n",
       "0      LAW ENFORCEMENT ON HIGH ALERT Following Threat...      1   \n",
       "1      UNBELIEVABLE! OBAMA’S ATTORNEY GENERAL SAYS MO...      1   \n",
       "2      Bobby Jindal, raised Hindu, uses story of Chri...      0   \n",
       "3      SATAN 2: Russia unvelis an image of its terrif...      1   \n",
       "4      About Time! Christian Group Sues Amazon and SP...      1   \n",
       "...                                                  ...    ...   \n",
       "71520  Russians steal research on Trump in hack of U....      0   \n",
       "71521   WATCH: Giuliani Demands That Democrats Apolog...      1   \n",
       "71522  Migrants Refuse To Leave Train At Refugee Camp...      0   \n",
       "71523  Trump tussle gives unpopular Mexican leader mu...      0   \n",
       "71524  Goldman Sachs Endorses Hillary Clinton For Pre...      1   \n",
       "\n",
       "                                              text_clean  text_lang  \n",
       "0      law enforcement on high alert following threat...      False  \n",
       "1      unbelievable obama s attorney general says mos...      False  \n",
       "2      bobby jindal raised hindu uses story of christ...      False  \n",
       "3      satan 2 russia unvelis an image of its terrify...      False  \n",
       "4      about time christian group sues amazon and spl...      False  \n",
       "...                                                  ...        ...  \n",
       "71520  russians steal research on trump in hack of u ...      False  \n",
       "71521  watch giuliani demands that democrats apologiz...      False  \n",
       "71522  migrants refuse to leave train at refugee camp...      False  \n",
       "71523  trump tussle gives unpopular mexican leader mu...      False  \n",
       "71524  goldman sachs endorses hillary clinton for pre...      False  \n",
       "\n",
       "[71425 rows x 4 columns]"
      ]
     },
     "execution_count": 28,
     "metadata": {},
     "output_type": "execute_result"
    }
   ],
   "source": [
    "df"
   ]
  },
  {
   "cell_type": "code",
   "execution_count": 29,
   "id": "b0343ae0",
   "metadata": {
    "id": "b0343ae0"
   },
   "outputs": [],
   "source": [
    "df.reset_index(drop=True, inplace=True)"
   ]
  },
  {
   "cell_type": "code",
   "execution_count": 30,
   "id": "e9139d59",
   "metadata": {
    "id": "e9139d59",
    "outputId": "a7cee69a-6262-47f8-e283-a4461b6c8f0b"
   },
   "outputs": [
    {
     "data": {
      "text/html": [
       "<div>\n",
       "<style scoped>\n",
       "    .dataframe tbody tr th:only-of-type {\n",
       "        vertical-align: middle;\n",
       "    }\n",
       "\n",
       "    .dataframe tbody tr th {\n",
       "        vertical-align: top;\n",
       "    }\n",
       "\n",
       "    .dataframe thead th {\n",
       "        text-align: right;\n",
       "    }\n",
       "</style>\n",
       "<table border=\"1\" class=\"dataframe\">\n",
       "  <thead>\n",
       "    <tr style=\"text-align: right;\">\n",
       "      <th></th>\n",
       "      <th>text</th>\n",
       "      <th>label</th>\n",
       "      <th>text_clean</th>\n",
       "      <th>text_lang</th>\n",
       "    </tr>\n",
       "  </thead>\n",
       "  <tbody>\n",
       "    <tr>\n",
       "      <th>0</th>\n",
       "      <td>LAW ENFORCEMENT ON HIGH ALERT Following Threat...</td>\n",
       "      <td>1</td>\n",
       "      <td>law enforcement on high alert following threat...</td>\n",
       "      <td>False</td>\n",
       "    </tr>\n",
       "    <tr>\n",
       "      <th>1</th>\n",
       "      <td>UNBELIEVABLE! OBAMA’S ATTORNEY GENERAL SAYS MO...</td>\n",
       "      <td>1</td>\n",
       "      <td>unbelievable obama s attorney general says mos...</td>\n",
       "      <td>False</td>\n",
       "    </tr>\n",
       "    <tr>\n",
       "      <th>2</th>\n",
       "      <td>Bobby Jindal, raised Hindu, uses story of Chri...</td>\n",
       "      <td>0</td>\n",
       "      <td>bobby jindal raised hindu uses story of christ...</td>\n",
       "      <td>False</td>\n",
       "    </tr>\n",
       "    <tr>\n",
       "      <th>3</th>\n",
       "      <td>SATAN 2: Russia unvelis an image of its terrif...</td>\n",
       "      <td>1</td>\n",
       "      <td>satan 2 russia unvelis an image of its terrify...</td>\n",
       "      <td>False</td>\n",
       "    </tr>\n",
       "    <tr>\n",
       "      <th>4</th>\n",
       "      <td>About Time! Christian Group Sues Amazon and SP...</td>\n",
       "      <td>1</td>\n",
       "      <td>about time christian group sues amazon and spl...</td>\n",
       "      <td>False</td>\n",
       "    </tr>\n",
       "    <tr>\n",
       "      <th>5</th>\n",
       "      <td>DR BEN CARSON TARGETED BY THE IRS: “I never ha...</td>\n",
       "      <td>1</td>\n",
       "      <td>dr ben carson targeted by the irs i never had ...</td>\n",
       "      <td>False</td>\n",
       "    </tr>\n",
       "    <tr>\n",
       "      <th>6</th>\n",
       "      <td>HOUSE INTEL CHAIR On Trump-Russia Fake Story: ...</td>\n",
       "      <td>1</td>\n",
       "      <td>house intel chair on trump russia fake story n...</td>\n",
       "      <td>False</td>\n",
       "    </tr>\n",
       "    <tr>\n",
       "      <th>7</th>\n",
       "      <td>Sports Bar Owner Bans NFL Games…Will Show Only...</td>\n",
       "      <td>1</td>\n",
       "      <td>sports bar owner bans nfl games will show only...</td>\n",
       "      <td>False</td>\n",
       "    </tr>\n",
       "    <tr>\n",
       "      <th>8</th>\n",
       "      <td>Latest Pipeline Leak Underscores Dangers Of Da...</td>\n",
       "      <td>1</td>\n",
       "      <td>latest pipeline leak underscores dangers of da...</td>\n",
       "      <td>False</td>\n",
       "    </tr>\n",
       "    <tr>\n",
       "      <th>9</th>\n",
       "      <td>GOP Senator Just Smacked Down The Most Puncha...</td>\n",
       "      <td>1</td>\n",
       "      <td>gop senator just smacked down the most punchab...</td>\n",
       "      <td>False</td>\n",
       "    </tr>\n",
       "    <tr>\n",
       "      <th>10</th>\n",
       "      <td>May Brexit offer would hurt, cost EU citizens ...</td>\n",
       "      <td>0</td>\n",
       "      <td>may brexit offer would hurt cost eu citizens e...</td>\n",
       "      <td>False</td>\n",
       "    </tr>\n",
       "    <tr>\n",
       "      <th>11</th>\n",
       "      <td>Schumer calls on Trump to appoint official to ...</td>\n",
       "      <td>0</td>\n",
       "      <td>schumer calls on trump to appoint official to ...</td>\n",
       "      <td>False</td>\n",
       "    </tr>\n",
       "    <tr>\n",
       "      <th>12</th>\n",
       "      <td>WATCH: HILARIOUS AD Calls Into Question Health...</td>\n",
       "      <td>1</td>\n",
       "      <td>watch hilarious ad calls into question health ...</td>\n",
       "      <td>False</td>\n",
       "    </tr>\n",
       "    <tr>\n",
       "      <th>13</th>\n",
       "      <td>No Change Expected for ESPN Political Agenda D...</td>\n",
       "      <td>0</td>\n",
       "      <td>no change expected for espn political agenda d...</td>\n",
       "      <td>False</td>\n",
       "    </tr>\n",
       "    <tr>\n",
       "      <th>14</th>\n",
       "      <td>Billionaire Odebrecht in Brazil scandal releas...</td>\n",
       "      <td>0</td>\n",
       "      <td>billionaire odebrecht in brazil scandal releas...</td>\n",
       "      <td>False</td>\n",
       "    </tr>\n",
       "    <tr>\n",
       "      <th>15</th>\n",
       "      <td>BRITISH WOMAN LOSES VIRGINITY To Asylum Seekin...</td>\n",
       "      <td>1</td>\n",
       "      <td>british woman loses virginity to asylum seekin...</td>\n",
       "      <td>False</td>\n",
       "    </tr>\n",
       "    <tr>\n",
       "      <th>16</th>\n",
       "      <td>U.N. seeks humanitarian pause in Sanaa where s...</td>\n",
       "      <td>0</td>\n",
       "      <td>u n seeks humanitarian pause in sanaa where st...</td>\n",
       "      <td>False</td>\n",
       "    </tr>\n",
       "    <tr>\n",
       "      <th>17</th>\n",
       "      <td>MAJOR LIBERAL RAG RELUCTANTLY PUBLISHES Articl...</td>\n",
       "      <td>1</td>\n",
       "      <td>major liberal rag reluctantly publishes articl...</td>\n",
       "      <td>False</td>\n",
       "    </tr>\n",
       "    <tr>\n",
       "      <th>18</th>\n",
       "      <td>Second judge says Clinton email setup may have...</td>\n",
       "      <td>0</td>\n",
       "      <td>second judge says clinton email setup may have...</td>\n",
       "      <td>False</td>\n",
       "    </tr>\n",
       "    <tr>\n",
       "      <th>19</th>\n",
       "      <td>America gives Grand Piano to horse Wednesday 9...</td>\n",
       "      <td>1</td>\n",
       "      <td>america gives grand piano to horse wednesday 9...</td>\n",
       "      <td>False</td>\n",
       "    </tr>\n",
       "    <tr>\n",
       "      <th>20</th>\n",
       "      <td>Hillary’s crime family: End of days for the U....</td>\n",
       "      <td>1</td>\n",
       "      <td>hillary s crime family end of days for the u s...</td>\n",
       "      <td>False</td>\n",
       "    </tr>\n",
       "    <tr>\n",
       "      <th>21</th>\n",
       "      <td>Sean Spicer Baffles Reporters, Claims Trump I...</td>\n",
       "      <td>1</td>\n",
       "      <td>sean spicer baffles reporters claims trump isn...</td>\n",
       "      <td>False</td>\n",
       "    </tr>\n",
       "    <tr>\n",
       "      <th>22</th>\n",
       "      <td>UNHOLY ALLIANCE: Hillary Clinton’s Saudi Spons...</td>\n",
       "      <td>1</td>\n",
       "      <td>unholy alliance hillary clinton s saudi sponso...</td>\n",
       "      <td>False</td>\n",
       "    </tr>\n",
       "    <tr>\n",
       "      <th>23</th>\n",
       "      <td>Even Trump’s Best Friend Joe Scarborough Can’...</td>\n",
       "      <td>1</td>\n",
       "      <td>even trump s best friend joe scarborough can t...</td>\n",
       "      <td>False</td>\n",
       "    </tr>\n",
       "    <tr>\n",
       "      <th>24</th>\n",
       "      <td>BOOM! Danish Government Considers Seizing Migr...</td>\n",
       "      <td>1</td>\n",
       "      <td>boom danish government considers seizing migra...</td>\n",
       "      <td>False</td>\n",
       "    </tr>\n",
       "    <tr>\n",
       "      <th>25</th>\n",
       "      <td>Supreme Court Won’t Hear Appeal From Texas on ...</td>\n",
       "      <td>0</td>\n",
       "      <td>supreme court won t hear appeal from texas on ...</td>\n",
       "      <td>False</td>\n",
       "    </tr>\n",
       "    <tr>\n",
       "      <th>26</th>\n",
       "      <td>Islamic State driven out of last stronghold in...</td>\n",
       "      <td>0</td>\n",
       "      <td>islamic state driven out of last stronghold in...</td>\n",
       "      <td>False</td>\n",
       "    </tr>\n",
       "    <tr>\n",
       "      <th>27</th>\n",
       "      <td>Senators Propose Giving States Option to Keep ...</td>\n",
       "      <td>0</td>\n",
       "      <td>senators propose giving states option to keep ...</td>\n",
       "      <td>False</td>\n",
       "    </tr>\n",
       "    <tr>\n",
       "      <th>28</th>\n",
       "      <td>Do You Belong To An Extraterrestrial Lineage? ...</td>\n",
       "      <td>1</td>\n",
       "      <td>do you belong to an extraterrestrial lineage a...</td>\n",
       "      <td>False</td>\n",
       "    </tr>\n",
       "    <tr>\n",
       "      <th>29</th>\n",
       "      <td>Zimbabwe's Mugabe appears in public for first ...</td>\n",
       "      <td>0</td>\n",
       "      <td>zimbabwe s mugabe appears in public for first ...</td>\n",
       "      <td>False</td>\n",
       "    </tr>\n",
       "    <tr>\n",
       "      <th>30</th>\n",
       "      <td>Credit Suisse Boss Faces Revolt From Bankers O...</td>\n",
       "      <td>0</td>\n",
       "      <td>credit suisse boss faces revolt from bankers o...</td>\n",
       "      <td>False</td>\n",
       "    </tr>\n",
       "    <tr>\n",
       "      <th>31</th>\n",
       "      <td>THE ROBBING OF INNOCENCE: 12 Yr Old Students G...</td>\n",
       "      <td>1</td>\n",
       "      <td>the robbing of innocence 12 yr old students gi...</td>\n",
       "      <td>False</td>\n",
       "    </tr>\n",
       "    <tr>\n",
       "      <th>32</th>\n",
       "      <td>Schaeuble to head German parliament, unblockin...</td>\n",
       "      <td>0</td>\n",
       "      <td>schaeuble to head german parliament unblocking...</td>\n",
       "      <td>False</td>\n",
       "    </tr>\n",
       "    <tr>\n",
       "      <th>33</th>\n",
       "      <td>At U.S.-China summit, Trump presses Xi on trad...</td>\n",
       "      <td>0</td>\n",
       "      <td>at u s china summit trump presses xi on trade ...</td>\n",
       "      <td>False</td>\n",
       "    </tr>\n",
       "    <tr>\n",
       "      <th>34</th>\n",
       "      <td>Clinton extends lead over Trump to 7 points: R...</td>\n",
       "      <td>0</td>\n",
       "      <td>clinton extends lead over trump to 7 points re...</td>\n",
       "      <td>False</td>\n",
       "    </tr>\n",
       "    <tr>\n",
       "      <th>35</th>\n",
       "      <td>JOE BIDEN’S SHOCKING ANNOUNCEMENT: “What the h...</td>\n",
       "      <td>1</td>\n",
       "      <td>joe biden s shocking announcement what the hel...</td>\n",
       "      <td>False</td>\n",
       "    </tr>\n",
       "    <tr>\n",
       "      <th>36</th>\n",
       "      <td>Comment une petite fille russe de 4 ans a appr...</td>\n",
       "      <td>1</td>\n",
       "      <td>comment une petite fille russe de 4 ans a appr...</td>\n",
       "      <td>False</td>\n",
       "    </tr>\n",
       "    <tr>\n",
       "      <th>37</th>\n",
       "      <td>Emboldened NRA Threatens New York Times: ‘We’...</td>\n",
       "      <td>1</td>\n",
       "      <td>emboldened nra threatens new york times we re ...</td>\n",
       "      <td>False</td>\n",
       "    </tr>\n",
       "    <tr>\n",
       "      <th>38</th>\n",
       "      <td>Noam Chomsky GOES OFF On Donald Trump: ‘He’s ...</td>\n",
       "      <td>1</td>\n",
       "      <td>noam chomsky goes off on donald trump he s a c...</td>\n",
       "      <td>False</td>\n",
       "    </tr>\n",
       "    <tr>\n",
       "      <th>39</th>\n",
       "      <td>5 Ways The Media Responded With Butthurt To Do...</td>\n",
       "      <td>1</td>\n",
       "      <td>5 ways the media responded with butthurt to do...</td>\n",
       "      <td>False</td>\n",
       "    </tr>\n",
       "    <tr>\n",
       "      <th>40</th>\n",
       "      <td>Iran, Russia and Turkey Agree to Enforce Syria...</td>\n",
       "      <td>0</td>\n",
       "      <td>iran russia and turkey agree to enforce syria ...</td>\n",
       "      <td>False</td>\n",
       "    </tr>\n",
       "    <tr>\n",
       "      <th>41</th>\n",
       "      <td>BREAKING: OBAMA POISED To Exact Revenge On PUT...</td>\n",
       "      <td>1</td>\n",
       "      <td>breaking obama poised to exact revenge on puti...</td>\n",
       "      <td>False</td>\n",
       "    </tr>\n",
       "    <tr>\n",
       "      <th>42</th>\n",
       "      <td>Trump says Brexit to be 'a great thing', wants...</td>\n",
       "      <td>0</td>\n",
       "      <td>trump says brexit to be a great thing wants qu...</td>\n",
       "      <td>False</td>\n",
       "    </tr>\n",
       "    <tr>\n",
       "      <th>43</th>\n",
       "      <td>Sekulow: Expect ‘Whining Testimony’ from Comey...</td>\n",
       "      <td>0</td>\n",
       "      <td>sekulow expect whining testimony from comey he...</td>\n",
       "      <td>False</td>\n",
       "    </tr>\n",
       "    <tr>\n",
       "      <th>44</th>\n",
       "      <td>Mayday on the Carolina Queen - The New York Ti...</td>\n",
       "      <td>0</td>\n",
       "      <td>mayday on the carolina queen the new york time...</td>\n",
       "      <td>False</td>\n",
       "    </tr>\n",
       "    <tr>\n",
       "      <th>45</th>\n",
       "      <td>Illinois House passes $5 billion tax package, ...</td>\n",
       "      <td>0</td>\n",
       "      <td>illinois house passes 5 billion tax package sp...</td>\n",
       "      <td>False</td>\n",
       "    </tr>\n",
       "    <tr>\n",
       "      <th>46</th>\n",
       "      <td>AT&amp;T, Time Warner and the Death of Privacy AT&amp;...</td>\n",
       "      <td>1</td>\n",
       "      <td>at t time warner and the death of privacy at t...</td>\n",
       "      <td>False</td>\n",
       "    </tr>\n",
       "    <tr>\n",
       "      <th>47</th>\n",
       "      <td>An Architect Who Built His Career on Resuscita...</td>\n",
       "      <td>0</td>\n",
       "      <td>an architect who built his career on resuscita...</td>\n",
       "      <td>False</td>\n",
       "    </tr>\n",
       "    <tr>\n",
       "      <th>48</th>\n",
       "      <td>American dream, revisited by Pepe Escobar for ...</td>\n",
       "      <td>1</td>\n",
       "      <td>american dream revisited by pepe escobar for t...</td>\n",
       "      <td>False</td>\n",
       "    </tr>\n",
       "    <tr>\n",
       "      <th>49</th>\n",
       "      <td>Fear of Iranian general left Iraqi Kurdish oil...</td>\n",
       "      <td>0</td>\n",
       "      <td>fear of iranian general left iraqi kurdish oil...</td>\n",
       "      <td>False</td>\n",
       "    </tr>\n",
       "  </tbody>\n",
       "</table>\n",
       "</div>"
      ],
      "text/plain": [
       "                                                 text  label  \\\n",
       "0   LAW ENFORCEMENT ON HIGH ALERT Following Threat...      1   \n",
       "1   UNBELIEVABLE! OBAMA’S ATTORNEY GENERAL SAYS MO...      1   \n",
       "2   Bobby Jindal, raised Hindu, uses story of Chri...      0   \n",
       "3   SATAN 2: Russia unvelis an image of its terrif...      1   \n",
       "4   About Time! Christian Group Sues Amazon and SP...      1   \n",
       "5   DR BEN CARSON TARGETED BY THE IRS: “I never ha...      1   \n",
       "6   HOUSE INTEL CHAIR On Trump-Russia Fake Story: ...      1   \n",
       "7   Sports Bar Owner Bans NFL Games…Will Show Only...      1   \n",
       "8   Latest Pipeline Leak Underscores Dangers Of Da...      1   \n",
       "9    GOP Senator Just Smacked Down The Most Puncha...      1   \n",
       "10  May Brexit offer would hurt, cost EU citizens ...      0   \n",
       "11  Schumer calls on Trump to appoint official to ...      0   \n",
       "12  WATCH: HILARIOUS AD Calls Into Question Health...      1   \n",
       "13  No Change Expected for ESPN Political Agenda D...      0   \n",
       "14  Billionaire Odebrecht in Brazil scandal releas...      0   \n",
       "15  BRITISH WOMAN LOSES VIRGINITY To Asylum Seekin...      1   \n",
       "16  U.N. seeks humanitarian pause in Sanaa where s...      0   \n",
       "17  MAJOR LIBERAL RAG RELUCTANTLY PUBLISHES Articl...      1   \n",
       "18  Second judge says Clinton email setup may have...      0   \n",
       "19  America gives Grand Piano to horse Wednesday 9...      1   \n",
       "20  Hillary’s crime family: End of days for the U....      1   \n",
       "21   Sean Spicer Baffles Reporters, Claims Trump I...      1   \n",
       "22  UNHOLY ALLIANCE: Hillary Clinton’s Saudi Spons...      1   \n",
       "23   Even Trump’s Best Friend Joe Scarborough Can’...      1   \n",
       "24  BOOM! Danish Government Considers Seizing Migr...      1   \n",
       "25  Supreme Court Won’t Hear Appeal From Texas on ...      0   \n",
       "26  Islamic State driven out of last stronghold in...      0   \n",
       "27  Senators Propose Giving States Option to Keep ...      0   \n",
       "28  Do You Belong To An Extraterrestrial Lineage? ...      1   \n",
       "29  Zimbabwe's Mugabe appears in public for first ...      0   \n",
       "30  Credit Suisse Boss Faces Revolt From Bankers O...      0   \n",
       "31  THE ROBBING OF INNOCENCE: 12 Yr Old Students G...      1   \n",
       "32  Schaeuble to head German parliament, unblockin...      0   \n",
       "33  At U.S.-China summit, Trump presses Xi on trad...      0   \n",
       "34  Clinton extends lead over Trump to 7 points: R...      0   \n",
       "35  JOE BIDEN’S SHOCKING ANNOUNCEMENT: “What the h...      1   \n",
       "36  Comment une petite fille russe de 4 ans a appr...      1   \n",
       "37   Emboldened NRA Threatens New York Times: ‘We’...      1   \n",
       "38   Noam Chomsky GOES OFF On Donald Trump: ‘He’s ...      1   \n",
       "39  5 Ways The Media Responded With Butthurt To Do...      1   \n",
       "40  Iran, Russia and Turkey Agree to Enforce Syria...      0   \n",
       "41  BREAKING: OBAMA POISED To Exact Revenge On PUT...      1   \n",
       "42  Trump says Brexit to be 'a great thing', wants...      0   \n",
       "43  Sekulow: Expect ‘Whining Testimony’ from Comey...      0   \n",
       "44  Mayday on the Carolina Queen - The New York Ti...      0   \n",
       "45  Illinois House passes $5 billion tax package, ...      0   \n",
       "46  AT&T, Time Warner and the Death of Privacy AT&...      1   \n",
       "47  An Architect Who Built His Career on Resuscita...      0   \n",
       "48  American dream, revisited by Pepe Escobar for ...      1   \n",
       "49  Fear of Iranian general left Iraqi Kurdish oil...      0   \n",
       "\n",
       "                                           text_clean  text_lang  \n",
       "0   law enforcement on high alert following threat...      False  \n",
       "1   unbelievable obama s attorney general says mos...      False  \n",
       "2   bobby jindal raised hindu uses story of christ...      False  \n",
       "3   satan 2 russia unvelis an image of its terrify...      False  \n",
       "4   about time christian group sues amazon and spl...      False  \n",
       "5   dr ben carson targeted by the irs i never had ...      False  \n",
       "6   house intel chair on trump russia fake story n...      False  \n",
       "7   sports bar owner bans nfl games will show only...      False  \n",
       "8   latest pipeline leak underscores dangers of da...      False  \n",
       "9   gop senator just smacked down the most punchab...      False  \n",
       "10  may brexit offer would hurt cost eu citizens e...      False  \n",
       "11  schumer calls on trump to appoint official to ...      False  \n",
       "12  watch hilarious ad calls into question health ...      False  \n",
       "13  no change expected for espn political agenda d...      False  \n",
       "14  billionaire odebrecht in brazil scandal releas...      False  \n",
       "15  british woman loses virginity to asylum seekin...      False  \n",
       "16  u n seeks humanitarian pause in sanaa where st...      False  \n",
       "17  major liberal rag reluctantly publishes articl...      False  \n",
       "18  second judge says clinton email setup may have...      False  \n",
       "19  america gives grand piano to horse wednesday 9...      False  \n",
       "20  hillary s crime family end of days for the u s...      False  \n",
       "21  sean spicer baffles reporters claims trump isn...      False  \n",
       "22  unholy alliance hillary clinton s saudi sponso...      False  \n",
       "23  even trump s best friend joe scarborough can t...      False  \n",
       "24  boom danish government considers seizing migra...      False  \n",
       "25  supreme court won t hear appeal from texas on ...      False  \n",
       "26  islamic state driven out of last stronghold in...      False  \n",
       "27  senators propose giving states option to keep ...      False  \n",
       "28  do you belong to an extraterrestrial lineage a...      False  \n",
       "29  zimbabwe s mugabe appears in public for first ...      False  \n",
       "30  credit suisse boss faces revolt from bankers o...      False  \n",
       "31  the robbing of innocence 12 yr old students gi...      False  \n",
       "32  schaeuble to head german parliament unblocking...      False  \n",
       "33  at u s china summit trump presses xi on trade ...      False  \n",
       "34  clinton extends lead over trump to 7 points re...      False  \n",
       "35  joe biden s shocking announcement what the hel...      False  \n",
       "36  comment une petite fille russe de 4 ans a appr...      False  \n",
       "37  emboldened nra threatens new york times we re ...      False  \n",
       "38  noam chomsky goes off on donald trump he s a c...      False  \n",
       "39  5 ways the media responded with butthurt to do...      False  \n",
       "40  iran russia and turkey agree to enforce syria ...      False  \n",
       "41  breaking obama poised to exact revenge on puti...      False  \n",
       "42  trump says brexit to be a great thing wants qu...      False  \n",
       "43  sekulow expect whining testimony from comey he...      False  \n",
       "44  mayday on the carolina queen the new york time...      False  \n",
       "45  illinois house passes 5 billion tax package sp...      False  \n",
       "46  at t time warner and the death of privacy at t...      False  \n",
       "47  an architect who built his career on resuscita...      False  \n",
       "48  american dream revisited by pepe escobar for t...      False  \n",
       "49  fear of iranian general left iraqi kurdish oil...      False  "
      ]
     },
     "execution_count": 30,
     "metadata": {},
     "output_type": "execute_result"
    }
   ],
   "source": [
    "df.head(50)"
   ]
  },
  {
   "cell_type": "code",
   "execution_count": 31,
   "id": "bf969491",
   "metadata": {
    "id": "bf969491"
   },
   "outputs": [],
   "source": [
    "df.drop(columns=[\"text_lang\"], inplace=True)"
   ]
  },
  {
   "cell_type": "code",
   "execution_count": 32,
   "id": "ac7b9a32",
   "metadata": {
    "id": "ac7b9a32",
    "outputId": "14691373-3eca-421f-b35f-f1011518fd41"
   },
   "outputs": [
    {
     "name": "stdout",
     "output_type": "stream",
     "text": [
      "<class 'pandas.core.frame.DataFrame'>\n",
      "RangeIndex: 71425 entries, 0 to 71424\n",
      "Data columns (total 3 columns):\n",
      " #   Column      Non-Null Count  Dtype \n",
      "---  ------      --------------  ----- \n",
      " 0   text        71425 non-null  object\n",
      " 1   label       71425 non-null  int64 \n",
      " 2   text_clean  71425 non-null  object\n",
      "dtypes: int64(1), object(2)\n",
      "memory usage: 1.6+ MB\n"
     ]
    }
   ],
   "source": [
    "df.info()"
   ]
  },
  {
   "cell_type": "code",
   "execution_count": 33,
   "id": "513c3a1e",
   "metadata": {
    "id": "513c3a1e"
   },
   "outputs": [],
   "source": [
    "df.to_csv(\"data/df_pre_tok_text.csv\")"
   ]
  },
  {
   "cell_type": "markdown",
   "id": "326c9a19",
   "metadata": {
    "id": "326c9a19"
   },
   "source": [
    "### Tokenizing"
   ]
  },
  {
   "cell_type": "code",
   "execution_count": 35,
   "id": "3be23080",
   "metadata": {
    "id": "3be23080"
   },
   "outputs": [],
   "source": [
    "tokenizer = nltk.data.load(\"tokenizers/punkt/english.pickle\")"
   ]
  },
  {
   "cell_type": "code",
   "execution_count": 36,
   "id": "83f2eafa",
   "metadata": {
    "id": "83f2eafa"
   },
   "outputs": [],
   "source": [
    "df['token_text'] = df.apply(lambda row: nltk.word_tokenize(row['text_clean']), axis=1)"
   ]
  },
  {
   "cell_type": "code",
   "execution_count": null,
   "id": "93b51ffa",
   "metadata": {
    "id": "93b51ffa"
   },
   "outputs": [],
   "source": [
    "#df.token_text[0]"
   ]
  },
  {
   "cell_type": "markdown",
   "id": "46e6072f",
   "metadata": {
    "id": "46e6072f"
   },
   "source": [
    "### POS tagging"
   ]
  },
  {
   "cell_type": "code",
   "execution_count": 37,
   "id": "80892b51",
   "metadata": {
    "id": "80892b51"
   },
   "outputs": [
    {
     "name": "stdout",
     "output_type": "stream",
     "text": [
      "$: dollar\n",
      "    $ -$ --$ A$ C$ HK$ M$ NZ$ S$ U.S.$ US$\n",
      "'': closing quotation mark\n",
      "    ' ''\n",
      "(: opening parenthesis\n",
      "    ( [ {\n",
      "): closing parenthesis\n",
      "    ) ] }\n",
      ",: comma\n",
      "    ,\n",
      "--: dash\n",
      "    --\n",
      ".: sentence terminator\n",
      "    . ! ?\n",
      ":: colon or ellipsis\n",
      "    : ; ...\n",
      "CC: conjunction, coordinating\n",
      "    & 'n and both but either et for less minus neither nor or plus so\n",
      "    therefore times v. versus vs. whether yet\n",
      "CD: numeral, cardinal\n",
      "    mid-1890 nine-thirty forty-two one-tenth ten million 0.5 one forty-\n",
      "    seven 1987 twenty '79 zero two 78-degrees eighty-four IX '60s .025\n",
      "    fifteen 271,124 dozen quintillion DM2,000 ...\n",
      "DT: determiner\n",
      "    all an another any both del each either every half la many much nary\n",
      "    neither no some such that the them these this those\n",
      "EX: existential there\n",
      "    there\n",
      "FW: foreign word\n",
      "    gemeinschaft hund ich jeux habeas Haementeria Herr K'ang-si vous\n",
      "    lutihaw alai je jour objets salutaris fille quibusdam pas trop Monte\n",
      "    terram fiche oui corporis ...\n",
      "IN: preposition or conjunction, subordinating\n",
      "    astride among uppon whether out inside pro despite on by throughout\n",
      "    below within for towards near behind atop around if like until below\n",
      "    next into if beside ...\n",
      "JJ: adjective or numeral, ordinal\n",
      "    third ill-mannered pre-war regrettable oiled calamitous first separable\n",
      "    ectoplasmic battery-powered participatory fourth still-to-be-named\n",
      "    multilingual multi-disciplinary ...\n",
      "JJR: adjective, comparative\n",
      "    bleaker braver breezier briefer brighter brisker broader bumper busier\n",
      "    calmer cheaper choosier cleaner clearer closer colder commoner costlier\n",
      "    cozier creamier crunchier cuter ...\n",
      "JJS: adjective, superlative\n",
      "    calmest cheapest choicest classiest cleanest clearest closest commonest\n",
      "    corniest costliest crassest creepiest crudest cutest darkest deadliest\n",
      "    dearest deepest densest dinkiest ...\n",
      "LS: list item marker\n",
      "    A A. B B. C C. D E F First G H I J K One SP-44001 SP-44002 SP-44005\n",
      "    SP-44007 Second Third Three Two * a b c d first five four one six three\n",
      "    two\n",
      "MD: modal auxiliary\n",
      "    can cannot could couldn't dare may might must need ought shall should\n",
      "    shouldn't will would\n",
      "NN: noun, common, singular or mass\n",
      "    common-carrier cabbage knuckle-duster Casino afghan shed thermostat\n",
      "    investment slide humour falloff slick wind hyena override subhumanity\n",
      "    machinist ...\n",
      "NNP: noun, proper, singular\n",
      "    Motown Venneboerger Czestochwa Ranzer Conchita Trumplane Christos\n",
      "    Oceanside Escobar Kreisler Sawyer Cougar Yvette Ervin ODI Darryl CTCA\n",
      "    Shannon A.K.C. Meltex Liverpool ...\n",
      "NNPS: noun, proper, plural\n",
      "    Americans Americas Amharas Amityvilles Amusements Anarcho-Syndicalists\n",
      "    Andalusians Andes Andruses Angels Animals Anthony Antilles Antiques\n",
      "    Apache Apaches Apocrypha ...\n",
      "NNS: noun, common, plural\n",
      "    undergraduates scotches bric-a-brac products bodyguards facets coasts\n",
      "    divestitures storehouses designs clubs fragrances averages\n",
      "    subjectivists apprehensions muses factory-jobs ...\n",
      "PDT: pre-determiner\n",
      "    all both half many quite such sure this\n",
      "POS: genitive marker\n",
      "    ' 's\n",
      "PRP: pronoun, personal\n",
      "    hers herself him himself hisself it itself me myself one oneself ours\n",
      "    ourselves ownself self she thee theirs them themselves they thou thy us\n",
      "PRP$: pronoun, possessive\n",
      "    her his mine my our ours their thy your\n",
      "RB: adverb\n",
      "    occasionally unabatingly maddeningly adventurously professedly\n",
      "    stirringly prominently technologically magisterially predominately\n",
      "    swiftly fiscally pitilessly ...\n",
      "RBR: adverb, comparative\n",
      "    further gloomier grander graver greater grimmer harder harsher\n",
      "    healthier heavier higher however larger later leaner lengthier less-\n",
      "    perfectly lesser lonelier longer louder lower more ...\n",
      "RBS: adverb, superlative\n",
      "    best biggest bluntest earliest farthest first furthest hardest\n",
      "    heartiest highest largest least less most nearest second tightest worst\n",
      "RP: particle\n",
      "    aboard about across along apart around aside at away back before behind\n",
      "    by crop down ever fast for forth from go high i.e. in into just later\n",
      "    low more off on open out over per pie raising start teeth that through\n",
      "    under unto up up-pp upon whole with you\n",
      "SYM: symbol\n",
      "    % & ' '' ''. ) ). * + ,. < = > @ A[fj] U.S U.S.S.R * ** ***\n",
      "TO: \"to\" as preposition or infinitive marker\n",
      "    to\n",
      "UH: interjection\n",
      "    Goodbye Goody Gosh Wow Jeepers Jee-sus Hubba Hey Kee-reist Oops amen\n",
      "    huh howdy uh dammit whammo shucks heck anyways whodunnit honey golly\n",
      "    man baby diddle hush sonuvabitch ...\n",
      "VB: verb, base form\n",
      "    ask assemble assess assign assume atone attention avoid bake balkanize\n",
      "    bank begin behold believe bend benefit bevel beware bless boil bomb\n",
      "    boost brace break bring broil brush build ...\n",
      "VBD: verb, past tense\n",
      "    dipped pleaded swiped regummed soaked tidied convened halted registered\n",
      "    cushioned exacted snubbed strode aimed adopted belied figgered\n",
      "    speculated wore appreciated contemplated ...\n",
      "VBG: verb, present participle or gerund\n",
      "    telegraphing stirring focusing angering judging stalling lactating\n",
      "    hankerin' alleging veering capping approaching traveling besieging\n",
      "    encrypting interrupting erasing wincing ...\n",
      "VBN: verb, past participle\n",
      "    multihulled dilapidated aerosolized chaired languished panelized used\n",
      "    experimented flourished imitated reunifed factored condensed sheared\n",
      "    unsettled primed dubbed desired ...\n",
      "VBP: verb, present tense, not 3rd person singular\n",
      "    predominate wrap resort sue twist spill cure lengthen brush terminate\n",
      "    appear tend stray glisten obtain comprise detest tease attract\n",
      "    emphasize mold postpone sever return wag ...\n",
      "VBZ: verb, present tense, 3rd person singular\n",
      "    bases reconstructs marks mixes displeases seals carps weaves snatches\n",
      "    slumps stretches authorizes smolders pictures emerges stockpiles\n",
      "    seduces fizzes uses bolsters slaps speaks pleads ...\n",
      "WDT: WH-determiner\n",
      "    that what whatever which whichever\n",
      "WP: WH-pronoun\n",
      "    that what whatever whatsoever which who whom whosoever\n",
      "WP$: WH-pronoun, possessive\n",
      "    whose\n",
      "WRB: Wh-adverb\n",
      "    how however whence whenever where whereby whereever wherein whereof why\n",
      "``: opening quotation mark\n",
      "    ` ``\n"
     ]
    }
   ],
   "source": [
    "nltk.help.upenn_tagset()"
   ]
  },
  {
   "cell_type": "code",
   "execution_count": null,
   "id": "4d5e091d",
   "metadata": {
    "id": "4d5e091d"
   },
   "outputs": [],
   "source": [
    "#df['tag_text'] = df.apply(lambda row: nltk.pos_tag(row['token_text']), axis=1)"
   ]
  },
  {
   "cell_type": "markdown",
   "id": "19ad49f9",
   "metadata": {
    "id": "19ad49f9"
   },
   "source": [
    "### Lemmatizing tagged words"
   ]
  },
  {
   "cell_type": "code",
   "execution_count": 38,
   "id": "1bab44cb",
   "metadata": {
    "id": "1bab44cb"
   },
   "outputs": [],
   "source": [
    "lem = WordNetLemmatizer()"
   ]
  },
  {
   "cell_type": "code",
   "execution_count": 39,
   "id": "bd8c8be6",
   "metadata": {
    "id": "bd8c8be6"
   },
   "outputs": [],
   "source": [
    "def lemmatize(words):\n",
    "    lemmatized_words = [lem.lemmatize(word) for word in words]\n",
    "    return lemmatized_words"
   ]
  },
  {
   "cell_type": "code",
   "execution_count": 40,
   "id": "d64602d6",
   "metadata": {
    "id": "d64602d6"
   },
   "outputs": [],
   "source": [
    "df['lem_text'] = df.apply(lambda row: lemmatize(row['token_text']), axis=1)"
   ]
  },
  {
   "cell_type": "code",
   "execution_count": 41,
   "id": "5a29d95d",
   "metadata": {
    "id": "5a29d95d",
    "outputId": "c370cfb9-f629-48b1-9307-7bff5c5a8729"
   },
   "outputs": [
    {
     "data": {
      "text/html": [
       "<div>\n",
       "<style scoped>\n",
       "    .dataframe tbody tr th:only-of-type {\n",
       "        vertical-align: middle;\n",
       "    }\n",
       "\n",
       "    .dataframe tbody tr th {\n",
       "        vertical-align: top;\n",
       "    }\n",
       "\n",
       "    .dataframe thead th {\n",
       "        text-align: right;\n",
       "    }\n",
       "</style>\n",
       "<table border=\"1\" class=\"dataframe\">\n",
       "  <thead>\n",
       "    <tr style=\"text-align: right;\">\n",
       "      <th></th>\n",
       "      <th>text</th>\n",
       "      <th>label</th>\n",
       "      <th>text_clean</th>\n",
       "      <th>token_text</th>\n",
       "      <th>lem_text</th>\n",
       "    </tr>\n",
       "  </thead>\n",
       "  <tbody>\n",
       "    <tr>\n",
       "      <th>0</th>\n",
       "      <td>LAW ENFORCEMENT ON HIGH ALERT Following Threat...</td>\n",
       "      <td>1</td>\n",
       "      <td>law enforcement on high alert following threat...</td>\n",
       "      <td>[law, enforcement, on, high, alert, following,...</td>\n",
       "      <td>[law, enforcement, on, high, alert, following,...</td>\n",
       "    </tr>\n",
       "    <tr>\n",
       "      <th>1</th>\n",
       "      <td>UNBELIEVABLE! OBAMA’S ATTORNEY GENERAL SAYS MO...</td>\n",
       "      <td>1</td>\n",
       "      <td>unbelievable obama s attorney general says mos...</td>\n",
       "      <td>[unbelievable, obama, s, attorney, general, sa...</td>\n",
       "      <td>[unbelievable, obama, s, attorney, general, sa...</td>\n",
       "    </tr>\n",
       "    <tr>\n",
       "      <th>2</th>\n",
       "      <td>Bobby Jindal, raised Hindu, uses story of Chri...</td>\n",
       "      <td>0</td>\n",
       "      <td>bobby jindal raised hindu uses story of christ...</td>\n",
       "      <td>[bobby, jindal, raised, hindu, uses, story, of...</td>\n",
       "      <td>[bobby, jindal, raised, hindu, us, story, of, ...</td>\n",
       "    </tr>\n",
       "    <tr>\n",
       "      <th>3</th>\n",
       "      <td>SATAN 2: Russia unvelis an image of its terrif...</td>\n",
       "      <td>1</td>\n",
       "      <td>satan 2 russia unvelis an image of its terrify...</td>\n",
       "      <td>[satan, 2, russia, unvelis, an, image, of, its...</td>\n",
       "      <td>[satan, 2, russia, unvelis, an, image, of, it,...</td>\n",
       "    </tr>\n",
       "    <tr>\n",
       "      <th>4</th>\n",
       "      <td>About Time! Christian Group Sues Amazon and SP...</td>\n",
       "      <td>1</td>\n",
       "      <td>about time christian group sues amazon and spl...</td>\n",
       "      <td>[about, time, christian, group, sues, amazon, ...</td>\n",
       "      <td>[about, time, christian, group, sue, amazon, a...</td>\n",
       "    </tr>\n",
       "    <tr>\n",
       "      <th>...</th>\n",
       "      <td>...</td>\n",
       "      <td>...</td>\n",
       "      <td>...</td>\n",
       "      <td>...</td>\n",
       "      <td>...</td>\n",
       "    </tr>\n",
       "    <tr>\n",
       "      <th>71420</th>\n",
       "      <td>Russians steal research on Trump in hack of U....</td>\n",
       "      <td>0</td>\n",
       "      <td>russians steal research on trump in hack of u ...</td>\n",
       "      <td>[russians, steal, research, on, trump, in, hac...</td>\n",
       "      <td>[russian, steal, research, on, trump, in, hack...</td>\n",
       "    </tr>\n",
       "    <tr>\n",
       "      <th>71421</th>\n",
       "      <td>WATCH: Giuliani Demands That Democrats Apolog...</td>\n",
       "      <td>1</td>\n",
       "      <td>watch giuliani demands that democrats apologiz...</td>\n",
       "      <td>[watch, giuliani, demands, that, democrats, ap...</td>\n",
       "      <td>[watch, giuliani, demand, that, democrat, apol...</td>\n",
       "    </tr>\n",
       "    <tr>\n",
       "      <th>71422</th>\n",
       "      <td>Migrants Refuse To Leave Train At Refugee Camp...</td>\n",
       "      <td>0</td>\n",
       "      <td>migrants refuse to leave train at refugee camp...</td>\n",
       "      <td>[migrants, refuse, to, leave, train, at, refug...</td>\n",
       "      <td>[migrant, refuse, to, leave, train, at, refuge...</td>\n",
       "    </tr>\n",
       "    <tr>\n",
       "      <th>71423</th>\n",
       "      <td>Trump tussle gives unpopular Mexican leader mu...</td>\n",
       "      <td>0</td>\n",
       "      <td>trump tussle gives unpopular mexican leader mu...</td>\n",
       "      <td>[trump, tussle, gives, unpopular, mexican, lea...</td>\n",
       "      <td>[trump, tussle, give, unpopular, mexican, lead...</td>\n",
       "    </tr>\n",
       "    <tr>\n",
       "      <th>71424</th>\n",
       "      <td>Goldman Sachs Endorses Hillary Clinton For Pre...</td>\n",
       "      <td>1</td>\n",
       "      <td>goldman sachs endorses hillary clinton for pre...</td>\n",
       "      <td>[goldman, sachs, endorses, hillary, clinton, f...</td>\n",
       "      <td>[goldman, sachs, endorses, hillary, clinton, f...</td>\n",
       "    </tr>\n",
       "  </tbody>\n",
       "</table>\n",
       "<p>71425 rows × 5 columns</p>\n",
       "</div>"
      ],
      "text/plain": [
       "                                                    text  label  \\\n",
       "0      LAW ENFORCEMENT ON HIGH ALERT Following Threat...      1   \n",
       "1      UNBELIEVABLE! OBAMA’S ATTORNEY GENERAL SAYS MO...      1   \n",
       "2      Bobby Jindal, raised Hindu, uses story of Chri...      0   \n",
       "3      SATAN 2: Russia unvelis an image of its terrif...      1   \n",
       "4      About Time! Christian Group Sues Amazon and SP...      1   \n",
       "...                                                  ...    ...   \n",
       "71420  Russians steal research on Trump in hack of U....      0   \n",
       "71421   WATCH: Giuliani Demands That Democrats Apolog...      1   \n",
       "71422  Migrants Refuse To Leave Train At Refugee Camp...      0   \n",
       "71423  Trump tussle gives unpopular Mexican leader mu...      0   \n",
       "71424  Goldman Sachs Endorses Hillary Clinton For Pre...      1   \n",
       "\n",
       "                                              text_clean  \\\n",
       "0      law enforcement on high alert following threat...   \n",
       "1      unbelievable obama s attorney general says mos...   \n",
       "2      bobby jindal raised hindu uses story of christ...   \n",
       "3      satan 2 russia unvelis an image of its terrify...   \n",
       "4      about time christian group sues amazon and spl...   \n",
       "...                                                  ...   \n",
       "71420  russians steal research on trump in hack of u ...   \n",
       "71421  watch giuliani demands that democrats apologiz...   \n",
       "71422  migrants refuse to leave train at refugee camp...   \n",
       "71423  trump tussle gives unpopular mexican leader mu...   \n",
       "71424  goldman sachs endorses hillary clinton for pre...   \n",
       "\n",
       "                                              token_text  \\\n",
       "0      [law, enforcement, on, high, alert, following,...   \n",
       "1      [unbelievable, obama, s, attorney, general, sa...   \n",
       "2      [bobby, jindal, raised, hindu, uses, story, of...   \n",
       "3      [satan, 2, russia, unvelis, an, image, of, its...   \n",
       "4      [about, time, christian, group, sues, amazon, ...   \n",
       "...                                                  ...   \n",
       "71420  [russians, steal, research, on, trump, in, hac...   \n",
       "71421  [watch, giuliani, demands, that, democrats, ap...   \n",
       "71422  [migrants, refuse, to, leave, train, at, refug...   \n",
       "71423  [trump, tussle, gives, unpopular, mexican, lea...   \n",
       "71424  [goldman, sachs, endorses, hillary, clinton, f...   \n",
       "\n",
       "                                                lem_text  \n",
       "0      [law, enforcement, on, high, alert, following,...  \n",
       "1      [unbelievable, obama, s, attorney, general, sa...  \n",
       "2      [bobby, jindal, raised, hindu, us, story, of, ...  \n",
       "3      [satan, 2, russia, unvelis, an, image, of, it,...  \n",
       "4      [about, time, christian, group, sue, amazon, a...  \n",
       "...                                                  ...  \n",
       "71420  [russian, steal, research, on, trump, in, hack...  \n",
       "71421  [watch, giuliani, demand, that, democrat, apol...  \n",
       "71422  [migrant, refuse, to, leave, train, at, refuge...  \n",
       "71423  [trump, tussle, give, unpopular, mexican, lead...  \n",
       "71424  [goldman, sachs, endorses, hillary, clinton, f...  \n",
       "\n",
       "[71425 rows x 5 columns]"
      ]
     },
     "execution_count": 41,
     "metadata": {},
     "output_type": "execute_result"
    }
   ],
   "source": [
    "df"
   ]
  },
  {
   "cell_type": "code",
   "execution_count": null,
   "id": "8db4cfaf",
   "metadata": {
    "id": "8db4cfaf"
   },
   "outputs": [],
   "source": [
    "#df.to_csv(\"data/df_lemmatized_text.csv\")"
   ]
  },
  {
   "cell_type": "markdown",
   "id": "fae1e257",
   "metadata": {
    "id": "fae1e257"
   },
   "source": [
    "### Stopwords"
   ]
  },
  {
   "cell_type": "code",
   "execution_count": 42,
   "id": "e6934b53",
   "metadata": {
    "id": "e6934b53",
    "outputId": "4e51d0b0-a6f2-4ed1-9a0e-288c76bf1070"
   },
   "outputs": [
    {
     "data": {
      "text/plain": [
       "['i',\n",
       " 'me',\n",
       " 'my',\n",
       " 'myself',\n",
       " 'we',\n",
       " 'our',\n",
       " 'ours',\n",
       " 'ourselves',\n",
       " 'you',\n",
       " \"you're\",\n",
       " \"you've\",\n",
       " \"you'll\",\n",
       " \"you'd\",\n",
       " 'your',\n",
       " 'yours',\n",
       " 'yourself',\n",
       " 'yourselves',\n",
       " 'he',\n",
       " 'him',\n",
       " 'his',\n",
       " 'himself',\n",
       " 'she',\n",
       " \"she's\",\n",
       " 'her',\n",
       " 'hers',\n",
       " 'herself',\n",
       " 'it',\n",
       " \"it's\",\n",
       " 'its',\n",
       " 'itself',\n",
       " 'they',\n",
       " 'them',\n",
       " 'their',\n",
       " 'theirs',\n",
       " 'themselves',\n",
       " 'what',\n",
       " 'which',\n",
       " 'who',\n",
       " 'whom',\n",
       " 'this',\n",
       " 'that',\n",
       " \"that'll\",\n",
       " 'these',\n",
       " 'those',\n",
       " 'am',\n",
       " 'is',\n",
       " 'are',\n",
       " 'was',\n",
       " 'were',\n",
       " 'be',\n",
       " 'been',\n",
       " 'being',\n",
       " 'have',\n",
       " 'has',\n",
       " 'had',\n",
       " 'having',\n",
       " 'do',\n",
       " 'does',\n",
       " 'did',\n",
       " 'doing',\n",
       " 'a',\n",
       " 'an',\n",
       " 'the',\n",
       " 'and',\n",
       " 'but',\n",
       " 'if',\n",
       " 'or',\n",
       " 'because',\n",
       " 'as',\n",
       " 'until',\n",
       " 'while',\n",
       " 'of',\n",
       " 'at',\n",
       " 'by',\n",
       " 'for',\n",
       " 'with',\n",
       " 'about',\n",
       " 'against',\n",
       " 'between',\n",
       " 'into',\n",
       " 'through',\n",
       " 'during',\n",
       " 'before',\n",
       " 'after',\n",
       " 'above',\n",
       " 'below',\n",
       " 'to',\n",
       " 'from',\n",
       " 'up',\n",
       " 'down',\n",
       " 'in',\n",
       " 'out',\n",
       " 'on',\n",
       " 'off',\n",
       " 'over',\n",
       " 'under',\n",
       " 'again',\n",
       " 'further',\n",
       " 'then',\n",
       " 'once',\n",
       " 'here',\n",
       " 'there',\n",
       " 'when',\n",
       " 'where',\n",
       " 'why',\n",
       " 'how',\n",
       " 'all',\n",
       " 'any',\n",
       " 'both',\n",
       " 'each',\n",
       " 'few',\n",
       " 'more',\n",
       " 'most',\n",
       " 'other',\n",
       " 'some',\n",
       " 'such',\n",
       " 'no',\n",
       " 'nor',\n",
       " 'not',\n",
       " 'only',\n",
       " 'own',\n",
       " 'same',\n",
       " 'so',\n",
       " 'than',\n",
       " 'too',\n",
       " 'very',\n",
       " 's',\n",
       " 't',\n",
       " 'can',\n",
       " 'will',\n",
       " 'just',\n",
       " 'don',\n",
       " \"don't\",\n",
       " 'should',\n",
       " \"should've\",\n",
       " 'now',\n",
       " 'd',\n",
       " 'll',\n",
       " 'm',\n",
       " 'o',\n",
       " 're',\n",
       " 've',\n",
       " 'y',\n",
       " 'ain',\n",
       " 'aren',\n",
       " \"aren't\",\n",
       " 'couldn',\n",
       " \"couldn't\",\n",
       " 'didn',\n",
       " \"didn't\",\n",
       " 'doesn',\n",
       " \"doesn't\",\n",
       " 'hadn',\n",
       " \"hadn't\",\n",
       " 'hasn',\n",
       " \"hasn't\",\n",
       " 'haven',\n",
       " \"haven't\",\n",
       " 'isn',\n",
       " \"isn't\",\n",
       " 'ma',\n",
       " 'mightn',\n",
       " \"mightn't\",\n",
       " 'mustn',\n",
       " \"mustn't\",\n",
       " 'needn',\n",
       " \"needn't\",\n",
       " 'shan',\n",
       " \"shan't\",\n",
       " 'shouldn',\n",
       " \"shouldn't\",\n",
       " 'wasn',\n",
       " \"wasn't\",\n",
       " 'weren',\n",
       " \"weren't\",\n",
       " 'won',\n",
       " \"won't\",\n",
       " 'wouldn',\n",
       " \"wouldn't\"]"
      ]
     },
     "execution_count": 42,
     "metadata": {},
     "output_type": "execute_result"
    }
   ],
   "source": [
    "stop_words = list(stopwords.words('english')) \n",
    "stop_words"
   ]
  },
  {
   "cell_type": "code",
   "execution_count": 43,
   "id": "e8d96650",
   "metadata": {
    "id": "e8d96650"
   },
   "outputs": [],
   "source": [
    "for i in range(len(stop_words)):\n",
    "    stop_words[i] = re.sub(r\"\\s*'\\s*\\w*\",\"\",stop_words[i])"
   ]
  },
  {
   "cell_type": "code",
   "execution_count": 44,
   "id": "221c94f6",
   "metadata": {
    "id": "221c94f6"
   },
   "outputs": [],
   "source": [
    "df[\"stop_text\"] = df[\"lem_text\"].apply(lambda x: ' '.join([word for word in x if word not in (stop_words)]))"
   ]
  },
  {
   "cell_type": "code",
   "execution_count": 45,
   "id": "c71e9d33",
   "metadata": {
    "id": "c71e9d33",
    "outputId": "08861969-ec31-4962-9052-4059d0051533"
   },
   "outputs": [
    {
     "data": {
      "text/plain": [
       "'law enforcement high alert following threat cop white 9 11by blacklivesmatter fyf911 terrorist video comment expected barack obama member fyf911 fukyoflag blacklivesmatter movement called lynching hanging white people cop encouraged others radio show tuesday night turn tide kill white people cop send message killing black people america one f yoflag organizer called sunshine ha radio blog show hosted texas called sunshine f ing opinion radio show snapshot fyf911 lolatwhitefear twitter page 9 53 p show wa urging supporter call fyf911 tonight continue dismantle illusion white snapshot twitter radio call invite fyf911the radio show aired 10 00 p eastern standard time show caller clearly call lynching killing white people 2 39 minute clip radio show heard wa provided breitbart texas someone would like referred hannibal ha already received death threat result interrupting fyf911 conference call unidentified black man said mother f kers start f ing like u bunch ni er takin one u roll said cause already roll gang anyway six seven black mother f ckers see white person lynch let turn table conspired cop started losing people state emergency speculated one two thing would happen big r war ni er going start backin already getting killed f k got lose sunshine could heard saying yep true f king true said need turn table kid getting shot somebody need become sacrifice side said everybody whatever like say everybody ha different position war continued give f k anyway said might well utilized turn table n er said way start lookin like havin many casualty causality side instead killing black people black life matter mother f kers got make matter find mother f ker alone snap f hang damn tree take picture send mother f kers need one example people start watchin turn table said said start trickle effect said one white person hung flat hanging start trickle effect continued black people good starting trend said wa get upper hand another black man spoke saying needed kill cop killing u first black male said best method right breitbart texas previously reported sunshine wa upset racist white people infiltrated disrupted one conference call subsequently released phone number one infiltrator veteran immediately started receiving threatening call one f yoflag movement supporter allegedly told veteran infiltrated publicly posted conference call going rape gut pregnant wife f ing piece sh unborn creature hung tree breitbart texas previously encountered sunshine sandra bland protest waller county jail texas said white people killed told journalist photographer see nappy hair head mean one militant negro said wa protest redneck mother f kers murdered sandra bland nappy hair like fyf911 black radical say holding imperial power actually responsible terrorist attack september 11th accountable day reported breitbart texas several website twitter handle movement palmetto star describes one head organizer said youtube video supporter burning symbol illusion superiority false white supremacy like american flag british flag police uniform ku klux klan hood sierra mcgrone nocturnus libertus posted help young afrikan clean rag oppression posted two photo one appears photo black man wiping naked butt american flag entire story breitbart news'"
      ]
     },
     "execution_count": 45,
     "metadata": {},
     "output_type": "execute_result"
    }
   ],
   "source": [
    "df['stop_text'][0]"
   ]
  },
  {
   "cell_type": "code",
   "execution_count": null,
   "id": "6f1fe215",
   "metadata": {
    "id": "6f1fe215",
    "outputId": "8bc94bef-3a14-4bc3-db09-84c0a823ee1f"
   },
   "outputs": [
    {
     "name": "stdout",
     "output_type": "stream",
     "text": [
      "The history saving thread hit an unexpected error (OperationalError('database or disk is full')).History will not be written to the database.\n"
     ]
    }
   ],
   "source": [
    "#df.to_csv(\"data/df_stopwords_text.csv\")"
   ]
  },
  {
   "cell_type": "markdown",
   "id": "50c42115",
   "metadata": {
    "id": "50c42115"
   },
   "source": [
    "### BOW with countvec [ignore]"
   ]
  },
  {
   "cell_type": "code",
   "execution_count": 47,
   "id": "3f8e5b03",
   "metadata": {
    "id": "3f8e5b03"
   },
   "outputs": [],
   "source": [
    "def create_vectorizer(sentences):\n",
    "    vectorizer = CountVectorizer(max_features=100)\n",
    "    X = vectorizer.fit_transform(sentences)\n",
    "    return (vectorizer, X)"
   ]
  },
  {
   "cell_type": "code",
   "execution_count": 48,
   "id": "b8855d4b",
   "metadata": {
    "id": "b8855d4b"
   },
   "outputs": [],
   "source": [
    "(vectorizer, X) = create_vectorizer(df.stop_text)"
   ]
  },
  {
   "cell_type": "code",
   "execution_count": 49,
   "id": "5161fabc",
   "metadata": {
    "id": "5161fabc",
    "outputId": "de5483c0-69c3-48bc-9783-b9da7225ecf6"
   },
   "outputs": [
    {
     "name": "stdout",
     "output_type": "stream",
     "text": [
      "['2016', 'according', 'also', 'america', 'american', 'attack', 'back', 'bill', 'campaign', 'case', 'city', 'clinton', 'come', 'could', 'country', 'court', 'day', 'democrat', 'donald', 'election', 'even', 'first', 'former', 'get', 'go', 'going', 'government', 'group', 'ha', 'hillary', 'house', 'know', 'last', 'law', 'leader', 'life', 'like', 'made', 'make', 'many', 'may', 'medium', 'member', 'million', 'month', 'mr', 'much', 'national', 'need', 'new', 'news', 'obama', 'official', 'one', 'part', 'party', 'people', 'percent', 'police', 'policy', 'political', 'president', 'presidential', 'public', 'report', 'republican', 'reuters', 'right', 'russia', 'said', 'say', 'security', 'see', 'since', 'state', 'support', 'take', 'thing', 'think', 'time', 'told', 'trump', 'two', 'united', 'video', 'vote', 'wa', 'want', 'war', 'washington', 'way', 'week', 'well', 'white', 'woman', 'work', 'world', 'would', 'year', 'york']\n"
     ]
    },
    {
     "name": "stderr",
     "output_type": "stream",
     "text": [
      "/opt/anaconda3/lib/python3.9/site-packages/sklearn/utils/deprecation.py:87: FutureWarning: Function get_feature_names is deprecated; get_feature_names is deprecated in 1.0 and will be removed in 1.2. Please use get_feature_names_out instead.\n",
      "  warnings.warn(msg, category=FutureWarning)\n"
     ]
    }
   ],
   "source": [
    "print(vectorizer.get_feature_names())"
   ]
  },
  {
   "cell_type": "code",
   "execution_count": null,
   "id": "40c77fd9",
   "metadata": {
    "id": "40c77fd9",
    "outputId": "5bf0c928-0a93-41fb-efea-ef889aea2d82"
   },
   "outputs": [
    {
     "name": "stdout",
     "output_type": "stream",
     "text": [
      "  (0, 33)\t1\n",
      "  (0, 93)\t10\n",
      "  (0, 84)\t2\n",
      "  (0, 51)\t1\n",
      "  (0, 42)\t1\n",
      "  (0, 56)\t10\n",
      "  (0, 3)\t1\n",
      "  (0, 53)\t11\n",
      "  (0, 28)\t3\n",
      "  (0, 86)\t5\n",
      "  (0, 79)\t1\n",
      "  (0, 97)\t2\n",
      "  (0, 36)\t6\n",
      "  (0, 69)\t14\n",
      "  (0, 72)\t2\n",
      "  (0, 74)\t1\n",
      "  (0, 82)\t2\n",
      "  (0, 77)\t1\n",
      "  (0, 88)\t2\n",
      "  (0, 25)\t2\n",
      "  (0, 13)\t1\n",
      "  (0, 48)\t3\n",
      "  (0, 70)\t2\n",
      "  (0, 92)\t1\n",
      "  (0, 90)\t1\n",
      "  :\t:\n",
      "  (71424, 39)\t1\n",
      "  (71424, 76)\t1\n",
      "  (71424, 23)\t1\n",
      "  (71424, 67)\t1\n",
      "  (71424, 80)\t2\n",
      "  (71424, 0)\t1\n",
      "  (71424, 62)\t1\n",
      "  (71424, 98)\t1\n",
      "  (71424, 60)\t2\n",
      "  (71424, 61)\t2\n",
      "  (71424, 22)\t1\n",
      "  (71424, 8)\t2\n",
      "  (71424, 47)\t1\n",
      "  (71424, 12)\t1\n",
      "  (71424, 31)\t4\n",
      "  (71424, 49)\t1\n",
      "  (71424, 14)\t1\n",
      "  (71424, 95)\t2\n",
      "  (71424, 2)\t2\n",
      "  (71424, 63)\t2\n",
      "  (71424, 46)\t1\n",
      "  (71424, 87)\t1\n",
      "  (71424, 11)\t12\n",
      "  (71424, 29)\t7\n",
      "  (71424, 99)\t1\n"
     ]
    }
   ],
   "source": [
    "print(X)"
   ]
  },
  {
   "cell_type": "code",
   "execution_count": 50,
   "id": "04a617ef",
   "metadata": {
    "id": "04a617ef"
   },
   "outputs": [],
   "source": [
    "denseX = X.todense()"
   ]
  },
  {
   "cell_type": "code",
   "execution_count": 51,
   "id": "fecc9037",
   "metadata": {
    "id": "fecc9037",
    "outputId": "5368f4f6-ff62-4414-8d02-2d14f17740ee"
   },
   "outputs": [
    {
     "data": {
      "text/plain": [
       "matrix([[ 0,  0,  0,  1,  2,  1,  0,  0,  0,  0,  0,  0,  0,  1,  0,  0,\n",
       "          1,  0,  0,  0,  0,  1,  0,  1,  0,  2,  0,  0,  3,  0,  0,  0,\n",
       "          0,  1,  0,  1,  6,  0,  1,  1,  0,  0,  1,  0,  0,  0,  0,  0,\n",
       "          3,  0,  1,  1,  0, 11,  0,  0, 10,  0,  1,  0,  0,  0,  0,  0,\n",
       "          0,  0,  0,  1,  0, 14,  2,  0,  2,  0,  1,  0,  1,  1,  0,  1,\n",
       "          2,  0,  2,  0,  2,  0,  5,  0,  2,  0,  1,  0,  1, 10,  0,  0,\n",
       "          0,  2,  0,  0]])"
      ]
     },
     "execution_count": 51,
     "metadata": {},
     "output_type": "execute_result"
    }
   ],
   "source": [
    "denseX[0]"
   ]
  },
  {
   "cell_type": "code",
   "execution_count": 52,
   "id": "fe594008",
   "metadata": {
    "id": "fe594008",
    "outputId": "e4aa2ab6-2ecd-4861-9e73-3cc94c06cba7"
   },
   "outputs": [
    {
     "data": {
      "text/html": [
       "<div>\n",
       "<style scoped>\n",
       "    .dataframe tbody tr th:only-of-type {\n",
       "        vertical-align: middle;\n",
       "    }\n",
       "\n",
       "    .dataframe tbody tr th {\n",
       "        vertical-align: top;\n",
       "    }\n",
       "\n",
       "    .dataframe thead th {\n",
       "        text-align: right;\n",
       "    }\n",
       "</style>\n",
       "<table border=\"1\" class=\"dataframe\">\n",
       "  <thead>\n",
       "    <tr style=\"text-align: right;\">\n",
       "      <th></th>\n",
       "      <th>text</th>\n",
       "      <th>label</th>\n",
       "      <th>text_clean</th>\n",
       "      <th>token_text</th>\n",
       "      <th>lem_text</th>\n",
       "      <th>stop_text</th>\n",
       "    </tr>\n",
       "  </thead>\n",
       "  <tbody>\n",
       "    <tr>\n",
       "      <th>0</th>\n",
       "      <td>LAW ENFORCEMENT ON HIGH ALERT Following Threat...</td>\n",
       "      <td>1</td>\n",
       "      <td>law enforcement on high alert following threat...</td>\n",
       "      <td>[law, enforcement, on, high, alert, following,...</td>\n",
       "      <td>[law, enforcement, on, high, alert, following,...</td>\n",
       "      <td>law enforcement high alert following threat co...</td>\n",
       "    </tr>\n",
       "    <tr>\n",
       "      <th>1</th>\n",
       "      <td>UNBELIEVABLE! OBAMA’S ATTORNEY GENERAL SAYS MO...</td>\n",
       "      <td>1</td>\n",
       "      <td>unbelievable obama s attorney general says mos...</td>\n",
       "      <td>[unbelievable, obama, s, attorney, general, sa...</td>\n",
       "      <td>[unbelievable, obama, s, attorney, general, sa...</td>\n",
       "      <td>unbelievable obama attorney general say charlo...</td>\n",
       "    </tr>\n",
       "    <tr>\n",
       "      <th>2</th>\n",
       "      <td>Bobby Jindal, raised Hindu, uses story of Chri...</td>\n",
       "      <td>0</td>\n",
       "      <td>bobby jindal raised hindu uses story of christ...</td>\n",
       "      <td>[bobby, jindal, raised, hindu, uses, story, of...</td>\n",
       "      <td>[bobby, jindal, raised, hindu, us, story, of, ...</td>\n",
       "      <td>bobby jindal raised hindu us story christian c...</td>\n",
       "    </tr>\n",
       "    <tr>\n",
       "      <th>3</th>\n",
       "      <td>SATAN 2: Russia unvelis an image of its terrif...</td>\n",
       "      <td>1</td>\n",
       "      <td>satan 2 russia unvelis an image of its terrify...</td>\n",
       "      <td>[satan, 2, russia, unvelis, an, image, of, its...</td>\n",
       "      <td>[satan, 2, russia, unvelis, an, image, of, it,...</td>\n",
       "      <td>satan 2 russia unvelis image terrifying new su...</td>\n",
       "    </tr>\n",
       "    <tr>\n",
       "      <th>4</th>\n",
       "      <td>About Time! Christian Group Sues Amazon and SP...</td>\n",
       "      <td>1</td>\n",
       "      <td>about time christian group sues amazon and spl...</td>\n",
       "      <td>[about, time, christian, group, sues, amazon, ...</td>\n",
       "      <td>[about, time, christian, group, sue, amazon, a...</td>\n",
       "      <td>time christian group sue amazon splc designati...</td>\n",
       "    </tr>\n",
       "    <tr>\n",
       "      <th>...</th>\n",
       "      <td>...</td>\n",
       "      <td>...</td>\n",
       "      <td>...</td>\n",
       "      <td>...</td>\n",
       "      <td>...</td>\n",
       "      <td>...</td>\n",
       "    </tr>\n",
       "    <tr>\n",
       "      <th>71420</th>\n",
       "      <td>Russians steal research on Trump in hack of U....</td>\n",
       "      <td>0</td>\n",
       "      <td>russians steal research on trump in hack of u ...</td>\n",
       "      <td>[russians, steal, research, on, trump, in, hac...</td>\n",
       "      <td>[russian, steal, research, on, trump, in, hack...</td>\n",
       "      <td>russian steal research trump hack u democratic...</td>\n",
       "    </tr>\n",
       "    <tr>\n",
       "      <th>71421</th>\n",
       "      <td>WATCH: Giuliani Demands That Democrats Apolog...</td>\n",
       "      <td>1</td>\n",
       "      <td>watch giuliani demands that democrats apologiz...</td>\n",
       "      <td>[watch, giuliani, demands, that, democrats, ap...</td>\n",
       "      <td>[watch, giuliani, demand, that, democrat, apol...</td>\n",
       "      <td>watch giuliani demand democrat apologize trump...</td>\n",
       "    </tr>\n",
       "    <tr>\n",
       "      <th>71422</th>\n",
       "      <td>Migrants Refuse To Leave Train At Refugee Camp...</td>\n",
       "      <td>0</td>\n",
       "      <td>migrants refuse to leave train at refugee camp...</td>\n",
       "      <td>[migrants, refuse, to, leave, train, at, refug...</td>\n",
       "      <td>[migrant, refuse, to, leave, train, at, refuge...</td>\n",
       "      <td>migrant refuse leave train refugee camp hungar...</td>\n",
       "    </tr>\n",
       "    <tr>\n",
       "      <th>71423</th>\n",
       "      <td>Trump tussle gives unpopular Mexican leader mu...</td>\n",
       "      <td>0</td>\n",
       "      <td>trump tussle gives unpopular mexican leader mu...</td>\n",
       "      <td>[trump, tussle, gives, unpopular, mexican, lea...</td>\n",
       "      <td>[trump, tussle, give, unpopular, mexican, lead...</td>\n",
       "      <td>trump tussle give unpopular mexican leader muc...</td>\n",
       "    </tr>\n",
       "    <tr>\n",
       "      <th>71424</th>\n",
       "      <td>Goldman Sachs Endorses Hillary Clinton For Pre...</td>\n",
       "      <td>1</td>\n",
       "      <td>goldman sachs endorses hillary clinton for pre...</td>\n",
       "      <td>[goldman, sachs, endorses, hillary, clinton, f...</td>\n",
       "      <td>[goldman, sachs, endorses, hillary, clinton, f...</td>\n",
       "      <td>goldman sachs endorses hillary clinton preside...</td>\n",
       "    </tr>\n",
       "  </tbody>\n",
       "</table>\n",
       "<p>71425 rows × 6 columns</p>\n",
       "</div>"
      ],
      "text/plain": [
       "                                                    text  label  \\\n",
       "0      LAW ENFORCEMENT ON HIGH ALERT Following Threat...      1   \n",
       "1      UNBELIEVABLE! OBAMA’S ATTORNEY GENERAL SAYS MO...      1   \n",
       "2      Bobby Jindal, raised Hindu, uses story of Chri...      0   \n",
       "3      SATAN 2: Russia unvelis an image of its terrif...      1   \n",
       "4      About Time! Christian Group Sues Amazon and SP...      1   \n",
       "...                                                  ...    ...   \n",
       "71420  Russians steal research on Trump in hack of U....      0   \n",
       "71421   WATCH: Giuliani Demands That Democrats Apolog...      1   \n",
       "71422  Migrants Refuse To Leave Train At Refugee Camp...      0   \n",
       "71423  Trump tussle gives unpopular Mexican leader mu...      0   \n",
       "71424  Goldman Sachs Endorses Hillary Clinton For Pre...      1   \n",
       "\n",
       "                                              text_clean  \\\n",
       "0      law enforcement on high alert following threat...   \n",
       "1      unbelievable obama s attorney general says mos...   \n",
       "2      bobby jindal raised hindu uses story of christ...   \n",
       "3      satan 2 russia unvelis an image of its terrify...   \n",
       "4      about time christian group sues amazon and spl...   \n",
       "...                                                  ...   \n",
       "71420  russians steal research on trump in hack of u ...   \n",
       "71421  watch giuliani demands that democrats apologiz...   \n",
       "71422  migrants refuse to leave train at refugee camp...   \n",
       "71423  trump tussle gives unpopular mexican leader mu...   \n",
       "71424  goldman sachs endorses hillary clinton for pre...   \n",
       "\n",
       "                                              token_text  \\\n",
       "0      [law, enforcement, on, high, alert, following,...   \n",
       "1      [unbelievable, obama, s, attorney, general, sa...   \n",
       "2      [bobby, jindal, raised, hindu, uses, story, of...   \n",
       "3      [satan, 2, russia, unvelis, an, image, of, its...   \n",
       "4      [about, time, christian, group, sues, amazon, ...   \n",
       "...                                                  ...   \n",
       "71420  [russians, steal, research, on, trump, in, hac...   \n",
       "71421  [watch, giuliani, demands, that, democrats, ap...   \n",
       "71422  [migrants, refuse, to, leave, train, at, refug...   \n",
       "71423  [trump, tussle, gives, unpopular, mexican, lea...   \n",
       "71424  [goldman, sachs, endorses, hillary, clinton, f...   \n",
       "\n",
       "                                                lem_text  \\\n",
       "0      [law, enforcement, on, high, alert, following,...   \n",
       "1      [unbelievable, obama, s, attorney, general, sa...   \n",
       "2      [bobby, jindal, raised, hindu, us, story, of, ...   \n",
       "3      [satan, 2, russia, unvelis, an, image, of, it,...   \n",
       "4      [about, time, christian, group, sue, amazon, a...   \n",
       "...                                                  ...   \n",
       "71420  [russian, steal, research, on, trump, in, hack...   \n",
       "71421  [watch, giuliani, demand, that, democrat, apol...   \n",
       "71422  [migrant, refuse, to, leave, train, at, refuge...   \n",
       "71423  [trump, tussle, give, unpopular, mexican, lead...   \n",
       "71424  [goldman, sachs, endorses, hillary, clinton, f...   \n",
       "\n",
       "                                               stop_text  \n",
       "0      law enforcement high alert following threat co...  \n",
       "1      unbelievable obama attorney general say charlo...  \n",
       "2      bobby jindal raised hindu us story christian c...  \n",
       "3      satan 2 russia unvelis image terrifying new su...  \n",
       "4      time christian group sue amazon splc designati...  \n",
       "...                                                  ...  \n",
       "71420  russian steal research trump hack u democratic...  \n",
       "71421  watch giuliani demand democrat apologize trump...  \n",
       "71422  migrant refuse leave train refugee camp hungar...  \n",
       "71423  trump tussle give unpopular mexican leader muc...  \n",
       "71424  goldman sachs endorses hillary clinton preside...  \n",
       "\n",
       "[71425 rows x 6 columns]"
      ]
     },
     "execution_count": 52,
     "metadata": {},
     "output_type": "execute_result"
    }
   ],
   "source": [
    "df"
   ]
  },
  {
   "cell_type": "markdown",
   "id": "1a647aea",
   "metadata": {
    "id": "1a647aea"
   },
   "source": [
    "## Modeling"
   ]
  },
  {
   "cell_type": "markdown",
   "id": "7a8f7cf4",
   "metadata": {
    "id": "7a8f7cf4"
   },
   "source": [
    "### TF-IDF "
   ]
  },
  {
   "cell_type": "code",
   "execution_count": null,
   "id": "e5083675",
   "metadata": {
    "id": "e5083675"
   },
   "outputs": [],
   "source": [
    "#df = pd.read_csv(\"data/df_stopwords.csv\")\n",
    "#df.drop(columns=[\"Unnamed: 0\"], inplace=True)\n",
    "#df"
   ]
  },
  {
   "cell_type": "code",
   "execution_count": 34,
   "id": "01bc9cca",
   "metadata": {
    "id": "01bc9cca",
    "outputId": "51875d01-68e4-4e2d-aee3-5cc5795f0a93"
   },
   "outputs": [
    {
     "name": "stdout",
     "output_type": "stream",
     "text": [
      "<class 'pandas.core.frame.DataFrame'>\n",
      "RangeIndex: 71425 entries, 0 to 71424\n",
      "Data columns (total 3 columns):\n",
      " #   Column      Non-Null Count  Dtype \n",
      "---  ------      --------------  ----- \n",
      " 0   text        71425 non-null  object\n",
      " 1   label       71425 non-null  int64 \n",
      " 2   text_clean  71425 non-null  object\n",
      "dtypes: int64(1), object(2)\n",
      "memory usage: 1.6+ MB\n"
     ]
    }
   ],
   "source": [
    "df.info()"
   ]
  },
  {
   "cell_type": "code",
   "execution_count": 35,
   "id": "b31e7272",
   "metadata": {
    "id": "b31e7272"
   },
   "outputs": [
    {
     "ename": "KeyError",
     "evalue": "'stop_text'",
     "output_type": "error",
     "traceback": [
      "\u001b[0;31m---------------------------------------------------------------------------\u001b[0m",
      "\u001b[0;31mKeyError\u001b[0m                                  Traceback (most recent call last)",
      "\u001b[0;32m/opt/anaconda3/lib/python3.9/site-packages/pandas/core/indexes/base.py\u001b[0m in \u001b[0;36mget_loc\u001b[0;34m(self, key, method, tolerance)\u001b[0m\n\u001b[1;32m   3360\u001b[0m             \u001b[0;32mtry\u001b[0m\u001b[0;34m:\u001b[0m\u001b[0;34m\u001b[0m\u001b[0;34m\u001b[0m\u001b[0m\n\u001b[0;32m-> 3361\u001b[0;31m                 \u001b[0;32mreturn\u001b[0m \u001b[0mself\u001b[0m\u001b[0;34m.\u001b[0m\u001b[0m_engine\u001b[0m\u001b[0;34m.\u001b[0m\u001b[0mget_loc\u001b[0m\u001b[0;34m(\u001b[0m\u001b[0mcasted_key\u001b[0m\u001b[0;34m)\u001b[0m\u001b[0;34m\u001b[0m\u001b[0;34m\u001b[0m\u001b[0m\n\u001b[0m\u001b[1;32m   3362\u001b[0m             \u001b[0;32mexcept\u001b[0m \u001b[0mKeyError\u001b[0m \u001b[0;32mas\u001b[0m \u001b[0merr\u001b[0m\u001b[0;34m:\u001b[0m\u001b[0;34m\u001b[0m\u001b[0;34m\u001b[0m\u001b[0m\n",
      "\u001b[0;32m/opt/anaconda3/lib/python3.9/site-packages/pandas/_libs/index.pyx\u001b[0m in \u001b[0;36mpandas._libs.index.IndexEngine.get_loc\u001b[0;34m()\u001b[0m\n",
      "\u001b[0;32m/opt/anaconda3/lib/python3.9/site-packages/pandas/_libs/index.pyx\u001b[0m in \u001b[0;36mpandas._libs.index.IndexEngine.get_loc\u001b[0;34m()\u001b[0m\n",
      "\u001b[0;32mpandas/_libs/hashtable_class_helper.pxi\u001b[0m in \u001b[0;36mpandas._libs.hashtable.PyObjectHashTable.get_item\u001b[0;34m()\u001b[0m\n",
      "\u001b[0;32mpandas/_libs/hashtable_class_helper.pxi\u001b[0m in \u001b[0;36mpandas._libs.hashtable.PyObjectHashTable.get_item\u001b[0;34m()\u001b[0m\n",
      "\u001b[0;31mKeyError\u001b[0m: 'stop_text'",
      "\nThe above exception was the direct cause of the following exception:\n",
      "\u001b[0;31mKeyError\u001b[0m                                  Traceback (most recent call last)",
      "\u001b[0;32m/var/folders/mm/gw92vpys6rggjz_4z42s244w0000gn/T/ipykernel_4033/2321936595.py\u001b[0m in \u001b[0;36m<module>\u001b[0;34m\u001b[0m\n\u001b[0;32m----> 1\u001b[0;31m X_train, X_test, Y_train, Y_test = train_test_split(df['stop_text'],\n\u001b[0m\u001b[1;32m      2\u001b[0m \u001b[0mdf\u001b[0m\u001b[0;34m[\u001b[0m\u001b[0;34m'label'\u001b[0m\u001b[0;34m]\u001b[0m\u001b[0;34m,\u001b[0m\u001b[0;34m\u001b[0m\u001b[0;34m\u001b[0m\u001b[0m\n\u001b[1;32m      3\u001b[0m \u001b[0mtest_size\u001b[0m\u001b[0;34m=\u001b[0m\u001b[0;36m0.2\u001b[0m\u001b[0;34m,\u001b[0m\u001b[0;34m\u001b[0m\u001b[0;34m\u001b[0m\u001b[0m\n\u001b[1;32m      4\u001b[0m \u001b[0mrandom_state\u001b[0m\u001b[0;34m=\u001b[0m\u001b[0;36m42\u001b[0m\u001b[0;34m,\u001b[0m\u001b[0;34m\u001b[0m\u001b[0;34m\u001b[0m\u001b[0m\n\u001b[1;32m      5\u001b[0m stratify=df['label'])\n",
      "\u001b[0;32m/opt/anaconda3/lib/python3.9/site-packages/pandas/core/frame.py\u001b[0m in \u001b[0;36m__getitem__\u001b[0;34m(self, key)\u001b[0m\n\u001b[1;32m   3456\u001b[0m             \u001b[0;32mif\u001b[0m \u001b[0mself\u001b[0m\u001b[0;34m.\u001b[0m\u001b[0mcolumns\u001b[0m\u001b[0;34m.\u001b[0m\u001b[0mnlevels\u001b[0m \u001b[0;34m>\u001b[0m \u001b[0;36m1\u001b[0m\u001b[0;34m:\u001b[0m\u001b[0;34m\u001b[0m\u001b[0;34m\u001b[0m\u001b[0m\n\u001b[1;32m   3457\u001b[0m                 \u001b[0;32mreturn\u001b[0m \u001b[0mself\u001b[0m\u001b[0;34m.\u001b[0m\u001b[0m_getitem_multilevel\u001b[0m\u001b[0;34m(\u001b[0m\u001b[0mkey\u001b[0m\u001b[0;34m)\u001b[0m\u001b[0;34m\u001b[0m\u001b[0;34m\u001b[0m\u001b[0m\n\u001b[0;32m-> 3458\u001b[0;31m             \u001b[0mindexer\u001b[0m \u001b[0;34m=\u001b[0m \u001b[0mself\u001b[0m\u001b[0;34m.\u001b[0m\u001b[0mcolumns\u001b[0m\u001b[0;34m.\u001b[0m\u001b[0mget_loc\u001b[0m\u001b[0;34m(\u001b[0m\u001b[0mkey\u001b[0m\u001b[0;34m)\u001b[0m\u001b[0;34m\u001b[0m\u001b[0;34m\u001b[0m\u001b[0m\n\u001b[0m\u001b[1;32m   3459\u001b[0m             \u001b[0;32mif\u001b[0m \u001b[0mis_integer\u001b[0m\u001b[0;34m(\u001b[0m\u001b[0mindexer\u001b[0m\u001b[0;34m)\u001b[0m\u001b[0;34m:\u001b[0m\u001b[0;34m\u001b[0m\u001b[0;34m\u001b[0m\u001b[0m\n\u001b[1;32m   3460\u001b[0m                 \u001b[0mindexer\u001b[0m \u001b[0;34m=\u001b[0m \u001b[0;34m[\u001b[0m\u001b[0mindexer\u001b[0m\u001b[0;34m]\u001b[0m\u001b[0;34m\u001b[0m\u001b[0;34m\u001b[0m\u001b[0m\n",
      "\u001b[0;32m/opt/anaconda3/lib/python3.9/site-packages/pandas/core/indexes/base.py\u001b[0m in \u001b[0;36mget_loc\u001b[0;34m(self, key, method, tolerance)\u001b[0m\n\u001b[1;32m   3361\u001b[0m                 \u001b[0;32mreturn\u001b[0m \u001b[0mself\u001b[0m\u001b[0;34m.\u001b[0m\u001b[0m_engine\u001b[0m\u001b[0;34m.\u001b[0m\u001b[0mget_loc\u001b[0m\u001b[0;34m(\u001b[0m\u001b[0mcasted_key\u001b[0m\u001b[0;34m)\u001b[0m\u001b[0;34m\u001b[0m\u001b[0;34m\u001b[0m\u001b[0m\n\u001b[1;32m   3362\u001b[0m             \u001b[0;32mexcept\u001b[0m \u001b[0mKeyError\u001b[0m \u001b[0;32mas\u001b[0m \u001b[0merr\u001b[0m\u001b[0;34m:\u001b[0m\u001b[0;34m\u001b[0m\u001b[0;34m\u001b[0m\u001b[0m\n\u001b[0;32m-> 3363\u001b[0;31m                 \u001b[0;32mraise\u001b[0m \u001b[0mKeyError\u001b[0m\u001b[0;34m(\u001b[0m\u001b[0mkey\u001b[0m\u001b[0;34m)\u001b[0m \u001b[0;32mfrom\u001b[0m \u001b[0merr\u001b[0m\u001b[0;34m\u001b[0m\u001b[0;34m\u001b[0m\u001b[0m\n\u001b[0m\u001b[1;32m   3364\u001b[0m \u001b[0;34m\u001b[0m\u001b[0m\n\u001b[1;32m   3365\u001b[0m         \u001b[0;32mif\u001b[0m \u001b[0mis_scalar\u001b[0m\u001b[0;34m(\u001b[0m\u001b[0mkey\u001b[0m\u001b[0;34m)\u001b[0m \u001b[0;32mand\u001b[0m \u001b[0misna\u001b[0m\u001b[0;34m(\u001b[0m\u001b[0mkey\u001b[0m\u001b[0;34m)\u001b[0m \u001b[0;32mand\u001b[0m \u001b[0;32mnot\u001b[0m \u001b[0mself\u001b[0m\u001b[0;34m.\u001b[0m\u001b[0mhasnans\u001b[0m\u001b[0;34m:\u001b[0m\u001b[0;34m\u001b[0m\u001b[0;34m\u001b[0m\u001b[0m\n",
      "\u001b[0;31mKeyError\u001b[0m: 'stop_text'"
     ]
    }
   ],
   "source": [
    "X_train, X_test, Y_train, Y_test = train_test_split(df['stop_text'],\n",
    "df['label'],\n",
    "test_size=0.2,\n",
    "random_state=42,\n",
    "stratify=df['label'])"
   ]
  },
  {
   "cell_type": "code",
   "execution_count": 55,
   "id": "4fc33263",
   "metadata": {
    "id": "4fc33263",
    "outputId": "32b9221b-e780-450e-ba9d-362d0eedf595"
   },
   "outputs": [
    {
     "name": "stdout",
     "output_type": "stream",
     "text": [
      "Size of Training Data  57140\n",
      "Size of Test Data  14285\n",
      "Distribution of classes in Training Data :\n",
      "Fake item  50.95904795239762\n",
      "Real item  49.04095204760238\n",
      "Distribution of classes in Testing Data :\n",
      "Fake item  50.955547777388865\n",
      "Real item  49.04445222261113\n"
     ]
    }
   ],
   "source": [
    "print ('Size of Training Data ', X_train.shape[0])\n",
    "print ('Size of Test Data ', X_test.shape[0])\n",
    "print ('Distribution of classes in Training Data :')\n",
    "print ('Fake item ', str(sum(Y_train == 1)/ len(Y_train) * 100.0))\n",
    "print ('Real item ', str(sum(Y_train == 0)/ len(Y_train) * 100.0))\n",
    "print ('Distribution of classes in Testing Data :')\n",
    "print ('Fake item ', str(sum(Y_test == 1)/ len(Y_test) * 100.0))\n",
    "print ('Real item ', str(sum(Y_test == 0)/ len(Y_test) * 100.0))"
   ]
  },
  {
   "cell_type": "code",
   "execution_count": 56,
   "id": "f0f46676",
   "metadata": {
    "id": "f0f46676"
   },
   "outputs": [],
   "source": [
    "tfidf = TfidfVectorizer(analyzer = 'word', max_features = 20000, ngram_range=(1,2))\n",
    "X_train_tf = tfidf.fit_transform(X_train)\n",
    "X_test_tf = tfidf.transform(X_test)"
   ]
  },
  {
   "cell_type": "code",
   "execution_count": 57,
   "id": "59b28f50",
   "metadata": {
    "id": "59b28f50",
    "outputId": "816be032-cbf1-4b47-d299-638d22133c6e"
   },
   "outputs": [
    {
     "data": {
      "text/html": [
       "<style>#sk-container-id-1 {color: black;background-color: white;}#sk-container-id-1 pre{padding: 0;}#sk-container-id-1 div.sk-toggleable {background-color: white;}#sk-container-id-1 label.sk-toggleable__label {cursor: pointer;display: block;width: 100%;margin-bottom: 0;padding: 0.3em;box-sizing: border-box;text-align: center;}#sk-container-id-1 label.sk-toggleable__label-arrow:before {content: \"▸\";float: left;margin-right: 0.25em;color: #696969;}#sk-container-id-1 label.sk-toggleable__label-arrow:hover:before {color: black;}#sk-container-id-1 div.sk-estimator:hover label.sk-toggleable__label-arrow:before {color: black;}#sk-container-id-1 div.sk-toggleable__content {max-height: 0;max-width: 0;overflow: hidden;text-align: left;background-color: #f0f8ff;}#sk-container-id-1 div.sk-toggleable__content pre {margin: 0.2em;color: black;border-radius: 0.25em;background-color: #f0f8ff;}#sk-container-id-1 input.sk-toggleable__control:checked~div.sk-toggleable__content {max-height: 200px;max-width: 100%;overflow: auto;}#sk-container-id-1 input.sk-toggleable__control:checked~label.sk-toggleable__label-arrow:before {content: \"▾\";}#sk-container-id-1 div.sk-estimator input.sk-toggleable__control:checked~label.sk-toggleable__label {background-color: #d4ebff;}#sk-container-id-1 div.sk-label input.sk-toggleable__control:checked~label.sk-toggleable__label {background-color: #d4ebff;}#sk-container-id-1 input.sk-hidden--visually {border: 0;clip: rect(1px 1px 1px 1px);clip: rect(1px, 1px, 1px, 1px);height: 1px;margin: -1px;overflow: hidden;padding: 0;position: absolute;width: 1px;}#sk-container-id-1 div.sk-estimator {font-family: monospace;background-color: #f0f8ff;border: 1px dotted black;border-radius: 0.25em;box-sizing: border-box;margin-bottom: 0.5em;}#sk-container-id-1 div.sk-estimator:hover {background-color: #d4ebff;}#sk-container-id-1 div.sk-parallel-item::after {content: \"\";width: 100%;border-bottom: 1px solid gray;flex-grow: 1;}#sk-container-id-1 div.sk-label:hover label.sk-toggleable__label {background-color: #d4ebff;}#sk-container-id-1 div.sk-serial::before {content: \"\";position: absolute;border-left: 1px solid gray;box-sizing: border-box;top: 0;bottom: 0;left: 50%;z-index: 0;}#sk-container-id-1 div.sk-serial {display: flex;flex-direction: column;align-items: center;background-color: white;padding-right: 0.2em;padding-left: 0.2em;position: relative;}#sk-container-id-1 div.sk-item {position: relative;z-index: 1;}#sk-container-id-1 div.sk-parallel {display: flex;align-items: stretch;justify-content: center;background-color: white;position: relative;}#sk-container-id-1 div.sk-item::before, #sk-container-id-1 div.sk-parallel-item::before {content: \"\";position: absolute;border-left: 1px solid gray;box-sizing: border-box;top: 0;bottom: 0;left: 50%;z-index: -1;}#sk-container-id-1 div.sk-parallel-item {display: flex;flex-direction: column;z-index: 1;position: relative;background-color: white;}#sk-container-id-1 div.sk-parallel-item:first-child::after {align-self: flex-end;width: 50%;}#sk-container-id-1 div.sk-parallel-item:last-child::after {align-self: flex-start;width: 50%;}#sk-container-id-1 div.sk-parallel-item:only-child::after {width: 0;}#sk-container-id-1 div.sk-dashed-wrapped {border: 1px dashed gray;margin: 0 0.4em 0.5em 0.4em;box-sizing: border-box;padding-bottom: 0.4em;background-color: white;}#sk-container-id-1 div.sk-label label {font-family: monospace;font-weight: bold;display: inline-block;line-height: 1.2em;}#sk-container-id-1 div.sk-label-container {text-align: center;}#sk-container-id-1 div.sk-container {/* jupyter's `normalize.less` sets `[hidden] { display: none; }` but bootstrap.min.css set `[hidden] { display: none !important; }` so we also need the `!important` here to be able to override the default hidden behavior on the sphinx rendered scikit-learn.org. See: https://github.com/scikit-learn/scikit-learn/issues/21755 */display: inline-block !important;position: relative;}#sk-container-id-1 div.sk-text-repr-fallback {display: none;}</style><div id=\"sk-container-id-1\" class=\"sk-top-container\"><div class=\"sk-text-repr-fallback\"><pre>LinearSVC(random_state=42, tol=1e-05)</pre><b>In a Jupyter environment, please rerun this cell to show the HTML representation or trust the notebook. <br />On GitHub, the HTML representation is unable to render, please try loading this page with nbviewer.org.</b></div><div class=\"sk-container\" hidden><div class=\"sk-item\"><div class=\"sk-estimator sk-toggleable\"><input class=\"sk-toggleable__control sk-hidden--visually\" id=\"sk-estimator-id-1\" type=\"checkbox\" checked><label for=\"sk-estimator-id-1\" class=\"sk-toggleable__label sk-toggleable__label-arrow\">LinearSVC</label><div class=\"sk-toggleable__content\"><pre>LinearSVC(random_state=42, tol=1e-05)</pre></div></div></div></div></div>"
      ],
      "text/plain": [
       "LinearSVC(random_state=42, tol=1e-05)"
      ]
     },
     "execution_count": 57,
     "metadata": {},
     "output_type": "execute_result"
    }
   ],
   "source": [
    "SVC = LinearSVC(random_state=42, tol=1e-5)\n",
    "SVC.fit(X_train_tf, Y_train)"
   ]
  },
  {
   "cell_type": "code",
   "execution_count": 58,
   "id": "2d82e86c",
   "metadata": {
    "id": "2d82e86c",
    "outputId": "a176c3d3-0204-4daf-b10e-cad7d4b6c2d4"
   },
   "outputs": [
    {
     "name": "stdout",
     "output_type": "stream",
     "text": [
      "Accuracy Score -  0.9662583129156458\n",
      "ROC-AUC Score -  0.9661549790482413\n"
     ]
    }
   ],
   "source": [
    "Y_pred = SVC.predict(X_test_tf)\n",
    "print ('Accuracy Score - ', accuracy_score(Y_test, Y_pred))\n",
    "print ('ROC-AUC Score - ', roc_auc_score(Y_test, Y_pred))"
   ]
  },
  {
   "cell_type": "code",
   "execution_count": 53,
   "id": "97081fc8",
   "metadata": {
    "id": "97081fc8",
    "outputId": "8cc03256-f931-40cc-e35a-cc3f4d05d979",
    "scrolled": false
   },
   "outputs": [],
   "source": [
    "#tfidf.get_feature_names()"
   ]
  },
  {
   "cell_type": "markdown",
   "id": "782d4e54",
   "metadata": {},
   "source": [
    "## Topic Modeling"
   ]
  },
  {
   "cell_type": "code",
   "execution_count": 11,
   "id": "56c47d2c",
   "metadata": {},
   "outputs": [
    {
     "data": {
      "text/html": [
       "<div>\n",
       "<style scoped>\n",
       "    .dataframe tbody tr th:only-of-type {\n",
       "        vertical-align: middle;\n",
       "    }\n",
       "\n",
       "    .dataframe tbody tr th {\n",
       "        vertical-align: top;\n",
       "    }\n",
       "\n",
       "    .dataframe thead th {\n",
       "        text-align: right;\n",
       "    }\n",
       "</style>\n",
       "<table border=\"1\" class=\"dataframe\">\n",
       "  <thead>\n",
       "    <tr style=\"text-align: right;\">\n",
       "      <th></th>\n",
       "      <th>text</th>\n",
       "      <th>label</th>\n",
       "      <th>text_clean</th>\n",
       "    </tr>\n",
       "  </thead>\n",
       "  <tbody>\n",
       "    <tr>\n",
       "      <th>0</th>\n",
       "      <td>LAW ENFORCEMENT ON HIGH ALERT Following Threat...</td>\n",
       "      <td>1</td>\n",
       "      <td>law enforcement on high alert following threat...</td>\n",
       "    </tr>\n",
       "    <tr>\n",
       "      <th>1</th>\n",
       "      <td>UNBELIEVABLE! OBAMA’S ATTORNEY GENERAL SAYS MO...</td>\n",
       "      <td>1</td>\n",
       "      <td>unbelievable obama s attorney general says mos...</td>\n",
       "    </tr>\n",
       "    <tr>\n",
       "      <th>2</th>\n",
       "      <td>Bobby Jindal, raised Hindu, uses story of Chri...</td>\n",
       "      <td>0</td>\n",
       "      <td>bobby jindal raised hindu uses story of christ...</td>\n",
       "    </tr>\n",
       "    <tr>\n",
       "      <th>3</th>\n",
       "      <td>SATAN 2: Russia unvelis an image of its terrif...</td>\n",
       "      <td>1</td>\n",
       "      <td>satan 2 russia unvelis an image of its terrify...</td>\n",
       "    </tr>\n",
       "    <tr>\n",
       "      <th>4</th>\n",
       "      <td>About Time! Christian Group Sues Amazon and SP...</td>\n",
       "      <td>1</td>\n",
       "      <td>about time christian group sues amazon and spl...</td>\n",
       "    </tr>\n",
       "    <tr>\n",
       "      <th>...</th>\n",
       "      <td>...</td>\n",
       "      <td>...</td>\n",
       "      <td>...</td>\n",
       "    </tr>\n",
       "    <tr>\n",
       "      <th>71420</th>\n",
       "      <td>Russians steal research on Trump in hack of U....</td>\n",
       "      <td>0</td>\n",
       "      <td>russians steal research on trump in hack of u ...</td>\n",
       "    </tr>\n",
       "    <tr>\n",
       "      <th>71421</th>\n",
       "      <td>WATCH: Giuliani Demands That Democrats Apolog...</td>\n",
       "      <td>1</td>\n",
       "      <td>watch giuliani demands that democrats apologiz...</td>\n",
       "    </tr>\n",
       "    <tr>\n",
       "      <th>71422</th>\n",
       "      <td>Migrants Refuse To Leave Train At Refugee Camp...</td>\n",
       "      <td>0</td>\n",
       "      <td>migrants refuse to leave train at refugee camp...</td>\n",
       "    </tr>\n",
       "    <tr>\n",
       "      <th>71423</th>\n",
       "      <td>Trump tussle gives unpopular Mexican leader mu...</td>\n",
       "      <td>0</td>\n",
       "      <td>trump tussle gives unpopular mexican leader mu...</td>\n",
       "    </tr>\n",
       "    <tr>\n",
       "      <th>71424</th>\n",
       "      <td>Goldman Sachs Endorses Hillary Clinton For Pre...</td>\n",
       "      <td>1</td>\n",
       "      <td>goldman sachs endorses hillary clinton for pre...</td>\n",
       "    </tr>\n",
       "  </tbody>\n",
       "</table>\n",
       "<p>71425 rows × 3 columns</p>\n",
       "</div>"
      ],
      "text/plain": [
       "                                                    text  label  \\\n",
       "0      LAW ENFORCEMENT ON HIGH ALERT Following Threat...      1   \n",
       "1      UNBELIEVABLE! OBAMA’S ATTORNEY GENERAL SAYS MO...      1   \n",
       "2      Bobby Jindal, raised Hindu, uses story of Chri...      0   \n",
       "3      SATAN 2: Russia unvelis an image of its terrif...      1   \n",
       "4      About Time! Christian Group Sues Amazon and SP...      1   \n",
       "...                                                  ...    ...   \n",
       "71420  Russians steal research on Trump in hack of U....      0   \n",
       "71421   WATCH: Giuliani Demands That Democrats Apolog...      1   \n",
       "71422  Migrants Refuse To Leave Train At Refugee Camp...      0   \n",
       "71423  Trump tussle gives unpopular Mexican leader mu...      0   \n",
       "71424  Goldman Sachs Endorses Hillary Clinton For Pre...      1   \n",
       "\n",
       "                                              text_clean  \n",
       "0      law enforcement on high alert following threat...  \n",
       "1      unbelievable obama s attorney general says mos...  \n",
       "2      bobby jindal raised hindu uses story of christ...  \n",
       "3      satan 2 russia unvelis an image of its terrify...  \n",
       "4      about time christian group sues amazon and spl...  \n",
       "...                                                  ...  \n",
       "71420  russians steal research on trump in hack of u ...  \n",
       "71421  watch giuliani demands that democrats apologiz...  \n",
       "71422  migrants refuse to leave train at refugee camp...  \n",
       "71423  trump tussle gives unpopular mexican leader mu...  \n",
       "71424  goldman sachs endorses hillary clinton for pre...  \n",
       "\n",
       "[71425 rows x 3 columns]"
      ]
     },
     "execution_count": 11,
     "metadata": {},
     "output_type": "execute_result"
    }
   ],
   "source": [
    "df = pd.read_csv(\"data/df_pre_tok_text.csv\")\n",
    "df.drop(columns=[\"Unnamed: 0\"], inplace=True)\n",
    "df"
   ]
  },
  {
   "cell_type": "code",
   "execution_count": 12,
   "id": "6b7229c7",
   "metadata": {},
   "outputs": [],
   "source": [
    "df_true = df.drop(df[df.label == 0].index)"
   ]
  },
  {
   "cell_type": "code",
   "execution_count": 13,
   "id": "bf1ece83",
   "metadata": {},
   "outputs": [],
   "source": [
    "df_fake = df.drop(df[df.label == 1].index)"
   ]
  },
  {
   "cell_type": "code",
   "execution_count": 14,
   "id": "39a5e494",
   "metadata": {},
   "outputs": [],
   "source": [
    "from sklearn.feature_extraction.text import TfidfVectorizer"
   ]
  },
  {
   "cell_type": "code",
   "execution_count": 15,
   "id": "deb0604d",
   "metadata": {},
   "outputs": [],
   "source": [
    "from spacy.lang.en.stop_words import STOP_WORDS as stopwords"
   ]
  },
  {
   "cell_type": "markdown",
   "id": "060e8040",
   "metadata": {},
   "source": [
    "### on Real News"
   ]
  },
  {
   "cell_type": "code",
   "execution_count": 17,
   "id": "958058a5",
   "metadata": {},
   "outputs": [
    {
     "data": {
      "text/plain": [
       "(36397, 337562)"
      ]
     },
     "execution_count": 17,
     "metadata": {},
     "output_type": "execute_result"
    }
   ],
   "source": [
    "tfidf_text = TfidfVectorizer(stop_words=stopwords, ngram_range=(1, 2), min_df=5, max_df=0.6) \n",
    "vectors_text = tfidf_text.fit_transform(df_true['text_clean']) \n",
    "vectors_text.shape"
   ]
  },
  {
   "cell_type": "markdown",
   "id": "a5c8b190",
   "metadata": {},
   "source": [
    "#### Nonnegative Matrix Factorization (NMF)"
   ]
  },
  {
   "cell_type": "code",
   "execution_count": 18,
   "id": "92d70adb",
   "metadata": {},
   "outputs": [],
   "source": [
    "from sklearn.decomposition import NMF"
   ]
  },
  {
   "cell_type": "code",
   "execution_count": 19,
   "id": "e7b64fae",
   "metadata": {},
   "outputs": [
    {
     "name": "stderr",
     "output_type": "stream",
     "text": [
      "/opt/anaconda3/lib/python3.9/site-packages/sklearn/decomposition/_nmf.py:312: FutureWarning: The 'init' value, when 'init=None' and n_components is less than n_samples and n_features, will be changed from 'nndsvd' to 'nndsvda' in 1.1 (renaming of 0.26).\n",
      "  warnings.warn((\"The 'init' value, when 'init=None' and \"\n"
     ]
    }
   ],
   "source": [
    "nmf_text_model = NMF(n_components=10, random_state=42) \n",
    "W_text_matrix = nmf_text_model.fit_transform(vectors_text) \n",
    "H_text_matrix = nmf_text_model.components_"
   ]
  },
  {
   "cell_type": "code",
   "execution_count": 20,
   "id": "e0e730ed",
   "metadata": {},
   "outputs": [],
   "source": [
    "def display_topics(model, features, no_top_words=5): \n",
    "    for topic, word_vector in enumerate(model.components_):\n",
    "        total = word_vector.sum() \n",
    "        largest = word_vector.argsort()[::-1] # invert sort order\n",
    "        print(\"\\nTopic %02d\" % topic) \n",
    "        for i in range(0, no_top_words): \n",
    "            print(\" %s (%2.2f)\" % (features[largest[i]], \n",
    "                    word_vector[largest[i]]*100.0/total))"
   ]
  },
  {
   "cell_type": "code",
   "execution_count": 21,
   "id": "66c6663c",
   "metadata": {},
   "outputs": [
    {
     "name": "stdout",
     "output_type": "stream",
     "text": [
      "\n",
      "Topic 00\n",
      " trump (1.99)\n",
      " donald (0.49)\n",
      " donald trump (0.46)\n",
      " president (0.23)\n",
      " campaign (0.19)\n",
      "\n",
      "Topic 01\n",
      " people (0.18)\n",
      " world (0.11)\n",
      " like (0.10)\n",
      " government (0.10)\n",
      " new (0.09)\n",
      "\n",
      "Topic 02\n",
      " clinton (1.53)\n",
      " hillary (1.12)\n",
      " hillary clinton (0.61)\n",
      " campaign (0.31)\n",
      " foundation (0.24)\n",
      "\n",
      "Topic 03\n",
      " boiler (1.93)\n",
      " boiler room (1.74)\n",
      " acr (1.32)\n",
      " room (1.19)\n",
      " pm (0.85)\n",
      "\n",
      "Topic 04\n",
      " russia (0.54)\n",
      " syria (0.43)\n",
      " russian (0.38)\n",
      " war (0.32)\n",
      " military (0.25)\n",
      "\n",
      "Topic 05\n",
      " fbi (1.20)\n",
      " comey (0.94)\n",
      " investigation (0.56)\n",
      " emails (0.41)\n",
      " director (0.34)\n",
      "\n",
      "Topic 06\n",
      " police (0.76)\n",
      " black (0.58)\n",
      " officers (0.29)\n",
      " gun (0.22)\n",
      " officer (0.22)\n",
      "\n",
      "Topic 07\n",
      " de (3.89)\n",
      " la (2.39)\n",
      " que (1.96)\n",
      " el (1.75)\n",
      " en (1.62)\n",
      "\n",
      "Topic 08\n",
      " obama (1.45)\n",
      " president (0.67)\n",
      " president obama (0.37)\n",
      " house (0.33)\n",
      " white house (0.32)\n",
      "\n",
      "Topic 09\n",
      " twitter (0.94)\n",
      " com (0.79)\n",
      " twitter com (0.79)\n",
      " pic (0.75)\n",
      " pic twitter (0.75)\n"
     ]
    }
   ],
   "source": [
    "display_topics(nmf_text_model, tfidf_text.get_feature_names())"
   ]
  },
  {
   "cell_type": "code",
   "execution_count": 25,
   "id": "789031f1",
   "metadata": {},
   "outputs": [
    {
     "data": {
      "text/plain": [
       "array([15.1551182 , 18.30878334, 11.9736002 ,  2.94355554, 11.32797333,\n",
       "        7.57929557,  7.7667016 ,  2.28465116, 10.54130446, 12.11901661])"
      ]
     },
     "execution_count": 25,
     "metadata": {},
     "output_type": "execute_result"
    }
   ],
   "source": [
    "W_text_matrix.sum(axis=0)/W_text_matrix.sum()*100.0"
   ]
  },
  {
   "cell_type": "markdown",
   "id": "9eeb2d83",
   "metadata": {},
   "source": [
    "#### Latent Semantic Analysis/Truncated SVD"
   ]
  },
  {
   "cell_type": "code",
   "execution_count": 22,
   "id": "06a20433",
   "metadata": {},
   "outputs": [],
   "source": [
    "from sklearn.decomposition import TruncatedSVD"
   ]
  },
  {
   "cell_type": "code",
   "execution_count": 23,
   "id": "ca9a0b16",
   "metadata": {},
   "outputs": [],
   "source": [
    "svd_model = TruncatedSVD(n_components = 10, random_state=42) \n",
    "W_svd_matrix = svd_model.fit_transform(vectors_text) \n",
    "H_svd_matrix = svd_model.components_"
   ]
  },
  {
   "cell_type": "code",
   "execution_count": 24,
   "id": "0a8efef3",
   "metadata": {},
   "outputs": [
    {
     "name": "stdout",
     "output_type": "stream",
     "text": [
      "\n",
      "Topic 00\n",
      " trump (0.42)\n",
      " clinton (0.19)\n",
      " hillary (0.14)\n",
      " president (0.13)\n",
      " obama (0.12)\n",
      "\n",
      "Topic 01\n",
      " clinton (0.94)\n",
      " fbi (0.55)\n",
      " hillary (0.53)\n",
      " emails (0.36)\n",
      " hillary clinton (0.30)\n",
      "\n",
      "Topic 02\n",
      " clinton (-0.93)\n",
      " hillary (-0.63)\n",
      " trump (-0.61)\n",
      " fbi (-0.45)\n",
      " hillary clinton (-0.36)\n",
      "\n",
      "Topic 03\n",
      " boiler (11.31)\n",
      " boiler room (10.25)\n",
      " acr (7.73)\n",
      " room (6.99)\n",
      " pm (5.02)\n",
      "\n",
      "Topic 04\n",
      " russia (-5.89)\n",
      " russian (-4.06)\n",
      " syria (-3.76)\n",
      " trump (-2.88)\n",
      " war (-2.58)\n",
      "\n",
      "Topic 05\n",
      " fbi (12.90)\n",
      " comey (11.00)\n",
      " police (6.43)\n",
      " investigation (6.30)\n",
      " twitter (4.20)\n",
      "\n",
      "Topic 06\n",
      " de (4.19)\n",
      " la (2.56)\n",
      " que (2.09)\n",
      " el (1.85)\n",
      " en (1.75)\n",
      "\n",
      "Topic 07\n",
      " de (12.80)\n",
      " la (7.89)\n",
      " que (6.51)\n",
      " el (5.80)\n",
      " obama (5.44)\n",
      "\n",
      "Topic 08\n",
      " obama (-3.52)\n",
      " president (-1.51)\n",
      " twitter (-0.99)\n",
      " hillary (-0.92)\n",
      " twitter com (-0.90)\n",
      "\n",
      "Topic 09\n",
      " police (-1.67)\n",
      " black (-1.60)\n",
      " officers (-0.69)\n",
      " lives matter (-0.62)\n",
      " black lives (-0.59)\n"
     ]
    }
   ],
   "source": [
    "display_topics(svd_model, tfidf_text.get_feature_names())"
   ]
  },
  {
   "cell_type": "markdown",
   "id": "8956892a",
   "metadata": {},
   "source": [
    "#### LDA"
   ]
  },
  {
   "cell_type": "code",
   "execution_count": 26,
   "id": "fa504b2b",
   "metadata": {},
   "outputs": [],
   "source": [
    "from sklearn.feature_extraction.text import CountVectorizer"
   ]
  },
  {
   "cell_type": "code",
   "execution_count": 27,
   "id": "41e369a8",
   "metadata": {},
   "outputs": [],
   "source": [
    "count_vectorizer = CountVectorizer(stop_words=stopwords, min_df=5, max_df=0.7)"
   ]
  },
  {
   "cell_type": "code",
   "execution_count": 28,
   "id": "69b142ae",
   "metadata": {},
   "outputs": [
    {
     "name": "stderr",
     "output_type": "stream",
     "text": [
      "/opt/anaconda3/lib/python3.9/site-packages/sklearn/feature_extraction/text.py:388: UserWarning: Your stop_words may be inconsistent with your preprocessing. Tokenizing the stop words generated tokens ['ll', 've'] not in stop_words.\n",
      "  warnings.warn('Your stop_words may be inconsistent with '\n"
     ]
    }
   ],
   "source": [
    "count_vectors = count_vectorizer.fit_transform(df_true[\"text_clean\"])"
   ]
  },
  {
   "cell_type": "code",
   "execution_count": 29,
   "id": "fe4140a3",
   "metadata": {},
   "outputs": [],
   "source": [
    "from sklearn.decomposition import LatentDirichletAllocation"
   ]
  },
  {
   "cell_type": "code",
   "execution_count": 30,
   "id": "9bb7fda1",
   "metadata": {},
   "outputs": [],
   "source": [
    "lda_model = LatentDirichletAllocation(n_components = 10, random_state=42)"
   ]
  },
  {
   "cell_type": "code",
   "execution_count": 33,
   "id": "bc0a71e8",
   "metadata": {},
   "outputs": [
    {
     "ename": "KeyboardInterrupt",
     "evalue": "",
     "output_type": "error",
     "traceback": [
      "\u001b[0;31m---------------------------------------------------------------------------\u001b[0m",
      "\u001b[0;31mKeyboardInterrupt\u001b[0m                         Traceback (most recent call last)",
      "\u001b[0;32m/var/folders/mm/gw92vpys6rggjz_4z42s244w0000gn/T/ipykernel_1375/1741889086.py\u001b[0m in \u001b[0;36m<module>\u001b[0;34m\u001b[0m\n\u001b[0;32m----> 1\u001b[0;31m \u001b[0mW_lda_matrix\u001b[0m \u001b[0;34m=\u001b[0m \u001b[0mlda_model\u001b[0m\u001b[0;34m.\u001b[0m\u001b[0mfit_transform\u001b[0m\u001b[0;34m(\u001b[0m\u001b[0mcount_vectors\u001b[0m\u001b[0;34m)\u001b[0m\u001b[0;34m\u001b[0m\u001b[0;34m\u001b[0m\u001b[0m\n\u001b[0m\u001b[1;32m      2\u001b[0m \u001b[0mH_lda_matrix\u001b[0m \u001b[0;34m=\u001b[0m \u001b[0mlda_model\u001b[0m\u001b[0;34m.\u001b[0m\u001b[0mcomponents_\u001b[0m\u001b[0;34m\u001b[0m\u001b[0;34m\u001b[0m\u001b[0m\n",
      "\u001b[0;32m/opt/anaconda3/lib/python3.9/site-packages/sklearn/base.py\u001b[0m in \u001b[0;36mfit_transform\u001b[0;34m(self, X, y, **fit_params)\u001b[0m\n\u001b[1;32m    697\u001b[0m         \u001b[0;32mif\u001b[0m \u001b[0my\u001b[0m \u001b[0;32mis\u001b[0m \u001b[0;32mNone\u001b[0m\u001b[0;34m:\u001b[0m\u001b[0;34m\u001b[0m\u001b[0;34m\u001b[0m\u001b[0m\n\u001b[1;32m    698\u001b[0m             \u001b[0;31m# fit method of arity 1 (unsupervised transformation)\u001b[0m\u001b[0;34m\u001b[0m\u001b[0;34m\u001b[0m\u001b[0m\n\u001b[0;32m--> 699\u001b[0;31m             \u001b[0;32mreturn\u001b[0m \u001b[0mself\u001b[0m\u001b[0;34m.\u001b[0m\u001b[0mfit\u001b[0m\u001b[0;34m(\u001b[0m\u001b[0mX\u001b[0m\u001b[0;34m,\u001b[0m \u001b[0;34m**\u001b[0m\u001b[0mfit_params\u001b[0m\u001b[0;34m)\u001b[0m\u001b[0;34m.\u001b[0m\u001b[0mtransform\u001b[0m\u001b[0;34m(\u001b[0m\u001b[0mX\u001b[0m\u001b[0;34m)\u001b[0m\u001b[0;34m\u001b[0m\u001b[0;34m\u001b[0m\u001b[0m\n\u001b[0m\u001b[1;32m    700\u001b[0m         \u001b[0;32melse\u001b[0m\u001b[0;34m:\u001b[0m\u001b[0;34m\u001b[0m\u001b[0;34m\u001b[0m\u001b[0m\n\u001b[1;32m    701\u001b[0m             \u001b[0;31m# fit method of arity 2 (supervised transformation)\u001b[0m\u001b[0;34m\u001b[0m\u001b[0;34m\u001b[0m\u001b[0m\n",
      "\u001b[0;32m/opt/anaconda3/lib/python3.9/site-packages/sklearn/decomposition/_lda.py\u001b[0m in \u001b[0;36mfit\u001b[0;34m(self, X, y)\u001b[0m\n\u001b[1;32m    578\u001b[0m                 \u001b[0;32melse\u001b[0m\u001b[0;34m:\u001b[0m\u001b[0;34m\u001b[0m\u001b[0;34m\u001b[0m\u001b[0m\n\u001b[1;32m    579\u001b[0m                     \u001b[0;31m# batch update\u001b[0m\u001b[0;34m\u001b[0m\u001b[0;34m\u001b[0m\u001b[0m\n\u001b[0;32m--> 580\u001b[0;31m                     self._em_step(X, total_samples=n_samples,\n\u001b[0m\u001b[1;32m    581\u001b[0m                                   batch_update=True, parallel=parallel)\n\u001b[1;32m    582\u001b[0m \u001b[0;34m\u001b[0m\u001b[0m\n",
      "\u001b[0;32m/opt/anaconda3/lib/python3.9/site-packages/sklearn/decomposition/_lda.py\u001b[0m in \u001b[0;36m_em_step\u001b[0;34m(self, X, total_samples, batch_update, parallel)\u001b[0m\n\u001b[1;32m    454\u001b[0m \u001b[0;34m\u001b[0m\u001b[0m\n\u001b[1;32m    455\u001b[0m         \u001b[0;31m# E-step\u001b[0m\u001b[0;34m\u001b[0m\u001b[0;34m\u001b[0m\u001b[0m\n\u001b[0;32m--> 456\u001b[0;31m         _, suff_stats = self._e_step(X, cal_sstats=True, random_init=True,\n\u001b[0m\u001b[1;32m    457\u001b[0m                                      parallel=parallel)\n\u001b[1;32m    458\u001b[0m \u001b[0;34m\u001b[0m\u001b[0m\n",
      "\u001b[0;32m/opt/anaconda3/lib/python3.9/site-packages/sklearn/decomposition/_lda.py\u001b[0m in \u001b[0;36m_e_step\u001b[0;34m(self, X, cal_sstats, random_init, parallel)\u001b[0m\n\u001b[1;32m    401\u001b[0m             parallel = Parallel(n_jobs=n_jobs, verbose=max(0,\n\u001b[1;32m    402\u001b[0m                                                            self.verbose - 1))\n\u001b[0;32m--> 403\u001b[0;31m         results = parallel(\n\u001b[0m\u001b[1;32m    404\u001b[0m             delayed(_update_doc_distribution)(X[idx_slice, :],\n\u001b[1;32m    405\u001b[0m                                               \u001b[0mself\u001b[0m\u001b[0;34m.\u001b[0m\u001b[0mexp_dirichlet_component_\u001b[0m\u001b[0;34m,\u001b[0m\u001b[0;34m\u001b[0m\u001b[0;34m\u001b[0m\u001b[0m\n",
      "\u001b[0;32m/opt/anaconda3/lib/python3.9/site-packages/joblib/parallel.py\u001b[0m in \u001b[0;36m__call__\u001b[0;34m(self, iterable)\u001b[0m\n\u001b[1;32m   1041\u001b[0m             \u001b[0;31m# remaining jobs.\u001b[0m\u001b[0;34m\u001b[0m\u001b[0;34m\u001b[0m\u001b[0m\n\u001b[1;32m   1042\u001b[0m             \u001b[0mself\u001b[0m\u001b[0;34m.\u001b[0m\u001b[0m_iterating\u001b[0m \u001b[0;34m=\u001b[0m \u001b[0;32mFalse\u001b[0m\u001b[0;34m\u001b[0m\u001b[0;34m\u001b[0m\u001b[0m\n\u001b[0;32m-> 1043\u001b[0;31m             \u001b[0;32mif\u001b[0m \u001b[0mself\u001b[0m\u001b[0;34m.\u001b[0m\u001b[0mdispatch_one_batch\u001b[0m\u001b[0;34m(\u001b[0m\u001b[0miterator\u001b[0m\u001b[0;34m)\u001b[0m\u001b[0;34m:\u001b[0m\u001b[0;34m\u001b[0m\u001b[0;34m\u001b[0m\u001b[0m\n\u001b[0m\u001b[1;32m   1044\u001b[0m                 \u001b[0mself\u001b[0m\u001b[0;34m.\u001b[0m\u001b[0m_iterating\u001b[0m \u001b[0;34m=\u001b[0m \u001b[0mself\u001b[0m\u001b[0;34m.\u001b[0m\u001b[0m_original_iterator\u001b[0m \u001b[0;32mis\u001b[0m \u001b[0;32mnot\u001b[0m \u001b[0;32mNone\u001b[0m\u001b[0;34m\u001b[0m\u001b[0;34m\u001b[0m\u001b[0m\n\u001b[1;32m   1045\u001b[0m \u001b[0;34m\u001b[0m\u001b[0m\n",
      "\u001b[0;32m/opt/anaconda3/lib/python3.9/site-packages/joblib/parallel.py\u001b[0m in \u001b[0;36mdispatch_one_batch\u001b[0;34m(self, iterator)\u001b[0m\n\u001b[1;32m    859\u001b[0m                 \u001b[0;32mreturn\u001b[0m \u001b[0;32mFalse\u001b[0m\u001b[0;34m\u001b[0m\u001b[0;34m\u001b[0m\u001b[0m\n\u001b[1;32m    860\u001b[0m             \u001b[0;32melse\u001b[0m\u001b[0;34m:\u001b[0m\u001b[0;34m\u001b[0m\u001b[0;34m\u001b[0m\u001b[0m\n\u001b[0;32m--> 861\u001b[0;31m                 \u001b[0mself\u001b[0m\u001b[0;34m.\u001b[0m\u001b[0m_dispatch\u001b[0m\u001b[0;34m(\u001b[0m\u001b[0mtasks\u001b[0m\u001b[0;34m)\u001b[0m\u001b[0;34m\u001b[0m\u001b[0;34m\u001b[0m\u001b[0m\n\u001b[0m\u001b[1;32m    862\u001b[0m                 \u001b[0;32mreturn\u001b[0m \u001b[0;32mTrue\u001b[0m\u001b[0;34m\u001b[0m\u001b[0;34m\u001b[0m\u001b[0m\n\u001b[1;32m    863\u001b[0m \u001b[0;34m\u001b[0m\u001b[0m\n",
      "\u001b[0;32m/opt/anaconda3/lib/python3.9/site-packages/joblib/parallel.py\u001b[0m in \u001b[0;36m_dispatch\u001b[0;34m(self, batch)\u001b[0m\n\u001b[1;32m    777\u001b[0m         \u001b[0;32mwith\u001b[0m \u001b[0mself\u001b[0m\u001b[0;34m.\u001b[0m\u001b[0m_lock\u001b[0m\u001b[0;34m:\u001b[0m\u001b[0;34m\u001b[0m\u001b[0;34m\u001b[0m\u001b[0m\n\u001b[1;32m    778\u001b[0m             \u001b[0mjob_idx\u001b[0m \u001b[0;34m=\u001b[0m \u001b[0mlen\u001b[0m\u001b[0;34m(\u001b[0m\u001b[0mself\u001b[0m\u001b[0;34m.\u001b[0m\u001b[0m_jobs\u001b[0m\u001b[0;34m)\u001b[0m\u001b[0;34m\u001b[0m\u001b[0;34m\u001b[0m\u001b[0m\n\u001b[0;32m--> 779\u001b[0;31m             \u001b[0mjob\u001b[0m \u001b[0;34m=\u001b[0m \u001b[0mself\u001b[0m\u001b[0;34m.\u001b[0m\u001b[0m_backend\u001b[0m\u001b[0;34m.\u001b[0m\u001b[0mapply_async\u001b[0m\u001b[0;34m(\u001b[0m\u001b[0mbatch\u001b[0m\u001b[0;34m,\u001b[0m \u001b[0mcallback\u001b[0m\u001b[0;34m=\u001b[0m\u001b[0mcb\u001b[0m\u001b[0;34m)\u001b[0m\u001b[0;34m\u001b[0m\u001b[0;34m\u001b[0m\u001b[0m\n\u001b[0m\u001b[1;32m    780\u001b[0m             \u001b[0;31m# A job can complete so quickly than its callback is\u001b[0m\u001b[0;34m\u001b[0m\u001b[0;34m\u001b[0m\u001b[0m\n\u001b[1;32m    781\u001b[0m             \u001b[0;31m# called before we get here, causing self._jobs to\u001b[0m\u001b[0;34m\u001b[0m\u001b[0;34m\u001b[0m\u001b[0m\n",
      "\u001b[0;32m/opt/anaconda3/lib/python3.9/site-packages/joblib/_parallel_backends.py\u001b[0m in \u001b[0;36mapply_async\u001b[0;34m(self, func, callback)\u001b[0m\n\u001b[1;32m    206\u001b[0m     \u001b[0;32mdef\u001b[0m \u001b[0mapply_async\u001b[0m\u001b[0;34m(\u001b[0m\u001b[0mself\u001b[0m\u001b[0;34m,\u001b[0m \u001b[0mfunc\u001b[0m\u001b[0;34m,\u001b[0m \u001b[0mcallback\u001b[0m\u001b[0;34m=\u001b[0m\u001b[0;32mNone\u001b[0m\u001b[0;34m)\u001b[0m\u001b[0;34m:\u001b[0m\u001b[0;34m\u001b[0m\u001b[0;34m\u001b[0m\u001b[0m\n\u001b[1;32m    207\u001b[0m         \u001b[0;34m\"\"\"Schedule a func to be run\"\"\"\u001b[0m\u001b[0;34m\u001b[0m\u001b[0;34m\u001b[0m\u001b[0m\n\u001b[0;32m--> 208\u001b[0;31m         \u001b[0mresult\u001b[0m \u001b[0;34m=\u001b[0m \u001b[0mImmediateResult\u001b[0m\u001b[0;34m(\u001b[0m\u001b[0mfunc\u001b[0m\u001b[0;34m)\u001b[0m\u001b[0;34m\u001b[0m\u001b[0;34m\u001b[0m\u001b[0m\n\u001b[0m\u001b[1;32m    209\u001b[0m         \u001b[0;32mif\u001b[0m \u001b[0mcallback\u001b[0m\u001b[0;34m:\u001b[0m\u001b[0;34m\u001b[0m\u001b[0;34m\u001b[0m\u001b[0m\n\u001b[1;32m    210\u001b[0m             \u001b[0mcallback\u001b[0m\u001b[0;34m(\u001b[0m\u001b[0mresult\u001b[0m\u001b[0;34m)\u001b[0m\u001b[0;34m\u001b[0m\u001b[0;34m\u001b[0m\u001b[0m\n",
      "\u001b[0;32m/opt/anaconda3/lib/python3.9/site-packages/joblib/_parallel_backends.py\u001b[0m in \u001b[0;36m__init__\u001b[0;34m(self, batch)\u001b[0m\n\u001b[1;32m    570\u001b[0m         \u001b[0;31m# Don't delay the application, to avoid keeping the input\u001b[0m\u001b[0;34m\u001b[0m\u001b[0;34m\u001b[0m\u001b[0m\n\u001b[1;32m    571\u001b[0m         \u001b[0;31m# arguments in memory\u001b[0m\u001b[0;34m\u001b[0m\u001b[0;34m\u001b[0m\u001b[0m\n\u001b[0;32m--> 572\u001b[0;31m         \u001b[0mself\u001b[0m\u001b[0;34m.\u001b[0m\u001b[0mresults\u001b[0m \u001b[0;34m=\u001b[0m \u001b[0mbatch\u001b[0m\u001b[0;34m(\u001b[0m\u001b[0;34m)\u001b[0m\u001b[0;34m\u001b[0m\u001b[0;34m\u001b[0m\u001b[0m\n\u001b[0m\u001b[1;32m    573\u001b[0m \u001b[0;34m\u001b[0m\u001b[0m\n\u001b[1;32m    574\u001b[0m     \u001b[0;32mdef\u001b[0m \u001b[0mget\u001b[0m\u001b[0;34m(\u001b[0m\u001b[0mself\u001b[0m\u001b[0;34m)\u001b[0m\u001b[0;34m:\u001b[0m\u001b[0;34m\u001b[0m\u001b[0;34m\u001b[0m\u001b[0m\n",
      "\u001b[0;32m/opt/anaconda3/lib/python3.9/site-packages/joblib/parallel.py\u001b[0m in \u001b[0;36m__call__\u001b[0;34m(self)\u001b[0m\n\u001b[1;32m    260\u001b[0m         \u001b[0;31m# change the default number of processes to -1\u001b[0m\u001b[0;34m\u001b[0m\u001b[0;34m\u001b[0m\u001b[0m\n\u001b[1;32m    261\u001b[0m         \u001b[0;32mwith\u001b[0m \u001b[0mparallel_backend\u001b[0m\u001b[0;34m(\u001b[0m\u001b[0mself\u001b[0m\u001b[0;34m.\u001b[0m\u001b[0m_backend\u001b[0m\u001b[0;34m,\u001b[0m \u001b[0mn_jobs\u001b[0m\u001b[0;34m=\u001b[0m\u001b[0mself\u001b[0m\u001b[0;34m.\u001b[0m\u001b[0m_n_jobs\u001b[0m\u001b[0;34m)\u001b[0m\u001b[0;34m:\u001b[0m\u001b[0;34m\u001b[0m\u001b[0;34m\u001b[0m\u001b[0m\n\u001b[0;32m--> 262\u001b[0;31m             return [func(*args, **kwargs)\n\u001b[0m\u001b[1;32m    263\u001b[0m                     for func, args, kwargs in self.items]\n\u001b[1;32m    264\u001b[0m \u001b[0;34m\u001b[0m\u001b[0m\n",
      "\u001b[0;32m/opt/anaconda3/lib/python3.9/site-packages/joblib/parallel.py\u001b[0m in \u001b[0;36m<listcomp>\u001b[0;34m(.0)\u001b[0m\n\u001b[1;32m    260\u001b[0m         \u001b[0;31m# change the default number of processes to -1\u001b[0m\u001b[0;34m\u001b[0m\u001b[0;34m\u001b[0m\u001b[0m\n\u001b[1;32m    261\u001b[0m         \u001b[0;32mwith\u001b[0m \u001b[0mparallel_backend\u001b[0m\u001b[0;34m(\u001b[0m\u001b[0mself\u001b[0m\u001b[0;34m.\u001b[0m\u001b[0m_backend\u001b[0m\u001b[0;34m,\u001b[0m \u001b[0mn_jobs\u001b[0m\u001b[0;34m=\u001b[0m\u001b[0mself\u001b[0m\u001b[0;34m.\u001b[0m\u001b[0m_n_jobs\u001b[0m\u001b[0;34m)\u001b[0m\u001b[0;34m:\u001b[0m\u001b[0;34m\u001b[0m\u001b[0;34m\u001b[0m\u001b[0m\n\u001b[0;32m--> 262\u001b[0;31m             return [func(*args, **kwargs)\n\u001b[0m\u001b[1;32m    263\u001b[0m                     for func, args, kwargs in self.items]\n\u001b[1;32m    264\u001b[0m \u001b[0;34m\u001b[0m\u001b[0m\n",
      "\u001b[0;32m/opt/anaconda3/lib/python3.9/site-packages/sklearn/utils/fixes.py\u001b[0m in \u001b[0;36m__call__\u001b[0;34m(self, *args, **kwargs)\u001b[0m\n\u001b[1;32m    220\u001b[0m     \u001b[0;32mdef\u001b[0m \u001b[0m__call__\u001b[0m\u001b[0;34m(\u001b[0m\u001b[0mself\u001b[0m\u001b[0;34m,\u001b[0m \u001b[0;34m*\u001b[0m\u001b[0margs\u001b[0m\u001b[0;34m,\u001b[0m \u001b[0;34m**\u001b[0m\u001b[0mkwargs\u001b[0m\u001b[0;34m)\u001b[0m\u001b[0;34m:\u001b[0m\u001b[0;34m\u001b[0m\u001b[0;34m\u001b[0m\u001b[0m\n\u001b[1;32m    221\u001b[0m         \u001b[0;32mwith\u001b[0m \u001b[0mconfig_context\u001b[0m\u001b[0;34m(\u001b[0m\u001b[0;34m**\u001b[0m\u001b[0mself\u001b[0m\u001b[0;34m.\u001b[0m\u001b[0mconfig\u001b[0m\u001b[0;34m)\u001b[0m\u001b[0;34m:\u001b[0m\u001b[0;34m\u001b[0m\u001b[0;34m\u001b[0m\u001b[0m\n\u001b[0;32m--> 222\u001b[0;31m             \u001b[0;32mreturn\u001b[0m \u001b[0mself\u001b[0m\u001b[0;34m.\u001b[0m\u001b[0mfunction\u001b[0m\u001b[0;34m(\u001b[0m\u001b[0;34m*\u001b[0m\u001b[0margs\u001b[0m\u001b[0;34m,\u001b[0m \u001b[0;34m**\u001b[0m\u001b[0mkwargs\u001b[0m\u001b[0;34m)\u001b[0m\u001b[0;34m\u001b[0m\u001b[0;34m\u001b[0m\u001b[0m\n\u001b[0m",
      "\u001b[0;32m/opt/anaconda3/lib/python3.9/site-packages/sklearn/decomposition/_lda.py\u001b[0m in \u001b[0;36m_update_doc_distribution\u001b[0;34m(X, exp_topic_word_distr, doc_topic_prior, max_iters, mean_change_tol, cal_sstats, random_state)\u001b[0m\n\u001b[1;32m    112\u001b[0m             \u001b[0;31m# The optimal phi_{dwk} is proportional to\u001b[0m\u001b[0;34m\u001b[0m\u001b[0;34m\u001b[0m\u001b[0m\n\u001b[1;32m    113\u001b[0m             \u001b[0;31m# exp(E[log(theta_{dk})]) * exp(E[log(beta_{dw})]).\u001b[0m\u001b[0;34m\u001b[0m\u001b[0;34m\u001b[0m\u001b[0m\n\u001b[0;32m--> 114\u001b[0;31m             \u001b[0mnorm_phi\u001b[0m \u001b[0;34m=\u001b[0m \u001b[0mnp\u001b[0m\u001b[0;34m.\u001b[0m\u001b[0mdot\u001b[0m\u001b[0;34m(\u001b[0m\u001b[0mexp_doc_topic_d\u001b[0m\u001b[0;34m,\u001b[0m \u001b[0mexp_topic_word_d\u001b[0m\u001b[0;34m)\u001b[0m \u001b[0;34m+\u001b[0m \u001b[0mEPS\u001b[0m\u001b[0;34m\u001b[0m\u001b[0;34m\u001b[0m\u001b[0m\n\u001b[0m\u001b[1;32m    115\u001b[0m \u001b[0;34m\u001b[0m\u001b[0m\n\u001b[1;32m    116\u001b[0m             doc_topic_d = (exp_doc_topic_d *\n",
      "\u001b[0;31mKeyboardInterrupt\u001b[0m: "
     ]
    }
   ],
   "source": [
    "W_lda_matrix = lda_model.fit_transform(count_vectors) \n",
    "H_lda_matrix = lda_model.components_"
   ]
  },
  {
   "cell_type": "code",
   "execution_count": 34,
   "id": "0ad43216",
   "metadata": {},
   "outputs": [
    {
     "name": "stdout",
     "output_type": "stream",
     "text": [
      "\n",
      "Topic 00\n",
      " trump (1.68)\n",
      " said (0.69)\n",
      " president (0.67)\n",
      " people (0.51)\n",
      " obama (0.48)\n",
      "\n",
      "Topic 01\n",
      " trump (0.76)\n",
      " said (0.55)\n",
      " people (0.46)\n",
      " like (0.37)\n",
      " obama (0.35)\n",
      "\n",
      "Topic 02\n",
      " trump (1.48)\n",
      " clinton (1.15)\n",
      " hillary (0.79)\n",
      " people (0.66)\n",
      " said (0.46)\n",
      "\n",
      "Topic 03\n",
      " said (0.50)\n",
      " people (0.40)\n",
      " trump (0.39)\n",
      " obama (0.39)\n",
      " state (0.33)\n",
      "\n",
      "Topic 04\n",
      " said (0.75)\n",
      " people (0.66)\n",
      " trump (0.46)\n",
      " clinton (0.38)\n",
      " like (0.35)\n",
      "\n",
      "Topic 05\n",
      " trump (1.53)\n",
      " clinton (0.60)\n",
      " people (0.52)\n",
      " president (0.51)\n",
      " hillary (0.38)\n",
      "\n",
      "Topic 06\n",
      " trump (1.40)\n",
      " president (0.47)\n",
      " people (0.46)\n",
      " donald (0.41)\n",
      " said (0.38)\n",
      "\n",
      "Topic 07\n",
      " said (0.58)\n",
      " clinton (0.54)\n",
      " trump (0.45)\n",
      " people (0.35)\n",
      " police (0.32)\n",
      "\n",
      "Topic 08\n",
      " trump (2.59)\n",
      " president (0.69)\n",
      " people (0.51)\n",
      " obama (0.47)\n",
      " said (0.41)\n",
      "\n",
      "Topic 09\n",
      " trump (0.74)\n",
      " clinton (0.61)\n",
      " said (0.53)\n",
      " new (0.38)\n",
      " people (0.37)\n"
     ]
    }
   ],
   "source": [
    "display_topics(lda_model, count_vectorizer.get_feature_names())"
   ]
  },
  {
   "cell_type": "markdown",
   "id": "692de00b",
   "metadata": {},
   "source": [
    "<b> Visualizing LDA results"
   ]
  },
  {
   "cell_type": "code",
   "execution_count": 36,
   "id": "6ca7d262",
   "metadata": {},
   "outputs": [],
   "source": [
    "import pyLDAvis.sklearn"
   ]
  },
  {
   "cell_type": "code",
   "execution_count": 37,
   "id": "6d46b21a",
   "metadata": {},
   "outputs": [
    {
     "name": "stderr",
     "output_type": "stream",
     "text": [
      "/opt/anaconda3/lib/python3.9/site-packages/pyLDAvis/_prepare.py:246: FutureWarning: In a future version of pandas all arguments of DataFrame.drop except for the argument 'labels' will be keyword-only\n",
      "  default_term_info = default_term_info.sort_values(\n",
      "/opt/anaconda3/lib/python3.9/site-packages/past/builtins/misc.py:45: DeprecationWarning: the imp module is deprecated in favour of importlib; see the module's documentation for alternative uses\n",
      "  from imp import reload\n",
      "/opt/anaconda3/lib/python3.9/site-packages/past/builtins/misc.py:45: DeprecationWarning: the imp module is deprecated in favour of importlib; see the module's documentation for alternative uses\n",
      "  from imp import reload\n",
      "/opt/anaconda3/lib/python3.9/site-packages/past/builtins/misc.py:45: DeprecationWarning: the imp module is deprecated in favour of importlib; see the module's documentation for alternative uses\n",
      "  from imp import reload\n",
      "/opt/anaconda3/lib/python3.9/site-packages/past/builtins/misc.py:45: DeprecationWarning: the imp module is deprecated in favour of importlib; see the module's documentation for alternative uses\n",
      "  from imp import reload\n"
     ]
    }
   ],
   "source": [
    "lda_display = pyLDAvis.sklearn.prepare(lda_model, count_vectors, \n",
    "                                       count_vectorizer, sort_topics=False)"
   ]
  },
  {
   "cell_type": "code",
   "execution_count": 38,
   "id": "28bd14c5",
   "metadata": {},
   "outputs": [
    {
     "data": {
      "text/html": [
       "\n",
       "<link rel=\"stylesheet\" type=\"text/css\" href=\"https://cdn.jsdelivr.net/gh/bmabey/pyLDAvis@3.3.1/pyLDAvis/js/ldavis.v1.0.0.css\">\n",
       "\n",
       "\n",
       "<div id=\"ldavis_el1375140247188523152559047532\"></div>\n",
       "<script type=\"text/javascript\">\n",
       "\n",
       "var ldavis_el1375140247188523152559047532_data = {\"mdsDat\": {\"x\": [-0.009597719057907543, 0.001907476903268835, -0.00761516843825292, 0.014257179854188761, 0.012904776151721756, -0.008400712553041433, -0.0008524500575885728, 0.015643344650924547, -0.019955493210533908, 0.0017087657572204826], \"y\": [-0.0038527982930347906, -0.005979455063705333, -0.002977802037185235, 0.00862900489567706, 0.01684643288799552, 0.004092784764436267, 0.002539825222718413, -0.013626647152340028, 0.005966918449824942, -0.011638263674386806], \"topics\": [1, 2, 3, 4, 5, 6, 7, 8, 9, 10], \"cluster\": [1, 1, 1, 1, 1, 1, 1, 1, 1, 1], \"Freq\": [9.477447422616725, 8.523555335524255, 13.856039394753846, 10.277225190413688, 8.822100126582804, 8.03287684750992, 5.630210268556096, 14.082257296273069, 13.956114244265763, 7.3421738735038335]}, \"tinfo\": {\"Term\": [\"trump\", \"clinton\", \"president\", \"donald\", \"de\", \"said\", \"russia\", \"white\", \"people\", \"hillary\", \"video\", \"russian\", \"america\", \"military\", \"like\", \"house\", \"syria\", \"world\", \"new\", \"la\", \"election\", \"campaign\", \"time\", \"students\", \"cruz\", \"twitter\", \"email\", \"obama\", \"years\", \"going\", \"rtdoc\", \"shoina\", \"enamel\", \"gubler\", \"rt_doc\", \"rtd\", \"dailymotion\", \"leron\", \"jasta\", \"peron\", \"1mgfbvy\", \"denuclearization\", \"rtdocumentary\", \"tbilisi\", \"rt_documentary\", \"ingi\", \"greggutfeld\", \"georgian\", \"borkan\", \"sigonella\", \"geonet\", \"laduke\", \"inductees\", \"2c\", \"fillon\", \"slits\", \"tonne\", \"squishy\", \"lacymacauley\", \"sigurdur\", \"mercado\", \"seanhannity\", \"otis\", \"orrick\", \"mcfaul\", \"weston\", \"russia\", \"missile\", \"saudi\", \"korea\", \"hannity\", \"trump\", \"president\", \"nuclear\", \"north\", \"pyongyang\", \"putin\", \"said\", \"obama\", \"party\", \"donald\", \"qaeda\", \"flynn\", \"military\", \"election\", \"russian\", \"weapons\", \"says\", \"people\", \"al\", \"states\", \"presidential\", \"united\", \"mr\", \"image\", \"un\", \"like\", \"war\", \"gop\", \"house\", \"according\", \"year\", \"american\", \"world\", \"right\", \"time\", \"new\", \"country\", \"years\", \"government\", \"state\", \"hillary\", \"clinton\", \"way\", \"video\", \"don\", \"media\", \"webzine\", \"busta\", \"inclines\", \"anthologies\", \"elie\", \"456\", \"130500\", \"clairecmc\", \"goodell\", \"itemprop\", \"borg\", \"kaltura\", \"tussled\", \"southside\", \"p3pnexwpnas07_data02\", \"entry_id\", \"cookman\", \"1305\", \"middlebury\", \"streamcast\", \"jacksonleetx18\", \"mcclatchydc\", \"zhirinovsky\", \"3222705\", \"wale\", \"vdare\", \"permanence\", \"hairstylist\", \"git\", \"oroville\", \"array_key_exists\", \"quicken\", \"202\", \"linux\", \"quarterly\", \"acr\", \"cinnamon\", \"russian\", \"182\", \"boiler\", \"cia\", \"machines\", \"nra\", \"vitamin\", \"black\", \"join\", \"election\", \"meeting\", \"christ\", \"world\", \"said\", \"banks\", \"like\", \"federal\", \"white\", \"russia\", \"administration\", \"national\", \"know\", \"right\", \"obama\", \"house\", \"people\", \"time\", \"security\", \"states\", \"media\", \"new\", \"work\", \"trump\", \"things\", \"told\", \"political\", \"united\", \"state\", \"video\", \"law\", \"american\", \"news\", \"president\", \"donald\", \"hillary\", \"government\", \"clinton\", \"don\", \"rubycramer\", \"piscopo\", \"daly9kbwtj\", \"dimassimo\", \"evers\", \"inglewood\", \"piersmorgan\", \"fknieuozhh\", \"b1fjkmifx2\", \"behinds\", \"bests\", \"peacenik\", \"demexit\", \"jovi\", \"seagal\", \"abstains\", \"cfius\", \"magnifier661\", \"voldemort\", \"dennard\", \"boor\", \"martelly\", \"hypnotist\", \"hagmann\", \"telfer\", \"sansaricq\", \"pancakes\", \"schieffer\", \"ighcfm7qho\", \"hodgesnov5\", \"whitehaven\", \"baldasaro\", \"desai\", \"quot\", \"nics\", \"maxine\", \"clinton\", \"kadzik\", \"lacapria\", \"haitian\", \"hillary\", \"haiti\", \"goat\", \"foundation\", \"bon\", \"gun\", \"voters\", \"amp\", \"polls\", \"trump\", \"candidate\", \"doj\", \"clintons\", \"people\", \"vote\", \"campaign\", \"fbi\", \"2016\", \"podesta\", \"investigation\", \"government\", \"like\", \"american\", \"department\", \"state\", \"black\", \"percent\", \"america\", \"united\", \"don\", \"watch\", \"presidential\", \"country\", \"donald\", \"states\", \"said\", \"video\", \"new\", \"election\", \"obama\", \"president\", \"news\", \"know\", \"com\", \"time\", \"media\", \"wpengine\", \"fedup\", \"brigadier\", \"duyne\", \"galacticconnection\", \"paix\", \"irp\", \"forour\", \"fryer\", \"superluminal\", \"dold\", \"alloy\", \"meadors\", \"onu\", \"briarwood\", \"bayh\", \"duplication\", \"folic\", \"wxia\", \"lula\", \"kunduz\", \"silica\", \"hyperpower\", \"yenta\", \"freedomworks\", \"oathkeepers\", \"b61\", \"coffman\", \"hellstorm\", \"essences\", \"handel\", \"electr\", \"shkreli\", \"galactic\", \"bentley\", \"irving\", \"eurozone\", \"retired\", \"rear\", \"eva\", \"de\", \"hodgkinson\", \"por\", \"admiral\", \"le\", \"la\", \"que\", \"texas\", \"alabama\", \"cubs\", \"navy\", \"years\", \"house\", \"law\", \"et\", \"going\", \"world\", \"government\", \"general\", \"obama\", \"state\", \"republicans\", \"system\", \"said\", \"facebook\", \"china\", \"time\", \"women\", \"police\", \"000\", \"gold\", \"2016\", \"year\", \"way\", \"white\", \"people\", \"new\", \"republican\", \"country\", \"american\", \"president\", \"states\", \"media\", \"know\", \"news\", \"clinton\", \"trump\", \"america\", \"hillary\", \"like\", \"tata\", \"repjohnlewis\", \"metros\", \"hallucination\", \"uma\", \"avons\", \"ao\", \"kil\", \"emt\", \"juliana\", \"intersectional\", \"estime\", \"registrado\", \"pencils\", \"actualizaci\", \"swansea\", \"pela\", \"het\", \"blockquote\", \"negan\", \"formating\", \"avis\", \"imandrewmarcus\", \"ncia\", \"ryder\", \"seus\", \"conductor\", \"saey\", \"frica\", \"peut\", \"dat\", \"igorvolsky\", \"bohlender\", \"italic\", \"formatting\", \"heavier\", \"je\", \"denisovan\", \"hastert\", \"os\", \"les\", \"dans\", \"text\", \"de\", \"neanderthals\", \"une\", \"em\", \"en\", \"paragraphs\", \"du\", \"said\", \"que\", \"brock\", \"people\", \"human\", \"des\", \"infowars\", \"la\", \"2017\", \"world\", \"se\", \"el\", \"com\", \"ve\", \"percent\", \"like\", \"new\", \"march\", \"water\", \"black\", \"obama\", \"year\", \"don\", \"think\", \"emails\", \"twitter\", \"clinton\", \"want\", \"way\", \"man\", \"2016\", \"time\", \"going\", \"news\", \"hillary\", \"know\", \"state\", \"trump\", \"american\", \"president\", \"country\", \"years\", \"campaign\", \"right\", \"nspcc\", \"scotusblog\", \"shakespearean\", \"varneyco\", \"longhorns\", \"worshipper\", \"moveable\", \"crystalline\", \"basedvet\", \"doris\", \"american_bridge\", \"385\", \"dakotans\", \"mets\", \"overshoots\", \"archivessupport\", \"partway\", \"chiu\", \"tvstrap\", \"stiffy\", \"ghouls\", \"cf042xzleu\", \"talcum\", \"irons\", \"12am\", \"webmaster\", \"ims\", \"broadstreet\", \"regaled\", \"charles_gaba\", \"vilsack\", \"avaaz\", \"tzrwu\", \"utm_campaign\", \"12pm\", \"supercharge\", \"infowarsstore\", \"beck\", \"utm_source\", \"wellness\", \"utm_content\", \"utm_medium\", \"infowars\", \"iodine\", \"cruz\", \"scalia\", \"kaine\", \"hannity\", \"spicer\", \"trump\", \"parenthood\", \"america\", \"ted\", \"moore\", \"vote\", \"gorsuch\", \"donald\", \"clinton\", \"president\", \"video\", \"brain\", \"russia\", \"people\", \"news\", \"states\", \"twitter\", \"like\", \"campaign\", \"time\", \"hillary\", \"right\", \"says\", \"new\", \"election\", \"going\", \"com\", \"2016\", \"want\", \"women\", \"country\", \"media\", \"united\", \"world\", \"american\", \"year\", \"said\", \"obama\", \"know\", \"state\", \"supermoon\", \"unaired\", \"ufc\", \"wellman\", \"2034\", \"mccrummen\", \"sayyaf\", \"smu\", \"laurent\", \"kingship\", \"unwed\", \"dobias\", \"yearbooks\", \"codesod\", \"sather\", \"binghamton\", \"brennanagain\", \"robb\", \"sumaria\", \"goldenglobes\", \"gwenyth\", \"ruso\", \"jewmerica\", \"bartella\", \"cancun\", \"carbines\", \"dominguez\", \"crispin\", \"ebony\", \"icznaemt9c\", \"elgamal\", \"snipes\", \"00pm\", \"quadruples\", \"streep\", \"sekulow\", \"sumerian\", \"meryl\", \"students\", \"arpaio\", \"realdonaldtrump\", \"mosul\", \"military\", \"student\", \"el\", \"white\", \"campus\", \"trump\", \"donald\", \"hollywood\", \"college\", \"moon\", \"president\", \"deal\", \"years\", \"en\", \"university\", \"video\", \"told\", \"case\", \"school\", \"fbi\", \"isis\", \"people\", \"america\", \"law\", \"time\", \"january\", \"new\", \"republican\", \"american\", \"think\", \"like\", \"hillary\", \"said\", \"world\", \"twitter\", \"public\", \"way\", \"going\", \"year\", \"women\", \"don\", \"media\", \"clinton\", \"state\", \"news\", \"government\", \"snuggy\", \"clusterfuck\", \"pinhead\", \"newsbud\", \"borgo\", \"abolishes\", \"confections\", \"bentzen\", \"beelined\", \"asheboro\", \"witherspoon\", \"bluebird\", \"viennese\", \"anally\", \"aoun\", \"isaacs\", \"monthlong\", \"clapperhere\", \"pantaleo\", \"minivan\", \"decriminalization\", \"sheppard\", \"damocles\", \"dzhokhar\", \"sant\", \"parses\", \"beelines\", \"kafir\", \"fidelis\", \"superfund\", \"mumford\", \"deli\", \"hariri\", \"costco\", \"bnl\", \"reilly\", \"syria\", \"syrian\", \"houdini\", \"assad\", \"muslim\", \"police\", \"helmets\", \"bundy\", \"calais\", \"mosby\", \"court\", \"dolly\", \"biden\", \"war\", \"emails\", \"turkey\", \"aleppo\", \"text\", \"children\", \"al\", \"refugees\", \"email\", \"german\", \"said\", \"abedin\", \"clinton\", \"year\", \"years\", \"drug\", \"according\", \"officer\", \"law\", \"policy\", \"found\", \"news\", \"government\", \"case\", \"know\", \"state\", \"states\", \"new\", \"media\", \"000\", \"time\", \"like\", \"people\", \"obama\", \"hillary\", \"fbi\", \"united\", \"trump\", \"video\", \"president\", \"right\", \"political\", \"world\", \"staaten\", \"vereinigten\", \"lkerung\", \"heute\", \"hrend\", \"sondern\", \"werde\", \"obwohl\", \"hrung\", \"unabh\", \"eitc\", \"anderen\", \"grabyourwallet\", \"milit\", \"frage\", \"russlands\", \"geht\", \"pgp\", \"prozent\", \"kuts\", \"ehemaligen\", \"unterst\", \"ihrem\", \"amerikanischen\", \"campground\", \"viele\", \"wo\", \"hardwick\", \"ihre\", \"sagt\", \"und\", \"puzder\", \"eine\", \"der\", \"haben\", \"zu\", \"zur\", \"sie\", \"russland\", \"nicht\", \"vor\", \"diese\", \"ist\", \"og\", \"auf\", \"trump\", \"sich\", \"ber\", \"den\", \"ein\", \"das\", \"sind\", \"die\", \"president\", \"act\", \"campaign\", \"donald\", \"obama\", \"getty\", \"obamacare\", \"republican\", \"democrats\", \"presidency\", \"women\", \"republicans\", \"barack\", \"white\", \"look\", \"media\", \"people\", \"supporters\", \"news\", \"great\", \"national\", \"hillary\", \"american\", \"image\", \"time\", \"don\", \"state\", \"political\", \"year\", \"said\", \"election\", \"like\", \"war\", \"new\", \"know\", \"america\", \"going\", \"way\", \"clinton\", \"government\", \"video\", \"barenakedislam\", \"excuser\", \"nci\", \"fotodom\", \"claytravis\", \"scaleable\", \"leeb\", \"rufus\", \"godlikeproductions\", \"006s\", \"godlike\", \"woolley\", \"chakra\", \"centralize\", \"haris\", \"salhernandez\", \"notifications\", \"bonifield\", \"cushing\", \"rockprincess818\", \"skagit\", \"rockprincess\", \"hoskins\", \"holter\", \"microchips\", \"kidnaps\", \"wisc\", \"glp\", \"maury\", \"yanez\", \"macfadyen\", \"travis\", \"hannan\", \"magnesium\", \"sjp\", \"mccrory\", \"tucker\", \"guccifer\", \"notify\", \"conyers\", \"cnn\", \"cruz\", \"perez\", \"usps\", \"email\", \"left\", \"carson\", \"clinton\", \"house\", \"watch\", \"school\", \"new\", \"investigation\", \"said\", \"ted\", \"video\", \"information\", \"election\", \"state\", \"like\", \"sex\", \"post\", \"news\", \"media\", \"time\", \"trump\", \"wall\", \"president\", \"russia\", \"group\", \"donald\", \"twitter\", \"white\", \"campaign\", \"people\", \"fbi\", \"way\", \"obama\", \"hillary\", \"going\", \"police\", \"right\", \"know\"], \"Freq\": [116926.0, 47638.0, 39839.0, 24864.0, 7154.0, 50402.0, 14793.0, 20069.0, 48344.0, 35231.0, 19832.0, 9868.0, 18615.0, 9117.0, 31493.0, 16530.0, 8925.0, 19785.0, 29450.0, 3958.0, 20970.0, 19926.0, 26236.0, 4041.0, 3890.0, 14307.0, 8353.0, 32427.0, 18020.0, 16660.0, 5.964679315102103, 10.810879402567222, 15.727180658761453, 9.908423613540128, 10.894563483388017, 49.01246415511994, 11.368383340067924, 5.115639657419609, 28.007832891086668, 8.317359003449146, 5.52604116099326, 15.331880246926032, 5.4783159054312085, 16.384282603290284, 5.471733992760662, 4.232415509575289, 10.070220401078346, 62.63279736159797, 4.068742597369727, 5.19316721992759, 3.455444414549747, 6.842594572255159, 3.0725330243002484, 32.62552834855745, 9.455706301089592, 4.161487540255995, 4.738892824863829, 5.445935128814858, 7.917832136629759, 3.3995473577261266, 10.771256962142836, 113.96288217872815, 28.90130067142083, 17.172033761092607, 21.245103683147992, 15.039003910992843, 3597.1139110353615, 374.1567439724568, 910.2052872434757, 532.8652841983878, 382.2211460111664, 15622.372173534364, 6200.580130404928, 1100.7411510374639, 1161.5793688576084, 59.164194911848845, 987.0087756578273, 6412.271266106474, 4441.045665602901, 2033.2488099159436, 3163.374536978606, 327.7351108474142, 364.42306758010017, 1418.4518708304195, 2690.452631257251, 1456.9923776595126, 689.494136977967, 1581.5067410044235, 4743.3168840250355, 995.6076298317215, 2313.5054717411285, 1455.1905842373446, 1874.2377419742277, 1018.905630528487, 1538.0974050490609, 668.6720507866414, 3045.97295868871, 1914.6952849100583, 960.4395980595867, 1872.6216111863491, 1596.7852393615146, 1918.6806630478304, 2094.624648389439, 1997.5784072396157, 1893.26319952075, 2340.1209688470317, 2501.56442144759, 1766.0503436457016, 1804.252602417498, 1875.0239625465217, 2010.4180597146762, 2147.986344657257, 2325.735815477936, 1673.2196246669303, 1687.924850012175, 1620.7037118306716, 1628.261185421823, 7.271419823424263, 4.063855375142356, 7.346005652014918, 6.736221137647121, 6.685416115151113, 26.695395752672876, 5.922993628026841, 5.4222902966261035, 35.831693568812426, 31.05298740925653, 9.64661908719336, 20.042439526606856, 2.921470280595446, 14.123618527787691, 16.80331836236696, 5.160321163487722, 7.773758977389928, 5.088539103492309, 9.123481224202347, 17.86247801694643, 2.8895467986112084, 2.587340448894076, 9.2678498837085, 16.31376459080109, 2.650170231853347, 60.665185297241656, 6.8881818598462035, 2.5779819374865482, 4.383502980745328, 9.798417742649212, 15.63970490744025, 13.73962785286062, 34.85694913554799, 7.478624069884642, 47.128246543839055, 235.62752203413342, 31.129104482941372, 2255.2941472388547, 20.542427815757403, 275.6886687460789, 655.4952053976311, 231.73990793870223, 198.93723049389956, 145.37863379740952, 1828.2235163135545, 412.37723135474107, 2516.8118203170798, 691.7870847575928, 181.70634635029683, 2253.0074531672076, 4558.833183299377, 333.9347357769261, 3081.378676335424, 1216.4011603009824, 2146.000474335998, 1701.2479575845089, 1148.927895571007, 1515.19350426838, 2011.0655732288933, 1932.2716226234973, 2960.815410112224, 1791.8564706072711, 3822.8344273323887, 2428.2577197737296, 1196.2502876688627, 1900.713034150412, 2066.109491482808, 2561.668581031504, 1200.9818103622506, 6385.251335949822, 1043.924657751763, 1430.1262490391027, 1520.9030747472923, 1474.873448845358, 2165.616105328022, 1784.9794753515416, 1366.878392661168, 1785.1296331529163, 1888.9985893633104, 2483.500620752253, 1907.2921872325562, 2107.26206567284, 1662.20848763247, 2140.256185403812, 1551.521646013882, 13.909114675320028, 12.444378022887594, 4.702814410553364, 31.073075461595575, 9.205310519716374, 17.79378928492099, 14.801101686286945, 4.4586853362490935, 4.354896623600925, 10.701102428404715, 5.64943669659495, 5.469697825679015, 5.290225613692857, 23.004402116467194, 33.84552147345217, 10.702092611315337, 6.3379407976120286, 4.108919444975086, 12.201278320069795, 20.6011264536383, 5.075607339372441, 6.600825252588742, 8.212857721429085, 22.08003426877617, 5.760260058097412, 16.879956495952577, 7.298863846333742, 6.775629287036174, 4.853227751435253, 4.445483898843269, 9.091542089470945, 10.447537074194189, 19.7358106223454, 446.85072007987173, 16.304675459295833, 206.7215618446427, 15652.949047453152, 188.0183599017712, 24.692677895627234, 85.08207099500798, 10685.420464190005, 271.0942318142824, 70.53834738972142, 1715.1901414443312, 22.994856143503785, 1778.197752761019, 1991.286945112987, 212.56479744327066, 810.7131220589695, 20147.2045958607, 2003.15453440882, 479.77673351468087, 640.2534942038296, 8925.214339689363, 2506.7001936118945, 4121.660855417352, 2809.2319125510176, 3459.812434957541, 810.7083039842248, 1815.5857998915794, 3851.1344925722888, 5349.547190099643, 3871.613809533092, 2021.7320821562957, 4608.0429976089545, 2563.5524653473562, 1807.0916290517566, 3335.061760127101, 2742.5227860113605, 3190.593992860791, 2051.88447553777, 2050.9105977107624, 2856.0516621133497, 3835.7723756203127, 3135.3218667909127, 6266.488466041812, 3210.0622421102353, 3965.2148389645718, 3023.9961392030154, 3657.0710594459692, 3570.426296723618, 2815.720709613105, 2552.2815483964123, 2276.737231817196, 2714.907209973478, 2532.356260710989, 11.371380508436257, 11.371378281277508, 61.859011960729624, 27.9934733767879, 129.48550985940398, 14.917220727203306, 25.13193388034012, 24.7108302143265, 11.990677816895147, 27.45196186406043, 8.579478853423756, 12.194599122222735, 23.847491669179146, 22.09361245523535, 12.30138621150622, 37.100797068438126, 25.52402609932117, 26.535082493698532, 4.19461865002508, 12.45538197450109, 27.581603593582486, 14.352493298676228, 6.4777221966757415, 3.693337371287438, 6.549316568589456, 9.844649730164349, 4.6827637396589035, 15.006744710516108, 3.5347488717512596, 24.82879801595605, 70.61295201603025, 17.225593359485377, 38.344121036513265, 57.95848827543429, 53.71842299049057, 46.77728096061805, 68.01539922155919, 499.29164102268425, 128.96397382633094, 82.5640110191199, 2089.5069910012594, 40.1141642597616, 215.66509470972838, 176.96293065547795, 346.59629809196304, 1028.109732357257, 544.9758104229028, 907.3166400000238, 326.2091805967954, 98.69365280683367, 328.00836360293096, 2671.874751911946, 2465.072276781632, 2036.200611614586, 275.21950821523245, 2424.67713169814, 2748.737896315512, 2821.6409816535056, 1252.061814901588, 3923.379085026793, 3374.204627363896, 1610.2962120054092, 1364.5033872046488, 5034.5325578853035, 1115.4780403029788, 867.0822044429361, 3031.9965933912927, 1701.499626714324, 2052.9184739162015, 1594.6446049146257, 708.9936808777136, 2130.708411510904, 2166.3660042453303, 1993.6860018894286, 2292.08472578357, 4001.910772029176, 2866.0949964059955, 1697.3306535769566, 1918.4496858580742, 2206.931416735279, 3168.0621391776235, 2044.4835700140804, 2145.0468639005526, 1984.2320487762056, 2174.895630757355, 2903.2394490224365, 3957.6025913039243, 1914.1507914444603, 2295.062468019862, 2070.9547408641693, 45.91659317862787, 17.61041502573861, 24.043934547526877, 12.421717798354795, 29.817654513567447, 11.37681722812023, 15.019992671500276, 12.911128690687917, 15.477302642994893, 30.750910713023497, 9.900501423570258, 3.798268533085497, 4.300374151428083, 8.69153006851945, 3.6825027799174217, 9.79624488055389, 11.894611148204037, 61.064638295808315, 85.4381127599924, 9.470094222730168, 77.38177157316593, 14.907341942901887, 7.683290989892608, 18.74142915917962, 7.212565588897181, 4.2807477999681, 10.548034964313503, 11.000450375055127, 12.37204025051101, 15.838327450770295, 33.281110591618905, 31.196787272858735, 32.027722651962286, 109.7988431028479, 38.395892133821064, 81.45957443986097, 47.87647135652431, 26.68112786337361, 46.24715660098275, 121.06778441375425, 274.21869627895467, 108.22228052411131, 640.6789701849626, 2231.008039392418, 32.76472280691426, 82.51582127059294, 184.9838194891011, 628.4232066948236, 81.9005917340904, 145.5209274133464, 6454.697878030472, 479.98154607766224, 91.71599170193069, 5754.061711940274, 1150.4780435847701, 232.4928735315728, 323.10874764265054, 768.8920418239549, 874.5217612168512, 2465.875807416661, 247.57017622492847, 510.67568768793615, 1779.2293900182053, 1369.4030585946844, 1210.613913736401, 3066.90021687049, 2874.6468699680536, 759.4196433219914, 916.0481866697794, 1561.766085043252, 2813.439760885905, 1881.2347899973608, 1872.6302571271776, 1649.0599741088954, 1055.0438214280205, 1562.3966248119702, 3327.0762213963494, 1434.1095625865491, 1645.896269252375, 1319.0613405169963, 1710.7386408977172, 2182.090891849566, 1639.676482496385, 1950.6230426090005, 2389.951753330755, 1671.0440510415715, 1981.743911616261, 3970.7742798663394, 1744.5822947150837, 2173.480353155411, 1495.1926744093396, 1443.7442888572475, 1463.904657595868, 1403.9425673134217, 3.5588493904613947, 26.515961193221095, 4.423050614140275, 2.839724578191495, 2.7846350052733904, 4.7559063578804315, 12.182405591688603, 17.150050621350456, 2.6860472168860063, 6.726128761991802, 9.272002953962907, 4.921138527039956, 7.470270538491313, 10.007445300666449, 5.894196882038171, 2.8223340672027732, 5.951192862779759, 10.368829378620852, 6.078422269222974, 5.987900587809916, 3.6753827313503953, 2.4926127976858607, 10.832149787166518, 27.37770785535499, 6.0412515629339065, 2.5160417330207725, 97.75218602957578, 11.918466341032344, 6.699307303383895, 6.5391275154807, 19.710276957379655, 17.04684225744607, 87.90289717311775, 85.26405211086461, 27.943870479240893, 44.1269537537729, 84.12499179193128, 143.39902756434833, 82.21041182463512, 98.20656684756356, 80.3173285376931, 80.60542072499442, 379.1344491297149, 42.44978658960346, 931.1352727889004, 214.0952784711566, 164.77890040178445, 328.10320116635927, 284.32640761308295, 12089.708781403873, 263.905060472814, 2684.803766368896, 461.3151844641296, 403.13758708609294, 1558.7481344232738, 77.15191001109112, 2905.7719569204996, 4739.943867888036, 4031.118125892212, 2338.937439604708, 430.08551701413165, 1729.288089664378, 4085.5617985490267, 2371.465998186143, 2008.5414201212059, 1638.3552261106122, 2865.3244129347254, 2040.608027147122, 2469.471358454872, 2973.6432480128688, 1873.7268421855888, 1304.2701017139727, 2523.1014613345096, 1951.3812702384064, 1661.8506605752389, 1420.0656948280389, 1666.144815623409, 1352.7467521350063, 1287.6211078572248, 1577.2402640076311, 1833.1162298411766, 1420.835408805398, 1693.4702953655406, 1682.7260166227018, 1572.2868952681986, 2129.213673381473, 1690.9245702413793, 1459.7501252159984, 1490.9400408770357, 26.245272702214525, 5.385501554228994, 11.945505539260193, 7.894167257295618, 4.467546970476252, 7.923870598003784, 11.223409990636107, 13.09168076119334, 8.04629451109644, 6.841539380534143, 5.41323132748261, 11.999628826667793, 4.541457183810108, 4.455722088123018, 2.9627178540500148, 5.626892943324717, 2.18037726532632, 3.1417078169359143, 4.052484766717472, 7.180967510509878, 3.6380084809710573, 3.0412880342627595, 4.389453934019639, 3.706831418356415, 6.435059725156955, 2.1450520406794196, 5.616771798311966, 5.060153815565685, 2.8886836682774084, 1.7768373436178606, 5.729927479441404, 9.878482641562334, 46.789023572067926, 7.031583955006066, 55.56234734326353, 36.012443432332255, 10.676599986956985, 34.06518246622478, 727.0361834714495, 67.32957462925586, 665.0788527938562, 247.97497272734236, 1117.0998432661117, 354.46156710978516, 367.5555491437469, 1967.367499087418, 228.09146669483565, 7723.447421059555, 2256.735564101899, 293.0321092865604, 427.60075284948203, 114.06010547628524, 2574.8316667193717, 558.9751950594575, 1385.1178461027991, 305.65146130224093, 479.77096663058165, 1422.6122249887503, 1081.7125692448544, 807.5617727492461, 593.0333779511529, 1046.7653214065783, 519.1909526228332, 2519.8095960532246, 1304.253770896675, 1008.7155981783764, 1615.7938614261107, 464.74645868625123, 1669.2046852951003, 975.2208216890548, 1300.1105376693547, 1037.781519163102, 1622.020806206671, 1698.0465305189887, 2099.4377421151685, 1151.7138942731456, 953.7882530952246, 900.4603073539645, 1002.7572186982915, 995.5526726829742, 1037.219214527872, 821.3006178994672, 994.4593087978684, 1072.911033641411, 1352.9411883119656, 1028.944116127169, 994.3106790537284, 963.8613073160179, 15.346866801296903, 43.417647366915205, 13.339513761697408, 24.796803491175428, 6.670409266583987, 17.856608421344223, 5.1123864549483455, 5.109624634639684, 4.992172079629854, 4.955162342532626, 10.640372774453358, 4.902181837298803, 5.195421517357995, 7.235201677402953, 38.693022358852005, 15.908804688251799, 5.849971305325778, 6.529134197744064, 31.045277103769003, 7.066100352455675, 18.2953246751858, 41.5170640506657, 8.507113006463392, 10.23083166236337, 6.983725090803414, 6.229336608373293, 4.388995859780769, 7.279062015285195, 9.89150901587816, 16.869957642815194, 87.71622301359379, 32.05299399328063, 17.63150155915255, 40.325038841355024, 17.076489542650812, 638.8362489433867, 3717.8634180537797, 1809.6252166169324, 14.635058294054977, 810.0979600790441, 2224.5303949902395, 4490.451134486742, 190.62927862497907, 528.2858788883832, 118.1130623986419, 50.84017499754397, 2421.414846975487, 86.74115388438264, 595.4928695396566, 4001.326299070719, 2020.1300004481068, 601.7472191323008, 664.1318612262795, 576.399163872133, 1919.9113180948395, 1589.7746970683327, 937.436458903785, 2004.5769981209064, 481.86610811317775, 7989.9718721704085, 572.1139717142687, 7502.3255122926685, 3421.4655111224083, 3392.925031636501, 643.0071333518914, 2627.406551437735, 892.0028466118009, 2525.140581633119, 1786.4338090880547, 1688.364483560171, 3687.0708147451405, 3357.6275571797973, 1841.070976091106, 3096.178777263362, 3834.056078793551, 2962.592107770316, 3946.6311023931435, 3209.9717171952784, 2017.3140511617203, 3513.796884317686, 3824.0293906355055, 4880.320326859914, 3820.9890112918374, 3994.88005696792, 2261.5453862487407, 2316.926252825086, 6180.879586667987, 2683.6196315108646, 3528.575675133901, 2539.065806127719, 2262.9844788298947, 2290.945957856988, 42.979987891064106, 32.021337705071126, 11.133735222964106, 27.784887206303566, 23.857014521476295, 16.69582025407681, 10.345881659142247, 9.050058231658344, 16.023299449715363, 5.991986835572365, 21.789991875195184, 14.614874381344018, 11.097048912790845, 16.565305863955786, 11.413287956777847, 8.689407174996111, 12.161364857620315, 5.719064391969507, 16.269558278864388, 5.725770592500589, 9.385494838622993, 12.148264638699676, 9.496375979711376, 7.398938769995771, 8.51848374385102, 10.851211395339323, 32.756534304395224, 44.86347147017007, 19.65285565521879, 9.133951697618857, 350.2001965952035, 40.06714086650881, 93.35415871295197, 604.3377287459851, 39.872420720381264, 174.1284527041698, 35.03025618393437, 89.45665772031661, 52.31535485881621, 107.18325952831367, 40.64679214852826, 28.444955648471478, 125.0509457567142, 70.1853794813225, 110.36157468640828, 35507.89699243313, 95.16804583203916, 56.65063130684897, 199.75577048133343, 102.93047178745759, 151.91688235183685, 53.53010955925323, 910.8382982385882, 9485.109990123125, 1865.6739818980566, 4717.103194690373, 5597.976843421023, 6445.9566340104275, 1246.046811666265, 874.9226091710989, 2860.049458526763, 1847.5400692725082, 1005.1940557271209, 2549.281404131983, 2221.824807474592, 1170.4028501170212, 3696.3579619868315, 1842.7116613268518, 3886.9577009936866, 6953.108719533477, 1510.5822399188091, 3968.373315388281, 1851.947699158235, 2535.891948865878, 5214.8558541064485, 3442.3405037027296, 2203.5286857688975, 3891.0078118169235, 2968.974711160303, 3797.4971115739695, 2607.55671786084, 2943.3631242645306, 5606.959701498003, 3182.9481109865, 4015.008268407057, 2738.825005774566, 3782.366966324571, 2830.0170666396584, 2775.789431390447, 2536.0665718150053, 2465.4608601599034, 3296.4858420145715, 2530.3989579422973, 2496.604434441567, 7.339488427848391, 4.7201952301847205, 10.535055111360018, 6.305645917829382, 8.489607335479858, 3.982667527362085, 40.85998320918488, 14.855538575450302, 25.60575645137069, 7.749306604913171, 53.5435096104771, 5.074062464215236, 47.10254562761893, 3.5115844221418677, 9.624013746250768, 4.627993697348391, 17.827327296330733, 44.748817354867946, 27.060532667970122, 3.802454285545294, 8.161885380479818, 3.709777472691333, 4.312003835144364, 11.704891455487347, 4.747464100148714, 4.43075140670776, 6.006452563786377, 28.71949980032103, 10.360283239894267, 12.098238004085161, 48.11524550946003, 55.5147372899624, 18.58793429395347, 76.42151574442491, 13.630175688957907, 56.34118018139518, 184.98099538328384, 97.16224463264426, 62.295298567772065, 119.24599706029717, 1285.9608848074445, 811.8240947058638, 108.6321212073229, 19.05091924557012, 1292.8361350182715, 1409.8347046398303, 243.16215887295866, 4397.864360504591, 1939.3858242360254, 1319.6210373163888, 852.6070791430216, 2760.43898039637, 1054.5113767677656, 3850.0849148114116, 393.0730689628734, 1935.4987976485654, 1077.8850810998651, 1989.2337209341554, 2305.767437229202, 2552.58021339272, 474.95122564523166, 1057.221527529984, 1963.045573241725, 1804.4947100720774, 2049.3185427004864, 5340.904776598401, 682.1905974850669, 2623.355079522242, 1357.9167398408836, 994.962590627096, 1858.2267078343455, 1304.0776460097168, 1607.1550783268476, 1595.7620027184598, 2657.906344878431, 1208.312768495871, 1308.5514529219777, 1729.661879511236, 1724.226051384269, 1306.933699144043, 1271.9007609527248, 1301.3998121749562, 1209.8665493985295], \"Total\": [116926.0, 47638.0, 39839.0, 24864.0, 7154.0, 50402.0, 14793.0, 20069.0, 48344.0, 35231.0, 19832.0, 9868.0, 18615.0, 9117.0, 31493.0, 16530.0, 8925.0, 19785.0, 29450.0, 3958.0, 20970.0, 19926.0, 26236.0, 4041.0, 3890.0, 14307.0, 8353.0, 32427.0, 18020.0, 16660.0, 7.9986323558783985, 14.993149063498436, 22.2089181924824, 14.03054598344053, 16.242455318195997, 73.30057812965148, 17.329441790212076, 7.879006243249659, 43.36337152994121, 12.979494825337493, 8.663526735013507, 24.161841197251004, 8.654757531923273, 26.00902015247715, 8.686818786678634, 7.0872010765400075, 16.89053687815708, 106.73460849887552, 6.960300086289083, 8.91704937746445, 6.057811700485107, 12.087688308327088, 5.4349791268610765, 58.32166975952713, 16.940020792030467, 7.525526121982105, 8.598347692869899, 9.896715541758063, 14.426306635980392, 6.2118652086406385, 19.781553127614174, 216.30108057034752, 53.69266672463689, 32.30902708017871, 41.706733856060666, 29.1708885636724, 14793.611721054538, 1149.7662342040908, 3317.858339429616, 1819.6359074290558, 1341.9429061945032, 116926.0425346781, 39839.04007760468, 5067.637665756191, 5411.383655854974, 155.97109855640463, 4866.071419457389, 50402.491255339904, 32427.40991803527, 13470.979227877568, 24864.45401839492, 1382.6657319711717, 1585.5136671283276, 9117.578512793625, 20970.093666919798, 9868.471301263007, 3693.9080616060223, 11017.226485489291, 48344.04492089031, 6073.37550814506, 18913.620095159935, 10183.845050163729, 14457.287394600371, 6437.590944335573, 11322.17120967407, 3623.656880280157, 31493.716874435115, 16486.00578007924, 6061.659930172954, 16530.501416075356, 13553.481007659368, 18165.708820711785, 21025.261713166597, 19785.308940014962, 18108.12374678483, 26236.761842551176, 29450.93290356141, 16487.75884067885, 18020.469766429887, 20769.0295672944, 26597.230486232736, 35231.33483686121, 47638.81748976551, 16158.458961113833, 19832.950302196703, 18061.41946842045, 21550.65835989524, 10.63402256022889, 6.2328847099407065, 11.49405596185554, 10.740639737137492, 10.932060865123422, 44.44016676561297, 10.128230691905987, 9.43285052030153, 62.61545950994101, 55.41479503670445, 17.49056304089747, 36.80837158439519, 5.448273142932698, 26.47999507061195, 31.82111446593022, 9.899895690003115, 14.999066176634448, 9.982629445837606, 17.979837379668307, 35.20196742012264, 5.764795247559249, 5.1897821503004975, 18.6696302561299, 32.96049737093808, 5.40462507779156, 123.97806889570647, 14.111904651198575, 5.289603089458586, 9.019430053543012, 20.316482084525628, 32.601848033431544, 28.739671708124277, 77.6523818740041, 15.76572690461954, 113.49901299529796, 694.3438452483987, 77.46862964233136, 9868.471301263007, 48.901598786505524, 976.7452807293346, 3278.844754753953, 926.8519008302603, 776.2734764023563, 530.4665682881437, 12701.067645012092, 2068.2595833776836, 20970.093666919798, 4189.210390565452, 783.7455051530345, 19785.308940014962, 50402.491255339904, 1733.2571118848969, 31493.716874435115, 9488.886721909394, 20069.39225985957, 14793.611721054538, 8880.78826914468, 12871.418835316534, 18799.509950334068, 18108.12374678483, 32427.40991803527, 16530.501416075356, 48344.04492089031, 26236.761842551176, 9919.370981345992, 18913.620095159935, 21550.65835989524, 29450.93290356141, 10106.50686147171, 116926.0425346781, 8485.914234354505, 13638.979921717415, 14998.253780130486, 14457.287394600371, 26597.230486232736, 19832.950302196703, 13049.33599631317, 21025.261713166597, 23401.4341679553, 39839.04007760468, 24864.45401839492, 35231.33483686121, 20769.0295672944, 47638.81748976551, 18061.41946842045, 17.640978996072036, 15.968453211217849, 6.048616260570096, 39.983253036485024, 12.073555575636549, 23.537783093194825, 20.145981193626422, 6.080779996778004, 6.132085451151626, 15.19462584677937, 8.025790677155838, 8.081684431340799, 7.894559201791924, 34.86164631456473, 51.48343388231913, 16.36753840839383, 9.705891832729026, 6.343886428378784, 18.84282811762282, 32.012065720289534, 7.923358843779001, 10.324433768331634, 12.958502501786858, 34.8812584106725, 9.128503784470972, 26.77593365858519, 11.636423083802997, 10.858871289248478, 7.841560119933324, 7.190634516077636, 14.7154254268575, 17.025013874973176, 33.04182277421799, 901.2525644112068, 27.575827356601728, 429.3568985585543, 47638.81748976551, 393.9553914018451, 43.497537778887576, 170.05597392937202, 35231.33483686121, 610.1372358494783, 140.11025890164012, 5095.993164814166, 40.68880584806857, 5849.917541376607, 6723.552589792422, 514.7352497273594, 2635.734785456542, 116926.0425346781, 7758.18983324181, 1439.368268233744, 2076.249933151663, 48344.04492089031, 10560.9396568861, 19926.922431071405, 13288.079668497674, 17419.121635414205, 2916.810597553003, 8063.479819020469, 20769.0295672944, 31493.716874435115, 21025.261713166597, 9354.440628329205, 26597.230486232736, 12701.067645012092, 8177.074659799795, 18615.359210367686, 14457.287394600371, 18061.41946842045, 10071.602065274566, 10183.845050163729, 16487.75884067885, 24864.45401839492, 18913.620095159935, 50402.491255339904, 19832.950302196703, 29450.93290356141, 20970.093666919798, 32427.40991803527, 39839.04007760468, 23401.4341679553, 18799.509950334068, 13453.84142888126, 26236.761842551176, 21550.65835989524, 14.326799109647117, 14.326801403060621, 83.10418854308902, 37.820863595848294, 188.59079202616425, 22.37981076472085, 38.35321166414209, 38.18194025542437, 18.687992737879576, 42.854851058050706, 13.547214084842281, 19.38049034808975, 38.02783155118236, 35.387018283640195, 19.786780633906396, 59.83623151751139, 41.46286355812694, 43.15074995980356, 6.85864729118947, 20.821327194538615, 46.73252114601981, 24.49306353096848, 11.17595015857999, 6.417990970315578, 11.511596005016148, 17.30655265023494, 8.253678374107157, 26.589892732601584, 6.286533464058512, 44.305120784858865, 128.66909793182504, 31.15251086965612, 71.72036707179485, 110.48570081183891, 103.6285413761286, 89.71336475609694, 135.27900008534533, 1157.9384609186043, 277.1739351568126, 170.07016519433927, 7154.089651637024, 79.07587033672966, 564.7630501352912, 452.6119865003454, 1031.9458591224761, 3958.4266020964783, 1836.4207607738404, 3444.620710258157, 1021.1000189780167, 236.68754398730394, 1123.4908138938172, 18020.469766429887, 16530.501416075356, 13049.33599631317, 944.173979482146, 16660.241623804814, 19785.308940014962, 20769.0295672944, 7064.971555520324, 32427.40991803527, 26597.230486232736, 9943.306467816055, 8122.357504474743, 50402.491255339904, 6370.196392985303, 4513.894317402131, 26236.761842551176, 11795.91107016526, 15404.615759376202, 10824.300159743232, 3437.8591017555805, 17419.121635414205, 18165.708820711785, 16158.458961113833, 20069.39225985957, 48344.04492089031, 29450.93290356141, 13228.01797338739, 16487.75884067885, 21025.261713166597, 39839.04007760468, 18913.620095159935, 21550.65835989524, 18799.509950334068, 23401.4341679553, 47638.81748976551, 116926.0425346781, 18615.359210367686, 35231.33483686121, 31493.716874435115, 61.40449041903649, 23.69740023002889, 35.647230484862746, 18.464750082779627, 44.4250746246591, 16.981747400881307, 22.517079665023644, 19.72817304745363, 23.715597493177935, 47.3515299869497, 15.261900629457232, 5.92068368633677, 6.705435459056715, 13.619314696458789, 5.785701467097564, 15.418305402699353, 18.73681054214484, 96.92840697673252, 136.53302295529397, 15.290967894515058, 125.18366764666824, 24.157535037684795, 12.513505772754488, 30.55668014371989, 11.76475576972607, 7.026333899252559, 17.328508467259354, 18.111797685310634, 20.410561770894855, 26.376714668751767, 56.417598506840626, 52.85750198632164, 54.36318234925715, 193.70336922264858, 66.2051389122485, 148.4687644184286, 86.67251754783992, 46.735021710512584, 84.78939749832884, 244.07636353263428, 600.5164494205197, 221.09987723983306, 1719.8138027514483, 7154.089651637024, 60.71912100942404, 178.02345523513716, 495.03347942082763, 2285.4306893232265, 189.52872338448233, 389.0305535661248, 50402.491255339904, 1836.4207607738404, 226.64296811223582, 48344.04492089031, 6057.6318527657795, 766.9805727233891, 1202.1095973370332, 3958.4266020964783, 4730.442787815284, 19785.308940014962, 857.3083303761426, 2347.7844993221815, 13453.84142888126, 9723.257136584729, 8177.074659799795, 31493.716874435115, 29450.93290356141, 4324.30893041639, 5781.131139408894, 12701.067645012092, 32427.40991803527, 18165.708820711785, 18061.41946842045, 14905.410253076721, 7615.425344583303, 14307.786890343155, 47638.81748976551, 12743.566855018466, 16158.458961113833, 11359.29716483799, 17419.121635414205, 26236.761842551176, 16660.241623804814, 23401.4341679553, 35231.33483686121, 18799.509950334068, 26597.230486232736, 116926.0425346781, 21025.261713166597, 39839.04007760468, 16487.75884067885, 18020.469766429887, 19926.922431071405, 18108.12374678483, 5.345172624421154, 39.832284009820256, 6.659550923758799, 4.67086032117175, 4.581925396999992, 7.89586462060704, 20.393933536451158, 30.161021072399773, 4.737246144250131, 12.034166533955425, 16.853987252802447, 8.976119729827792, 13.733112268921309, 18.71381844579873, 11.119842308761484, 5.391627273002481, 11.381258420323064, 19.86765859227914, 11.710611283204834, 11.554253123646617, 7.117629260818575, 4.833710866566329, 21.24541477586006, 55.11513854089001, 12.20071348105813, 5.105220117599579, 198.87542712413904, 24.257464385800606, 13.865338597651247, 13.646821875263841, 41.330246997398, 36.08616958967712, 203.64866598469087, 200.9609979527618, 61.82506520952544, 101.48886294436758, 203.94022563978288, 364.5401385524486, 202.81629041224397, 249.4149293134585, 204.06633141727687, 206.85065110857718, 1202.1095973370332, 105.80879150694216, 3890.2528709193734, 737.9558791526118, 575.1237036477909, 1341.9429061945032, 1144.3410504355948, 116926.0425346781, 1056.9057183805826, 18615.359210367686, 2148.9633210514385, 1823.726393410535, 10560.9396568861, 243.11462268876562, 24864.45401839492, 47638.81748976551, 39839.04007760468, 19832.950302196703, 2178.3777654813753, 14793.611721054538, 48344.04492089031, 23401.4341679553, 18913.620095159935, 14307.786890343155, 31493.716874435115, 19926.922431071405, 26236.761842551176, 35231.33483686121, 18108.12374678483, 11017.226485489291, 29450.93290356141, 20970.093666919798, 16660.241623804814, 13453.84142888126, 17419.121635414205, 12743.566855018466, 11795.91107016526, 16487.75884067885, 21550.65835989524, 14457.287394600371, 19785.308940014962, 21025.261713166597, 18165.708820711785, 50402.491255339904, 32427.40991803527, 18799.509950334068, 26597.230486232736, 32.5373721639061, 7.325407852206036, 18.6350440415029, 13.191526632022038, 7.843275007526504, 14.247787522484876, 20.649313724897013, 24.292261756611822, 15.037527166856904, 12.871607282271606, 10.20318129559548, 22.899206006731436, 8.753337624211746, 8.62425890358534, 5.7483105144841895, 11.386860182242154, 4.45589165032467, 6.431564923729348, 8.801342137599919, 16.25595473202153, 8.385554833202448, 7.014717962176763, 10.215217312643663, 8.941282690662353, 15.546400510679364, 5.183552723283765, 13.772686147856602, 12.783814752792084, 7.301554301152407, 4.4977082899174485, 14.522285381566133, 25.506853842394765, 132.41253559379464, 18.039867506637027, 161.6905804885018, 112.81554699753676, 29.19721665713455, 109.57020371480826, 4041.037987067315, 255.33204868605574, 4071.2484263367496, 1362.9087012388952, 9117.578512793625, 2231.0310105508524, 2347.7844993221815, 20069.39225985957, 1344.4298300023154, 116926.0425346781, 24864.45401839492, 2006.8257612892826, 3357.078501793203, 600.4225787501846, 39839.04007760468, 5096.856892539171, 18020.469766429887, 2285.4306893232265, 4374.2885317546725, 19832.950302196703, 13638.979921717415, 9084.667505078507, 5884.7316973203, 13288.079668497674, 4881.700428964094, 48344.04492089031, 18615.359210367686, 13049.33599631317, 26236.761842551176, 4254.003068984629, 29450.93290356141, 13228.01797338739, 21025.261713166597, 14905.410253076721, 31493.716874435115, 35231.33483686121, 50402.491255339904, 19785.308940014962, 14307.786890343155, 13052.297034409006, 16158.458961113833, 16660.241623804814, 18165.708820711785, 11795.91107016526, 18061.41946842045, 21550.65835989524, 47638.81748976551, 26597.230486232736, 23401.4341679553, 20769.0295672944, 18.839664207309458, 53.98087926497195, 16.711593823057076, 31.408735705894074, 8.477100483598441, 23.520662993052024, 6.979742213586717, 6.978016850237018, 6.91699928665782, 6.897950951659949, 14.815014549158155, 6.869861368146971, 7.306542225778622, 10.197716280639979, 54.870151083847595, 22.713350435375716, 8.455610406111617, 9.496758564697867, 45.277054485490424, 10.382639243471408, 26.97775499968078, 61.534328905651364, 12.683192802150606, 15.302806145470006, 10.485098219865955, 9.361587791089073, 6.601863585291577, 10.977156241389975, 15.027382600953342, 25.707641227061476, 136.94426433827147, 50.08070104946065, 27.383938226397998, 65.18963674077115, 26.62036608480652, 1223.5440653825917, 8925.389596234101, 4491.431732355336, 22.991395972518646, 1928.3972666484983, 6582.926959752692, 15404.615759376202, 427.3316734939179, 1363.1516587505564, 253.67896171184952, 96.3595743525101, 8376.50095270598, 179.3096165417721, 1722.915810347947, 16486.00578007924, 7615.425344583303, 1801.8388818054552, 2031.4984933404141, 1719.8138027514483, 7625.232535357193, 6073.37550814506, 3253.4848823980183, 8353.994610464899, 1460.497843848127, 50402.491255339904, 1827.1223994829315, 47638.81748976551, 18165.708820711785, 18020.469766429887, 2158.6049259998463, 13553.481007659368, 3317.9606536746087, 13049.33599631317, 8456.464963452208, 7863.658027792715, 23401.4341679553, 20769.0295672944, 9084.667505078507, 18799.509950334068, 26597.230486232736, 18913.620095159935, 29450.93290356141, 21550.65835989524, 10824.300159743232, 26236.761842551176, 31493.716874435115, 48344.04492089031, 32427.40991803527, 35231.33483686121, 13288.079668497674, 14457.287394600371, 116926.0425346781, 19832.950302196703, 39839.04007760468, 18108.12374678483, 14998.253780130486, 19785.308940014962, 46.802229874386484, 35.622625846045935, 12.966002781262093, 33.56509001719097, 28.91428239473047, 20.39223004716011, 12.771769458367901, 11.201996487655078, 20.165613162825732, 7.612721313950223, 27.70692862139589, 18.649958181371385, 14.173671244235393, 21.250010604619742, 14.802043675514172, 11.337988077450698, 15.89588576201714, 7.4784955496846655, 21.311766264392954, 7.504359663701177, 12.310392317215753, 16.060359932676082, 12.577672256953164, 9.823096175947795, 11.44227710911905, 14.605849236609435, 44.2623259836022, 60.845541404297975, 26.7388125709883, 12.484434709726175, 480.9788662314124, 55.178688618070126, 131.66162945778305, 904.7053790067424, 55.434782226264275, 258.30663570325817, 48.65331993471839, 129.47019364734575, 74.37237438414861, 160.553375667215, 57.52194491120465, 39.574166332783115, 194.53378330812225, 105.92308519947606, 181.66260332419859, 116926.0425346781, 156.33303372691796, 86.89378056613214, 366.38376923268544, 173.8875305908986, 273.74124907139935, 81.94628368347004, 2300.111542646871, 39839.04007760468, 6327.083787829242, 19926.922431071405, 24864.45401839492, 32427.40991803527, 4425.6412159644415, 2852.020023769506, 13228.01797338739, 7603.282774310866, 3500.006592071221, 11795.91107016526, 9943.306467816055, 4329.289698764412, 20069.39225985957, 7962.384813775473, 21550.65835989524, 48344.04492089031, 6229.685062794749, 23401.4341679553, 8278.917876600932, 12871.418835316534, 35231.33483686121, 21025.261713166597, 11322.17120967407, 26236.761842551176, 18061.41946842045, 26597.230486232736, 14998.253780130486, 18165.708820711785, 50402.491255339904, 20970.093666919798, 31493.716874435115, 16486.00578007924, 29450.93290356141, 18799.509950334068, 18615.359210367686, 16660.241623804814, 16158.458961113833, 47638.81748976551, 20769.0295672944, 19832.950302196703, 9.250342061844869, 6.168101920129079, 13.971941282704634, 8.944967210952562, 12.751954425418157, 6.04179214946303, 62.19371819921379, 23.089401527200796, 40.53924960952213, 12.314914447772829, 86.31109301544424, 8.360157015009229, 80.20621903307276, 6.006188551082886, 16.59898219764444, 8.047242858267522, 31.022298605983767, 79.32450463540025, 48.263000373853146, 6.791843509715959, 14.609223542579892, 6.752638757814887, 7.977244796618548, 21.659395534711848, 8.922390747177971, 8.419897527927587, 11.574884526618174, 55.62650010065141, 20.16270044808713, 23.583996186411905, 94.7597967975297, 113.10452454618608, 37.71058944307421, 173.54113542755954, 27.233502005730116, 126.63173766378472, 525.533399947828, 256.72200108096877, 159.567215578253, 349.92663661654774, 6379.700060952127, 3890.2528709193734, 338.8795749612031, 40.87638846129494, 8353.994610464899, 9669.831312008642, 1055.3068575206134, 47638.81748976551, 16530.501416075356, 10071.602065274566, 5884.7316973203, 29450.93290356141, 8063.479819020469, 50402.491255339904, 2148.9633210514385, 19832.950302196703, 8827.250144346734, 20970.093666919798, 26597.230486232736, 31493.716874435115, 2862.2071758309403, 9284.962472494537, 23401.4341679553, 21550.65835989524, 26236.761842551176, 116926.0425346781, 5003.573873699413, 39839.04007760468, 14793.611721054538, 9187.313463626675, 24864.45401839492, 14307.786890343155, 20069.39225985957, 19926.922431071405, 48344.04492089031, 13288.079668497674, 16158.458961113833, 32427.40991803527, 35231.33483686121, 16660.241623804814, 15404.615759376202, 18108.12374678483, 18799.509950334068], \"Category\": [\"Default\", \"Default\", \"Default\", \"Default\", \"Default\", \"Default\", \"Default\", \"Default\", \"Default\", \"Default\", \"Default\", \"Default\", \"Default\", \"Default\", \"Default\", \"Default\", \"Default\", \"Default\", \"Default\", \"Default\", \"Default\", \"Default\", \"Default\", \"Default\", \"Default\", \"Default\", \"Default\", \"Default\", \"Default\", \"Default\", \"Topic1\", \"Topic1\", \"Topic1\", \"Topic1\", \"Topic1\", \"Topic1\", \"Topic1\", \"Topic1\", \"Topic1\", \"Topic1\", \"Topic1\", \"Topic1\", \"Topic1\", \"Topic1\", \"Topic1\", \"Topic1\", \"Topic1\", \"Topic1\", \"Topic1\", \"Topic1\", \"Topic1\", \"Topic1\", \"Topic1\", \"Topic1\", \"Topic1\", \"Topic1\", \"Topic1\", \"Topic1\", \"Topic1\", \"Topic1\", \"Topic1\", \"Topic1\", \"Topic1\", \"Topic1\", \"Topic1\", \"Topic1\", \"Topic1\", \"Topic1\", \"Topic1\", \"Topic1\", \"Topic1\", \"Topic1\", \"Topic1\", \"Topic1\", \"Topic1\", \"Topic1\", \"Topic1\", \"Topic1\", \"Topic1\", \"Topic1\", \"Topic1\", \"Topic1\", \"Topic1\", \"Topic1\", \"Topic1\", \"Topic1\", \"Topic1\", \"Topic1\", \"Topic1\", \"Topic1\", \"Topic1\", \"Topic1\", \"Topic1\", \"Topic1\", \"Topic1\", \"Topic1\", \"Topic1\", \"Topic1\", \"Topic1\", \"Topic1\", \"Topic1\", \"Topic1\", \"Topic1\", \"Topic1\", \"Topic1\", \"Topic1\", \"Topic1\", \"Topic1\", \"Topic1\", \"Topic1\", \"Topic1\", \"Topic1\", \"Topic1\", \"Topic1\", \"Topic1\", \"Topic1\", \"Topic1\", \"Topic2\", \"Topic2\", \"Topic2\", \"Topic2\", \"Topic2\", \"Topic2\", \"Topic2\", \"Topic2\", \"Topic2\", \"Topic2\", \"Topic2\", \"Topic2\", \"Topic2\", \"Topic2\", \"Topic2\", \"Topic2\", \"Topic2\", \"Topic2\", \"Topic2\", \"Topic2\", \"Topic2\", \"Topic2\", \"Topic2\", \"Topic2\", \"Topic2\", \"Topic2\", \"Topic2\", \"Topic2\", \"Topic2\", \"Topic2\", \"Topic2\", \"Topic2\", \"Topic2\", \"Topic2\", \"Topic2\", \"Topic2\", \"Topic2\", \"Topic2\", \"Topic2\", \"Topic2\", \"Topic2\", \"Topic2\", \"Topic2\", \"Topic2\", \"Topic2\", \"Topic2\", \"Topic2\", \"Topic2\", \"Topic2\", \"Topic2\", \"Topic2\", \"Topic2\", \"Topic2\", \"Topic2\", \"Topic2\", \"Topic2\", \"Topic2\", \"Topic2\", \"Topic2\", \"Topic2\", \"Topic2\", \"Topic2\", \"Topic2\", \"Topic2\", \"Topic2\", \"Topic2\", \"Topic2\", \"Topic2\", \"Topic2\", \"Topic2\", \"Topic2\", \"Topic2\", \"Topic2\", \"Topic2\", \"Topic2\", \"Topic2\", \"Topic2\", \"Topic2\", \"Topic2\", \"Topic2\", \"Topic2\", \"Topic2\", \"Topic2\", \"Topic2\", \"Topic2\", \"Topic3\", \"Topic3\", \"Topic3\", \"Topic3\", \"Topic3\", \"Topic3\", \"Topic3\", \"Topic3\", \"Topic3\", \"Topic3\", \"Topic3\", \"Topic3\", \"Topic3\", \"Topic3\", \"Topic3\", \"Topic3\", \"Topic3\", \"Topic3\", \"Topic3\", \"Topic3\", \"Topic3\", \"Topic3\", \"Topic3\", \"Topic3\", \"Topic3\", \"Topic3\", \"Topic3\", \"Topic3\", \"Topic3\", \"Topic3\", \"Topic3\", \"Topic3\", \"Topic3\", \"Topic3\", \"Topic3\", \"Topic3\", \"Topic3\", \"Topic3\", \"Topic3\", \"Topic3\", \"Topic3\", \"Topic3\", \"Topic3\", \"Topic3\", \"Topic3\", \"Topic3\", \"Topic3\", \"Topic3\", \"Topic3\", \"Topic3\", \"Topic3\", \"Topic3\", \"Topic3\", \"Topic3\", \"Topic3\", \"Topic3\", \"Topic3\", \"Topic3\", \"Topic3\", \"Topic3\", \"Topic3\", \"Topic3\", \"Topic3\", \"Topic3\", \"Topic3\", \"Topic3\", \"Topic3\", \"Topic3\", \"Topic3\", \"Topic3\", \"Topic3\", \"Topic3\", \"Topic3\", \"Topic3\", \"Topic3\", \"Topic3\", \"Topic3\", \"Topic3\", \"Topic3\", \"Topic3\", \"Topic3\", \"Topic3\", \"Topic3\", \"Topic3\", \"Topic3\", \"Topic3\", \"Topic4\", \"Topic4\", \"Topic4\", \"Topic4\", \"Topic4\", \"Topic4\", \"Topic4\", \"Topic4\", \"Topic4\", \"Topic4\", \"Topic4\", \"Topic4\", \"Topic4\", \"Topic4\", \"Topic4\", \"Topic4\", \"Topic4\", \"Topic4\", \"Topic4\", \"Topic4\", \"Topic4\", \"Topic4\", \"Topic4\", \"Topic4\", \"Topic4\", \"Topic4\", \"Topic4\", \"Topic4\", \"Topic4\", \"Topic4\", \"Topic4\", \"Topic4\", \"Topic4\", \"Topic4\", \"Topic4\", \"Topic4\", \"Topic4\", \"Topic4\", \"Topic4\", \"Topic4\", \"Topic4\", \"Topic4\", \"Topic4\", \"Topic4\", \"Topic4\", \"Topic4\", \"Topic4\", \"Topic4\", \"Topic4\", \"Topic4\", \"Topic4\", \"Topic4\", \"Topic4\", \"Topic4\", \"Topic4\", \"Topic4\", \"Topic4\", \"Topic4\", \"Topic4\", \"Topic4\", \"Topic4\", \"Topic4\", \"Topic4\", \"Topic4\", \"Topic4\", \"Topic4\", \"Topic4\", \"Topic4\", \"Topic4\", \"Topic4\", \"Topic4\", \"Topic4\", \"Topic4\", \"Topic4\", \"Topic4\", \"Topic4\", \"Topic4\", \"Topic4\", \"Topic4\", \"Topic4\", \"Topic4\", \"Topic4\", \"Topic4\", \"Topic4\", \"Topic4\", \"Topic4\", \"Topic4\", \"Topic4\", \"Topic4\", \"Topic4\", \"Topic5\", \"Topic5\", \"Topic5\", \"Topic5\", \"Topic5\", \"Topic5\", \"Topic5\", \"Topic5\", \"Topic5\", \"Topic5\", \"Topic5\", \"Topic5\", \"Topic5\", \"Topic5\", \"Topic5\", \"Topic5\", \"Topic5\", \"Topic5\", \"Topic5\", \"Topic5\", \"Topic5\", \"Topic5\", \"Topic5\", \"Topic5\", \"Topic5\", \"Topic5\", \"Topic5\", \"Topic5\", \"Topic5\", \"Topic5\", \"Topic5\", \"Topic5\", \"Topic5\", \"Topic5\", \"Topic5\", \"Topic5\", \"Topic5\", \"Topic5\", \"Topic5\", \"Topic5\", \"Topic5\", \"Topic5\", \"Topic5\", \"Topic5\", \"Topic5\", \"Topic5\", \"Topic5\", \"Topic5\", \"Topic5\", \"Topic5\", \"Topic5\", \"Topic5\", \"Topic5\", \"Topic5\", \"Topic5\", \"Topic5\", \"Topic5\", \"Topic5\", \"Topic5\", \"Topic5\", \"Topic5\", \"Topic5\", \"Topic5\", \"Topic5\", \"Topic5\", \"Topic5\", \"Topic5\", \"Topic5\", \"Topic5\", \"Topic5\", \"Topic5\", \"Topic5\", \"Topic5\", \"Topic5\", \"Topic5\", \"Topic5\", \"Topic5\", \"Topic5\", \"Topic5\", \"Topic5\", \"Topic5\", \"Topic5\", \"Topic5\", \"Topic5\", \"Topic5\", \"Topic5\", \"Topic5\", \"Topic5\", \"Topic5\", \"Topic5\", \"Topic5\", \"Topic5\", \"Topic5\", \"Topic5\", \"Topic6\", \"Topic6\", \"Topic6\", \"Topic6\", \"Topic6\", \"Topic6\", \"Topic6\", \"Topic6\", \"Topic6\", \"Topic6\", \"Topic6\", \"Topic6\", \"Topic6\", \"Topic6\", \"Topic6\", \"Topic6\", \"Topic6\", \"Topic6\", \"Topic6\", \"Topic6\", \"Topic6\", \"Topic6\", \"Topic6\", \"Topic6\", \"Topic6\", \"Topic6\", \"Topic6\", \"Topic6\", \"Topic6\", \"Topic6\", \"Topic6\", \"Topic6\", \"Topic6\", \"Topic6\", \"Topic6\", \"Topic6\", \"Topic6\", \"Topic6\", \"Topic6\", \"Topic6\", \"Topic6\", \"Topic6\", \"Topic6\", \"Topic6\", \"Topic6\", \"Topic6\", \"Topic6\", \"Topic6\", \"Topic6\", \"Topic6\", \"Topic6\", \"Topic6\", \"Topic6\", \"Topic6\", \"Topic6\", \"Topic6\", \"Topic6\", \"Topic6\", \"Topic6\", \"Topic6\", \"Topic6\", \"Topic6\", \"Topic6\", \"Topic6\", \"Topic6\", \"Topic6\", \"Topic6\", \"Topic6\", \"Topic6\", \"Topic6\", \"Topic6\", \"Topic6\", \"Topic6\", \"Topic6\", \"Topic6\", \"Topic6\", \"Topic6\", \"Topic6\", \"Topic6\", \"Topic6\", \"Topic6\", \"Topic6\", \"Topic6\", \"Topic6\", \"Topic6\", \"Topic6\", \"Topic6\", \"Topic6\", \"Topic6\", \"Topic7\", \"Topic7\", \"Topic7\", \"Topic7\", \"Topic7\", \"Topic7\", \"Topic7\", \"Topic7\", \"Topic7\", \"Topic7\", \"Topic7\", \"Topic7\", \"Topic7\", \"Topic7\", \"Topic7\", \"Topic7\", \"Topic7\", \"Topic7\", \"Topic7\", \"Topic7\", \"Topic7\", \"Topic7\", \"Topic7\", \"Topic7\", \"Topic7\", \"Topic7\", \"Topic7\", \"Topic7\", \"Topic7\", \"Topic7\", \"Topic7\", \"Topic7\", \"Topic7\", \"Topic7\", \"Topic7\", \"Topic7\", \"Topic7\", \"Topic7\", \"Topic7\", \"Topic7\", \"Topic7\", \"Topic7\", \"Topic7\", \"Topic7\", \"Topic7\", \"Topic7\", \"Topic7\", \"Topic7\", \"Topic7\", \"Topic7\", \"Topic7\", \"Topic7\", \"Topic7\", \"Topic7\", \"Topic7\", \"Topic7\", \"Topic7\", \"Topic7\", \"Topic7\", \"Topic7\", \"Topic7\", \"Topic7\", \"Topic7\", \"Topic7\", \"Topic7\", \"Topic7\", \"Topic7\", \"Topic7\", \"Topic7\", \"Topic7\", \"Topic7\", \"Topic7\", \"Topic7\", \"Topic7\", \"Topic7\", \"Topic7\", \"Topic7\", \"Topic7\", \"Topic7\", \"Topic7\", \"Topic7\", \"Topic7\", \"Topic7\", \"Topic7\", \"Topic7\", \"Topic7\", \"Topic7\", \"Topic7\", \"Topic8\", \"Topic8\", \"Topic8\", \"Topic8\", \"Topic8\", \"Topic8\", \"Topic8\", \"Topic8\", \"Topic8\", \"Topic8\", \"Topic8\", \"Topic8\", \"Topic8\", \"Topic8\", \"Topic8\", \"Topic8\", \"Topic8\", \"Topic8\", \"Topic8\", \"Topic8\", \"Topic8\", \"Topic8\", \"Topic8\", \"Topic8\", \"Topic8\", \"Topic8\", \"Topic8\", \"Topic8\", \"Topic8\", \"Topic8\", \"Topic8\", \"Topic8\", \"Topic8\", \"Topic8\", \"Topic8\", \"Topic8\", \"Topic8\", \"Topic8\", \"Topic8\", \"Topic8\", \"Topic8\", \"Topic8\", \"Topic8\", \"Topic8\", \"Topic8\", \"Topic8\", \"Topic8\", \"Topic8\", \"Topic8\", \"Topic8\", \"Topic8\", \"Topic8\", \"Topic8\", \"Topic8\", \"Topic8\", \"Topic8\", \"Topic8\", \"Topic8\", \"Topic8\", \"Topic8\", \"Topic8\", \"Topic8\", \"Topic8\", \"Topic8\", \"Topic8\", \"Topic8\", \"Topic8\", \"Topic8\", \"Topic8\", \"Topic8\", \"Topic8\", \"Topic8\", \"Topic8\", \"Topic8\", \"Topic8\", \"Topic8\", \"Topic8\", \"Topic8\", \"Topic8\", \"Topic8\", \"Topic8\", \"Topic8\", \"Topic8\", \"Topic8\", \"Topic8\", \"Topic8\", \"Topic8\", \"Topic8\", \"Topic8\", \"Topic8\", \"Topic8\", \"Topic8\", \"Topic9\", \"Topic9\", \"Topic9\", \"Topic9\", \"Topic9\", \"Topic9\", \"Topic9\", \"Topic9\", \"Topic9\", \"Topic9\", \"Topic9\", \"Topic9\", \"Topic9\", \"Topic9\", \"Topic9\", \"Topic9\", \"Topic9\", \"Topic9\", \"Topic9\", \"Topic9\", \"Topic9\", \"Topic9\", \"Topic9\", \"Topic9\", \"Topic9\", \"Topic9\", \"Topic9\", \"Topic9\", \"Topic9\", \"Topic9\", \"Topic9\", \"Topic9\", \"Topic9\", \"Topic9\", \"Topic9\", \"Topic9\", \"Topic9\", \"Topic9\", \"Topic9\", \"Topic9\", \"Topic9\", \"Topic9\", \"Topic9\", \"Topic9\", \"Topic9\", \"Topic9\", \"Topic9\", \"Topic9\", \"Topic9\", \"Topic9\", \"Topic9\", \"Topic9\", \"Topic9\", \"Topic9\", \"Topic9\", \"Topic9\", \"Topic9\", \"Topic9\", \"Topic9\", \"Topic9\", \"Topic9\", \"Topic9\", \"Topic9\", \"Topic9\", \"Topic9\", \"Topic9\", \"Topic9\", \"Topic9\", \"Topic9\", \"Topic9\", \"Topic9\", \"Topic9\", \"Topic9\", \"Topic9\", \"Topic9\", \"Topic9\", \"Topic9\", \"Topic9\", \"Topic9\", \"Topic9\", \"Topic9\", \"Topic9\", \"Topic9\", \"Topic9\", \"Topic9\", \"Topic9\", \"Topic9\", \"Topic9\", \"Topic9\", \"Topic9\", \"Topic9\", \"Topic9\", \"Topic9\", \"Topic9\", \"Topic10\", \"Topic10\", \"Topic10\", \"Topic10\", \"Topic10\", \"Topic10\", \"Topic10\", \"Topic10\", \"Topic10\", \"Topic10\", \"Topic10\", \"Topic10\", \"Topic10\", \"Topic10\", \"Topic10\", \"Topic10\", \"Topic10\", \"Topic10\", \"Topic10\", \"Topic10\", \"Topic10\", \"Topic10\", \"Topic10\", \"Topic10\", \"Topic10\", \"Topic10\", \"Topic10\", \"Topic10\", \"Topic10\", \"Topic10\", \"Topic10\", \"Topic10\", \"Topic10\", \"Topic10\", \"Topic10\", \"Topic10\", \"Topic10\", \"Topic10\", \"Topic10\", \"Topic10\", \"Topic10\", \"Topic10\", \"Topic10\", \"Topic10\", \"Topic10\", \"Topic10\", \"Topic10\", \"Topic10\", \"Topic10\", \"Topic10\", \"Topic10\", \"Topic10\", \"Topic10\", \"Topic10\", \"Topic10\", \"Topic10\", \"Topic10\", \"Topic10\", \"Topic10\", \"Topic10\", \"Topic10\", \"Topic10\", \"Topic10\", \"Topic10\", \"Topic10\", \"Topic10\", \"Topic10\", \"Topic10\", \"Topic10\", \"Topic10\", \"Topic10\", \"Topic10\", \"Topic10\", \"Topic10\", \"Topic10\", \"Topic10\", \"Topic10\", \"Topic10\", \"Topic10\", \"Topic10\", \"Topic10\", \"Topic10\", \"Topic10\"], \"logprob\": [30.0, 29.0, 28.0, 27.0, 26.0, 25.0, 24.0, 23.0, 22.0, 21.0, 20.0, 19.0, 18.0, 17.0, 16.0, 15.0, 14.0, 13.0, 12.0, 11.0, 10.0, 9.0, 8.0, 7.0, 6.0, 5.0, 4.0, 3.0, 2.0, 1.0, -11.957, -11.3623, -10.9875, -11.4495, -11.3546, -9.8508, -11.312, -12.1105, -10.4104, -11.6245, -12.0334, -11.0129, -12.042, -10.9465, -12.0432, -12.3001, -11.4333, -9.6056, -12.3395, -12.0955, -12.5029, -11.8197, -12.6203, -10.2577, -11.4962, -12.317, -12.187, -12.048, -11.6737, -12.5192, -11.366, -9.007, -10.379, -10.8996, -10.6867, -11.0322, -5.555, -7.8182, -6.9292, -7.4646, -7.7968, -4.0864, -5.0104, -6.7391, -6.6853, -9.6625, -6.8482, -4.9769, -5.3442, -6.1255, -5.6835, -7.9506, -7.8445, -6.4855, -5.8454, -6.4587, -7.2069, -6.3767, -5.2784, -6.8395, -5.9963, -6.46, -6.2069, -6.8164, -6.4045, -7.2376, -5.7213, -6.1855, -6.8755, -6.2078, -6.3671, -6.1835, -6.0957, -6.1432, -6.1968, -5.9849, -5.9182, -6.2663, -6.2449, -6.2065, -6.1367, -6.0706, -5.9911, -6.3203, -6.3116, -6.3522, -6.3476, -11.6528, -12.2346, -11.6426, -11.7293, -11.7368, -10.3523, -11.8579, -11.9462, -10.0579, -10.2011, -11.3702, -10.6389, -12.5647, -10.9889, -10.8152, -11.9958, -11.586, -12.0098, -11.4259, -10.7541, -12.5757, -12.6861, -11.4102, -10.8448, -12.6621, -9.5314, -11.707, -12.6898, -12.1589, -11.3545, -10.887, -11.0165, -10.0855, -11.6247, -9.7839, -8.1745, -10.1986, -5.9157, -10.6143, -8.0175, -7.1514, -8.1911, -8.3438, -8.6574, -6.1257, -7.6148, -5.806, -7.0975, -8.4344, -5.9167, -5.2119, -7.8258, -5.6036, -6.5331, -5.9654, -6.1976, -6.5902, -6.3135, -6.0303, -6.0703, -5.6435, -6.1458, -5.388, -5.8418, -6.5498, -6.0868, -6.0033, -5.7883, -6.5459, -4.875, -6.686, -6.3712, -6.3097, -6.3404, -5.9563, -6.1496, -6.4165, -6.1495, -6.093, -5.8193, -6.0833, -5.9836, -6.2209, -5.9681, -6.2898, -11.4901, -11.6014, -12.5745, -10.6863, -11.9029, -11.2438, -11.4279, -12.6278, -12.6514, -11.7523, -12.3911, -12.4234, -12.4568, -10.987, -10.6008, -11.7522, -12.2761, -12.7095, -11.6211, -11.0973, -12.4982, -12.2355, -12.017, -11.028, -12.3717, -11.2965, -12.1349, -12.2093, -12.543, -12.6308, -11.9153, -11.7763, -11.1402, -8.0204, -11.3312, -8.7913, -4.4642, -8.8861, -10.9161, -9.679, -4.846, -8.5202, -9.8665, -6.6754, -10.9874, -6.6393, -6.5261, -8.7634, -7.4247, -4.2118, -6.5202, -7.9493, -7.6608, -5.026, -6.2959, -5.7986, -6.182, -5.9737, -7.4247, -6.6185, -5.8665, -5.5379, -5.8612, -6.5109, -5.6871, -6.2735, -6.6232, -6.0104, -6.206, -6.0547, -6.4961, -6.4966, -6.1655, -5.8705, -6.0722, -5.3797, -6.0486, -5.8373, -6.1083, -5.9182, -5.9422, -6.1797, -6.2779, -6.3922, -6.2161, -6.2857, -11.3928, -11.3928, -9.699, -10.4919, -8.9603, -11.1213, -10.5997, -10.6166, -11.3397, -10.5114, -11.6745, -11.3229, -10.6522, -10.7286, -11.3141, -10.2102, -10.5842, -10.5454, -12.3901, -11.3017, -10.5067, -11.1599, -11.9555, -12.5173, -11.9445, -11.5369, -12.28, -11.1154, -12.5612, -10.6119, -9.5666, -10.9775, -10.1773, -9.7641, -9.8401, -9.9785, -9.6041, -7.6107, -8.9643, -9.4103, -6.1792, -10.1321, -8.4501, -8.6479, -7.9757, -6.8884, -7.5231, -7.0134, -8.0363, -9.2318, -8.0308, -5.9333, -6.0139, -6.205, -8.2063, -6.0304, -5.905, -5.8788, -6.6913, -5.5492, -5.6999, -6.4397, -6.6053, -5.2998, -6.8068, -7.0587, -5.8069, -6.3846, -6.1968, -6.4495, -7.26, -6.1597, -6.1431, -6.2261, -6.0866, -5.5293, -5.8632, -6.387, -6.2646, -6.1245, -5.763, -6.201, -6.1529, -6.2309, -6.1391, -5.8503, -5.5405, -6.2668, -6.0853, -6.1881, -9.8444, -10.8027, -10.4913, -11.1517, -10.2761, -11.2396, -10.9618, -11.1131, -10.9318, -10.2453, -11.3786, -12.3366, -12.2125, -11.5088, -12.3676, -11.3892, -11.1951, -9.5593, -9.2234, -11.4231, -9.3224, -10.9693, -11.6321, -10.7405, -11.6954, -12.2171, -11.3153, -11.2733, -11.1558, -10.9088, -10.1662, -10.2309, -10.2046, -8.9725, -10.0232, -9.2711, -9.8026, -10.3872, -9.8372, -8.8748, -8.0573, -8.987, -7.2087, -5.961, -10.1818, -9.2582, -8.4509, -7.228, -9.2657, -8.6909, -4.8986, -7.4974, -9.1525, -5.0135, -6.6233, -8.2223, -7.8932, -7.0262, -6.8975, -5.8609, -8.1595, -7.4355, -6.1873, -6.4491, -6.5723, -5.6428, -5.7075, -7.0386, -6.8511, -6.3176, -5.729, -6.1315, -6.1361, -6.2632, -6.7099, -6.3172, -5.5613, -6.4029, -6.2651, -6.4865, -6.2265, -5.9832, -6.2689, -6.0953, -5.8922, -6.25, -6.0795, -5.3845, -6.2069, -5.9871, -6.3612, -6.3962, -6.3823, -6.4242, -12.308, -10.2997, -12.0906, -12.5338, -12.5534, -12.0181, -11.0775, -10.7355, -12.5894, -11.6715, -11.3505, -11.9839, -11.5665, -11.2741, -11.8035, -12.5399, -11.7939, -11.2387, -11.7727, -11.7877, -12.2758, -12.6641, -11.195, -10.2677, -11.7789, -12.6548, -8.995, -11.0994, -11.6755, -11.6997, -10.5963, -10.7415, -9.1012, -9.1317, -10.2473, -9.7904, -9.1452, -8.6118, -9.1682, -8.9904, -9.1915, -9.1879, -7.6396, -9.8292, -6.7411, -8.2111, -8.4729, -7.7841, -7.9273, -4.1774, -8.0019, -5.6821, -7.4434, -7.5782, -6.2258, -9.2317, -5.603, -5.1137, -5.2757, -5.82, -7.5135, -6.122, -5.2623, -5.8062, -5.9723, -6.176, -5.617, -5.9565, -5.7657, -5.5799, -6.0418, -6.4041, -5.7442, -6.0012, -6.1618, -6.319, -6.1592, -6.3676, -6.4169, -6.214, -6.0637, -6.3185, -6.1429, -6.1493, -6.2172, -5.914, -6.1444, -6.2915, -6.2703, -9.9546, -11.5384, -10.7417, -11.156, -11.7252, -11.1522, -10.8041, -10.6501, -11.1369, -11.2991, -11.5332, -10.7372, -11.7088, -11.7279, -12.136, -11.4945, -12.4426, -12.0773, -11.8227, -11.2506, -11.9306, -12.1098, -11.7429, -11.9119, -11.3603, -12.4589, -11.4963, -11.6007, -12.1613, -12.6472, -11.4764, -10.9317, -9.3764, -11.2717, -9.2046, -9.6382, -10.854, -9.6938, -6.6331, -9.0125, -6.7222, -7.7087, -6.2036, -7.3515, -7.3152, -5.6376, -7.7923, -4.2701, -5.5004, -7.5418, -7.1639, -8.4854, -5.3685, -6.896, -5.9885, -7.4996, -7.0488, -5.9618, -6.2358, -6.5281, -6.8368, -6.2686, -6.9698, -5.3901, -6.0487, -6.3056, -5.8345, -7.0806, -5.802, -6.3394, -6.0519, -6.2772, -5.8306, -5.7848, -5.5727, -6.1731, -6.3616, -6.4192, -6.3116, -6.3188, -6.2778, -6.5112, -6.3199, -6.2439, -6.012, -6.2858, -6.32, -6.3511, -11.4079, -10.368, -11.5481, -10.9281, -12.2412, -11.2565, -12.5072, -12.5077, -12.531, -12.5384, -11.7742, -12.5492, -12.4911, -12.1599, -10.4832, -11.372, -12.3724, -12.2626, -10.7034, -12.1835, -11.2322, -10.4127, -11.9979, -11.8134, -12.1953, -12.3096, -12.6597, -12.1538, -11.8472, -11.3133, -9.6647, -10.6715, -11.2692, -10.4419, -11.3011, -7.6792, -5.9179, -6.638, -11.4554, -7.4417, -6.4315, -5.7291, -8.8885, -7.8692, -9.3672, -10.2102, -6.3467, -9.6759, -7.7495, -5.8445, -6.5279, -7.739, -7.6404, -7.782, -6.5788, -6.7675, -7.2957, -6.5357, -7.9612, -5.1529, -7.7895, -5.2159, -6.001, -6.0094, -7.6727, -6.2651, -7.3454, -6.3048, -6.6509, -6.7073, -5.9263, -6.0199, -6.6207, -6.1009, -5.8872, -6.145, -5.8582, -6.0648, -6.5293, -5.9744, -5.8898, -5.6459, -5.8906, -5.8461, -6.415, -6.3908, -5.4096, -6.2439, -5.9702, -6.2993, -6.4144, -6.4021, -10.3691, -10.6634, -11.7199, -10.8054, -10.9578, -11.3147, -11.7933, -11.9271, -11.3558, -12.3394, -11.0484, -11.4478, -11.7232, -11.3225, -11.6951, -11.9677, -11.6316, -12.386, -11.3406, -12.3849, -11.8907, -11.6327, -11.8789, -12.1285, -11.9876, -11.7456, -10.6407, -10.3262, -11.1516, -11.9178, -8.2713, -10.4393, -9.5934, -7.7257, -10.4442, -8.9701, -10.5736, -9.6361, -10.1726, -9.4553, -10.4249, -10.7819, -9.3011, -9.8787, -9.4261, -3.6523, -9.5742, -10.0929, -8.8328, -9.4958, -9.1065, -10.1496, -7.3155, -4.9724, -6.5985, -5.6709, -5.4997, -5.3586, -7.0021, -7.3557, -6.1713, -6.6082, -7.2169, -6.2863, -6.4238, -7.0647, -5.9147, -6.6109, -5.8645, -5.2829, -6.8096, -5.8437, -6.6059, -6.2915, -5.5706, -5.9859, -6.432, -5.8634, -6.1339, -5.8878, -6.2637, -6.1425, -5.4981, -6.0643, -5.8321, -6.2146, -5.8917, -6.1818, -6.2012, -6.2915, -6.3197, -6.0292, -6.2937, -6.3072, -11.4943, -11.9357, -11.1329, -11.6461, -11.3487, -12.1056, -9.7774, -10.7892, -10.2447, -11.44, -9.5071, -11.8634, -9.6352, -12.2315, -11.2233, -11.9554, -10.6068, -9.6865, -10.1895, -12.1519, -11.3881, -12.1766, -12.0262, -11.0276, -11.93, -11.999, -11.6947, -10.13, -11.1496, -10.9945, -9.614, -9.4709, -10.5651, -9.1513, -10.8753, -9.4561, -8.2673, -8.9112, -9.3557, -8.7064, -6.3283, -6.7883, -8.7996, -10.5404, -6.323, -6.2363, -7.9938, -5.0987, -5.9174, -6.3025, -6.7393, -5.5644, -6.5267, -5.2317, -7.5136, -5.9194, -6.5048, -5.8921, -5.7444, -5.6427, -7.3244, -6.5242, -5.9053, -5.9895, -5.8623, -4.9044, -6.9623, -5.6154, -6.2739, -6.5849, -5.9602, -6.3143, -6.1053, -6.1125, -5.6023, -6.3906, -6.3109, -6.0319, -6.035, -6.3121, -6.3393, -6.3164, -6.3893], \"loglift\": [30.0, 29.0, 28.0, 27.0, 26.0, 25.0, 24.0, 23.0, 22.0, 21.0, 20.0, 19.0, 18.0, 17.0, 16.0, 15.0, 14.0, 13.0, 12.0, 11.0, 10.0, 9.0, 8.0, 7.0, 6.0, 5.0, 4.0, 3.0, 2.0, 1.0, 2.0628, 2.0292, 2.0112, 2.0084, 1.9569, 1.9538, 1.9347, 1.9244, 1.9191, 1.9112, 1.9066, 1.9014, 1.8989, 1.8941, 1.894, 1.8407, 1.8391, 1.8232, 1.8194, 1.8156, 1.7949, 1.7872, 1.7859, 1.7754, 1.7732, 1.7638, 1.7605, 1.7589, 1.7563, 1.7534, 1.7484, 1.7155, 1.7369, 1.7242, 1.6817, 1.6937, 0.9422, 1.2336, 1.0629, 1.1281, 1.1004, 0.3434, 0.4961, 0.8294, 0.8175, 1.3869, 0.7609, 0.2944, 0.3681, 0.4654, 0.2945, 0.9167, 0.8859, 0.4956, 0.3029, 0.4433, 0.6778, 0.4152, 0.0346, 0.5479, 0.2551, 0.4106, 0.3133, 0.5128, 0.36, 0.6663, 0.0203, 0.2033, 0.5139, 0.1784, 0.2176, 0.1084, 0.0499, 0.0633, 0.0982, -0.0607, -0.1096, 0.1224, 0.0549, -0.0486, -0.2262, -0.4411, -0.6634, 0.0886, -0.1076, -0.0547, -0.2266, 2.0822, 2.0346, 2.0147, 1.9958, 1.9706, 1.9527, 1.9259, 1.9087, 1.9042, 1.8832, 1.8673, 1.8545, 1.8391, 1.8338, 1.8238, 1.8108, 1.8051, 1.7885, 1.7839, 1.7839, 1.7717, 1.7663, 1.762, 1.759, 1.7497, 1.7476, 1.7451, 1.7436, 1.7408, 1.7331, 1.7278, 1.7243, 1.6613, 1.7165, 1.5834, 1.3816, 1.5506, 0.9863, 1.595, 1.1974, 0.8525, 1.0762, 1.1008, 1.1679, 0.524, 0.8498, 0.3422, 0.6613, 1.0006, 0.2897, 0.0594, 0.8155, 0.1379, 0.4081, 0.2267, 0.2995, 0.4173, 0.3229, 0.2272, 0.2247, 0.0688, 0.2404, -0.075, 0.0823, 0.347, 0.1647, 0.1176, 0.0203, 0.3323, -0.4452, 0.3669, 0.2072, 0.1737, 0.1797, -0.0458, 0.0544, 0.2061, -0.0039, -0.0544, -0.3128, -0.1054, -0.3542, -0.063, -0.6404, 0.0078, 1.7388, 1.7271, 1.7248, 1.7243, 1.7052, 1.6967, 1.6681, 1.6662, 1.6342, 1.6259, 1.6253, 1.5861, 1.5761, 1.5607, 1.557, 1.5516, 1.5503, 1.5421, 1.5419, 1.5357, 1.5311, 1.5291, 1.5204, 1.5192, 1.516, 1.5151, 1.51, 1.5048, 1.4967, 1.4956, 1.4949, 1.4881, 1.4611, 1.2749, 1.451, 1.2455, 0.8635, 1.2368, 1.4103, 1.2839, 0.7834, 1.1652, 1.2902, 0.8875, 1.4058, 0.7856, 0.7596, 1.092, 0.7974, 0.218, 0.6224, 0.8778, 0.8, 0.287, 0.5383, 0.4006, 0.4225, 0.3601, 0.6961, 0.4855, 0.2914, 0.2037, 0.2844, 0.4446, 0.2234, 0.3762, 0.4668, 0.257, 0.3141, 0.2429, 0.3855, 0.3739, 0.2233, 0.1074, 0.1793, -0.1084, 0.1554, -0.0287, 0.0399, -0.2059, -0.4357, -0.1411, -0.0204, 0.1999, -0.292, -0.1648, 2.0442, 2.0442, 1.98, 1.9744, 1.8992, 1.8696, 1.8525, 1.8401, 1.8315, 1.8299, 1.8184, 1.812, 1.8086, 1.8042, 1.7999, 1.7973, 1.7901, 1.789, 1.7835, 1.7614, 1.7479, 1.7408, 1.7298, 1.7227, 1.7112, 1.7111, 1.7085, 1.7032, 1.6995, 1.6961, 1.6752, 1.6827, 1.6491, 1.6301, 1.6182, 1.624, 1.5876, 1.434, 1.5101, 1.5526, 1.0445, 1.5966, 1.3126, 1.3361, 1.1842, 0.9271, 1.0604, 0.9412, 1.1341, 1.4005, 1.0441, 0.3665, 0.3723, 0.4176, 1.0425, 0.3479, 0.3014, 0.2791, 0.5449, 0.1632, 0.2106, 0.4548, 0.4914, -0.0285, 0.5329, 0.6255, 0.1173, 0.339, 0.2598, 0.3601, 0.6965, 0.1741, 0.1488, 0.1828, 0.1055, -0.2163, -0.0545, 0.222, 0.1241, 0.0211, -0.2565, 0.0505, -0.032, 0.0266, -0.1006, -0.5226, -1.1107, 0.0005, -0.4559, -0.4465, 2.1373, 2.131, 2.0341, 2.0315, 2.0292, 2.0273, 2.023, 2.004, 2.0012, 1.9962, 1.9951, 1.984, 1.9837, 1.9788, 1.9761, 1.9744, 1.9735, 1.9659, 1.9591, 1.9488, 1.9469, 1.9452, 1.9401, 1.9391, 1.9386, 1.9324, 1.9315, 1.9293, 1.9273, 1.9179, 1.9001, 1.9006, 1.8988, 1.8602, 1.8831, 1.8276, 1.8344, 1.8674, 1.8217, 1.7268, 1.644, 1.7135, 1.4405, 1.2627, 1.811, 1.659, 1.4436, 1.1368, 1.5889, 1.4446, 0.3727, 1.0861, 1.5232, 0.2995, 0.7668, 1.2343, 1.1141, 0.7893, 0.7398, 0.3455, 1.1858, 0.9024, 0.4048, 0.4678, 0.5177, 0.0988, 0.1011, 0.6885, 0.5856, 0.332, -0.0167, 0.1603, 0.1615, 0.2264, 0.4513, 0.2133, -0.2336, 0.2434, 0.1438, 0.2748, 0.1073, -0.059, 0.1094, -0.0567, -0.2628, 0.0075, -0.1689, -0.9547, -0.0613, -0.4806, 0.0275, -0.0964, -0.1831, -0.1292, 2.1149, 2.1147, 2.1124, 2.024, 2.0236, 2.0147, 2.0064, 1.9571, 1.9542, 1.9399, 1.924, 1.9206, 1.9127, 1.8957, 1.8869, 1.8743, 1.8733, 1.8713, 1.8659, 1.8643, 1.8607, 1.8593, 1.848, 1.8219, 1.8187, 1.8141, 1.8114, 1.811, 1.7942, 1.7859, 1.7812, 1.7717, 1.6815, 1.6643, 1.7275, 1.6887, 1.6361, 1.5886, 1.6186, 1.5896, 1.5892, 1.5792, 1.3677, 1.6083, 1.0918, 1.2842, 1.2716, 1.1131, 1.1292, 0.2524, 1.1341, 0.5852, 0.983, 1.0123, 0.6083, 1.3739, 0.3749, 0.214, 0.2308, 0.384, 0.8993, 0.3751, 0.0507, 0.2323, 0.2792, 0.3545, 0.1245, 0.2428, 0.1585, 0.0495, 0.2532, 0.3878, 0.0644, 0.1471, 0.2165, 0.2731, 0.1746, 0.2787, 0.3067, 0.1747, 0.0572, 0.2017, 0.0635, -0.0037, 0.0746, -0.6427, -0.4321, -0.0339, -0.3598, 2.6621, 2.5694, 2.4323, 2.3636, 2.3142, 2.2903, 2.2673, 2.2588, 2.2517, 2.245, 2.2432, 2.2308, 2.2208, 2.2166, 2.2142, 2.1721, 2.1623, 2.1606, 2.1014, 2.06, 2.0419, 2.0413, 2.0323, 1.9965, 1.995, 1.9947, 1.9801, 1.9502, 1.9497, 1.9483, 1.947, 1.9284, 1.8367, 1.9349, 1.8088, 1.7351, 1.871, 1.7087, 1.1617, 1.5441, 1.0652, 1.173, 0.7776, 1.0374, 1.0227, 0.5545, 1.103, 0.1597, 0.4775, 0.953, 0.8164, 1.2161, 0.138, 0.6667, 0.3113, 0.8652, 0.6668, 0.2422, 0.3426, 0.4567, 0.5822, 0.3359, 0.636, -0.0771, 0.2187, 0.317, 0.0897, 0.6629, 0.0066, 0.2696, 0.0937, 0.2124, -0.0891, -0.1554, -0.3013, 0.0333, 0.1689, 0.2032, 0.0973, 0.0595, 0.014, 0.2124, -0.0223, -0.123, -0.6843, -0.3753, -0.2815, -0.1932, 1.7552, 1.7425, 1.7349, 1.7239, 1.7206, 1.6847, 1.6489, 1.6486, 1.6341, 1.6295, 1.6293, 1.6228, 1.6193, 1.617, 1.6109, 1.6042, 1.5919, 1.5856, 1.5829, 1.5754, 1.5719, 1.5668, 1.5609, 1.5576, 1.5539, 1.5529, 1.552, 1.5494, 1.5421, 1.539, 1.5148, 1.514, 1.52, 1.4799, 1.5163, 1.3104, 1.0845, 1.0512, 1.5086, 1.093, 0.8753, 0.7275, 1.153, 1.0123, 1.1958, 1.3209, 0.7192, 1.2341, 0.8979, 0.5444, 0.6332, 0.8635, 0.8422, 0.8671, 0.5811, 0.6199, 0.7159, 0.5329, 0.8514, 0.1184, 0.7991, 0.1118, 0.2908, 0.2904, 0.7492, 0.3196, 0.6466, 0.3178, 0.4055, 0.4218, 0.1123, 0.138, 0.364, 0.1566, 0.0234, 0.1064, -0.0496, 0.0561, 0.2802, -0.0502, -0.1482, -0.3329, -0.1782, -0.2167, 0.1894, 0.1293, -0.9798, -0.0399, -0.4637, -0.0043, 0.069, -0.1957, 1.8841, 1.8627, 1.8169, 1.7803, 1.777, 1.7693, 1.7586, 1.7559, 1.7393, 1.7299, 1.729, 1.7254, 1.7245, 1.7202, 1.7093, 1.7032, 1.7015, 1.701, 1.6993, 1.6987, 1.698, 1.6901, 1.6882, 1.6859, 1.6742, 1.6721, 1.6682, 1.6645, 1.6614, 1.6568, 1.6519, 1.6492, 1.6254, 1.5658, 1.6397, 1.5749, 1.6407, 1.5996, 1.6175, 1.5652, 1.622, 1.639, 1.5274, 1.5577, 1.4709, 0.7775, 1.4729, 1.5415, 1.3627, 1.4449, 1.3804, 1.5434, 1.0429, 0.5341, 0.748, 0.5284, 0.4782, 0.3537, 0.7018, 0.7876, 0.4378, 0.5545, 0.7217, 0.4373, 0.4707, 0.6612, 0.2774, 0.5058, 0.2565, 0.0301, 0.5524, 0.1948, 0.4718, 0.3448, 0.0588, 0.1597, 0.3325, 0.0608, 0.1637, 0.0228, 0.2197, 0.1493, -0.2268, 0.084, -0.0905, 0.1743, -0.0831, 0.0757, 0.0662, 0.0868, 0.0892, -0.7015, -0.1358, -0.1032, 2.3801, 2.344, 2.3292, 2.2619, 2.2047, 2.1948, 2.1914, 2.1705, 2.1521, 2.1483, 2.1341, 2.1122, 2.0793, 2.0748, 2.0665, 2.0583, 2.0576, 2.0391, 2.0329, 2.0315, 2.0294, 2.0126, 1.9963, 1.9961, 1.9806, 1.9695, 1.9555, 1.9505, 1.9457, 1.944, 1.9338, 1.8999, 1.9041, 1.7914, 1.9194, 1.8017, 1.5674, 1.6399, 1.671, 1.535, 1.0099, 1.0446, 1.4739, 1.8481, 0.7456, 0.686, 1.1437, 0.229, 0.4687, 0.5792, 0.6797, 0.2442, 0.5773, 0.0396, 0.9128, 0.2846, 0.5087, 0.2562, 0.1661, 0.0989, 0.8154, 0.4388, 0.1332, 0.1314, 0.0619, -0.4746, 0.6189, -0.1089, 0.2233, 0.3887, 0.0177, 0.2162, 0.0868, 0.0868, -0.2893, 0.2139, 0.098, -0.3195, -0.4056, 0.0662, 0.1174, -0.0214, -0.1318]}, \"token.table\": {\"Topic\": [1, 2, 3, 4, 5, 6, 7, 8, 9, 10, 3, 6, 8, 10, 1, 2, 3, 4, 5, 6, 7, 8, 9, 10, 2, 4, 5, 6, 9, 1, 2, 3, 4, 5, 6, 7, 8, 9, 2, 6, 7, 10, 2, 6, 10, 1, 2, 3, 4, 5, 6, 7, 8, 9, 10, 1, 5, 6, 1, 2, 3, 4, 5, 6, 7, 8, 9, 10, 1, 2, 3, 4, 5, 6, 7, 8, 9, 10, 1, 2, 3, 4, 5, 6, 7, 8, 9, 10, 5, 7, 9, 1, 2, 3, 5, 7, 8, 2, 3, 4, 5, 6, 8, 5, 6, 8, 9, 10, 1, 2, 3, 4, 5, 6, 8, 9, 10, 1, 2, 3, 4, 5, 6, 7, 8, 9, 10, 3, 8, 9, 10, 2, 3, 6, 8, 1, 2, 3, 4, 5, 6, 7, 8, 9, 10, 1, 2, 3, 4, 5, 6, 7, 8, 9, 10, 1, 2, 3, 4, 5, 6, 7, 8, 9, 10, 4, 5, 1, 2, 3, 4, 5, 6, 7, 8, 9, 10, 1, 2, 3, 4, 5, 6, 7, 8, 9, 10, 1, 2, 3, 4, 5, 6, 7, 8, 9, 10, 1, 2, 3, 4, 5, 6, 7, 8, 9, 10, 1, 2, 3, 4, 5, 6, 7, 8, 9, 10, 1, 2, 4, 5, 7, 8, 9, 1, 2, 3, 4, 5, 6, 7, 8, 9, 10, 1, 2, 3, 4, 5, 6, 7, 8, 9, 10, 3, 4, 5, 6, 8, 10, 5, 9, 1, 2, 3, 4, 5, 6, 7, 8, 9, 10, 4, 8, 5, 6, 9, 2, 4, 5, 10, 1, 3, 4, 5, 6, 8, 2, 3, 4, 5, 6, 7, 8, 9, 10, 2, 6, 1, 2, 3, 4, 5, 6, 7, 8, 9, 10, 2, 3, 4, 5, 6, 8, 6, 8, 1, 2, 3, 4, 5, 6, 7, 8, 9, 10, 3, 4, 5, 6, 7, 8, 9, 10, 2, 3, 4, 6, 7, 8, 9, 1, 3, 4, 5, 7, 8, 10, 4, 5, 9, 3, 8, 1, 4, 5, 1, 3, 4, 5, 6, 9, 10, 1, 2, 3, 4, 5, 6, 7, 8, 9, 10, 1, 2, 3, 4, 5, 6, 7, 8, 9, 10, 4, 10, 1, 4, 5, 7, 10, 5, 6, 1, 2, 3, 4, 5, 6, 7, 8, 10, 1, 2, 3, 4, 5, 6, 7, 8, 9, 10, 6, 8, 6, 8, 3, 4, 5, 9, 1, 2, 3, 4, 5, 6, 7, 8, 9, 10, 6, 8, 1, 2, 3, 4, 5, 6, 7, 8, 9, 10, 3, 5, 1, 2, 3, 4, 5, 6, 7, 8, 9, 10, 3, 4, 7, 8, 9, 1, 2, 3, 4, 5, 6, 7, 8, 9, 10, 1, 2, 3, 5, 6, 8, 10, 6, 8, 3, 6, 8, 9, 10, 3, 4, 5, 8, 10, 1, 2, 3, 4, 5, 6, 7, 8, 9, 10, 1, 2, 3, 4, 5, 6, 7, 8, 9, 10, 1, 2, 3, 4, 5, 6, 7, 8, 9, 10, 3, 10, 1, 2, 3, 6, 7, 8, 9, 10, 7, 8, 1, 5, 7, 1, 2, 3, 4, 5, 6, 7, 8, 9, 10, 1, 6, 7, 2, 4, 5, 1, 2, 3, 4, 5, 6, 7, 8, 9, 10, 2, 4, 5, 6, 8, 9, 1, 2, 3, 4, 5, 6, 7, 8, 9, 10, 1, 2, 3, 4, 5, 6, 7, 8, 9, 10, 2, 1, 2, 3, 4, 5, 6, 7, 8, 9, 10, 1, 2, 3, 4, 5, 6, 7, 8, 9, 10, 9, 10, 1, 2, 3, 4, 5, 6, 7, 8, 9, 10, 1, 2, 3, 4, 5, 7, 9, 1, 2, 3, 4, 5, 6, 7, 8, 9, 10, 7, 8, 1, 2, 3, 4, 5, 6, 7, 8, 9, 10, 1, 2, 3, 4, 5, 6, 7, 8, 9, 10, 2, 3, 10, 5, 6, 10, 1, 3, 5, 1, 2, 3, 4, 5, 6, 7, 8, 9, 10, 1, 2, 3, 5, 6, 7, 8, 1, 2, 3, 4, 5, 6, 7, 8, 9, 10, 1, 2, 3, 4, 5, 6, 7, 8, 9, 10, 1, 3, 4, 5, 6, 7, 9, 10, 1, 2, 3, 4, 5, 6, 7, 8, 9, 10, 1, 2, 3, 4, 5, 6, 7, 8, 9, 10, 1, 2, 3, 4, 5, 6, 8, 9, 10, 2, 9, 1, 2, 8, 4, 8, 9, 10, 1, 2, 3, 4, 5, 6, 7, 8, 9, 10, 1, 2, 3, 4, 5, 6, 7, 8, 9, 10, 1, 2, 3, 4, 6, 8, 9, 10, 1, 2, 3, 4, 5, 6, 7, 8, 9, 10, 2, 3, 5, 7, 9, 1, 2, 3, 4, 5, 6, 7, 10, 1, 2, 3, 4, 5, 6, 7, 8, 9, 10, 1, 2, 3, 4, 5, 6, 7, 8, 9, 10, 1, 3, 4, 5, 6, 8, 10, 6, 8, 1, 2, 3, 4, 5, 6, 7, 8, 9, 10, 1, 2, 5, 7, 8, 9, 10, 1, 2, 3, 4, 5, 6, 7, 8, 9, 10, 1, 2, 3, 4, 5, 6, 7, 8, 9, 10, 1, 2, 3, 4, 5, 6, 7, 8, 9, 10, 1, 3, 4, 5, 7, 8, 1, 2, 3, 4, 5, 6, 7, 8, 9, 10, 1, 2, 3, 4, 5, 6, 8, 10, 1, 2, 3, 4, 5, 6, 7, 8, 9, 10, 1, 3, 4, 5, 8, 9, 10, 1, 5, 6, 8, 10, 3, 4, 5, 6, 8, 3, 4, 4, 8, 1, 2, 3, 4, 5, 6, 7, 8, 9, 10, 1, 2, 3, 4, 5, 6, 7, 8, 9, 10, 2, 3, 4, 5, 6, 7, 8, 9, 10, 1, 2, 3, 4, 5, 6, 7, 8, 9, 10, 1, 2, 3, 4, 5, 6, 7, 8, 9, 10, 1, 2, 3, 4, 5, 6, 7, 8, 9, 10, 1, 2, 3, 4, 5, 6, 7, 8, 9, 10, 1, 3, 9, 1, 2, 3, 4, 5, 6, 7, 8, 9, 10, 1, 2, 3, 4, 5, 6, 7, 8, 9, 10, 3, 4, 5, 8, 10, 1, 3, 5, 9, 1, 2, 3, 5, 6, 9, 1, 2, 3, 4, 5, 6, 7, 8, 9, 10, 1, 2, 3, 4, 5, 6, 7, 8, 9, 10, 1, 2, 3, 4, 5, 6, 7, 8, 9, 10, 2, 3, 4, 5, 6, 8, 9, 10, 1, 2, 3, 4, 5, 6, 7, 8, 9, 10, 3, 5, 6, 9, 10, 1, 3, 6, 7, 9, 1, 2, 3, 5, 6, 7, 9, 10, 1, 2, 3, 4, 5, 6, 7, 8, 9, 10, 3, 4, 5, 7, 9, 1, 2, 3, 4, 5, 6, 7, 8, 9, 10, 1, 2, 3, 5, 6, 7, 8, 10, 1, 2, 3, 4, 5, 6, 7, 8, 9, 10, 1, 2, 3, 4, 5, 6, 7, 8, 9, 10, 1, 2, 6, 7, 8, 10, 1, 2, 3, 4, 5, 6, 7, 8, 9, 10, 1, 2, 3, 4, 5, 6, 7, 8, 9, 10, 1, 2, 3, 4, 5, 8, 9, 10, 2, 4, 8, 9, 4, 5, 8, 9, 1, 2, 6, 7, 8, 3, 6, 9, 10, 1, 2, 3, 4, 5, 6, 7, 8, 9, 10, 3, 4, 5, 6, 7, 8, 9, 10, 3, 4, 8, 9, 1, 2, 3, 4, 5, 6, 7, 8, 9, 10, 1, 2, 3, 4, 5, 6, 7, 8, 9, 10, 1, 3, 4, 5, 6, 7, 9, 4, 7, 8, 9, 2, 6, 9, 1, 2, 3, 4, 5, 6, 7, 8, 9, 10, 1, 2, 3, 4, 5, 6, 7, 8, 9, 10, 1, 2, 3, 4, 5, 6, 7, 8, 9, 10, 1, 2, 3, 4, 5, 6, 7, 8, 9, 1, 2, 3, 4, 5, 6, 7, 8, 9, 10, 1, 3, 5, 8, 9, 2, 6, 10, 1, 2, 3, 4, 5, 8, 9, 4, 5, 1, 2, 3, 4, 5, 6, 7, 8, 9, 10, 1, 2, 3, 4, 5, 6, 7, 8, 9, 10, 1, 2, 3, 4, 5, 6, 7, 8, 9, 10, 3, 10, 10, 1, 2, 3, 4, 5, 6, 7, 8, 9, 10, 1, 2, 3, 4, 5, 6, 7, 8, 9, 10, 1, 2, 3, 4, 5, 6, 7, 8, 9, 10, 4, 10, 2, 3, 4, 8, 9, 10, 1, 2, 3, 6, 7, 8, 9, 3, 4, 1, 2, 3, 4, 5, 6, 7, 8, 9, 10, 1, 3, 4, 5, 6, 7, 8, 9, 10, 2, 3, 5, 8, 2, 3, 5, 8, 2, 3, 4, 5, 9, 1, 10, 1, 2, 3, 4, 5, 6, 7, 8, 9, 10, 1, 2, 3, 4, 5, 6, 7, 8, 9, 10, 5, 6, 9, 1, 4, 6, 9, 10, 3, 4, 5, 6, 7, 1, 2, 4, 6, 7, 8, 10, 1, 2, 3, 4, 5, 6, 7, 8, 9, 10, 1, 2, 3, 4, 5, 6, 8, 9, 5, 6, 9, 1, 2, 3, 4, 5, 6, 7, 8, 9, 10, 1, 7, 1, 2, 3, 4, 5, 6, 7, 8, 9, 10, 1, 2, 3, 4, 5, 6, 7, 8, 9, 10, 1, 2, 3, 4, 5, 6, 7, 8, 9, 10, 1, 6, 8, 2, 4, 5, 9, 1, 2, 3, 4, 6, 8, 9, 10, 1, 2, 3, 4, 5, 6, 7, 8, 9, 10, 2, 3, 5, 6, 8, 9, 10, 2, 3, 6, 8, 9, 10, 1, 2, 3, 4, 5, 6, 7, 8, 9, 10, 1, 2, 3, 4, 5, 6, 7, 8, 9, 10, 1, 3, 5, 6, 7, 9, 1, 2, 3, 5, 7, 8, 9, 10, 1, 2, 3, 4, 5, 6, 7, 8, 9, 10, 1, 2, 3, 4, 5, 6, 7, 8, 9, 10, 1, 2, 3, 4, 5, 6, 7, 8, 9, 10, 4, 9, 10, 1, 2, 3, 4, 5, 6, 7, 8, 9, 10, 1, 5, 7, 8, 10, 1, 2, 3, 4, 5, 6, 7, 8, 9, 10, 1, 4, 7, 1, 2, 3, 4, 5, 6, 7, 8, 9, 10, 1, 2, 3, 4, 5, 6, 7, 8, 9, 10, 4, 5, 7, 8, 3, 4, 5, 6, 9, 10, 2, 3, 4, 6, 8, 9, 10, 1, 2, 3, 1, 2, 3, 4, 5, 6, 7, 8, 9, 10, 1, 2, 3, 4, 5, 6, 7, 8, 9, 10, 2, 3, 5, 1, 2, 3, 4, 5, 6, 7, 8, 9, 10, 1, 2, 3, 6, 8, 9, 10, 1, 2, 3, 4, 5, 6, 7, 8, 9, 10, 1, 2, 5, 6, 7, 8, 9, 2, 3, 4, 6, 7, 8, 9, 1, 4, 5, 7, 10, 1, 3, 4, 5, 6, 7, 8, 9, 10, 1, 2, 3, 4, 5, 6, 7, 8, 9, 10, 2, 4, 8, 1, 2, 3, 4, 5, 6, 7, 8, 9, 10, 2, 3, 4, 5, 6, 8, 9, 10, 4, 5, 6, 9, 1, 2, 3, 4, 5, 6, 7, 8, 9, 10, 3, 8, 9, 1, 3, 4, 5, 6, 7, 8, 9, 1, 2, 3, 4, 5, 6, 7, 8, 9, 10, 3, 4, 6, 7, 9, 10, 3, 5, 8, 10, 3, 5, 8, 10, 1, 2, 3, 4, 5, 6, 7, 8, 9, 10, 5, 6, 9, 3, 5, 6, 9, 1, 2, 3, 4, 5, 6, 7, 8, 9, 10, 1, 2, 4, 5, 6, 9, 3, 4, 7, 8, 9, 1, 6, 7, 1, 3, 3, 4, 5, 6, 9, 10, 4, 5, 6, 9, 4, 5, 6, 9, 1, 2, 3, 4, 5, 6, 7, 8, 9, 10, 3, 5, 9, 1, 2, 5, 6, 8, 9, 2, 4, 5, 10, 1, 1, 2, 3, 4, 5, 6, 7, 8, 9, 10, 1, 2, 3, 4, 5, 6, 7, 8, 9, 10, 1, 2, 4, 5, 6, 8, 9, 1, 2, 6, 10, 1, 3, 8, 9, 2, 3, 5, 7, 8, 9, 1, 2, 3, 4, 5, 6, 7, 8, 9, 10, 1, 2, 3, 4, 5, 6, 7, 8, 9, 10, 1, 2, 3, 4, 5, 6, 7, 8, 9, 10, 1, 2, 3, 4, 5, 8, 9, 1, 2, 3, 4, 5, 6, 7, 8, 9, 10, 3, 5, 7, 8, 9, 1, 2, 3, 4, 5, 6, 7, 8, 9, 10, 3, 4, 5, 6, 7, 8, 9, 10, 1, 2, 3, 5, 8, 10, 2, 3, 4, 6, 7, 10, 2, 3, 8, 1, 2, 3, 4, 5, 6, 7, 8, 9, 10, 1, 4, 5, 7, 8, 9, 1, 2, 3, 4, 5, 6, 7, 8, 9, 10, 5, 6, 7, 1, 2, 3, 4, 5, 6, 7, 8, 9, 10, 2, 3, 4, 5, 6, 7, 8, 9, 10, 1, 3, 4, 5, 8, 9, 10, 1, 2, 3, 4, 5, 6, 7, 8, 9, 10, 2, 4, 8, 1, 2, 3, 4, 5, 6, 7, 8, 9, 10, 2, 3, 6, 7, 10, 4, 9, 10, 2, 3, 4, 5, 6, 7, 1, 4, 7, 8, 1, 2, 3, 4, 5, 6, 7, 8, 9, 10, 1, 2, 3, 4, 5, 6, 7, 8, 9, 10, 3, 4, 5, 6, 8, 10, 2, 9, 1, 2, 3, 4, 5, 6, 7, 8, 9, 10, 1, 2, 3, 4, 5, 6, 8, 9, 10, 1, 5, 7, 8, 1, 5, 8, 10, 1, 2, 3, 4, 7, 8, 9, 10, 1, 2, 3, 4, 5, 6, 7, 8, 9, 10, 1, 2, 3, 4, 5, 6, 7, 8, 9, 10, 2, 4, 5, 7, 9, 10, 1, 2, 3, 4, 5, 6, 7, 8, 9, 10, 1, 7, 1, 2, 3, 4, 5, 6, 7, 8, 9, 10, 1, 2, 3, 4, 5, 6, 7, 8, 9, 10, 1, 2, 3, 4, 5, 6, 7, 9, 6, 9, 6, 1, 2, 3, 4, 5, 6, 7, 8, 9, 10, 1, 3, 4, 5, 8, 9, 10, 1, 2, 3, 4, 5, 6, 7, 8, 9, 10, 1, 2, 3, 4, 5, 6, 7, 8, 9, 10, 1, 2, 3, 4, 5, 6, 7, 8, 9, 10, 3, 6, 7, 1, 2, 3, 4, 5, 6, 7, 8, 9, 10, 1, 2, 3, 4, 5, 6, 7, 8, 9, 10, 3, 8, 2, 6, 7, 8, 9, 10, 1, 2, 3, 4, 5, 6, 7, 8, 9, 10, 1, 2, 6, 1, 2, 3, 4, 5, 6, 7, 8, 9, 10, 1, 2, 5, 7, 1, 2, 3, 4, 6, 8, 9, 10, 1, 2, 3, 4, 5, 8, 9, 1, 2, 3, 4, 5, 6, 7, 8, 9, 10, 1, 2, 3, 4, 5, 6, 7, 8, 9, 10, 1, 2, 4, 5, 6, 7, 1, 2, 3, 4, 5, 6, 7, 8, 9, 10, 3, 4, 5, 6, 7, 8, 10, 1, 5, 6, 7, 8, 1, 3, 4, 6, 10, 1, 2, 3, 4, 6, 7, 9, 4, 5, 6, 8, 9, 1, 2, 3, 4, 5, 6, 7, 8, 9, 10, 1, 5, 7, 8, 1, 2, 3, 4, 5, 6, 7, 8, 9, 10, 1, 8, 10, 1, 2, 3, 4, 5, 6, 7, 8, 9, 10, 1, 2, 3, 4, 5, 6, 7, 8, 9, 10, 2, 3, 4, 5, 6, 7, 8, 9, 10, 1, 2, 3, 4, 5, 6, 7, 8, 9, 10, 2, 5, 6, 8, 1, 2, 3, 4, 5, 6, 7, 8, 9, 10, 1, 2, 3, 4, 5, 6, 7, 8, 9, 10, 1, 2, 3, 4, 5, 6, 7, 8, 9, 10, 1, 2, 3, 4, 5, 6, 7, 8, 9, 10, 1, 2, 3, 4, 5, 6, 7, 8, 9, 10, 1, 6, 8, 10, 4, 5, 6, 1, 2, 3, 4, 5, 6, 7, 8, 9, 10, 1, 3, 5, 6, 8, 1, 2, 3, 4, 5, 6, 7, 8, 9, 10, 1, 2, 3, 4, 5, 6, 7, 8, 9, 10, 1, 3, 5, 8, 9, 3, 4, 5, 6, 8, 9, 10, 1, 3, 4, 9, 10, 1, 2, 3, 4, 5, 6, 7, 8, 9, 10, 2, 3, 4, 5, 7, 8, 9, 10, 1, 2, 3, 4, 5, 6, 7, 8, 9, 10, 1, 2, 3, 4, 5, 6, 7, 8, 9, 10, 6, 1, 2, 3, 4, 5, 6, 7, 8, 9, 10, 1, 2, 3, 4, 5, 8, 9, 1, 2, 3, 4, 5, 6, 7, 8, 9, 10, 1, 2, 3, 4, 5, 6, 7, 8, 9, 10, 6, 9, 1, 2, 3, 4, 5, 6, 7, 8, 9, 10, 1, 2, 3, 4, 5, 6, 7, 8, 9, 10, 1, 3, 4, 5, 6, 7, 8, 2, 3, 5, 6, 7, 8, 9, 10, 1, 3, 7, 8, 10, 1, 2, 3, 4, 5, 6, 7, 8, 9, 10, 1, 2, 3, 4, 5, 6, 7, 8, 9, 10, 5, 6, 7, 9, 2, 3, 4, 5, 6, 8, 4, 5, 6, 8, 3, 4, 6, 10, 1, 2, 3, 5, 7, 8, 9, 10, 1, 2, 3, 4, 5, 6, 7, 8, 9, 10, 1, 2, 3, 4, 5, 6, 7, 8, 9, 10, 1, 2, 8, 5, 6, 7, 9, 1, 2, 3, 4, 5, 6, 7, 8, 9, 10, 3, 4, 9, 4, 5, 6, 2, 3, 5, 8, 1, 2, 3, 4, 5, 6, 7, 8, 9, 10, 1, 2, 3, 4, 5, 6, 7, 8, 9, 10, 1, 2, 3, 4, 5, 6, 7, 8, 9, 10, 2, 4, 5, 8, 9, 10, 1, 3, 8, 9, 4, 5, 6, 8, 9, 9, 10, 2, 3, 4, 8, 6, 7, 8, 3, 7, 8, 10, 1, 2, 3, 4, 5, 6, 7, 8, 9, 10, 1, 2, 3, 4, 5, 6, 7, 8, 9, 10, 1, 2, 3, 4, 5, 6, 7, 8, 9, 10, 1, 2, 3, 4, 5, 6, 7, 8, 9, 10, 1, 2, 3, 4, 5, 6, 7, 8, 9, 10, 1, 3, 4, 5, 6, 7, 8, 9, 10, 1, 2, 3, 4, 5, 6, 7, 8, 9, 10, 1, 2, 3, 4, 5, 6, 7, 8, 9, 10, 1, 2, 3, 4, 5, 6, 7, 8, 9, 10, 1, 2, 3, 4, 5, 6, 7, 8, 9, 10, 3, 5, 6, 9, 1, 2, 3, 4, 5, 6, 7, 8, 9, 10, 1, 2, 3, 4, 5, 6, 7, 8, 9, 10, 1, 2, 3, 4, 5, 6, 8, 9, 10, 1, 2, 3, 4, 5, 6, 7, 8, 9, 10, 1, 2, 3, 4, 5, 6, 7, 8, 9, 10, 2, 3, 4, 5, 7, 8, 9, 10, 1, 2, 3, 4, 5, 6, 7, 8, 9, 10, 1, 2, 3, 4, 5, 6, 7, 8, 9, 10, 1, 2, 3, 4, 6, 7, 8, 1, 2, 3, 5, 6, 7, 8, 9, 10, 1, 2, 3, 4, 5, 6, 7, 8, 9, 10, 1, 2, 3, 4, 5, 6, 7, 8, 9, 10, 1, 2, 3, 4, 5, 6, 7, 8, 9, 10, 1, 3, 5, 6, 7, 9, 10, 3, 5, 1, 2, 3, 4, 5, 6, 7, 8, 9, 10, 1, 3, 5, 6, 7, 9, 1, 2, 3, 4, 5, 6, 7, 8, 9, 10, 1, 2, 3, 4, 5, 6, 7, 8, 9, 10, 1, 2, 3, 4, 5, 6, 7, 8, 9, 10, 1, 2, 3, 4, 5, 6, 7, 8, 9, 10, 4, 7, 8, 5, 6, 10, 5, 6, 10, 1, 5, 6, 1, 5, 6, 1, 4, 5, 6, 8, 1, 5, 1, 5, 6, 3, 5, 6, 1, 2, 3, 4, 5, 6, 7, 8, 9, 10, 3, 4, 5, 6, 7, 1, 2, 3, 4, 5, 6, 7, 8, 9, 10, 1, 2, 3, 4, 5, 6, 7, 8, 9, 10, 3, 4, 5, 6, 8, 9, 5, 9, 3, 5, 9, 10, 3, 4, 5, 10, 4, 5, 9, 1, 2, 3, 4, 5, 6, 7, 8, 9, 10, 3, 5, 8, 10, 3, 7, 8, 5, 7, 8, 4, 7, 8, 10, 1, 2, 3, 4, 5, 6, 7, 8, 9, 10, 1, 2, 3, 4, 5, 6, 7, 8, 9, 10, 1, 4, 6, 7, 9, 10, 10, 1, 2, 3, 4, 5, 6, 7, 8, 9, 10, 1, 3, 4, 8, 1, 2, 3, 4, 5, 6, 7, 8, 9, 10, 1, 4, 6, 7, 8, 9, 1, 2, 3, 4, 5, 6, 7, 8, 9, 10, 1, 2, 3, 5, 6, 9, 10, 1, 2, 3, 4, 5, 6, 7, 8, 9, 10, 1, 2, 3, 4, 5, 6, 7, 8, 9, 10, 1, 2, 3, 4, 5, 6, 7, 8, 9, 10, 4, 5, 1, 2, 3, 4, 5, 6, 7, 8, 9, 10, 2, 6, 3, 4, 5, 6, 7, 8, 9, 10, 1, 3, 4, 5, 6, 7, 8, 9, 10, 1, 5, 6, 3, 4, 5, 6, 7, 8, 9, 10, 1, 3, 4, 5, 6, 7, 8, 9, 10, 1, 2, 3, 6, 1, 6, 10, 2, 4, 5, 6, 8, 9, 1, 3, 4, 5, 6, 7, 8, 9, 10, 1, 3, 4, 5, 6, 7, 8, 9, 10, 1, 2, 5, 7, 8, 10, 1, 3, 4, 8, 4, 7, 8, 10, 1, 3, 4, 6, 7, 8, 10, 2, 6, 8, 9, 5, 6, 9, 1, 2, 3, 4, 5, 7, 8, 9, 1, 2, 3, 4, 5, 6, 7, 8, 9, 10, 1, 5, 6, 9, 10, 5, 6, 9, 1, 2, 3, 4, 5, 6, 7, 8, 9, 10, 1, 2, 3, 4, 5, 6, 7, 8, 9, 10, 5, 6, 7, 9, 2, 3, 6, 7, 10, 1, 2, 3, 4, 5, 6, 7, 8, 9, 10, 1, 2, 3, 4, 5, 6, 7, 8, 9, 10, 1, 2, 3, 4, 5, 6, 7, 8, 9, 10, 6, 7, 1, 2, 3, 4, 5, 7, 8, 10, 1, 2, 5, 6, 9, 2, 3, 4, 5, 7, 8, 9, 1, 2, 3, 4, 5, 8, 9, 4, 5, 6, 7, 1, 2, 3, 4, 5, 6, 7, 8, 9, 10, 1, 3, 5, 10, 1, 2, 3, 4, 5, 6, 7, 8, 9, 10, 1, 2, 3, 4, 5, 6, 7, 8, 9, 10, 1, 2, 3, 4, 5, 6, 7, 8, 9, 10, 1, 2, 3, 4, 6, 7, 9, 1, 2, 3, 4, 5, 6, 9, 10, 1, 2, 3, 6, 7, 8, 9, 10, 1, 2, 3, 4, 5, 6, 7, 8, 9, 10, 3, 4, 1, 2, 3, 4, 5, 6, 7, 8, 9, 10, 1, 2, 3, 4, 5, 6, 7, 8, 9, 10, 1, 2, 3, 4, 5, 6, 7, 8, 9, 10, 1, 2, 3, 4, 5, 6, 7, 8, 9, 10, 1, 2, 3, 4, 5, 6, 7, 8, 9, 10, 1, 2, 3, 4, 5, 6, 7, 8, 9, 10, 1, 3, 6, 1, 2, 3, 4, 5, 6, 7, 8, 9, 10, 1, 2, 3, 4, 5, 6, 7, 8, 9, 10, 1, 2, 3, 4, 5, 6, 7, 8, 9, 10, 1, 2, 3, 4, 5, 6, 7, 8, 9, 10, 2, 8, 2, 4, 6, 9, 1, 2, 3, 4, 5, 6, 7, 8, 9, 10, 1, 2, 4, 5, 6, 8, 9, 2, 5, 6, 7, 8, 9, 10, 4, 5, 6, 1, 2, 3, 4, 5, 6, 7, 8, 9, 10, 5, 9, 7, 1, 2, 3, 4, 5, 6, 7, 8, 9, 10, 1, 2, 3, 4, 5, 6, 7, 8, 9, 10, 1, 2, 3, 4, 5, 6, 7, 8, 9, 10, 1, 2, 3, 4, 5, 6, 7, 8, 9, 10, 5, 6, 9, 10, 6, 7, 9, 10, 1, 2, 3, 4, 5, 7, 8, 9, 10, 1, 2, 4, 5, 6, 8, 9, 1, 2, 4, 5, 6, 8, 9, 1, 2, 4, 5, 6, 8, 9, 1, 2, 4, 5, 6, 8, 9, 3, 6, 1, 2, 3, 4, 5, 6, 7, 8, 9, 10, 1, 2, 3, 4, 5, 6, 7, 8, 9, 10, 3, 5, 6, 9, 1, 2, 3, 4, 5, 6, 7, 8, 9, 10, 5, 6, 9, 8, 2, 3, 4, 5, 6, 7, 8, 9, 10, 1, 2, 3, 4, 5, 6, 7, 8, 9, 10, 1, 2, 3, 6, 8, 9, 3, 4, 5, 6, 7, 9, 10, 1, 2, 3, 4, 5, 6, 7, 8, 9, 10, 1, 2, 3, 4, 5, 6, 7, 8, 9, 10, 2, 5, 1, 2, 3, 4, 5, 6, 7, 8, 9, 10, 1, 2, 3, 4, 5, 6, 7, 8, 9, 10, 1, 2, 3, 4, 5, 6, 7, 8, 9, 10, 1, 2, 3, 4, 5, 6, 7, 8, 9, 10, 1, 2, 3, 4, 5, 6, 7, 8, 9, 10, 1, 2, 3, 4, 5, 6, 7, 8, 9, 10, 1, 2, 3, 4, 5, 6, 7, 8, 9, 10, 6, 8, 2, 5, 10, 5, 7, 8, 10, 1, 2, 3, 4, 5, 6, 7, 8, 9, 10, 6, 9, 10, 1, 3, 4, 5, 6, 7, 8, 9, 10, 1, 2, 3, 4, 5, 6, 7, 8, 9, 10, 3, 8, 10, 1, 3, 4, 8, 9, 10, 3, 7, 8, 9, 10, 2, 3, 5, 6, 9, 1, 2, 3, 4, 5, 6, 7, 8, 9, 10, 4, 10, 1, 2, 3, 4, 5, 6, 7, 8, 9, 10, 1, 2, 3, 4, 5, 6, 7, 8, 9, 10, 6, 9, 4, 10, 4, 7, 1, 3, 5, 6, 7, 8, 10, 1, 2, 3, 4, 5, 6, 7, 8, 9, 10, 4, 7, 10, 1, 2, 3, 4, 5, 6, 7, 8, 9, 10, 4, 9, 10, 1, 2, 3, 4, 6, 8, 9, 10, 3, 4, 5, 6, 7, 8, 9, 10, 3, 5, 6, 7, 9, 10], \"Freq\": [0.0735382415724586, 0.03566050407910681, 0.14966325546153633, 0.14735363732169782, 0.08351579193656102, 0.06254445922682722, 0.06014245636139516, 0.1863399915221721, 0.14273440104202076, 0.05857191602630497, 0.08120235055151777, 0.08120235055151777, 0.16240470110303554, 0.6496188044121421, 0.022656465164319316, 0.030208620219092423, 0.2718775819718318, 0.06041724043818485, 0.06796939549295795, 0.030208620219092423, 0.35495128757433597, 0.09817801571205037, 0.022656465164319316, 0.04531293032863863, 0.08196241978409881, 0.08196241978409881, 0.08196241978409881, 0.4917745187045929, 0.16392483956819762, 0.01617466955531701, 0.1617466955531701, 0.01617466955531701, 0.08087334777658504, 0.06469867822126804, 0.45289074754887626, 0.01617466955531701, 0.12939735644253608, 0.04852400866595103, 0.5008700390141014, 0.20034801560564058, 0.10017400780282029, 0.10017400780282029, 0.5924035680580343, 0.09873392800967239, 0.09873392800967239, 0.020449229162543284, 0.42943381241340894, 0.08179691665017313, 0.020449229162543284, 0.04089845832508657, 0.06134768748762985, 0.020449229162543284, 0.20449229162543284, 0.06134768748762985, 0.08179691665017313, 0.692558606156439, 0.11542643435940651, 0.11542643435940651, 0.08932712180139732, 0.08266777338946796, 0.19863228883858272, 0.12233682298121959, 0.09822538907595811, 0.09564202115753723, 0.053619236351224356, 0.08192146710192415, 0.11229039218736064, 0.06544532059999547, 0.10464136703545499, 0.08899801115540716, 0.07631420909050353, 0.0752572255850949, 0.18497211344651132, 0.12979757446418053, 0.08329030022620053, 0.08392449032944571, 0.08963220125865234, 0.08350169692728227, 0.012877905041246038, 0.45072667644361136, 0.038633715123738116, 0.07726743024747623, 0.07726743024747623, 0.05151162016498415, 0.025755810082492076, 0.09014533528872228, 0.025755810082492076, 0.14165695545370643, 0.12749776069822716, 0.5099910427929086, 0.12749776069822716, 0.5658274211980923, 0.06858514196340512, 0.10287771294510768, 0.01714628549085128, 0.20575542589021537, 0.05143885647255384, 0.4854295680048662, 0.060678696000608275, 0.030339348000304137, 0.030339348000304137, 0.060678696000608275, 0.3033934800030414, 0.11140671360220204, 0.5570335680110102, 0.11140671360220204, 0.11140671360220204, 0.11140671360220204, 0.02250216578336026, 0.607558476150727, 0.06750649735008078, 0.02250216578336026, 0.02250216578336026, 0.04500433156672052, 0.04500433156672052, 0.02250216578336026, 0.1125108289168013, 0.038311609566939644, 0.06622435367999567, 0.23424812706643097, 0.041048153107435335, 0.0810016887986724, 0.09085324554445687, 0.019155804783469822, 0.3130605810327068, 0.05035240114512068, 0.0651297362637974, 0.08503161669340688, 0.7652845502406619, 0.04251580834670344, 0.04251580834670344, 0.1221930842682081, 0.6720619634751446, 0.1221930842682081, 0.06109654213410405, 0.11782950808707375, 0.08595577765901122, 0.11288612859938812, 0.09525228236719613, 0.08949730326212928, 0.07201102059673387, 0.048548413476076725, 0.19382474498731544, 0.0985724626201193, 0.08566065052541805, 0.02160312949074073, 0.3398892373209875, 0.03600521581790122, 0.03312479855246912, 0.03312479855246912, 0.18722712225308633, 0.005760834530864195, 0.24051484166358014, 0.09937439565740737, 0.0028804172654320974, 0.08692788312017903, 0.07428382739360753, 0.10225880068864697, 0.08266051431246116, 0.08787618729967189, 0.061323670273871755, 0.04204148529085022, 0.10494566253054341, 0.29492259982228014, 0.06274612654311104, 0.17283988911056913, 0.6913595564422765, 0.09773907154343162, 0.12938040691636282, 0.13287108804291395, 0.10314399715873658, 0.055738295407832546, 0.042113378752584585, 0.040536942114787304, 0.15268914863236552, 0.18072720026176006, 0.06519691523461625, 0.11267929599995488, 0.11046989803917145, 0.061863142901936015, 0.3910634390586669, 0.0530255510588023, 0.030931571450968007, 0.04639735717645201, 0.10384170415682116, 0.039769163294101725, 0.04860675513723544, 0.16399447040023382, 0.04709078166111132, 0.10406074828609213, 0.08298515369650386, 0.07656368346998868, 0.06536727384426991, 0.07228270331897856, 0.2617984015425419, 0.07376458106355899, 0.05219502722577723, 0.09009891126246337, 0.09989227118229636, 0.07149152741478072, 0.319263533386555, 0.12045832701394561, 0.11849965502997901, 0.03133875174346552, 0.050925471583131474, 0.05484281555106467, 0.043090783647265096, 0.1644106560230819, 0.05808520182851397, 0.05808520182851397, 0.05267047962416097, 0.03937979784983998, 0.03691856048422498, 0.06448441897911297, 0.3268523221536718, 0.10189522693646094, 0.09746499967835395, 0.05159828167601371, 0.05159828167601371, 0.6191793801121646, 0.10319656335202743, 0.05159828167601371, 0.05159828167601371, 0.05159828167601371, 0.08433895807530806, 0.06392570707618891, 0.17915313705805885, 0.10281832213766855, 0.053074452597709786, 0.14423573403324977, 0.07004968237592465, 0.09588856061428337, 0.14912417045672305, 0.057371979123840136, 0.0996420414918333, 0.08489787306106082, 0.1841594198837129, 0.10496896686037044, 0.0829953997151547, 0.0800465660290002, 0.06183038374194906, 0.08261490504597348, 0.16370783141522205, 0.05517172703127762, 0.11866628175285014, 0.05933314087642507, 0.05933314087642507, 0.5339982678878257, 0.05933314087642507, 0.05933314087642507, 0.10180089679347089, 0.7126062775542962, 0.2506142722269898, 0.005828238888999762, 0.41380496111898313, 0.0077709851853330165, 0.0077709851853330165, 0.1981601222259919, 0.00971373148166627, 0.00971373148166627, 0.08159534444599667, 0.017484716666999287, 0.09806117099947823, 0.6864281969963476, 0.05361942317912839, 0.05361942317912839, 0.8042913476869259, 0.651730266661526, 0.09310432380878943, 0.18620864761757885, 0.09310432380878943, 0.04441073242518769, 0.04441073242518769, 0.17764292970075077, 0.6661609863778154, 0.04441073242518769, 0.04441073242518769, 0.03644969004994685, 0.018224845024973426, 0.054674535074920275, 0.018224845024973426, 0.054674535074920275, 0.0728993800998937, 0.7107689559739635, 0.018224845024973426, 0.018224845024973426, 0.37094552325874025, 0.5564182848881104, 0.011749406372752912, 0.01566587516367055, 0.17624109559129367, 0.05483056307284692, 0.011749406372752912, 0.04699762549101165, 0.2624034089914817, 0.14099287647303493, 0.09007878219110566, 0.18407403317312895, 0.49076972518836387, 0.09201932347281823, 0.030673107824272742, 0.030673107824272742, 0.061346215648545484, 0.2760579704184547, 0.14497058720885167, 0.7248529360442584, 0.09282319732339027, 0.08556328244893516, 0.09697172010879318, 0.03992953180950308, 0.02437257136424214, 0.04459661994308136, 0.03941096646132771, 0.42003793202204537, 0.08141475966353225, 0.07519197548542787, 0.03853297195960395, 0.016514130839830266, 0.22018841119773688, 0.07156123363926449, 0.011009420559886844, 0.005504710279943422, 0.6055181307937764, 0.02752355139971711, 0.02771144766459397, 0.11084579065837588, 0.05542289532918794, 0.4710946102980975, 0.02771144766459397, 0.24940302898134575, 0.02771144766459397, 0.12418485558729891, 0.04139495186243297, 0.08278990372486594, 0.6209242779364946, 0.04139495186243297, 0.04139495186243297, 0.04139495186243297, 0.23554702031384656, 0.647754305863078, 0.05888675507846164, 0.6523066307317662, 0.16307665768294155, 0.12115810123364242, 0.6057905061682121, 0.12115810123364242, 0.05873710337881152, 0.5873710337881153, 0.05873710337881152, 0.05873710337881152, 0.05873710337881152, 0.11747420675762305, 0.05873710337881152, 0.05596399941755533, 0.1927007814996235, 0.10904325659709234, 0.1425062665581048, 0.062310432341195626, 0.07961888576930552, 0.051348411836726025, 0.15000659637695243, 0.10788935970188501, 0.047886721151104046, 0.10532905666491742, 0.07460808180431651, 0.10094034597054587, 0.07483906657770449, 0.06490672132202148, 0.07945876204546402, 0.04019135056950796, 0.12958245787065498, 0.2702521848639329, 0.059594071534098014, 0.10810411045497728, 0.756728773184841, 0.11184077660852057, 0.11184077660852057, 0.11184077660852057, 0.4473631064340823, 0.11184077660852057, 0.2110931054772735, 0.6332793164318204, 0.05013684725653276, 0.05013684725653276, 0.08356141209422126, 0.6183544494972374, 0.11698597693190976, 0.016712282418844253, 0.016712282418844253, 0.016712282418844253, 0.016712282418844253, 0.0987545572977294, 0.0877818287090928, 0.09052501085625196, 0.06857955367897875, 0.0329181857659098, 0.3922750470437585, 0.0164590928829549, 0.0658363715318196, 0.0713227358261379, 0.0713227358261379, 0.1445713608687075, 0.7228568043435375, 0.15147238156024911, 0.6058895262409965, 0.7239401687756295, 0.13162548523193263, 0.06581274261596631, 0.06581274261596631, 0.03859940463198898, 0.03859940463198898, 0.1254480650539642, 0.5210919625318513, 0.03859940463198898, 0.14474776736995867, 0.03859940463198898, 0.028949553473991738, 0.009649851157997245, 0.028949553473991738, 0.14330719192316563, 0.7165359596158282, 0.03452491053392243, 0.011508303511307478, 0.03452491053392243, 0.011508303511307478, 0.11508303511307479, 0.06904982106784487, 0.011508303511307478, 0.023016607022614956, 0.6559733001445263, 0.03452491053392243, 0.747589893800503, 0.12459831563341717, 0.03946797608541722, 0.06732772391041761, 0.14452244184218951, 0.03250303912916712, 0.03598550760729217, 0.03830715325937554, 0.03830715325937554, 0.34534479074740065, 0.2350666222734408, 0.023216456520833657, 0.08782052154811765, 0.08782052154811765, 0.5269231292887059, 0.08782052154811765, 0.08782052154811765, 0.05700308196408403, 0.14392490860544974, 0.20187279303302688, 0.11266769377155282, 0.12298178733135257, 0.07219865491859814, 0.04062650593020353, 0.11928131101600456, 0.06904931337362112, 0.06046735766355875, 0.007324235400013354, 0.021972706200040062, 0.029296941600053417, 0.6225600090011351, 0.014648470800026708, 0.29296941600053417, 0.007324235400013354, 0.14556334493686196, 0.7278167246843098, 0.11269567031657914, 0.07513044687771943, 0.6386087984606151, 0.11269567031657914, 0.037565223438859714, 0.036789604904859455, 0.23913243188158648, 0.5886336784777513, 0.07357920980971891, 0.018394802452429727, 0.013309508892935643, 0.2825711118807875, 0.03992852667880693, 0.0348094847969086, 0.016380934022074637, 0.16892838210264471, 0.007166658634657654, 0.33683295582890976, 0.09726179575606816, 0.0030714251291389947, 0.024576784183197364, 0.04915356836639473, 0.5652660362135393, 0.024576784183197364, 0.07373035254959209, 0.024576784183197364, 0.024576784183197364, 0.07373035254959209, 0.09830713673278946, 0.04915356836639473, 0.20170311902407595, 0.03781933481701424, 0.012606444939004747, 0.012606444939004747, 0.03781933481701424, 0.012606444939004747, 0.07563866963402847, 0.03781933481701424, 0.025212889878009494, 0.5672900222552136, 0.6310455071621215, 0.1262091014324243, 0.05717368832905726, 0.5717368832905726, 0.11434737665811452, 0.05717368832905726, 0.05717368832905726, 0.1715210649871718, 0.05717368832905726, 0.05717368832905726, 0.11796486333208007, 0.8257540433245605, 0.5746878655245767, 0.14367196638114418, 0.14367196638114418, 0.14138961794440577, 0.10374692745271333, 0.06380895095542988, 0.06977669456996648, 0.1634243635980794, 0.19739459648082625, 0.05141440652523846, 0.09043426862028552, 0.08813898261469451, 0.029838718072683037, 0.22442197397845995, 0.22442197397845995, 0.4488439479569199, 0.10107758492924429, 0.6064655095754657, 0.20215516985848858, 0.024066175665297687, 0.024066175665297687, 0.024066175665297687, 0.7460514456242283, 0.012033087832648844, 0.03609926349794653, 0.03609926349794653, 0.03609926349794653, 0.03609926349794653, 0.024066175665297687, 0.12367327237038367, 0.08244884824692245, 0.04122442412346122, 0.4946930894815347, 0.1648976964938449, 0.04122442412346122, 0.03529780811923678, 0.03971003413414138, 0.12354232841732873, 0.03971003413414138, 0.40592479337122295, 0.07059561623847356, 0.026473356089427583, 0.11471787638751953, 0.08824452029809195, 0.05294671217885517, 0.03741329856631345, 0.1100391134303337, 0.07702737940123358, 0.05648674489423796, 0.0924328552814803, 0.07189222077448468, 0.02054063450699562, 0.3873376792747746, 0.06675706214773577, 0.07922816166984026, 0.6417574182978995, 0.011825970824524499, 0.09066577632135449, 0.102491747145879, 0.07489781522198849, 0.09460776659619599, 0.0512458735729395, 0.019709951374207498, 0.46515485243129695, 0.0354779124735735, 0.0512458735729395, 0.07813549761062051, 0.043458793147589825, 0.2068558260443017, 0.05610500085335499, 0.07346844476682622, 0.10242424574391551, 0.04616869479882522, 0.07662999669326752, 0.2367149275718028, 0.0800926488031794, 0.7865567241705193, 0.08739519157450215, 0.06843049592245477, 0.1376048015831971, 0.11826574838772073, 0.08553811990306846, 0.02380191162520166, 0.042397155082390454, 0.16958862032956182, 0.12644765550888382, 0.09743907571566929, 0.13016670420032156, 0.06432357119019706, 0.06432357119019706, 0.06432357119019706, 0.06432357119019706, 0.25729428476078825, 0.38594142714118235, 0.06432357119019706, 0.08043113321696815, 0.05954997363179373, 0.2581787817845949, 0.08700483160489343, 0.08726262369853756, 0.08700483160489343, 0.052847379197046386, 0.07153730598624572, 0.1658892122599968, 0.05014056221378303, 0.38583575913413415, 0.19291787956706707, 0.11750136855106894, 0.07012178445789598, 0.05875068427553447, 0.08812602641330171, 0.026532567092176856, 0.08054529295839404, 0.1440339356432458, 0.12887246873343045, 0.05590790922994409, 0.23026477869282058, 0.09356423881499608, 0.07518161777722626, 0.10996549950138951, 0.12768766708870052, 0.0827768324575024, 0.06131209531759155, 0.0889410646617845, 0.20264913371577387, 0.09048212271285502, 0.06747632752187364, 0.16649493959354722, 0.16649493959354722, 0.6659797583741889, 0.20688039222965754, 0.4137607844593151, 0.20688039222965754, 0.10303020240014646, 0.6181812144008787, 0.10303020240014646, 0.06233930560843751, 0.08727502785181251, 0.037403583365062505, 0.04987144448675001, 0.04987144448675001, 0.037403583365062505, 0.024935722243375005, 0.06233930560843751, 0.012467861121687502, 0.5859894727193126, 0.07327713434969023, 0.07327713434969023, 0.07327713434969023, 0.14655426869938046, 0.5129399404478315, 0.07327713434969023, 0.07327713434969023, 0.07881726848502556, 0.06937493349181117, 0.12904524490726313, 0.07632554119514953, 0.05626057933456899, 0.1018985318017718, 0.059539167873879535, 0.25179559981905003, 0.06819464161765938, 0.10898028304668259, 0.13801829555428172, 0.08285528497159127, 0.10523064267782314, 0.19207361516141613, 0.10589525726315677, 0.05981531268002579, 0.05449839599735683, 0.04984609390002149, 0.1849843929178575, 0.02702765980356721, 0.050333057383451035, 0.10066611476690207, 0.10066611476690207, 0.10066611476690207, 0.5033305738345103, 0.050333057383451035, 0.050333057383451035, 0.050333057383451035, 0.0701758410585853, 0.23221823768477318, 0.11738504322526996, 0.05996844599551835, 0.13142021143698704, 0.09824617748201943, 0.048485126549568026, 0.1326961358198704, 0.0701758410585853, 0.039553655869384446, 0.10369505890970854, 0.19976548113487969, 0.10186514610541957, 0.0637419626827326, 0.04422289277031687, 0.08875077100801525, 0.06618184642178457, 0.15218774822336634, 0.11680943400711286, 0.06221703534582512, 0.02581690174763509, 0.4001619770883439, 0.09035915611672281, 0.12908450873817545, 0.14199295961199299, 0.06454225436908773, 0.012908450873817544, 0.012908450873817544, 0.11617605786435789, 0.5300624651306539, 0.21202498605226155, 0.10529908633428699, 0.10529908633428699, 0.7370936043400088, 0.07841935178240009, 0.07841935178240009, 0.07841935178240009, 0.6273548142592007, 0.048825729154585044, 0.044921350125026654, 0.32857658575095433, 0.06093770066025812, 0.06983800554484285, 0.09949869139842353, 0.028401208747271527, 0.15747662085885514, 0.0691872757065831, 0.09231967189246132, 0.05442504690582728, 0.03901264424223017, 0.3082480532719421, 0.08428657706654667, 0.0404575569919424, 0.06213124823762583, 0.06164961065438842, 0.1608669528012948, 0.11222155689431643, 0.07706201331798553, 0.055575234061566905, 0.018525078020522303, 0.018525078020522303, 0.018525078020522303, 0.018525078020522303, 0.796578354882459, 0.07410031208208921, 0.018525078020522303, 0.09122685932559976, 0.06708779345593935, 0.18841011152812873, 0.06191513648386926, 0.08683793825838879, 0.06066115903609469, 0.05501826052110914, 0.0824490171911778, 0.1048638640701482, 0.20157687472976168, 0.11595199207021403, 0.11595199207021403, 0.11595199207021403, 0.46380796828085613, 0.11595199207021403, 0.07521655014229604, 0.03760827507114802, 0.07521655014229604, 0.5641241260672203, 0.1504331002845921, 0.03760827507114802, 0.03760827507114802, 0.03760827507114802, 0.1286833178816774, 0.12421514712189692, 0.1519178058325358, 0.12153424466602863, 0.04557534174976074, 0.06106500038366635, 0.12749180567906926, 0.06940558580192321, 0.09532097620864992, 0.07476739071365977, 0.08510580461741114, 0.07239568008502921, 0.1692453424575067, 0.07276732115322751, 0.1322298920649558, 0.10554606336831775, 0.04987423135221212, 0.11431679257779767, 0.11045172546853532, 0.08807893316299756, 0.11541674251877007, 0.057708371259385036, 0.057708371259385036, 0.6347920838532354, 0.057708371259385036, 0.057708371259385036, 0.057708371259385036, 0.14327176697921695, 0.7163588348960848, 0.02571967680717678, 0.13717160963827615, 0.03715064427703313, 0.1514603189755966, 0.08858999789138669, 0.03429290240956904, 0.00857322560239226, 0.12002515843349164, 0.057154837349281735, 0.3400712822282263, 0.06667081725112997, 0.5333665380090398, 0.06667081725112997, 0.13334163450225994, 0.06667081725112997, 0.06667081725112997, 0.13334163450225994, 0.015339861517813554, 0.10737903062469488, 0.015339861517813554, 0.09203916910688133, 0.015339861517813554, 0.10737903062469488, 0.015339861517813554, 0.6135944607125422, 0.015339861517813554, 0.015339861517813554, 0.10710976652829844, 0.08624580294634222, 0.17321941857577594, 0.11632872718079071, 0.0906733301018155, 0.09564671676960738, 0.03705779578074198, 0.10814083449601139, 0.14538058344752625, 0.04009034862695655, 0.1045782725920915, 0.07556854629086064, 0.10815972028360148, 0.10923415459105447, 0.033665608300193835, 0.07986628352067261, 0.04846892542510177, 0.2890228287048556, 0.11842653699926342, 0.03282993717217484, 0.0782239119807014, 0.0782239119807014, 0.1564478239614028, 0.0782239119807014, 0.391119559903507, 0.0782239119807014, 0.04549832771106472, 0.03701558864628994, 0.05680864646409775, 0.12467055898229598, 0.05320990867904179, 0.23931606270622177, 0.032388640065503696, 0.09228191891679229, 0.11001855514313955, 0.20872679153324605, 0.033155376192323144, 0.033155376192323144, 0.06631075238464629, 0.033155376192323144, 0.033155376192323144, 0.5636413952694934, 0.033155376192323144, 0.23208763334626198, 0.021124897051059868, 0.05492473233275566, 0.04647477351233171, 0.4182729616109854, 0.23237386756165856, 0.05069975292254369, 0.021124897051059868, 0.04647477351233171, 0.08027460879402751, 0.029574855871483816, 0.0828792236084649, 0.020719805902116226, 0.0828792236084649, 0.18647825311904603, 0.020719805902116226, 0.04143961180423245, 0.559434759357138, 0.6347578954454818, 0.11541052644463305, 0.11541052644463305, 0.057705263222316526, 0.057705263222316526, 0.07281670610550879, 0.07281670610550879, 0.07281670610550879, 0.5097169427385616, 0.14563341221101758, 0.8266353467642099, 0.16532706935284197, 0.1576890008059227, 0.7096005036266522, 0.013568528564788927, 0.004522842854929642, 0.036182742839437135, 0.3527817426845121, 0.48846702833240135, 0.04975127140422606, 0.004522842854929642, 0.04070558569436678, 0.009045685709859284, 0.004522842854929642, 0.00730616962837904, 0.00365308481418952, 0.0365308481418952, 0.05114318739865328, 0.20822583440880263, 0.08036786591216943, 0.02191850888513712, 0.01461233925675808, 0.555268891756807, 0.02557159369932664, 0.017724965728180546, 0.03544993145636109, 0.07089986291272218, 0.584923869029958, 0.017724965728180546, 0.017724965728180546, 0.14179972582544437, 0.03544993145636109, 0.05317489718454164, 0.020268127331451682, 0.018311204692552898, 0.07072877537734172, 0.2921405939498897, 0.3118496005273703, 0.09952349420685239, 0.07659954329403808, 0.061083942371340585, 0.036622409385105796, 0.0131393377183204, 0.07906833730998321, 0.07141656273159773, 0.16775044267998918, 0.10987163497168882, 0.053954820745025764, 0.06847357250914178, 0.1096754356235251, 0.15126969743423585, 0.14597231503381516, 0.04296765724785688, 0.03706757660197569, 0.03706757660197569, 0.03706757660197569, 0.03706757660197569, 0.03706757660197569, 0.03706757660197569, 0.03706757660197569, 0.6672163788355624, 0.07413515320395138, 0.03706757660197569, 0.039935543195067535, 0.019967771597533768, 0.039935543195067535, 0.07987108639013507, 0.039935543195067535, 0.019967771597533768, 0.019967771597533768, 0.6389686911210806, 0.05990331479260131, 0.019967771597533768, 0.1266695168709379, 0.6333475843546894, 0.1266695168709379, 0.06023713882475079, 0.0819382914581217, 0.1978092943066052, 0.08614699984762395, 0.061420838059298294, 0.05918496172737523, 0.04353382740391378, 0.06825998919223944, 0.24305290949375427, 0.09851008074178677, 0.010917514191136709, 0.00818813564335253, 0.03821129966897848, 0.02729378547784177, 0.12828079174585633, 0.10098700626801455, 0.024564406930057594, 0.03821129966897848, 0.5458757095568354, 0.07642259933795696, 0.06419168944828327, 0.2781639876092275, 0.5777252050345494, 0.02139722981609442, 0.04279445963218884, 0.031238221511153248, 0.6560026517342182, 0.21866755057807272, 0.062476443022306496, 0.6208136158806727, 0.12416272317613455, 0.04138757439204485, 0.04138757439204485, 0.12416272317613455, 0.04138757439204485, 0.08038962775846006, 0.07440316611687262, 0.21615402570160405, 0.10005943029510454, 0.06649248466191776, 0.04415015460670745, 0.051847033860177034, 0.19231508023599686, 0.08252764977331273, 0.0915073422356939, 0.00663199328668442, 0.005526661072237017, 0.0320546342189747, 0.024317308717842875, 0.10721722480139813, 0.07074126172463382, 0.023211976503395473, 0.02652797314673768, 0.6676206575262317, 0.03537063086231691, 0.027380093768781328, 0.019557209834843808, 0.04563348961463555, 0.23729414599610485, 0.3024848454455842, 0.06388688546048976, 0.015645767867875044, 0.07953265332836482, 0.16949581856864632, 0.03781060568069802, 0.060529348325194944, 0.6052934832519494, 0.060529348325194944, 0.030264674162597472, 0.030264674162597472, 0.15132337081298736, 0.030264674162597472, 0.060529348325194944, 0.05260614442235194, 0.056953759663868626, 0.06608375167105367, 0.09825610445827718, 0.10390800427224887, 0.05477995204311028, 0.037824252601195194, 0.08738706635448545, 0.39606774850217036, 0.046084721560076904, 0.025269009878588475, 0.1010760395143539, 0.1010760395143539, 0.7075322766004774, 0.025269009878588475, 0.10004188494492855, 0.7753246083231963, 0.025010471236232137, 0.025010471236232137, 0.050020942472464275, 0.13100890917869037, 0.13100890917869037, 0.043669636392896796, 0.043669636392896796, 0.043669636392896796, 0.5240356367147615, 0.043669636392896796, 0.043669636392896796, 0.059748434016494635, 0.07225392020599351, 0.33347963171997, 0.059053684783744696, 0.0646116786457442, 0.06391692941299426, 0.03195846470649713, 0.11602312186923958, 0.09657014335224133, 0.1035176356797407, 0.0738159147509805, 0.6643432327588245, 0.0738159147509805, 0.0738159147509805, 0.0738159147509805, 0.022307782912848722, 0.09480807737960706, 0.1115389145642436, 0.08923113165139489, 0.044615565825697444, 0.0055769457282121805, 0.0278847286410609, 0.48519427835445966, 0.01673083718463654, 0.09480807737960706, 0.07260747752940168, 0.07260747752940168, 0.07260747752940168, 0.07260747752940168, 0.07260747752940168, 0.4356448651764101, 0.14521495505880336, 0.07260747752940168, 0.08974931360374211, 0.08592901586243538, 0.17667492887695316, 0.07856525354948184, 0.10370170535460146, 0.06051573088765585, 0.055034434128389674, 0.12247099425754322, 0.16438353614405327, 0.06300722941459502, 0.12720971060373928, 0.07669583247591868, 0.15427646218019092, 0.04307353779848396, 0.04271157529597569, 0.1168736702543365, 0.0907721520179069, 0.048502975336107985, 0.22514067656014305, 0.07472514774004033, 0.08309673936939588, 0.08309673936939588, 0.5816771755857711, 0.08309673936939588, 0.08309673936939588, 0.08309673936939588, 0.06068734413701107, 0.050032314250360276, 0.09774831765579647, 0.0958952689798572, 0.1172053287531588, 0.07226889836163151, 0.05651798461614772, 0.2978775746572376, 0.09960136633173573, 0.052811887264269185, 0.035986890673923314, 0.03341639848292879, 0.035986890673923314, 0.28275414100939744, 0.37529185988520025, 0.035986890673923314, 0.007711476572983567, 0.15937051584166037, 0.017993445336961657, 0.015422953145967134, 0.024117967602456988, 0.2170617084221129, 0.024117967602456988, 0.6270671576638817, 0.048235935204913975, 0.024117967602456988, 0.024117967602456988, 0.024117967602456988, 0.21152346190419044, 0.7403321166646666, 0.026440432738023805, 0.026440432738023805, 0.06534749185828402, 0.06534749185828402, 0.6534749185828402, 0.06534749185828402, 0.13695714073401735, 0.13695714073401735, 0.13695714073401735, 0.4108714222020521, 0.13695714073401735, 0.08123217962773834, 0.08123217962773834, 0.731089616649645, 0.08123217962773834, 0.005750843643600174, 0.005750843643600174, 0.046006749148801394, 0.023003374574400697, 0.16677446566440504, 0.08051181101040243, 0.017252530930800522, 0.017252530930800522, 0.5923368952908179, 0.051757592792401566, 0.03038090912647097, 0.0075952272816177425, 0.13671409106911936, 0.06835704553455968, 0.015190454563235485, 0.022785681844853228, 0.70635613719045, 0.015190454563235485, 0.03609205530012368, 0.07218411060024736, 0.03609205530012368, 0.794025216602721, 0.03535247805919264, 0.01405580452955852, 0.12479850688365594, 0.19550346300204122, 0.2176520034728607, 0.11116863582469011, 0.15674351717810714, 0.057501018530012125, 0.06942715570660724, 0.018741072706078027, 0.12827792010502365, 0.12002807617261876, 0.14420536446007118, 0.07935110002035663, 0.049880559267603986, 0.09303725729550227, 0.035097601932080814, 0.10348070134866219, 0.15178759096442015, 0.09484936174308253, 0.0642002825508388, 0.0642002825508388, 0.5457024016821299, 0.0321001412754194, 0.09630042382625821, 0.0321001412754194, 0.160500706377097, 0.13771937043316201, 0.41315811129948604, 0.34429842608290506, 0.06885968521658101, 0.6403184254427375, 0.09147406077753392, 0.18294812155506784, 0.05656183099526733, 0.03434111167569802, 0.0747424195294604, 0.0747424195294604, 0.373712097647302, 0.05858189638795545, 0.05454176560257921, 0.1393845120954802, 0.09494307345634159, 0.03838124246107426, 0.0623653742064129, 0.03411541583268268, 0.19786941182955955, 0.049198020727131864, 0.11108458207975273, 0.06045012279124475, 0.02681351981235411, 0.24000494296325886, 0.06344270312744499, 0.15477625498827616, 0.048585598736539844, 0.06355521564455482, 0.20117064125507847, 0.03007054624504763, 0.13853461261364738, 0.0853530788614889, 0.03177760782227741, 0.265251106615704, 0.05121184731689334, 0.08443389185836518, 0.04216634222636227, 0.04216634222636227, 0.04216634222636227, 0.04216634222636227, 0.6324951333954341, 0.04216634222636227, 0.04216634222636227, 0.04216634222636227, 0.04216634222636227, 0.04069254886375033, 0.01050130293258073, 0.09451172639322658, 0.2270906759170583, 0.27478409340252913, 0.10676324648123743, 0.1338916123904043, 0.04813097177432835, 0.05644450326262143, 0.007000868621720487, 0.7204313087800879, 0.09005391359751098, 0.04502695679875549, 0.04502695679875549, 0.04502695679875549, 0.5050558265021908, 0.20202233060087632, 0.10101116530043816, 0.022570754402316106, 0.20313678962084494, 0.022570754402316106, 0.5642688600579027, 0.09028301760926442, 0.022570754402316106, 0.04514150880463221, 0.16889941313833595, 0.6755976525533438, 0.029655551422161884, 0.040246819787219695, 0.06142935651733533, 0.2912598800390899, 0.25948607494391646, 0.07625713222841628, 0.036010312441196575, 0.09849879579503769, 0.08261189324745095, 0.023300790403127193, 0.022176391000135635, 0.05913704266702836, 0.02956852133351418, 0.5026648626697411, 0.04435278200027127, 0.081313433667164, 0.01478426066675709, 0.19219538866784217, 0.05174491233364981, 0.007392130333378545, 0.0764390390586432, 0.09407881730294547, 0.05291933473290683, 0.48803386475902966, 0.11171859554724775, 0.017639778244302275, 0.011759852162868184, 0.08231896514007729, 0.041159482570038645, 0.02939963040717046, 0.7454307841313347, 0.0828256426812594, 0.8106221435289392, 0.05227468345664995, 0.055571285116078326, 0.12181728036744853, 0.1750338500125066, 0.0910489982127837, 0.0726822175388256, 0.03846035269333105, 0.19779609956570252, 0.1370444404133796, 0.0582399626499013, 0.09941240818503837, 0.056291053234223086, 0.2113924713033859, 0.05772090619070736, 0.07239571284936178, 0.0724709682681241, 0.07879242344415985, 0.1702277572403912, 0.09038175793355872, 0.09090854586489504, 0.05838408827463817, 0.1281499121696029, 0.13837239693971104, 0.11318503755769203, 0.10370025787408656, 0.07029275609960949, 0.061018749297861906, 0.16060893597571943, 0.09663936633184693, 0.06966043745403579, 0.7677917555030868, 0.13959850100056123, 0.06654518797814862, 0.06654518797814862, 0.06654518797814862, 0.6654518797814861, 0.13309037595629725, 0.06654518797814862, 0.5312862428264612, 0.05903180475849569, 0.05903180475849569, 0.05903180475849569, 0.05903180475849569, 0.05903180475849569, 0.05903180475849569, 0.6578103470474943, 0.16445258676187358, 0.22957859496681257, 0.08893017002835321, 0.05234896533583913, 0.0775773823651592, 0.014506339791859035, 0.0794695136423582, 0.06054820087036815, 0.11731213918633829, 0.2472384868873366, 0.032796942138116084, 0.02317456825041361, 0.02317456825041361, 0.6257133427611675, 0.02317456825041361, 0.06952370475124083, 0.04634913650082722, 0.11587284125206805, 0.04634913650082722, 0.06952370475124083, 0.007988262516980305, 0.01597652503396061, 0.6150962138074835, 0.3514835507471334, 0.015104567657889041, 0.015104567657889041, 0.5739735709997836, 0.362509623789337, 0.23571353209902426, 0.02619039245544714, 0.6547598113861786, 0.05238078491089428, 0.02619039245544714, 0.22358941657730427, 0.6707682497319128, 0.07057784024158352, 0.05773394499041247, 0.10961819511395494, 0.14497069887460398, 0.11584939181996863, 0.06510964721385723, 0.042473871424664675, 0.21465836815818556, 0.08838125940162261, 0.09041593587705565, 0.04317117250451074, 0.05592629165357073, 0.3365389129328905, 0.06534545656364579, 0.04905815057330766, 0.08438001898608917, 0.046114661538909196, 0.14815561473138913, 0.09517281211221686, 0.07594201708748025, 0.0675582387082278, 0.0675582387082278, 0.7431406257905058, 0.0868689276069324, 0.6080824932485268, 0.0868689276069324, 0.0868689276069324, 0.0868689276069324, 0.048994241864816504, 0.19597696745926602, 0.5879309023777981, 0.048994241864816504, 0.048994241864816504, 0.05351029476659913, 0.05351029476659913, 0.6421235371991896, 0.05351029476659913, 0.05351029476659913, 0.10702058953319826, 0.05351029476659913, 0.03620377995168934, 0.162917009782602, 0.045254724939611676, 0.5249548092994955, 0.09956039486714569, 0.03620377995168934, 0.009050944987922334, 0.05430566992753401, 0.027152834963767004, 0.027152834963767004, 0.010604971634683675, 0.21209943269367348, 0.01590745745202551, 0.684020670437097, 0.037117400721392864, 0.0053024858173418375, 0.010604971634683675, 0.02120994326936735, 0.06290936000493143, 0.06290936000493143, 0.7549123200591771, 0.07784886261435109, 0.09299400497750666, 0.13177689289811068, 0.1772123199875774, 0.0471339477283253, 0.08605837903550084, 0.059731309133193015, 0.15852859296013314, 0.11139464523180784, 0.05746661494804826, 0.49522833464099936, 0.16507611154699978, 0.5902490381146029, 0.04684516175512722, 0.17801161466948343, 0.01873806470205089, 0.009369032351025444, 0.028107097053076333, 0.01873806470205089, 0.028107097053076333, 0.03747612940410178, 0.056214194106152665, 0.08558725404937906, 0.060253426850762855, 0.09038014027614429, 0.18486846874665877, 0.06710040717471318, 0.03560429768454169, 0.042451278008492015, 0.33002445161440563, 0.060253426850762855, 0.042451278008492015, 0.13738122236542483, 0.060330240742711226, 0.13037658767245086, 0.05874854903784614, 0.0628157562789278, 0.0777288494962272, 0.041349940284330165, 0.07840671736974081, 0.2815411234659857, 0.07117612671892898, 0.14049621908587487, 0.5619848763434995, 0.14049621908587487, 0.4434870026436671, 0.11087175066091677, 0.22174350132183354, 0.11087175066091677, 0.053931129849473826, 0.053931129849473826, 0.053931129849473826, 0.03595408656631588, 0.01797704328315794, 0.19774747611473734, 0.053931129849473826, 0.5213342552115803, 0.11419577784973106, 0.04996065280925734, 0.5067437642081816, 0.09278406950290649, 0.0856468333872983, 0.04996065280925734, 0.007137236115608191, 0.04996065280925734, 0.028548944462432765, 0.021411708346824574, 0.04634398499952089, 0.06951597749928133, 0.011585996249880222, 0.023171992499760444, 0.15061795124844288, 0.06951597749928133, 0.6256437974935319, 0.04933490430297029, 0.07400235645445544, 0.024667452151485143, 0.172672165060396, 0.04933490430297029, 0.6413537559386138, 0.08325209389629737, 0.07106739666417886, 0.131690767129399, 0.1455561122556028, 0.09843794808213964, 0.0997584571417781, 0.059783046518177486, 0.07983077496905226, 0.1522186806928696, 0.07845024277033934, 0.05090377319728849, 0.09657172972285588, 0.05468519634908706, 0.2062330011250145, 0.18121743258234702, 0.03199665743829562, 0.01687096483110133, 0.06312067876463773, 0.24986480672269035, 0.048576743565412445, 0.12303183866896064, 0.06151591933448032, 0.12303183866896064, 0.12303183866896064, 0.43061143534136226, 0.06151591933448032, 0.03194099373625892, 0.5749378872526606, 0.01597049686812946, 0.06388198747251785, 0.06388198747251785, 0.11179347807690623, 0.04791149060438838, 0.0798524843406473, 0.15837246085373993, 0.05905973019337384, 0.16051708792780098, 0.08759976740972489, 0.07258737789129746, 0.06466875484861047, 0.06697835323606084, 0.06351395565488528, 0.21033842457137333, 0.05625521786575553, 0.08226572214705456, 0.02467971664411637, 0.028793002751469097, 0.016453144429410912, 0.057586005502938194, 0.31672303026616005, 0.03701957496617456, 0.30438317194410186, 0.12751186932793457, 0.008226572214705456, 0.09027865235228022, 0.08002299744506118, 0.18542031477793658, 0.13587539036700522, 0.06336357679765374, 0.06668583120421766, 0.046415264462719, 0.16168304778611037, 0.12181599490734343, 0.048389357660822196, 0.07055335084103297, 0.7760868592513627, 0.07055335084103297, 0.08865892993993048, 0.0724732397329132, 0.12477476107349889, 0.10436146521539501, 0.09385284545412259, 0.07186929606847225, 0.06643380308850376, 0.11305825398334458, 0.2237007333089254, 0.04082659171620777, 0.5920474921630258, 0.059204749216302574, 0.11840949843260515, 0.11840949843260515, 0.059204749216302574, 0.06639590587771277, 0.06824628358250148, 0.16196247204268294, 0.1401933225745804, 0.08402891694687584, 0.08185200200006558, 0.07782470934846661, 0.11189342826604709, 0.09926732157454761, 0.10830151860381017, 0.7127306386937786, 0.07127306386937786, 0.07127306386937786, 0.07401001830773164, 0.08569581067211032, 0.12075318776524636, 0.0389526412145956, 0.10127686715794856, 0.03116211297167648, 0.0389526412145956, 0.08569581067211032, 0.04284790533605516, 0.3778406197815773, 0.048718635431044655, 0.10495874440232077, 0.30393590805753473, 0.08769354377588037, 0.06666760637932427, 0.04324847285633087, 0.03282097544828271, 0.09282182118967455, 0.11607001213220815, 0.1030783760172629, 0.11925269345810233, 0.11925269345810233, 0.4770107738324093, 0.11925269345810233, 0.018039215810722768, 0.018039215810722768, 0.10823529486433661, 0.12627451067505938, 0.7215686324289107, 0.018039215810722768, 0.028668690453382075, 0.6307111899744057, 0.05733738090676415, 0.05733738090676415, 0.1146747618135283, 0.05733738090676415, 0.028668690453382075, 0.18905010131910566, 0.567150303957317, 0.18905010131910566, 0.0426133638013436, 0.03933541273970178, 0.44416236885246596, 0.029501559554776336, 0.03605746167805997, 0.03933541273970178, 0.04753029039380632, 0.24420735409231523, 0.03933541273970178, 0.03605746167805997, 0.029402083822568974, 0.02352166705805518, 0.49983542498367256, 0.029402083822568974, 0.029402083822568974, 0.02352166705805518, 0.035282500587082766, 0.25285792087409314, 0.04704333411611036, 0.035282500587082766, 0.05415724531969745, 0.16247173595909234, 0.6498869438363694, 0.1321218557777362, 0.023315621607835797, 0.023315621607835797, 0.5518030447187805, 0.06994686482350738, 0.07771873869278599, 0.015543747738557198, 0.007771873869278599, 0.046631243215671594, 0.046631243215671594, 0.1325887522269499, 0.026517750445389985, 0.026517750445389985, 0.10607100178155994, 0.05303550089077997, 0.1591065026723399, 0.5038372584624097, 0.2846618870569389, 0.035769032928620596, 0.09687446418168077, 0.05514392576495675, 0.0745188186012929, 0.24442172501224071, 0.03427865655659473, 0.07526400678730583, 0.06781212492717655, 0.03055271562653009, 0.03287011593356822, 0.08217528983392056, 0.049305173900352335, 0.03287011593356822, 0.01643505796678411, 0.03287011593356822, 0.7395776085052851, 0.036517756932273694, 0.036517756932273694, 0.036517756932273694, 0.036517756932273694, 0.10955327079682108, 0.6573196247809264, 0.036517756932273694, 0.12048931531981641, 0.12048931531981641, 0.060244657659908205, 0.060244657659908205, 0.6024465765990821, 0.05896963709523408, 0.011793927419046816, 0.1533210564476086, 0.5425206612761535, 0.02358785483809363, 0.03538178225714045, 0.05896963709523408, 0.0707635645142809, 0.03538178225714045, 0.013470846934264317, 0.013470846934264317, 0.026941693868528634, 0.03367711733566079, 0.5455693008377048, 0.013470846934264317, 0.020206270401396473, 0.30982947948807926, 0.013470846934264317, 0.006735423467132158, 0.15907017845641305, 0.6362807138256522, 0.15907017845641305, 0.03042133501060278, 0.07956349156619189, 0.05850256732808227, 0.0491421565555891, 0.018720821544986326, 0.042121848476219234, 0.09360410772493163, 0.4469596143865485, 0.13104575081490427, 0.05148225924871239, 0.010316892964516048, 0.010316892964516048, 0.13411960853870863, 0.629330470835479, 0.010316892964516048, 0.17538718039677284, 0.010316892964516048, 0.010316892964516048, 0.02979285917266517, 0.08937857751799551, 0.02979285917266517, 0.8342000568346247, 0.060968453507263334, 0.05980471673175226, 0.30328115722770427, 0.06514087560482745, 0.067837338865158, 0.08441349196024263, 0.048195732800434425, 0.11339337605284777, 0.1480216410802506, 0.048933712219051205, 0.556279142133611, 0.13906978553340274, 0.13906978553340274, 0.05058433100978535, 0.03793824825733901, 0.5058433100978535, 0.1264608275244634, 0.03793824825733901, 0.05058433100978535, 0.05058433100978535, 0.15175299302935605, 0.13155103202900562, 0.13703232503021417, 0.08919558611057578, 0.06428061792326412, 0.07325000647069631, 0.08072449692688981, 0.14600171357764638, 0.06378231855951788, 0.13902552248519912, 0.07524320392568125, 0.1846773606211451, 0.04616934015528627, 0.09233868031057255, 0.04616934015528627, 0.04616934015528627, 0.5540320818634353, 0.1253565642643795, 0.1253565642643795, 0.1253565642643795, 0.501426257057518, 0.13048359497552328, 0.04349453165850776, 0.6524179748776163, 0.08698906331701552, 0.11330569792508353, 0.10840566507301105, 0.1033846437554553, 0.14911828370813182, 0.06345845014597577, 0.0736819754793122, 0.04918181121894977, 0.08324006425249063, 0.13895525260753705, 0.11729831728603149, 0.06916996841548774, 0.06916996841548774, 0.8300396209858529, 0.04958936740110876, 0.09917873480221752, 0.04958936740110876, 0.7934298784177402, 0.06702289110135166, 0.05200051895794526, 0.16409052648951616, 0.07461661767933733, 0.18984316444964144, 0.04688300756843319, 0.04671792655586828, 0.14692210118276597, 0.10284547082793619, 0.1091185493054026, 0.08947785072504828, 0.08947785072504828, 0.5368671043502896, 0.08947785072504828, 0.08947785072504828, 0.08947785072504828, 0.6173552846015096, 0.0771694105751887, 0.0771694105751887, 0.0771694105751887, 0.0771694105751887, 0.22233545075426714, 0.22233545075426714, 0.4446709015085343, 0.12752564345684095, 0.6376282172842047, 0.13243153264812715, 0.05675637113491164, 0.5864825017274202, 0.01891879037830388, 0.03783758075660776, 0.15135032302643103, 0.0373988185655261, 0.11219645569657831, 0.0747976371310522, 0.7479763713105221, 0.07950596736587583, 0.07950596736587583, 0.07950596736587583, 0.7155537062928824, 0.13583966992884522, 0.07419071699624837, 0.15818520730985813, 0.07065782571071273, 0.06942131376077526, 0.10033411250921208, 0.04151147260504373, 0.09079530603826585, 0.19466230983301358, 0.06456358824316376, 0.0799136563453935, 0.639309250763148, 0.23974096903618053, 0.14079165236699787, 0.015084819896464057, 0.21621575184931813, 0.49277078328449253, 0.010056546597642704, 0.1257068324705338, 0.6090104331517415, 0.0870014904502488, 0.0870014904502488, 0.0870014904502488, 0.551980040764687, 0.10263671983740404, 0.08303831748434565, 0.1693619162879901, 0.10490243109209287, 0.06967062108168154, 0.042368800462681135, 0.052111358857843106, 0.138548243224222, 0.1150981317381926, 0.12212183662772798, 0.09566515420453604, 0.04492102893082562, 0.04908038346145762, 0.020796772653160007, 0.2686943026788273, 0.3152790734219057, 0.005823096342884802, 0.02911548171442401, 0.14724115038437285, 0.023292385371539208, 0.20103929899743173, 0.014710192609568174, 0.004903397536522725, 0.18632910638786354, 0.4118853930679089, 0.004903397536522725, 0.1765223113148181, 0.5643977018291136, 0.1410994254572784, 0.1410994254572784, 0.1410994254572784, 0.04248488466567257, 0.7647279239821063, 0.12745465399701772, 0.04248488466567257, 0.06552263864632196, 0.06552263864632196, 0.6552263864632197, 0.06552263864632196, 0.06552263864632196, 0.06552263864632196, 0.06783671718377887, 0.08172650205504621, 0.22521294041269183, 0.0704410518471415, 0.0899115538541859, 0.06014772913004159, 0.08433083671840884, 0.12550412758680843, 0.06424025502961143, 0.1308368128498843, 0.20792223109888341, 0.0189020210089894, 0.0378040420179788, 0.094510105044947, 0.0189020210089894, 0.3969424411887774, 0.0189020210089894, 0.094510105044947, 0.08505909454045231, 0.0189020210089894, 0.018143835368536695, 0.12700684757975686, 0.03628767073707339, 0.09071917684268346, 0.03628767073707339, 0.48988355495049074, 0.03628767073707339, 0.07257534147414678, 0.05443150610561008, 0.03628767073707339, 0.026073435746580227, 0.20858748597264182, 0.026073435746580227, 0.6518358936645057, 0.052146871493160454, 0.026073435746580227, 0.026073435746580227, 0.03343983372105235, 0.07802627868245549, 0.03343983372105235, 0.5238907282964869, 0.022293222480701567, 0.08917288992280627, 0.05573305620175392, 0.044586444961403134, 0.03343983372105235, 0.08917288992280627, 0.04402697007846603, 0.13208091023539809, 0.08805394015693206, 0.7044315212554565, 0.04402697007846603, 0.14052480482616803, 0.05182620352918442, 0.0950488475792157, 0.06370730947658639, 0.07579326207825389, 0.059405529737009806, 0.106315413563821, 0.22000530668120183, 0.11409958642591195, 0.07292540891853617, 0.025702476531186846, 0.02056198122494948, 0.138793373268409, 0.12337188734969687, 0.01028099061247474, 0.015421485918712109, 0.6425619132796712, 0.015421485918712109, 0.005162532815062032, 0.015487598445186095, 0.015487598445186095, 0.5678786096568235, 0.38718996112965237, 0.005162532815062032, 0.5594173898769614, 0.03609144450819106, 0.01804572225409553, 0.16241150028685977, 0.05413716676228659, 0.1804572225409553, 0.5204000959566026, 0.17346669865220088, 0.17346669865220088, 0.0815702279412845, 0.0625293389982181, 0.09779024444834107, 0.05547715790819349, 0.14456971234550423, 0.07804413739627221, 0.10930880689538125, 0.13093549557145667, 0.16431581939757312, 0.07545833766326318, 0.6457062495859385, 0.13836562491127255, 0.06918281245563628, 0.11530468742606045, 0.02306093748521209, 0.02306093748521209, 0.011537682627576132, 0.023075365255152264, 0.05768841313788066, 0.12691450890333744, 0.5538087661236543, 0.023075365255152264, 0.011537682627576132, 0.10383914364818518, 0.08076377839303292, 0.011537682627576132, 0.1957863390262431, 0.29367950853936464, 0.3915726780524862, 0.054635308308572765, 0.19920130108966352, 0.11168810813522397, 0.12329206742200048, 0.0773597285785101, 0.07881022348935718, 0.029493396520556978, 0.1755098842124948, 0.09863365393760039, 0.05221781679049432, 0.028684818581909983, 0.6597508273839295, 0.028684818581909983, 0.028684818581909983, 0.057369637163819966, 0.028684818581909983, 0.028684818581909983, 0.08605445574572994, 0.057369637163819966, 0.06335592536982045, 0.02111864178994015, 0.0844745671597606, 0.6546778954881446, 0.10559320894970074, 0.06335592536982045, 0.02111864178994015, 0.017768509208850532, 0.027921943042479407, 0.47721139018055714, 0.012691792292036094, 0.07361239529380935, 0.12437956446195372, 0.02284522612566497, 0.11168777216991763, 0.015230150750443313, 0.11422613062832485, 0.09109827518255088, 0.09109827518255088, 0.6376879262778562, 0.04868517820150109, 0.06433398548055501, 0.2260383273641122, 0.08693781821696622, 0.04520766547282244, 0.28689480011598856, 0.02955885819376852, 0.06433398548055501, 0.07650528003093028, 0.07650528003093028, 0.5433546538222557, 0.02716773269111278, 0.19017412883778947, 0.05433546538222556, 0.13583866345556392, 0.2375325820018935, 0.11876629100094675, 0.475065164003787, 0.05068893088045336, 0.05068893088045336, 0.10137786176090673, 0.6589561014458937, 0.05068893088045336, 0.05068893088045336, 0.077690375263183, 0.23307112578954897, 0.543832626842281, 0.077690375263183, 0.06542723737211793, 0.1069708734596172, 0.13574821932816664, 0.10553466580998534, 0.08888529564943826, 0.07766159883194486, 0.040160621313779704, 0.16468514382445293, 0.15053583883178354, 0.06436337985387211, 0.29291574090394273, 0.09067748076763706, 0.07199242412460881, 0.060451653845091366, 0.0879296783201329, 0.11980418671118108, 0.041766597202063126, 0.046712641607570604, 0.16047166293424253, 0.02802758496454236, 0.042796749478822824, 0.5991544927035195, 0.021398374739411412, 0.10699187369705705, 0.06419512421823423, 0.1711869979152913, 0.13325587322753618, 0.7995352393652171, 0.03688334145760714, 0.01692591697027177, 0.15890151901941707, 0.2596991439617818, 0.1942691067184924, 0.1250496850788735, 0.10913427061428962, 0.040925351480358606, 0.03890434646898287, 0.018946921981647505, 0.045979614068425295, 0.022989807034212648, 0.5747451758553161, 0.045979614068425295, 0.06896942110263794, 0.022989807034212648, 0.045979614068425295, 0.045979614068425295, 0.11494903517106324, 0.5545424897629269, 0.06931781122036586, 0.06931781122036586, 0.27727124488146343, 0.5791016298110342, 0.16545760851743835, 0.08272880425871917, 0.08272880425871917, 0.06650029548768002, 0.06650029548768002, 0.06650029548768002, 0.06650029548768002, 0.5320023639014402, 0.06650029548768002, 0.06650029548768002, 0.06650029548768002, 0.0694288199994216, 0.10475628801237233, 0.10337690748258249, 0.15602326436956113, 0.054332266423388426, 0.05188003437042872, 0.07732194191988565, 0.1934964354288516, 0.11104013264808156, 0.07831816119140053, 0.032947464926999355, 0.0532973697348519, 0.05135928356267547, 0.33625795087261107, 0.2548583316412009, 0.07461631762879266, 0.02616416332438184, 0.08818292083402769, 0.06880205911226336, 0.014535646291323244, 0.03215758854606127, 0.03215758854606127, 0.1286303541842451, 0.016078794273030637, 0.14470914845727573, 0.6592305651942562, 0.06928766163355396, 0.06060085032427257, 0.17125428009726174, 0.09162517642884897, 0.08035300461085289, 0.10496563665381682, 0.04084869603769226, 0.10579295201660553, 0.12947485427643218, 0.1458143326915091, 0.6345977964268973, 0.12691955928537946, 0.019982799824350587, 0.013321866549567058, 0.04163083296739706, 0.3130638639148259, 0.45627392932267175, 0.053287466198268234, 0.019982799824350587, 0.06327886611044353, 0.014987099868262941, 0.006660933274783529, 0.09671770442797678, 0.09782903721030743, 0.16987515387054358, 0.06575914834876556, 0.09738450409737517, 0.0909705263250668, 0.05150233636972368, 0.12142104456092685, 0.1274857463159313, 0.08106378837971921, 0.06342872777448584, 0.44400109442140084, 0.06342872777448584, 0.06342872777448584, 0.06342872777448584, 0.12685745554897168, 0.06342872777448584, 0.06342872777448584, 0.0771247713632421, 0.848372484995663, 0.6547465836009126, 0.08728540710536901, 0.06179053279977202, 0.14141491856207986, 0.0838944632322108, 0.1107708331898352, 0.07397281264037749, 0.06744210592170238, 0.08753658813301037, 0.23146331697150374, 0.054380692484352205, 0.048027678094521166, 0.048027678094521166, 0.5763321371342539, 0.048027678094521166, 0.048027678094521166, 0.14408303428356348, 0.048027678094521166, 0.04221199427587076, 0.0949769871207092, 0.06331799141380613, 0.01055299856896769, 0.12663598282761226, 0.052764992844838446, 0.01055299856896769, 0.07387098998277383, 0.031658995706903066, 0.5065439313104491, 0.10897102321258195, 0.25030967708236646, 0.10681318116876845, 0.07876123459919289, 0.03668331474482957, 0.08523476073063341, 0.03992007781054982, 0.1283916016069035, 0.09926073401542118, 0.06797202438012537, 0.05186090305233037, 0.023049290245480164, 0.14405806403425103, 0.028811612806850205, 0.04033625792959029, 0.034573935368220246, 0.11524645122740082, 0.08643483842055061, 0.034573935368220246, 0.4379365146641231, 0.6305283118099928, 0.1576320779524982, 0.1576320779524982, 0.08125502719103873, 0.09225922913998763, 0.15758017190894835, 0.07324396817220392, 0.11611633896530886, 0.06796195123670845, 0.05449280805119499, 0.16268612161326063, 0.13407519654599348, 0.0603910602958316, 0.11516290996167274, 0.06891274531843067, 0.11516290996167274, 0.07492526672205214, 0.17551937482110364, 0.07030025025772793, 0.0672939895559172, 0.11331290337594305, 0.15355054661556364, 0.04578766299680964, 0.6780032839642264, 0.19371522398977895, 0.04959653110825597, 0.09919306221651195, 0.04959653110825597, 0.1983861244330239, 0.04959653110825597, 0.49596531108255976, 0.06521381185210293, 0.030277841217047786, 0.4821163947637609, 0.05123942359808087, 0.03493597063505514, 0.01630345296302573, 0.08850445894213968, 0.07453007068811762, 0.10713697661416909, 0.05123942359808087, 0.192686315347957, 0.578058946043871, 0.192686315347957, 0.17373211807620767, 0.05527840120606607, 0.08686605903810383, 0.10265988795412272, 0.031587657832037756, 0.007896914458009439, 0.031587657832037756, 0.031587657832037756, 0.0394845722900472, 0.4422272096485286, 0.14037267167577688, 0.07018633583788844, 0.07018633583788844, 0.5614906867031075, 0.5035158128775016, 0.07193083041107165, 0.04795388694071443, 0.04795388694071443, 0.09590777388142886, 0.023976943470357216, 0.07193083041107165, 0.11988471735178607, 0.026296529652343748, 0.23666876687109373, 0.026296529652343748, 0.6311167116562499, 0.026296529652343748, 0.026296529652343748, 0.026296529652343748, 0.07554293575687838, 0.09586714083151765, 0.11749061015750373, 0.09953292211210327, 0.06361754602130237, 0.08505540616852461, 0.04978966220339712, 0.14895136595797273, 0.18036571946375077, 0.08370973962248686, 0.10694139425628842, 0.16518626077087406, 0.16088950832307677, 0.11505748221323887, 0.05896099192255187, 0.03843206356085365, 0.05347069712814421, 0.11243168905069609, 0.10407689262442354, 0.08474150660933569, 0.5560736272342784, 0.05055214793038895, 0.1011042958607779, 0.05055214793038895, 0.1011042958607779, 0.05055214793038895, 0.0638859814317746, 0.0547594126558068, 0.07301255020774239, 0.0547594126558068, 0.07301255020774239, 0.07301255020774239, 0.3103033383829052, 0.036506275103871194, 0.24641735695113057, 0.018253137551935597, 0.028052670190595604, 0.05610534038119121, 0.6732640845742944, 0.140263350952978, 0.028052670190595604, 0.028052670190595604, 0.028052670190595604, 0.05343644873419732, 0.10687289746839464, 0.5343644873419732, 0.05343644873419732, 0.21374579493678927, 0.11207758417398231, 0.11207758417398231, 0.11207758417398231, 0.11207758417398231, 0.5603879208699115, 0.05561785565039677, 0.500560700853571, 0.05561785565039677, 0.11123571130079354, 0.05561785565039677, 0.05561785565039677, 0.11123571130079354, 0.04705880004514447, 0.04705880004514447, 0.04705880004514447, 0.04705880004514447, 0.799999600767456, 0.15552374986519585, 0.09487168098264767, 0.09860074127560724, 0.09092326420186696, 0.03794867239305907, 0.09509103747046882, 0.12251059844811266, 0.1729625906469773, 0.09059422947013523, 0.04101966322255518, 0.09631462449480742, 0.09631462449480742, 0.09631462449480742, 0.6742023714636519, 0.32528351318204796, 0.08610445937171858, 0.08001626527472837, 0.07218858715002668, 0.06001219895604628, 0.06001219895604628, 0.07827678124701688, 0.11393620381510236, 0.09306239548256452, 0.03044097048495101, 0.1182646730361668, 0.7095880382170008, 0.1182646730361668, 0.08827116413630323, 0.0749472148327103, 0.10492610076579441, 0.13990146768772588, 0.09493313878809971, 0.051630303551422646, 0.18986627757619942, 0.06328875919206647, 0.08660567047335412, 0.10659159442874354, 0.06525101595829796, 0.12666373686022545, 0.08334583550975874, 0.08115252404897562, 0.10034399933082795, 0.22097612967389982, 0.08608747483573764, 0.11295554023033093, 0.0932157370832828, 0.030158032585767967, 0.010377795945234483, 0.03113338783570345, 0.04151118378093793, 0.04151118378093793, 0.10377795945234483, 0.14528914323328276, 0.5292675932069587, 0.020755591890468966, 0.0622667756714069, 0.1166622532055652, 0.048425840953253474, 0.03155016910590757, 0.10859127971335628, 0.05576308958253431, 0.12840185101241453, 0.18196376600616457, 0.18856728977251733, 0.06236661334888705, 0.07630738574452063, 0.09806837883556373, 0.14710256825334558, 0.5884102730133823, 0.09806837883556373, 0.15828902594325547, 0.06322240781050538, 0.11417314432609693, 0.06726118570503398, 0.10811497748430403, 0.058872954693320725, 0.04970803562496737, 0.13141561918350747, 0.2070650359002547, 0.041785817447238194, 0.007302240841061151, 0.11683585345697842, 0.02190672252318345, 0.007302240841061151, 0.11683585345697842, 0.02190672252318345, 0.007302240841061151, 0.6425971940133812, 0.02190672252318345, 0.029208963364244604, 0.09251203966311043, 0.07352352577495147, 0.08096702321910978, 0.08370136921900467, 0.05529455244231888, 0.0691181905528986, 0.05772508222000323, 0.3379955472092294, 0.12289366188416476, 0.026280103221211996, 0.08025533262624163, 0.11770264175097392, 0.12547179302166528, 0.09897898718860777, 0.0605216883986856, 0.06362934890696215, 0.06580471126275572, 0.12034415318300898, 0.19702567622473258, 0.07015543597434287, 0.06764630298720259, 0.07387688352549757, 0.12283144489781524, 0.2919472023658217, 0.12016119609568882, 0.06230580538294976, 0.06052563951486548, 0.08188762993187683, 0.0809975469978347, 0.038273566163811994, 0.07157201563950631, 0.07157201563950631, 0.07157201563950631, 0.7872921720345695, 0.2945346142862876, 0.6217952968266071, 0.0654521365080639, 0.016469276619547783, 0.016469276619547783, 0.04940782985864335, 0.18116204281502563, 0.5434861284450768, 0.016469276619547783, 0.016469276619547783, 0.11528493633683448, 0.016469276619547783, 0.04940782985864335, 0.06539808381644073, 0.13079616763288146, 0.5885827543479666, 0.06539808381644073, 0.06539808381644073, 0.08495486401714089, 0.08699215092402676, 0.13463070976337477, 0.09731440458558185, 0.09761999762161473, 0.08566791443455095, 0.05667053079320869, 0.13401952369130898, 0.12841698469737284, 0.09371519771675015, 0.06781635640832454, 0.08072154836504412, 0.12033450513285562, 0.09294302154259979, 0.08337095863430445, 0.1013185765873582, 0.04247602915556054, 0.1575544461735933, 0.1695622572326602, 0.0838837477186774, 0.03183827612049799, 0.06367655224099598, 0.03183827612049799, 0.7959569030124498, 0.06367655224099598, 0.018685374801575103, 0.018685374801575103, 0.1370260818782174, 0.1121122488094506, 0.0062284582671917, 0.666445034589512, 0.031142291335958503, 0.07252728899614301, 0.5802183119691441, 0.18131822249035753, 0.036263644498071505, 0.07252728899614301, 0.2147325109249548, 0.07798375181611955, 0.08907148904116026, 0.08094048174279708, 0.09350658393117653, 0.08445159853072663, 0.0436117664184934, 0.14432537954594638, 0.09332178831075919, 0.07816854743653691, 0.0967046329513875, 0.0322348776504625, 0.064469755300925, 0.0322348776504625, 0.0322348776504625, 0.064469755300925, 0.0967046329513875, 0.5802277977083249, 0.05640256344252827, 0.06266951493614252, 0.06266951493614252, 0.15040683584674203, 0.06266951493614252, 0.018800854480842753, 0.03760170896168551, 0.11280512688505653, 0.05013561194891401, 0.3885509926040836, 0.0528164380805779, 0.2563529555618293, 0.20611292909493814, 0.033493350977927445, 0.08502158325166198, 0.061833878728481444, 0.024475910330023904, 0.021899498716337177, 0.1970954884470346, 0.06312208453532481, 0.7483387873620214, 0.21726099469183519, 0.07380164578996036, 0.12846222301942298, 0.06630308284873444, 0.057620536285209696, 0.06018583413352383, 0.05801519749264264, 0.11524107257041939, 0.19476530586815743, 0.028415606935171905, 0.05778158251443708, 0.05778158251443708, 0.05778158251443708, 0.5778158251443708, 0.05778158251443708, 0.05778158251443708, 0.11556316502887416, 0.13695204184439141, 0.0913116405992441, 0.1127749644280431, 0.12097790140858986, 0.08674760047472936, 0.05214724223347577, 0.029111174848256136, 0.11783241429574862, 0.1987824502879863, 0.0533499284825033, 0.07187887823068372, 0.08169648111097222, 0.11781123456346208, 0.13884895502122316, 0.03962104019545005, 0.043828584287002266, 0.06661944811624344, 0.07608642232223593, 0.3068000900090158, 0.05750310258454697, 0.08926980124498599, 0.803428211204874, 0.0846905763300102, 0.08047111701107731, 0.0864989160381243, 0.09433505477328538, 0.06630578929751689, 0.06751134910292629, 0.044605712800147725, 0.26883983660629573, 0.05304463143801351, 0.1540102651410506, 0.009440812624715226, 0.009440812624715226, 0.009440812624715226, 0.047204063123576126, 0.09440812624715225, 0.01888162524943045, 0.01888162524943045, 0.09440812624715225, 0.6608568837300658, 0.047204063123576126, 0.028258950555953195, 0.028258950555953195, 0.6216969122309703, 0.22607160444762556, 0.05651790111190639, 0.028258950555953195, 0.028258950555953195, 0.4922111986905774, 0.04922111986905774, 0.04922111986905774, 0.09844223973811549, 0.04922111986905774, 0.19688447947623097, 0.04922111986905774, 0.04922111986905774, 0.5261687378518849, 0.09285330667974438, 0.061902204453162926, 0.1547555111329073, 0.12380440890632585, 0.024582470474236513, 0.03687370571135477, 0.0696503330103368, 0.1556889796701646, 0.495746487897103, 0.0778444898350823, 0.0860386466598278, 0.020485392061863762, 0.024582470474236513, 0.008194156824745506, 0.5401110015400548, 0.018624517294484645, 0.018624517294484645, 0.05587355188345394, 0.018624517294484645, 0.14899613835587716, 0.05587355188345394, 0.03724903458896929, 0.09312258647242323, 0.018624517294484645, 0.17985866565968936, 0.5395759969790681, 0.08992933282984468, 0.17985866565968936, 0.5342364742819212, 0.06285134991552015, 0.03142567495776007, 0.03142567495776007, 0.06285134991552015, 0.2199797247043205, 0.670246954172005, 0.17873252111253465, 0.04468313027813366, 0.04468313027813366, 0.6015594267746641, 0.08593706096780916, 0.08593706096780916, 0.08593706096780916, 0.06625872716524406, 0.02208624238841469, 0.02208624238841469, 0.04417248477682938, 0.02208624238841469, 0.6846735140408553, 0.08834496955365875, 0.04417248477682938, 0.04220996088160746, 0.03165747066120559, 0.06859118643261213, 0.02110498044080373, 0.43265209903647645, 0.02638122555100466, 0.02110498044080373, 0.26908850062024753, 0.05803869621221026, 0.03165747066120559, 0.08042344602907356, 0.051092542183176146, 0.14665451922948708, 0.06623107320041352, 0.11543129900643499, 0.2497857617844167, 0.05866180769179483, 0.0236539547144334, 0.1580084174924151, 0.05014638399459881, 0.1068194864285587, 0.1068194864285587, 0.6409169185713521, 0.08786374608754507, 0.5271824765252704, 0.08786374608754507, 0.17572749217509015, 0.1509170169153554, 0.06554831575812042, 0.16190359758602563, 0.09509330972384174, 0.07972694351553944, 0.06495444653267879, 0.044688659214483006, 0.1270880142445098, 0.12790458442949204, 0.08202818676412578, 0.6186829048422113, 0.12373658096844226, 0.12373658096844226, 0.2668543821134053, 0.6404505170721727, 0.05337087642268106, 0.07342513351718159, 0.14685026703436319, 0.6608262016546343, 0.07342513351718159, 0.09810929159447447, 0.07907902630522368, 0.1846142583766993, 0.08278165400824096, 0.11902189834168378, 0.08451919996943343, 0.052126378835773916, 0.10094314631689552, 0.14382329843060954, 0.05498091862916153, 0.13122052135283682, 0.048917249339361354, 0.22098367389056492, 0.10211475799591684, 0.1480969723749165, 0.04598221437899967, 0.03069557396044925, 0.07239752902225481, 0.1550676804057755, 0.04439240377547043, 0.070821618572756, 0.070821618572756, 0.1682013441102955, 0.041312610834107664, 0.0442635116079725, 0.0442635116079725, 0.023607206190918665, 0.05606711470343183, 0.159348641788701, 0.3216481843512668, 0.49603509753061326, 0.0708621567900876, 0.0708621567900876, 0.0708621567900876, 0.1417243135801752, 0.1417243135801752, 0.6163568080001899, 0.07704460100002374, 0.07704460100002374, 0.07704460100002374, 0.2653855905827738, 0.6065956356177686, 0.03791222722611054, 0.03791222722611054, 0.03791222722611054, 0.8023004038897894, 0.13371673398163159, 0.04963769152710069, 0.7445653729065103, 0.09927538305420137, 0.04963769152710069, 0.11967739409993254, 0.05983869704996627, 0.7779030616495616, 0.7514816771088381, 0.06262347309240317, 0.06262347309240317, 0.06262347309240317, 0.04799763142572578, 0.06411112197579086, 0.27804342204474003, 0.02742721795755759, 0.14879265741974992, 0.08605289634183694, 0.048683311874664716, 0.12993644507392907, 0.07028224601624132, 0.09873798464720732, 0.05673624150398101, 0.041805651634512324, 0.10938279969589017, 0.13327174348704007, 0.06147508089733411, 0.05530809812516226, 0.04167582041825607, 0.29147108049528003, 0.12619594220107447, 0.08257265353897465, 0.06385646985280646, 0.10370763714983568, 0.11730670017404446, 0.10985677869121703, 0.061727920857712906, 0.07639125837946846, 0.05758907558947545, 0.21119936140205986, 0.14225802450541883, 0.05617004292607975, 0.0871434781115318, 0.1014118058206885, 0.14655039394731972, 0.08407645439834859, 0.07174168511706826, 0.07387526683058701, 0.05373958940925373, 0.1508842318029047, 0.17388690965177883, 0.05680661312243695, 0.09864421922669461, 0.0633599408109923, 0.30769408381865127, 0.08953859899038434, 0.05387491973150244, 0.06905095345868623, 0.017452438786261355, 0.06980975514504542, 0.15934835413542975, 0.0713273585177638, 0.02301850306404748, 0.10092728266543893, 0.38246128167955806, 0.16821213777573157, 0.14342298062983427, 0.13634036430243507, 0.010623924491098835, 0.0301011193914467, 0.003541308163699612, 0.050834885051849917, 0.07668313168838378, 0.1368880061459772, 0.09251518275326076, 0.07485221421829596, 0.0679593484485536, 0.054712122047329996, 0.1765219843219958, 0.15508947981920315, 0.11383998622840119, 0.15799970241563108, 0.06028560074086466, 0.11257121654929231, 0.06628558944019243, 0.04885705083738321, 0.08828554800439423, 0.046285627109099885, 0.09028554423750347, 0.2871423163249715, 0.042285634642881376, 0.15565134069296668, 0.06235089990023049, 0.08961059285178052, 0.07951998827855482, 0.054544486909501144, 0.10118215680266872, 0.06463509148272685, 0.08858145158933711, 0.23808304571404434, 0.06583993978997768, 0.14287334428528128, 0.06883451157662004, 0.20139740833615938, 0.050079316553603745, 0.06706700628649286, 0.10467559107086587, 0.05508724820896412, 0.08444747497274357, 0.16339604459842477, 0.062157269369472884, 0.04692243653548178, 0.09384487307096356, 0.04692243653548178, 0.7507589845677085, 0.06757431260373825, 0.0619814273202089, 0.14081812535790353, 0.11699090175273053, 0.10136146890560739, 0.062441116521594876, 0.06895338020789618, 0.13951567262064327, 0.1514675918566786, 0.08887324560128841, 0.20283302790283736, 0.12946789015074725, 0.21680733985561643, 0.060007339561933645, 0.05856880744914756, 0.055280734048493665, 0.052609174410462374, 0.08548990841700135, 0.06987155976389534, 0.06904954141373186, 0.0724917554254826, 0.01812293885637065, 0.01812293885637065, 0.0724917554254826, 0.01812293885637065, 0.01812293885637065, 0.0362458777127413, 0.724917554254826, 0.01812293885637065, 0.3782752096130395, 0.16669754999896655, 0.05770299807656534, 0.05129155384583586, 0.06411444230729482, 0.08976021923021275, 0.03205722115364741, 0.05129155384583586, 0.09617166346094225, 0.012822888461458966, 0.237222918320535, 0.06870785744039885, 0.11499525613708861, 0.07666350409139241, 0.06798461683576308, 0.043394436278146646, 0.03543878962715309, 0.211186256553647, 0.09402127860265107, 0.05062684232450442, 0.05543277962723901, 0.11086555925447802, 0.11086555925447802, 0.05543277962723901, 0.38802945739067307, 0.11086555925447802, 0.05543277962723901, 0.05543277962723901, 0.03524259722122616, 0.4141005173494074, 0.044053246526532704, 0.11453844096898502, 0.09691714235837194, 0.03524259722122616, 0.026431947915919622, 0.07048519444245233, 0.044053246526532704, 0.10572779166367849, 0.035939476077469626, 0.0016336125489758919, 0.07677978980186692, 0.296772946397287, 0.26137800783614273, 0.17098478012614335, 0.1219764036568666, 0.010346212810180649, 0.02232603816933719, 0.002178150065301189, 0.10438532598658545, 0.4871315212707321, 0.0695902173243903, 0.03479510866219515, 0.10438532598658545, 0.1391804346487806, 0.03479510866219515, 0.2130368418151849, 0.001109566884454088, 0.49597639735097737, 0.001109566884454088, 0.21525597558409307, 0.007766968191178616, 0.001109566884454088, 0.06435487929833711, 0.001109566884454088, 0.12477745074797389, 0.08130184290862079, 0.0911268390305085, 0.03463311132965417, 0.09972371063716023, 0.11495245462608619, 0.16334056052638316, 0.04249310822716434, 0.1923242990859519, 0.055019978282571165, 0.06854901413890398, 0.05411764274123998, 0.08298038553656796, 0.4654117275746638, 0.06133332844007198, 0.03968627134357598, 0.02525489994591199, 0.10101959978364795, 0.07215685698831997, 0.036078428494159986, 0.03995715508110245, 0.052251664336826285, 0.13616169000714146, 0.14353839556057574, 0.07192287914598441, 0.06946397729483965, 0.07468914372852228, 0.28799887931533075, 0.05471056618797106, 0.06884925183205347, 0.0721222920707755, 0.0721222920707755, 0.144244584141551, 0.5048560444954285, 0.0721222920707755, 0.144244584141551, 0.0721222920707755, 0.14913274553248398, 0.5965309821299359, 0.04413408681207952, 0.035143809868878134, 0.04413408681207952, 0.05884544908277269, 0.04168219310029732, 0.09153736523986863, 0.04576868261993432, 0.5222533606096076, 0.08091249248881245, 0.034326511964950734, 0.04219872181307126, 0.04219872181307126, 0.7595769926352827, 0.04219872181307126, 0.04219872181307126, 0.04219872181307126, 0.09956140085760307, 0.07181725954041222, 0.1267007652523483, 0.12828830467376795, 0.07325360473122047, 0.07355599319244327, 0.07370718742305465, 0.08761705663930291, 0.21620774977429366, 0.0492137220640088, 0.12219275388248817, 0.05531359229248436, 0.12470700807760109, 0.16191797016527237, 0.10801236022205127, 0.03469670789255837, 0.056419864138334046, 0.07532705568558325, 0.2234669128616368, 0.03791495326230291, 0.0647702814366333, 0.06390667768414485, 0.07945154522893684, 0.4309382724917335, 0.038862168861979976, 0.03368054634704931, 0.05613424391174885, 0.11054128031852081, 0.09931443153617105, 0.023317301317187986, 0.10453871568754382, 0.10669244517080542, 0.12320437120914435, 0.09967901839197918, 0.0775342613974176, 0.10348946286236509, 0.04191488917424498, 0.1402133117436206, 0.13088048398282032, 0.07184620660829082, 0.15548315407817562, 0.4664494622345268, 0.15548315407817562, 0.14809025565638193, 0.14809025565638193, 0.5923610226255277, 0.14723543005215986, 0.14723543005215986, 0.5889417202086394, 0.6772375102474186, 0.12313409277225792, 0.12313409277225792, 0.5755847016939705, 0.11511694033879409, 0.11511694033879409, 0.6684804028875533, 0.013642457201786801, 0.10913965761429441, 0.19099440082501523, 0.013642457201786801, 0.7501282385594892, 0.12502137309324818, 0.5777169356342318, 0.11554338712684635, 0.11554338712684635, 0.7936067495526897, 0.056686196396620696, 0.056686196396620696, 0.04330991424017361, 0.04330991424017361, 0.04330991424017361, 0.04330991424017361, 0.08661982848034722, 0.04330991424017361, 0.04330991424017361, 0.04330991424017361, 0.04330991424017361, 0.6496487136026041, 0.142557406497593, 0.142557406497593, 0.142557406497593, 0.142557406497593, 0.427672219492779, 0.2431454919748018, 0.11498206334421403, 0.08550988249878351, 0.06935426042984338, 0.041977578681221, 0.11687477220584717, 0.037989370722779706, 0.1272846709448295, 0.07104417905630156, 0.0917963797892079, 0.14764191489451128, 0.22850550314833423, 0.12575402634460434, 0.0453971021775848, 0.059786362242801414, 0.0794449288107734, 0.050767741497700865, 0.12311937309322664, 0.07954626162813408, 0.059887695060162095, 0.05378341128843322, 0.06722926411054152, 0.12101267539897474, 0.04033755846632491, 0.013445852822108305, 0.6991843467496318, 0.08819906963818629, 0.7937916267436766, 0.08499963956525754, 0.5949974769568027, 0.08499963956525754, 0.08499963956525754, 0.05521263087048717, 0.27606315435243584, 0.6073389395753589, 0.05521263087048717, 0.0800997420588804, 0.0800997420588804, 0.7208976785299236, 0.12721593398065772, 0.09045187819990932, 0.12431925176587669, 0.09989585583166122, 0.1280690664137782, 0.04223997558403311, 0.041644766909763035, 0.15852391024726378, 0.11124450122107735, 0.07638511319799318, 0.1242661639039049, 0.1242661639039049, 0.1242661639039049, 0.6213308195195245, 0.6348984956701698, 0.0373469703335394, 0.2987757626683152, 0.19074690175153824, 0.09537345087576912, 0.6676141561303839, 0.17396415824793565, 0.521892474743807, 0.17396415824793565, 0.17396415824793565, 0.27427331335563926, 0.04942947625310422, 0.13412266422336205, 0.09735195627897965, 0.039181901907948465, 0.03496231247170786, 0.04942947625310422, 0.19711510652152536, 0.08378899023392056, 0.03978470039883998, 0.1435933083597438, 0.06998131526255529, 0.14667938451918203, 0.06371839599781298, 0.0968483312388411, 0.11836009740904291, 0.05500476919469326, 0.11400328400748305, 0.1132771484405564, 0.07860417511980917, 0.04842775955281717, 0.19371103821126867, 0.04842775955281717, 0.5327053550809888, 0.04842775955281717, 0.04842775955281717, 0.6620552149175645, 0.19919890084594052, 0.05284868797953524, 0.018971323890089573, 0.04742830972522394, 0.027101891271556537, 0.2899902366056549, 0.009485661945044787, 0.23443135949896404, 0.10163209226833701, 0.01761622932651175, 0.09209060254633593, 0.6446342178243515, 0.09209060254633593, 0.09209060254633593, 0.054378010155623026, 0.11300430235465411, 0.09465172392713134, 0.12642887361182353, 0.04622130863227957, 0.10875602031124605, 0.10076925006963892, 0.13951358230552033, 0.07154106961099155, 0.14495138332108265, 0.05021052770930534, 0.05021052770930534, 0.677842124075622, 0.05021052770930534, 0.10042105541861068, 0.05021052770930534, 0.02216238817096736, 0.00933153186145994, 0.08048446230509199, 0.24611915284600594, 0.2892774877052582, 0.1737997809196914, 0.09214887713191691, 0.030327478549744807, 0.04549121782461721, 0.010497973344142432, 0.038847447599777464, 0.11654234279933239, 0.6604066091962169, 0.019423723799888732, 0.019423723799888732, 0.019423723799888732, 0.11654234279933239, 0.5270431368137517, 0.032362297874528614, 0.02773911246388167, 0.02773911246388167, 0.06472459574905723, 0.16181148937264306, 0.018492741642587778, 0.06934778115970418, 0.032362297874528614, 0.036985483285175556, 0.0937559449837015, 0.1205721615059215, 0.1641233101435119, 0.11462420370588022, 0.06522591011231707, 0.05595112845801541, 0.03830888074602857, 0.10706324040074301, 0.1633168073909639, 0.07712182571239963, 0.03545610606388619, 0.20387260986734557, 0.03545610606388619, 0.11523234470763011, 0.05318415909582928, 0.017728053031943095, 0.3191049545749757, 0.017728053031943095, 0.15955247728748784, 0.02659207954791464, 0.2846434611103173, 0.5692869222206346, 0.05764781857626994, 0.06533419438643927, 0.12577705871186168, 0.0782612809762695, 0.05729843785762588, 0.10236855056270965, 0.04576887414237189, 0.18062983153897913, 0.12053634793220078, 0.1659558413559286, 0.15016027528708764, 0.6006411011483506, 0.08125545673320565, 0.016251091346641128, 0.06500436538656451, 0.016251091346641128, 0.016251091346641128, 0.6825458365589274, 0.06500436538656451, 0.04875327403992339, 0.04182912222126365, 0.15337344814463338, 0.5298355481360062, 0.06971520370210608, 0.12548736666379096, 0.013943040740421218, 0.027886081480842435, 0.013943040740421218, 0.013943040740421218, 0.7336684210510549, 0.13339425837291907, 0.06669712918645954, 0.02558640297985381, 0.02558640297985381, 0.22388102607372085, 0.07675920893956144, 0.006396600744963453, 0.006396600744963453, 0.607677070771528, 0.01918980223489036, 0.0077237854662041035, 0.015447570932408207, 0.0077237854662041035, 0.13130435292546977, 0.11585678199306156, 0.0077237854662041035, 0.0077237854662041035, 0.6874169064921652, 0.015447570932408207, 0.5607235968252251, 0.11214471936504501, 0.11214471936504501, 0.11214471936504501, 0.48294673165590135, 0.16098224388530044, 0.16098224388530044, 0.04082788577001086, 0.571590400780152, 0.08165577154002172, 0.08165577154002172, 0.08165577154002172, 0.08165577154002172, 0.012203115932171516, 0.03660934779651455, 0.02440623186434303, 0.0854218115252006, 0.0732186955930291, 0.02440623186434303, 0.04881246372868606, 0.6589682603372619, 0.03660934779651455, 0.07343895763310888, 0.07343895763310888, 0.03671947881655444, 0.03671947881655444, 0.11015843644966333, 0.07343895763310888, 0.03671947881655444, 0.03671947881655444, 0.5140727034317623, 0.06844990749066235, 0.1368998149813247, 0.06844990749066235, 0.06844990749066235, 0.06844990749066235, 0.5475992599252988, 0.5315242994527621, 0.13288107486319053, 0.13288107486319053, 0.13288107486319053, 0.24699223399265946, 0.5351498403174288, 0.08233074466421982, 0.12349611699632973, 0.11761544636342883, 0.03920514878780961, 0.19602574393904804, 0.07841029757561922, 0.39205148787809607, 0.07841029757561922, 0.07841029757561922, 0.053079502320005134, 0.053079502320005134, 0.796192534800077, 0.053079502320005134, 0.09807657109471099, 0.049038285547355495, 0.8336508543050434, 0.03776435748320138, 0.5287010047648193, 0.03776435748320138, 0.07552871496640276, 0.15105742993280552, 0.03776435748320138, 0.03776435748320138, 0.07552871496640276, 0.1424400531100006, 0.054179652103190416, 0.06117057495521498, 0.06641376709423341, 0.023594364625582922, 0.2481777612468722, 0.07078309387674876, 0.1337013995449699, 0.12933207276245454, 0.06903536316374262, 0.5052181179607588, 0.10104362359215176, 0.10104362359215176, 0.10104362359215176, 0.10104362359215176, 0.0213665033201179, 0.0213665033201179, 0.9187596427650697, 0.07557177808570771, 0.0814370504147477, 0.1732511211039508, 0.1268553130652626, 0.07451903689844412, 0.056058468221786166, 0.038688238631936926, 0.14415034685602157, 0.1427592245728518, 0.08670075635106565, 0.1223456952374845, 0.10050957936320572, 0.16575356722969486, 0.10807026839473566, 0.04954101833946542, 0.10621975010030525, 0.0426676646744382, 0.15665959161135115, 0.10542667083126366, 0.042773408576977076, 0.08654821642719834, 0.5192892985631901, 0.08654821642719834, 0.25964464928159503, 0.5113350565091026, 0.02840750313939459, 0.19885252197576211, 0.05681500627878918, 0.17044501883636753, 0.049477217385393076, 0.03710791303904481, 0.03710791303904481, 0.07421582607808962, 0.06803117390491548, 0.10513908694396028, 0.34634052169775154, 0.024738608692696538, 0.24120143475379124, 0.018553956519522404, 0.06544059643704903, 0.1631532678293551, 0.07171572212279345, 0.09009287591675927, 0.04213298674714115, 0.054683238118630004, 0.15867103519668052, 0.10533246686785289, 0.09009287591675927, 0.15911925845994798, 0.06285513791577453, 0.14575463083618584, 0.07918757532696004, 0.11111006663064081, 0.01979689383174001, 0.05246176865411103, 0.17990427269593734, 0.11259483366802131, 0.09898446915870006, 0.13734095095769633, 0.3408571048708356, 0.4544761398277808, 0.10274952010766164, 0.034249840035887213, 0.06849968007177443, 0.17124920017943607, 0.10274952010766164, 0.37674824039475935, 0.10274952010766164, 0.034249840035887213, 0.11823957478544177, 0.019706595797573626, 0.2758923411660308, 0.4335451075466198, 0.1477994684818022, 0.03889894024766991, 0.03889894024766991, 0.07779788049533982, 0.11669682074300974, 0.03889894024766991, 0.6612819842103885, 0.03889894024766991, 0.023334581157344617, 0.18667664925875693, 0.023334581157344617, 0.6300336912483047, 0.04666916231468923, 0.023334581157344617, 0.023334581157344617, 0.030733889478305996, 0.09220166843491798, 0.06146777895661199, 0.7990811264359559, 0.0853975754211458, 0.06661652969882614, 0.2179885477855564, 0.048959136284679454, 0.066937573215447, 0.09470783740315042, 0.05345374551737134, 0.06292452925768638, 0.24254837680705132, 0.060516702883030016, 0.06485797069663217, 0.1945739120898965, 0.6485797069663216, 0.06485797069663217, 0.09725065675186169, 0.11069544800787944, 0.09579413769912644, 0.03125913967024126, 0.03596481660984747, 0.05691628298380846, 0.03730929573544924, 0.41656444908228313, 0.05590792363960712, 0.06240623941334904, 0.11377218456174291, 0.0696882461209893, 0.06545796919990689, 0.05944652304889503, 0.05365772305162435, 0.038963076904706476, 0.06211827689378919, 0.40298953827153555, 0.08527347688287189, 0.04853686151557721, 0.07657875187805138, 0.06599069293671309, 0.15217256804062945, 0.1680546564526369, 0.09184525546788799, 0.09098343671684883, 0.042229118800919015, 0.12520995282954703, 0.1191772215722729, 0.06783744740322559, 0.14120693955143335, 0.04706897985047778, 0.14120693955143335, 0.04706897985047778, 0.5177587783552555, 0.04706897985047778, 0.04706897985047778, 0.016285453933023473, 0.016285453933023473, 0.09771272359814084, 0.016285453933023473, 0.7491308809190798, 0.016285453933023473, 0.032570907866046946, 0.04885636179907042, 0.615171194693243, 0.07689639933665537, 0.07689639933665537, 0.03844819966832769, 0.03844819966832769, 0.03844819966832769, 0.03844819966832769, 0.07689639933665537, 0.06933575763736056, 0.04141531832030262, 0.08701870253816393, 0.06095962584224318, 0.07026643894792917, 0.21452204208606188, 0.058167581910537385, 0.10563232874953589, 0.10888971333652599, 0.18287887752672954, 0.6572818658635984, 0.21909395528786615, 0.15241155533801976, 0.06735139207318207, 0.09522093362070568, 0.26330910607920743, 0.06444831482864835, 0.09957554948750624, 0.03164354196541743, 0.08070554739803712, 0.09405970272289219, 0.05138446722824666, 0.03256166447228663, 0.05058687159087387, 0.0738452033567929, 0.034306039354730554, 0.3727147665488523, 0.030235831295694727, 0.025584164942510923, 0.3349199774292339, 0.02500270664836295, 0.020351040295179142, 0.10275852146487434, 0.12302740413913854, 0.12125976902219689, 0.10358341785278044, 0.10865063852134649, 0.08720333243578786, 0.05939253992923929, 0.08779254414143507, 0.1218489807278441, 0.0846108009309401, 0.09036987088107536, 0.08681411501121863, 0.13572253065509685, 0.11378418783541484, 0.11063097036591928, 0.08862553781284375, 0.06963914326247678, 0.11284493156790552, 0.13464909492080046, 0.05689209391770742, 0.08918783552797102, 0.09254190797517677, 0.10348075788822278, 0.11556304159008894, 0.0831657509068516, 0.09410460081989762, 0.06159296675777828, 0.13393421113046589, 0.14830336240997233, 0.07809652777641564, 0.11371818192431936, 0.10484655071036536, 0.13138812508599632, 0.09861441308072827, 0.0758854405491106, 0.06444763501707074, 0.07933144606196876, 0.12105010854742183, 0.1269156498459038, 0.08365728276959922, 0.5815070730561646, 0.1163014146112329, 0.2326028292224658, 0.044206896408978374, 0.044206896408978374, 0.044206896408978374, 0.06188965497256972, 0.06188965497256972, 0.0353655171271827, 0.01768275856359135, 0.07957241353616107, 0.12377930994513944, 0.49511723978055777, 0.1336058217771871, 0.05460716758720648, 0.1723054981017148, 0.03385045721380787, 0.03396163860435347, 0.10339869320741212, 0.06605029839874638, 0.052862474997106224, 0.30367913965333243, 0.04567844668492871, 0.0380565726212368, 0.058987687562917036, 0.16744891953344193, 0.02283394357274208, 0.047570715776546, 0.06279334482504072, 0.0285424294659276, 0.18457437721299846, 0.0380565726212368, 0.3520232967464404, 0.150401904818735, 0.06271370938936183, 0.082138309642704, 0.07492345812003405, 0.062158720810694915, 0.07991835532803632, 0.02497448604001135, 0.3341031243574851, 0.09823297842404463, 0.031079360405347457, 0.5506331862035021, 0.18354439540116738, 0.2561779165450185, 0.0853926388483395, 0.512355833090037, 0.0853926388483395, 0.09204777860431308, 0.08813382598332484, 0.13999369821141922, 0.05891896534809107, 0.1091713213211367, 0.11448311416390648, 0.0666769785789785, 0.08296181716273321, 0.15641832081735207, 0.09113918246015511, 0.11785002314625612, 0.024552088155470025, 0.004910417631094005, 0.24552088155470025, 0.43211675153627244, 0.004910417631094005, 0.17186461708829018, 0.05366233628280445, 0.05366233628280445, 0.05366233628280445, 0.6439480353936534, 0.05366233628280445, 0.05366233628280445, 0.05366233628280445, 0.24760791271455088, 0.6752943074033205, 0.0450196204935547, 0.184620128809844, 0.057124613846992085, 0.12418394314563497, 0.1603352688169198, 0.11535308496638981, 0.07533825884168521, 0.07423440156927957, 0.09962311883460938, 0.07092282975206264, 0.03808307589799472, 0.13135907105485548, 0.7881544263291328, 0.6825558522989621, 0.004158186856878955, 0.0020790934284394776, 0.03742368171191059, 0.014553653999076342, 0.11435013856417127, 0.06861008313850275, 0.010395467142197388, 0.010395467142197388, 0.7276826999538171, 0.00831637371375791, 0.016851712017596426, 0.005617237339198808, 0.02246894935679523, 0.3201825283343321, 0.46623069915350107, 0.06178961073118689, 0.005617237339198808, 0.08987579742718092, 0.011234474678397615, 0.005617237339198808, 0.12962321000133933, 0.10202467169262301, 0.18973130471380673, 0.06667917526216176, 0.048418488260905834, 0.09828953116963884, 0.048210980454073384, 0.16026519614359833, 0.11585852548145326, 0.04080986867704921, 0.11133239073387052, 0.0957870055800652, 0.13487907706978153, 0.09853030884250143, 0.06241014922042434, 0.07041145040253002, 0.10973213049744938, 0.15111028803919593, 0.09372952813323802, 0.07201171063895116, 0.06226510515280671, 0.06226510515280671, 0.7471812618336806, 0.06226510515280671, 0.09800864760010498, 0.49004323800052496, 0.09800864760010498, 0.09800864760010498, 0.02446400079955402, 0.04892800159910804, 0.04892800159910804, 0.04892800159910804, 0.02446400079955402, 0.07339200239866206, 0.04892800159910804, 0.2446400079955402, 0.4648160151915264, 0.14430660822463065, 0.01990435975512147, 0.004976089938780367, 0.3035414862656024, 0.4229676447963312, 0.004976089938780367, 0.09454570883682697, 0.14211065489632638, 0.019601469640872605, 0.004900367410218151, 0.2989224120233072, 0.3920293928174521, 0.004900367410218151, 0.13721028748610822, 0.1547009875410206, 0.02417202930328447, 0.004834405860656894, 0.2610579164754723, 0.3915868747132084, 0.004834405860656894, 0.1595353934016775, 0.16270882350192023, 0.02465285204574549, 0.004930570409149098, 0.2810425133214986, 0.40430677355022604, 0.004930570409149098, 0.11340311941042924, 0.2140933214096062, 0.6422799642288187, 0.040329713509299196, 0.4920225048134502, 0.04839565621115904, 0.040329713509299196, 0.11292319782603776, 0.04839565621115904, 0.04839565621115904, 0.032263770807439356, 0.05646159891301888, 0.08065942701859839, 0.06942118165940968, 0.06397033332170787, 0.13441997693162733, 0.10788565860847518, 0.14079644102478792, 0.08402534135664845, 0.057593869228547284, 0.11765604713831802, 0.144910288826827, 0.0792944163843035, 0.028072046241672515, 0.028072046241672515, 0.028072046241672515, 0.8983054797335205, 0.08511088740100542, 0.09000173815805372, 0.16185186525902098, 0.05374893718570603, 0.06085831818306489, 0.11793505072923678, 0.07174928481731677, 0.13533034465894464, 0.12590159113762472, 0.09756490943183975, 0.1369314421640761, 0.06846572108203805, 0.7531229319024185, 0.6843182240648962, 0.04839071008034171, 0.04839071008034171, 0.04839071008034171, 0.09678142016068342, 0.4839071008034171, 0.07258606512051256, 0.024195355040170854, 0.12097677520085427, 0.024195355040170854, 0.08671611511437098, 0.27334427590399546, 0.04901345636899229, 0.07540531749075738, 0.06974991867895057, 0.07163505161621951, 0.04147292461991656, 0.17908762904054876, 0.11122284329886713, 0.03958779168264762, 0.0530705897096597, 0.0530705897096597, 0.6368470765159164, 0.1061411794193194, 0.0530705897096597, 0.1061411794193194, 0.017384669477773704, 0.017384669477773704, 0.15646202529996336, 0.06953867791109482, 0.017384669477773704, 0.712771448588722, 0.017384669477773704, 0.0834206073155202, 0.07357299873343837, 0.23738417995460745, 0.10889182566725113, 0.0642935214157074, 0.14761944018716913, 0.05009023980693551, 0.09648762639559035, 0.10368395574403476, 0.034561318581344924, 0.09756746768009632, 0.05175835175712427, 0.2961232136449265, 0.07272940807251083, 0.07034971373884993, 0.07615021867714834, 0.0416446508390655, 0.03822384023442798, 0.1832364636918882, 0.0722832153849494, 0.5550801317056133, 0.18502671056853778, 0.11811557397133857, 0.075745858773498, 0.14809414604528237, 0.07614557306781725, 0.0473661438768312, 0.07534614447917874, 0.050164143937065954, 0.1343040028912682, 0.1383011458344607, 0.13630257436286447, 0.09024161077376273, 0.07713695947009458, 0.152155202861153, 0.07548906918639978, 0.11252736508658762, 0.10617121684947911, 0.04629786987523479, 0.12343482934532937, 0.15042884161156797, 0.06607255327957237, 0.11615912462641365, 0.06811837961120759, 0.12592498314591893, 0.0718791450038121, 0.050952305319157946, 0.07309229513045871, 0.041368419318649666, 0.24269068283565587, 0.1661409098442543, 0.04367340455927824, 0.08697722510506266, 0.08538859998898846, 0.20374117113651666, 0.05202747255143018, 0.0736724897579412, 0.09770044463856355, 0.06652367673560729, 0.09223954580205847, 0.11070731277642108, 0.13106157207612182, 0.06088773831828196, 0.05863904343720905, 0.10551568288111363, 0.10672651858630673, 0.15844650085098375, 0.03840078950755283, 0.0501631935008573, 0.19131204142051095, 0.1849119098359188, 0.04514687415077157, 0.10353710115711907, 0.0709226048571778, 0.12996288848173942, 0.12340285696789924, 0.10186614973378243, 0.08268115191028755, 0.062072751022468876, 0.09202610246302215, 0.1525516762416608, 0.0810102004869509, 0.18652332123838497, 0.09339701861718841, 0.14997666177948515, 0.07959050282160403, 0.05333105121039454, 0.04791673129055753, 0.06226467907812561, 0.16513675755502877, 0.11803217425244679, 0.043585275354687925, 0.5876338200693624, 0.19587794002312078, 0.658264542919056, 0.09403779184557942, 0.09403779184557942, 0.07580623743521313, 0.606449899481705, 0.07580623743521313, 0.07580623743521313, 0.10424396034177989, 0.03207506472054766, 0.01603753236027383, 0.04811259708082149, 0.2245254530438336, 0.3929195428267088, 0.008018766180136914, 0.036084447810616115, 0.12028149270205371, 0.01603753236027383, 0.07829768641375003, 0.7829768641375003, 0.07829768641375003, 0.5142112818147083, 0.10284225636294167, 0.03428075212098056, 0.06856150424196111, 0.06856150424196111, 0.03428075212098056, 0.13712300848392223, 0.03428075212098056, 0.03428075212098056, 0.07573722115343395, 0.10692899776004557, 0.10553383842300863, 0.11420375716030963, 0.06896073294496881, 0.06706730241613296, 0.09800994342684513, 0.09930544852552228, 0.18416103248887625, 0.08007218052208445, 0.6116031129874009, 0.20386770432913365, 0.06795590144304454, 0.08639395042778619, 0.08639395042778619, 0.08639395042778619, 0.17278790085557238, 0.08639395042778619, 0.5183637025667172, 0.06749908997266721, 0.06749908997266721, 0.7424899896993393, 0.06749908997266721, 0.06749908997266721, 0.022592576819629145, 0.06777773045888744, 0.09037030727851658, 0.04518515363925829, 0.7455550350477619, 0.11715924202713052, 0.04645677614389836, 0.081638458807617, 0.1442025113517721, 0.06917651338215522, 0.10919037896595088, 0.06960038907689882, 0.09189625062041207, 0.21609182918028633, 0.05451041434402672, 0.2392299566155687, 0.5980748915389217, 0.10696079415144084, 0.11883433281765075, 0.13882145623910408, 0.09300938621864421, 0.1076534172403031, 0.06391921648642997, 0.04630680079821861, 0.12882789452837742, 0.12259428672861722, 0.07292331664163913, 0.100984018296481, 0.1138723689799658, 0.10993004994737046, 0.13894147462313627, 0.12463793249205313, 0.08556854002799917, 0.058225019558331384, 0.11579298594456355, 0.10396602884677748, 0.04806596666664336, 0.6332428733581296, 0.12664857467162594, 0.7677918784100924, 0.13959852334728953, 0.5832053800373068, 0.1458013450093267, 0.0848032701579351, 0.12720490523690264, 0.04240163507896755, 0.04240163507896755, 0.12720490523690264, 0.04240163507896755, 0.5088196209476106, 0.10563859736714684, 0.05466343261364086, 0.07145330869335935, 0.11923564455301722, 0.10354674395393601, 0.08653667277809006, 0.05708557867104287, 0.18832185596300643, 0.16200854197577547, 0.05141555494576089, 0.1142421374486914, 0.5712106872434569, 0.2284842748973828, 0.10010837804909223, 0.0632058994445211, 0.09339379171653117, 0.14827582380663773, 0.08013109639849733, 0.06975400842999387, 0.07685704190576094, 0.18828587955685697, 0.13345933991577982, 0.04650267228666258, 0.6232479943491284, 0.1558119985872821, 0.1558119985872821, 0.1606887741665368, 0.4820663224996104, 0.10712584944435787, 0.05356292472217893, 0.05356292472217893, 0.05356292472217893, 0.05356292472217893, 0.05356292472217893, 0.02322820698610616, 0.015485471324070773, 0.15872608107172542, 0.10065556360646002, 0.003871367831017693, 0.003871367831017693, 0.6736180025970786, 0.019356839155088467, 0.020553581982519813, 0.12332149189511889, 0.10276790991259907, 0.020553581982519813, 0.7193753693881935, 0.020553581982519813], \"Term\": [\"000\", \"000\", \"000\", \"000\", \"000\", \"000\", \"000\", \"000\", \"000\", \"000\", \"006s\", \"006s\", \"006s\", \"006s\", \"00pm\", \"00pm\", \"00pm\", \"00pm\", \"00pm\", \"00pm\", \"00pm\", \"00pm\", \"00pm\", \"00pm\", \"12am\", \"12am\", \"12am\", \"12am\", \"12am\", \"12pm\", \"12pm\", \"12pm\", \"12pm\", \"12pm\", \"12pm\", \"12pm\", \"12pm\", \"12pm\", \"1305\", \"1305\", \"1305\", \"1305\", \"130500\", \"130500\", \"130500\", \"182\", \"182\", \"182\", \"182\", \"182\", \"182\", \"182\", \"182\", \"182\", \"182\", \"1mgfbvy\", \"1mgfbvy\", \"1mgfbvy\", \"2016\", \"2016\", \"2016\", \"2016\", \"2016\", \"2016\", \"2016\", \"2016\", \"2016\", \"2016\", \"2017\", \"2017\", \"2017\", \"2017\", \"2017\", \"2017\", \"2017\", \"2017\", \"2017\", \"2017\", \"202\", \"202\", \"202\", \"202\", \"202\", \"202\", \"202\", \"202\", \"202\", \"202\", \"2034\", \"2034\", \"2034\", \"2c\", \"2c\", \"2c\", \"2c\", \"2c\", \"2c\", \"3222705\", \"3222705\", \"3222705\", \"3222705\", \"3222705\", \"3222705\", \"385\", \"385\", \"385\", \"385\", \"385\", \"456\", \"456\", \"456\", \"456\", \"456\", \"456\", \"456\", \"456\", \"456\", \"abedin\", \"abedin\", \"abedin\", \"abedin\", \"abedin\", \"abedin\", \"abedin\", \"abedin\", \"abedin\", \"abedin\", \"abolishes\", \"abolishes\", \"abolishes\", \"abolishes\", \"abstains\", \"abstains\", \"abstains\", \"abstains\", \"according\", \"according\", \"according\", \"according\", \"according\", \"according\", \"according\", \"according\", \"according\", \"according\", \"acr\", \"acr\", \"acr\", \"acr\", \"acr\", \"acr\", \"acr\", \"acr\", \"acr\", \"acr\", \"act\", \"act\", \"act\", \"act\", \"act\", \"act\", \"act\", \"act\", \"act\", \"act\", \"actualizaci\", \"actualizaci\", \"administration\", \"administration\", \"administration\", \"administration\", \"administration\", \"administration\", \"administration\", \"administration\", \"administration\", \"administration\", \"admiral\", \"admiral\", \"admiral\", \"admiral\", \"admiral\", \"admiral\", \"admiral\", \"admiral\", \"admiral\", \"admiral\", \"al\", \"al\", \"al\", \"al\", \"al\", \"al\", \"al\", \"al\", \"al\", \"al\", \"alabama\", \"alabama\", \"alabama\", \"alabama\", \"alabama\", \"alabama\", \"alabama\", \"alabama\", \"alabama\", \"alabama\", \"aleppo\", \"aleppo\", \"aleppo\", \"aleppo\", \"aleppo\", \"aleppo\", \"aleppo\", \"aleppo\", \"aleppo\", \"aleppo\", \"alloy\", \"alloy\", \"alloy\", \"alloy\", \"alloy\", \"alloy\", \"alloy\", \"america\", \"america\", \"america\", \"america\", \"america\", \"america\", \"america\", \"america\", \"america\", \"america\", \"american\", \"american\", \"american\", \"american\", \"american\", \"american\", \"american\", \"american\", \"american\", \"american\", \"american_bridge\", \"american_bridge\", \"american_bridge\", \"american_bridge\", \"american_bridge\", \"american_bridge\", \"amerikanischen\", \"amerikanischen\", \"amp\", \"amp\", \"amp\", \"amp\", \"amp\", \"amp\", \"amp\", \"amp\", \"amp\", \"amp\", \"anally\", \"anally\", \"anderen\", \"anderen\", \"anderen\", \"anthologies\", \"anthologies\", \"anthologies\", \"anthologies\", \"ao\", \"ao\", \"ao\", \"ao\", \"ao\", \"ao\", \"aoun\", \"aoun\", \"aoun\", \"aoun\", \"aoun\", \"aoun\", \"aoun\", \"aoun\", \"aoun\", \"archivessupport\", \"archivessupport\", \"arpaio\", \"arpaio\", \"arpaio\", \"arpaio\", \"arpaio\", \"arpaio\", \"arpaio\", \"arpaio\", \"arpaio\", \"arpaio\", \"array_key_exists\", \"array_key_exists\", \"array_key_exists\", \"array_key_exists\", \"array_key_exists\", \"array_key_exists\", \"asheboro\", \"asheboro\", \"assad\", \"assad\", \"assad\", \"assad\", \"assad\", \"assad\", \"assad\", \"assad\", \"assad\", \"assad\", \"auf\", \"auf\", \"auf\", \"auf\", \"auf\", \"auf\", \"auf\", \"auf\", \"avaaz\", \"avaaz\", \"avaaz\", \"avaaz\", \"avaaz\", \"avaaz\", \"avaaz\", \"avis\", \"avis\", \"avis\", \"avis\", \"avis\", \"avis\", \"avis\", \"avons\", \"avons\", \"avons\", \"b1fjkmifx2\", \"b1fjkmifx2\", \"b61\", \"b61\", \"b61\", \"baldasaro\", \"baldasaro\", \"baldasaro\", \"baldasaro\", \"baldasaro\", \"baldasaro\", \"baldasaro\", \"banks\", \"banks\", \"banks\", \"banks\", \"banks\", \"banks\", \"banks\", \"banks\", \"banks\", \"banks\", \"barack\", \"barack\", \"barack\", \"barack\", \"barack\", \"barack\", \"barack\", \"barack\", \"barack\", \"barack\", \"barenakedislam\", \"barenakedislam\", \"bartella\", \"bartella\", \"bartella\", \"bartella\", \"bartella\", \"basedvet\", \"basedvet\", \"bayh\", \"bayh\", \"bayh\", \"bayh\", \"bayh\", \"bayh\", \"bayh\", \"bayh\", \"bayh\", \"beck\", \"beck\", \"beck\", \"beck\", \"beck\", \"beck\", \"beck\", \"beck\", \"beck\", \"beck\", \"beelined\", \"beelined\", \"beelines\", \"beelines\", \"behinds\", \"behinds\", \"behinds\", \"behinds\", \"bentley\", \"bentley\", \"bentley\", \"bentley\", \"bentley\", \"bentley\", \"bentley\", \"bentley\", \"bentley\", \"bentley\", \"bentzen\", \"bentzen\", \"ber\", \"ber\", \"ber\", \"ber\", \"ber\", \"ber\", \"ber\", \"ber\", \"ber\", \"ber\", \"bests\", \"bests\", \"biden\", \"biden\", \"biden\", \"biden\", \"biden\", \"biden\", \"biden\", \"biden\", \"biden\", \"biden\", \"binghamton\", \"binghamton\", \"binghamton\", \"binghamton\", \"binghamton\", \"black\", \"black\", \"black\", \"black\", \"black\", \"black\", \"black\", \"black\", \"black\", \"black\", \"blockquote\", \"blockquote\", \"blockquote\", \"blockquote\", \"blockquote\", \"blockquote\", \"blockquote\", \"bluebird\", \"bluebird\", \"bnl\", \"bnl\", \"bnl\", \"bnl\", \"bnl\", \"bohlender\", \"bohlender\", \"bohlender\", \"bohlender\", \"bohlender\", \"boiler\", \"boiler\", \"boiler\", \"boiler\", \"boiler\", \"boiler\", \"boiler\", \"boiler\", \"boiler\", \"boiler\", \"bon\", \"bon\", \"bon\", \"bon\", \"bon\", \"bon\", \"bon\", \"bon\", \"bon\", \"bon\", \"bonifield\", \"bonifield\", \"bonifield\", \"bonifield\", \"bonifield\", \"bonifield\", \"bonifield\", \"bonifield\", \"bonifield\", \"bonifield\", \"boor\", \"boor\", \"borg\", \"borg\", \"borg\", \"borg\", \"borg\", \"borg\", \"borg\", \"borg\", \"borgo\", \"borgo\", \"borkan\", \"borkan\", \"borkan\", \"brain\", \"brain\", \"brain\", \"brain\", \"brain\", \"brain\", \"brain\", \"brain\", \"brain\", \"brain\", \"brennanagain\", \"brennanagain\", \"brennanagain\", \"briarwood\", \"briarwood\", \"briarwood\", \"brigadier\", \"brigadier\", \"brigadier\", \"brigadier\", \"brigadier\", \"brigadier\", \"brigadier\", \"brigadier\", \"brigadier\", \"brigadier\", \"broadstreet\", \"broadstreet\", \"broadstreet\", \"broadstreet\", \"broadstreet\", \"broadstreet\", \"brock\", \"brock\", \"brock\", \"brock\", \"brock\", \"brock\", \"brock\", \"brock\", \"brock\", \"brock\", \"bundy\", \"bundy\", \"bundy\", \"bundy\", \"bundy\", \"bundy\", \"bundy\", \"bundy\", \"bundy\", \"bundy\", \"busta\", \"calais\", \"calais\", \"calais\", \"calais\", \"calais\", \"calais\", \"calais\", \"calais\", \"calais\", \"calais\", \"campaign\", \"campaign\", \"campaign\", \"campaign\", \"campaign\", \"campaign\", \"campaign\", \"campaign\", \"campaign\", \"campaign\", \"campground\", \"campground\", \"campus\", \"campus\", \"campus\", \"campus\", \"campus\", \"campus\", \"campus\", \"campus\", \"campus\", \"campus\", \"cancun\", \"cancun\", \"cancun\", \"cancun\", \"cancun\", \"cancun\", \"cancun\", \"candidate\", \"candidate\", \"candidate\", \"candidate\", \"candidate\", \"candidate\", \"candidate\", \"candidate\", \"candidate\", \"candidate\", \"carbines\", \"carbines\", \"carson\", \"carson\", \"carson\", \"carson\", \"carson\", \"carson\", \"carson\", \"carson\", \"carson\", \"carson\", \"case\", \"case\", \"case\", \"case\", \"case\", \"case\", \"case\", \"case\", \"case\", \"case\", \"centralize\", \"centralize\", \"centralize\", \"cf042xzleu\", \"cf042xzleu\", \"cf042xzleu\", \"cfius\", \"cfius\", \"cfius\", \"chakra\", \"chakra\", \"chakra\", \"chakra\", \"chakra\", \"chakra\", \"chakra\", \"chakra\", \"chakra\", \"chakra\", \"charles_gaba\", \"charles_gaba\", \"charles_gaba\", \"charles_gaba\", \"charles_gaba\", \"charles_gaba\", \"charles_gaba\", \"children\", \"children\", \"children\", \"children\", \"children\", \"children\", \"children\", \"children\", \"children\", \"children\", \"china\", \"china\", \"china\", \"china\", \"china\", \"china\", \"china\", \"china\", \"china\", \"china\", \"chiu\", \"chiu\", \"chiu\", \"chiu\", \"chiu\", \"chiu\", \"chiu\", \"chiu\", \"christ\", \"christ\", \"christ\", \"christ\", \"christ\", \"christ\", \"christ\", \"christ\", \"christ\", \"christ\", \"cia\", \"cia\", \"cia\", \"cia\", \"cia\", \"cia\", \"cia\", \"cia\", \"cia\", \"cia\", \"cinnamon\", \"cinnamon\", \"cinnamon\", \"cinnamon\", \"cinnamon\", \"cinnamon\", \"cinnamon\", \"cinnamon\", \"cinnamon\", \"clairecmc\", \"clairecmc\", \"clapperhere\", \"clapperhere\", \"clapperhere\", \"claytravis\", \"claytravis\", \"claytravis\", \"claytravis\", \"clinton\", \"clinton\", \"clinton\", \"clinton\", \"clinton\", \"clinton\", \"clinton\", \"clinton\", \"clinton\", \"clinton\", \"clintons\", \"clintons\", \"clintons\", \"clintons\", \"clintons\", \"clintons\", \"clintons\", \"clintons\", \"clintons\", \"clintons\", \"clusterfuck\", \"clusterfuck\", \"clusterfuck\", \"clusterfuck\", \"clusterfuck\", \"clusterfuck\", \"clusterfuck\", \"clusterfuck\", \"cnn\", \"cnn\", \"cnn\", \"cnn\", \"cnn\", \"cnn\", \"cnn\", \"cnn\", \"cnn\", \"cnn\", \"codesod\", \"codesod\", \"codesod\", \"codesod\", \"codesod\", \"coffman\", \"coffman\", \"coffman\", \"coffman\", \"coffman\", \"coffman\", \"coffman\", \"coffman\", \"college\", \"college\", \"college\", \"college\", \"college\", \"college\", \"college\", \"college\", \"college\", \"college\", \"com\", \"com\", \"com\", \"com\", \"com\", \"com\", \"com\", \"com\", \"com\", \"com\", \"conductor\", \"conductor\", \"conductor\", \"conductor\", \"conductor\", \"conductor\", \"conductor\", \"confections\", \"confections\", \"conyers\", \"conyers\", \"conyers\", \"conyers\", \"conyers\", \"conyers\", \"conyers\", \"conyers\", \"conyers\", \"conyers\", \"cookman\", \"cookman\", \"cookman\", \"cookman\", \"cookman\", \"cookman\", \"cookman\", \"costco\", \"costco\", \"costco\", \"costco\", \"costco\", \"costco\", \"costco\", \"costco\", \"costco\", \"costco\", \"country\", \"country\", \"country\", \"country\", \"country\", \"country\", \"country\", \"country\", \"country\", \"country\", \"court\", \"court\", \"court\", \"court\", \"court\", \"court\", \"court\", \"court\", \"court\", \"court\", \"crispin\", \"crispin\", \"crispin\", \"crispin\", \"crispin\", \"crispin\", \"cruz\", \"cruz\", \"cruz\", \"cruz\", \"cruz\", \"cruz\", \"cruz\", \"cruz\", \"cruz\", \"cruz\", \"crystalline\", \"crystalline\", \"crystalline\", \"crystalline\", \"crystalline\", \"crystalline\", \"crystalline\", \"crystalline\", \"cubs\", \"cubs\", \"cubs\", \"cubs\", \"cubs\", \"cubs\", \"cubs\", \"cubs\", \"cubs\", \"cubs\", \"cushing\", \"cushing\", \"cushing\", \"cushing\", \"cushing\", \"cushing\", \"cushing\", \"dailymotion\", \"dailymotion\", \"dailymotion\", \"dailymotion\", \"dailymotion\", \"dakotans\", \"dakotans\", \"dakotans\", \"dakotans\", \"dakotans\", \"daly9kbwtj\", \"daly9kbwtj\", \"damocles\", \"damocles\", \"dans\", \"dans\", \"dans\", \"dans\", \"dans\", \"dans\", \"dans\", \"dans\", \"dans\", \"dans\", \"das\", \"das\", \"das\", \"das\", \"das\", \"das\", \"das\", \"das\", \"das\", \"das\", \"dat\", \"dat\", \"dat\", \"dat\", \"dat\", \"dat\", \"dat\", \"dat\", \"dat\", \"de\", \"de\", \"de\", \"de\", \"de\", \"de\", \"de\", \"de\", \"de\", \"de\", \"deal\", \"deal\", \"deal\", \"deal\", \"deal\", \"deal\", \"deal\", \"deal\", \"deal\", \"deal\", \"decriminalization\", \"decriminalization\", \"decriminalization\", \"decriminalization\", \"decriminalization\", \"decriminalization\", \"decriminalization\", \"decriminalization\", \"decriminalization\", \"decriminalization\", \"deli\", \"deli\", \"deli\", \"deli\", \"deli\", \"deli\", \"deli\", \"deli\", \"deli\", \"deli\", \"demexit\", \"demexit\", \"demexit\", \"democrats\", \"democrats\", \"democrats\", \"democrats\", \"democrats\", \"democrats\", \"democrats\", \"democrats\", \"democrats\", \"democrats\", \"den\", \"den\", \"den\", \"den\", \"den\", \"den\", \"den\", \"den\", \"den\", \"den\", \"denisovan\", \"denisovan\", \"denisovan\", \"denisovan\", \"denisovan\", \"dennard\", \"dennard\", \"dennard\", \"dennard\", \"denuclearization\", \"denuclearization\", \"denuclearization\", \"denuclearization\", \"denuclearization\", \"denuclearization\", \"department\", \"department\", \"department\", \"department\", \"department\", \"department\", \"department\", \"department\", \"department\", \"department\", \"der\", \"der\", \"der\", \"der\", \"der\", \"der\", \"der\", \"der\", \"der\", \"der\", \"des\", \"des\", \"des\", \"des\", \"des\", \"des\", \"des\", \"des\", \"des\", \"des\", \"desai\", \"desai\", \"desai\", \"desai\", \"desai\", \"desai\", \"desai\", \"desai\", \"die\", \"die\", \"die\", \"die\", \"die\", \"die\", \"die\", \"die\", \"die\", \"die\", \"diese\", \"diese\", \"diese\", \"diese\", \"diese\", \"dimassimo\", \"dimassimo\", \"dimassimo\", \"dimassimo\", \"dimassimo\", \"dobias\", \"dobias\", \"dobias\", \"dobias\", \"dobias\", \"dobias\", \"dobias\", \"dobias\", \"doj\", \"doj\", \"doj\", \"doj\", \"doj\", \"doj\", \"doj\", \"doj\", \"doj\", \"doj\", \"dold\", \"dold\", \"dold\", \"dold\", \"dold\", \"dolly\", \"dolly\", \"dolly\", \"dolly\", \"dolly\", \"dolly\", \"dolly\", \"dolly\", \"dolly\", \"dolly\", \"dominguez\", \"dominguez\", \"dominguez\", \"dominguez\", \"dominguez\", \"dominguez\", \"dominguez\", \"dominguez\", \"don\", \"don\", \"don\", \"don\", \"don\", \"don\", \"don\", \"don\", \"don\", \"don\", \"donald\", \"donald\", \"donald\", \"donald\", \"donald\", \"donald\", \"donald\", \"donald\", \"donald\", \"donald\", \"doris\", \"doris\", \"doris\", \"doris\", \"doris\", \"doris\", \"drug\", \"drug\", \"drug\", \"drug\", \"drug\", \"drug\", \"drug\", \"drug\", \"drug\", \"drug\", \"du\", \"du\", \"du\", \"du\", \"du\", \"du\", \"du\", \"du\", \"du\", \"du\", \"duplication\", \"duplication\", \"duplication\", \"duplication\", \"duplication\", \"duplication\", \"duplication\", \"duplication\", \"duyne\", \"duyne\", \"duyne\", \"duyne\", \"dzhokhar\", \"dzhokhar\", \"dzhokhar\", \"dzhokhar\", \"ebony\", \"ebony\", \"ebony\", \"ebony\", \"ebony\", \"ehemaligen\", \"ehemaligen\", \"ehemaligen\", \"ehemaligen\", \"ein\", \"ein\", \"ein\", \"ein\", \"ein\", \"ein\", \"ein\", \"ein\", \"ein\", \"ein\", \"eine\", \"eine\", \"eine\", \"eine\", \"eine\", \"eine\", \"eine\", \"eine\", \"eitc\", \"eitc\", \"eitc\", \"eitc\", \"el\", \"el\", \"el\", \"el\", \"el\", \"el\", \"el\", \"el\", \"el\", \"el\", \"election\", \"election\", \"election\", \"election\", \"election\", \"election\", \"election\", \"election\", \"election\", \"election\", \"electr\", \"electr\", \"electr\", \"electr\", \"electr\", \"electr\", \"electr\", \"elgamal\", \"elgamal\", \"elgamal\", \"elgamal\", \"elie\", \"elie\", \"elie\", \"em\", \"em\", \"em\", \"em\", \"em\", \"em\", \"em\", \"em\", \"em\", \"em\", \"email\", \"email\", \"email\", \"email\", \"email\", \"email\", \"email\", \"email\", \"email\", \"email\", \"emails\", \"emails\", \"emails\", \"emails\", \"emails\", \"emails\", \"emails\", \"emails\", \"emails\", \"emails\", \"emt\", \"emt\", \"emt\", \"emt\", \"emt\", \"emt\", \"emt\", \"emt\", \"emt\", \"en\", \"en\", \"en\", \"en\", \"en\", \"en\", \"en\", \"en\", \"en\", \"en\", \"enamel\", \"enamel\", \"enamel\", \"enamel\", \"enamel\", \"entry_id\", \"entry_id\", \"entry_id\", \"essences\", \"essences\", \"essences\", \"essences\", \"essences\", \"essences\", \"essences\", \"estime\", \"estime\", \"et\", \"et\", \"et\", \"et\", \"et\", \"et\", \"et\", \"et\", \"et\", \"et\", \"eurozone\", \"eurozone\", \"eurozone\", \"eurozone\", \"eurozone\", \"eurozone\", \"eurozone\", \"eurozone\", \"eurozone\", \"eurozone\", \"eva\", \"eva\", \"eva\", \"eva\", \"eva\", \"eva\", \"eva\", \"eva\", \"eva\", \"eva\", \"evers\", \"evers\", \"excuser\", \"facebook\", \"facebook\", \"facebook\", \"facebook\", \"facebook\", \"facebook\", \"facebook\", \"facebook\", \"facebook\", \"facebook\", \"fbi\", \"fbi\", \"fbi\", \"fbi\", \"fbi\", \"fbi\", \"fbi\", \"fbi\", \"fbi\", \"fbi\", \"federal\", \"federal\", \"federal\", \"federal\", \"federal\", \"federal\", \"federal\", \"federal\", \"federal\", \"federal\", \"fedup\", \"fedup\", \"fidelis\", \"fidelis\", \"fidelis\", \"fidelis\", \"fidelis\", \"fidelis\", \"fillon\", \"fillon\", \"fillon\", \"fillon\", \"fillon\", \"fillon\", \"fillon\", \"fknieuozhh\", \"fknieuozhh\", \"flynn\", \"flynn\", \"flynn\", \"flynn\", \"flynn\", \"flynn\", \"flynn\", \"flynn\", \"flynn\", \"flynn\", \"folic\", \"folic\", \"folic\", \"folic\", \"folic\", \"folic\", \"folic\", \"folic\", \"folic\", \"formating\", \"formating\", \"formating\", \"formating\", \"formatting\", \"formatting\", \"formatting\", \"formatting\", \"forour\", \"forour\", \"forour\", \"forour\", \"forour\", \"fotodom\", \"fotodom\", \"found\", \"found\", \"found\", \"found\", \"found\", \"found\", \"found\", \"found\", \"found\", \"found\", \"foundation\", \"foundation\", \"foundation\", \"foundation\", \"foundation\", \"foundation\", \"foundation\", \"foundation\", \"foundation\", \"foundation\", \"frage\", \"frage\", \"frage\", \"freedomworks\", \"freedomworks\", \"freedomworks\", \"freedomworks\", \"freedomworks\", \"frica\", \"frica\", \"frica\", \"frica\", \"frica\", \"fryer\", \"fryer\", \"fryer\", \"fryer\", \"fryer\", \"fryer\", \"fryer\", \"galactic\", \"galactic\", \"galactic\", \"galactic\", \"galactic\", \"galactic\", \"galactic\", \"galactic\", \"galactic\", \"galactic\", \"galacticconnection\", \"galacticconnection\", \"galacticconnection\", \"galacticconnection\", \"galacticconnection\", \"galacticconnection\", \"galacticconnection\", \"galacticconnection\", \"geht\", \"geht\", \"geht\", \"general\", \"general\", \"general\", \"general\", \"general\", \"general\", \"general\", \"general\", \"general\", \"general\", \"geonet\", \"geonet\", \"georgian\", \"georgian\", \"georgian\", \"georgian\", \"georgian\", \"georgian\", \"georgian\", \"georgian\", \"georgian\", \"georgian\", \"german\", \"german\", \"german\", \"german\", \"german\", \"german\", \"german\", \"german\", \"german\", \"german\", \"getty\", \"getty\", \"getty\", \"getty\", \"getty\", \"getty\", \"getty\", \"getty\", \"getty\", \"getty\", \"ghouls\", \"ghouls\", \"ghouls\", \"git\", \"git\", \"git\", \"git\", \"glp\", \"glp\", \"glp\", \"glp\", \"glp\", \"glp\", \"glp\", \"glp\", \"goat\", \"goat\", \"goat\", \"goat\", \"goat\", \"goat\", \"goat\", \"goat\", \"goat\", \"goat\", \"godlike\", \"godlike\", \"godlike\", \"godlike\", \"godlike\", \"godlike\", \"godlike\", \"godlikeproductions\", \"godlikeproductions\", \"godlikeproductions\", \"godlikeproductions\", \"godlikeproductions\", \"godlikeproductions\", \"going\", \"going\", \"going\", \"going\", \"going\", \"going\", \"going\", \"going\", \"going\", \"going\", \"gold\", \"gold\", \"gold\", \"gold\", \"gold\", \"gold\", \"gold\", \"gold\", \"gold\", \"gold\", \"goldenglobes\", \"goldenglobes\", \"goldenglobes\", \"goldenglobes\", \"goldenglobes\", \"goldenglobes\", \"goodell\", \"goodell\", \"goodell\", \"goodell\", \"goodell\", \"goodell\", \"goodell\", \"goodell\", \"gop\", \"gop\", \"gop\", \"gop\", \"gop\", \"gop\", \"gop\", \"gop\", \"gop\", \"gop\", \"gorsuch\", \"gorsuch\", \"gorsuch\", \"gorsuch\", \"gorsuch\", \"gorsuch\", \"gorsuch\", \"gorsuch\", \"gorsuch\", \"gorsuch\", \"government\", \"government\", \"government\", \"government\", \"government\", \"government\", \"government\", \"government\", \"government\", \"government\", \"grabyourwallet\", \"grabyourwallet\", \"grabyourwallet\", \"great\", \"great\", \"great\", \"great\", \"great\", \"great\", \"great\", \"great\", \"great\", \"great\", \"greggutfeld\", \"greggutfeld\", \"greggutfeld\", \"greggutfeld\", \"greggutfeld\", \"group\", \"group\", \"group\", \"group\", \"group\", \"group\", \"group\", \"group\", \"group\", \"group\", \"gubler\", \"gubler\", \"gubler\", \"guccifer\", \"guccifer\", \"guccifer\", \"guccifer\", \"guccifer\", \"guccifer\", \"guccifer\", \"guccifer\", \"guccifer\", \"guccifer\", \"gun\", \"gun\", \"gun\", \"gun\", \"gun\", \"gun\", \"gun\", \"gun\", \"gun\", \"gun\", \"gwenyth\", \"gwenyth\", \"gwenyth\", \"gwenyth\", \"haben\", \"haben\", \"haben\", \"haben\", \"haben\", \"haben\", \"hagmann\", \"hagmann\", \"hagmann\", \"hagmann\", \"hagmann\", \"hagmann\", \"hagmann\", \"hairstylist\", \"hairstylist\", \"hairstylist\", \"haiti\", \"haiti\", \"haiti\", \"haiti\", \"haiti\", \"haiti\", \"haiti\", \"haiti\", \"haiti\", \"haiti\", \"haitian\", \"haitian\", \"haitian\", \"haitian\", \"haitian\", \"haitian\", \"haitian\", \"haitian\", \"haitian\", \"haitian\", \"hallucination\", \"hallucination\", \"hallucination\", \"handel\", \"handel\", \"handel\", \"handel\", \"handel\", \"handel\", \"handel\", \"handel\", \"handel\", \"handel\", \"hannan\", \"hannan\", \"hannan\", \"hannan\", \"hannan\", \"hannan\", \"hannan\", \"hannity\", \"hannity\", \"hannity\", \"hannity\", \"hannity\", \"hannity\", \"hannity\", \"hannity\", \"hannity\", \"hannity\", \"hardwick\", \"hardwick\", \"hardwick\", \"hardwick\", \"hardwick\", \"hardwick\", \"hardwick\", \"hariri\", \"hariri\", \"hariri\", \"hariri\", \"hariri\", \"hariri\", \"hariri\", \"haris\", \"haris\", \"haris\", \"haris\", \"haris\", \"hastert\", \"hastert\", \"hastert\", \"hastert\", \"hastert\", \"hastert\", \"hastert\", \"hastert\", \"hastert\", \"heavier\", \"heavier\", \"heavier\", \"heavier\", \"heavier\", \"heavier\", \"heavier\", \"heavier\", \"heavier\", \"heavier\", \"hellstorm\", \"hellstorm\", \"hellstorm\", \"helmets\", \"helmets\", \"helmets\", \"helmets\", \"helmets\", \"helmets\", \"helmets\", \"helmets\", \"helmets\", \"helmets\", \"het\", \"het\", \"het\", \"het\", \"het\", \"het\", \"het\", \"het\", \"heute\", \"heute\", \"heute\", \"heute\", \"hillary\", \"hillary\", \"hillary\", \"hillary\", \"hillary\", \"hillary\", \"hillary\", \"hillary\", \"hillary\", \"hillary\", \"hodgesnov5\", \"hodgesnov5\", \"hodgesnov5\", \"hodgkinson\", \"hodgkinson\", \"hodgkinson\", \"hodgkinson\", \"hodgkinson\", \"hodgkinson\", \"hodgkinson\", \"hodgkinson\", \"hollywood\", \"hollywood\", \"hollywood\", \"hollywood\", \"hollywood\", \"hollywood\", \"hollywood\", \"hollywood\", \"hollywood\", \"hollywood\", \"holter\", \"holter\", \"holter\", \"holter\", \"holter\", \"holter\", \"hoskins\", \"hoskins\", \"hoskins\", \"hoskins\", \"houdini\", \"houdini\", \"houdini\", \"houdini\", \"house\", \"house\", \"house\", \"house\", \"house\", \"house\", \"house\", \"house\", \"house\", \"house\", \"hrend\", \"hrend\", \"hrend\", \"hrung\", \"hrung\", \"hrung\", \"hrung\", \"human\", \"human\", \"human\", \"human\", \"human\", \"human\", \"human\", \"human\", \"human\", \"human\", \"hyperpower\", \"hyperpower\", \"hyperpower\", \"hyperpower\", \"hyperpower\", \"hyperpower\", \"hypnotist\", \"hypnotist\", \"hypnotist\", \"hypnotist\", \"hypnotist\", \"icznaemt9c\", \"icznaemt9c\", \"icznaemt9c\", \"ighcfm7qho\", \"ighcfm7qho\", \"igorvolsky\", \"igorvolsky\", \"igorvolsky\", \"igorvolsky\", \"igorvolsky\", \"igorvolsky\", \"ihre\", \"ihre\", \"ihre\", \"ihre\", \"ihrem\", \"ihrem\", \"ihrem\", \"ihrem\", \"image\", \"image\", \"image\", \"image\", \"image\", \"image\", \"image\", \"image\", \"image\", \"image\", \"imandrewmarcus\", \"imandrewmarcus\", \"imandrewmarcus\", \"ims\", \"ims\", \"ims\", \"ims\", \"ims\", \"ims\", \"inclines\", \"inclines\", \"inclines\", \"inclines\", \"inductees\", \"information\", \"information\", \"information\", \"information\", \"information\", \"information\", \"information\", \"information\", \"information\", \"information\", \"infowars\", \"infowars\", \"infowars\", \"infowars\", \"infowars\", \"infowars\", \"infowars\", \"infowars\", \"infowars\", \"infowars\", \"infowarsstore\", \"infowarsstore\", \"infowarsstore\", \"infowarsstore\", \"infowarsstore\", \"infowarsstore\", \"infowarsstore\", \"ingi\", \"ingi\", \"ingi\", \"ingi\", \"inglewood\", \"inglewood\", \"inglewood\", \"inglewood\", \"intersectional\", \"intersectional\", \"intersectional\", \"intersectional\", \"intersectional\", \"intersectional\", \"investigation\", \"investigation\", \"investigation\", \"investigation\", \"investigation\", \"investigation\", \"investigation\", \"investigation\", \"investigation\", \"investigation\", \"iodine\", \"iodine\", \"iodine\", \"iodine\", \"iodine\", \"iodine\", \"iodine\", \"iodine\", \"iodine\", \"iodine\", \"irons\", \"irons\", \"irons\", \"irons\", \"irons\", \"irons\", \"irons\", \"irons\", \"irons\", \"irons\", \"irp\", \"irp\", \"irp\", \"irp\", \"irp\", \"irp\", \"irp\", \"irving\", \"irving\", \"irving\", \"irving\", \"irving\", \"irving\", \"irving\", \"irving\", \"irving\", \"irving\", \"isaacs\", \"isaacs\", \"isaacs\", \"isaacs\", \"isaacs\", \"isis\", \"isis\", \"isis\", \"isis\", \"isis\", \"isis\", \"isis\", \"isis\", \"isis\", \"isis\", \"ist\", \"ist\", \"ist\", \"ist\", \"ist\", \"ist\", \"ist\", \"ist\", \"italic\", \"italic\", \"italic\", \"italic\", \"italic\", \"italic\", \"itemprop\", \"itemprop\", \"itemprop\", \"itemprop\", \"itemprop\", \"itemprop\", \"jacksonleetx18\", \"jacksonleetx18\", \"jacksonleetx18\", \"january\", \"january\", \"january\", \"january\", \"january\", \"january\", \"january\", \"january\", \"january\", \"january\", \"jasta\", \"jasta\", \"jasta\", \"jasta\", \"jasta\", \"jasta\", \"je\", \"je\", \"je\", \"je\", \"je\", \"je\", \"je\", \"je\", \"je\", \"je\", \"jewmerica\", \"jewmerica\", \"jewmerica\", \"join\", \"join\", \"join\", \"join\", \"join\", \"join\", \"join\", \"join\", \"join\", \"join\", \"jovi\", \"jovi\", \"jovi\", \"jovi\", \"jovi\", \"jovi\", \"jovi\", \"jovi\", \"jovi\", \"juliana\", \"juliana\", \"juliana\", \"juliana\", \"juliana\", \"juliana\", \"juliana\", \"kadzik\", \"kadzik\", \"kadzik\", \"kadzik\", \"kadzik\", \"kadzik\", \"kadzik\", \"kadzik\", \"kadzik\", \"kadzik\", \"kafir\", \"kafir\", \"kafir\", \"kaine\", \"kaine\", \"kaine\", \"kaine\", \"kaine\", \"kaine\", \"kaine\", \"kaine\", \"kaine\", \"kaine\", \"kaltura\", \"kaltura\", \"kaltura\", \"kaltura\", \"kaltura\", \"kidnaps\", \"kidnaps\", \"kidnaps\", \"kil\", \"kil\", \"kil\", \"kil\", \"kil\", \"kil\", \"kingship\", \"kingship\", \"kingship\", \"kingship\", \"know\", \"know\", \"know\", \"know\", \"know\", \"know\", \"know\", \"know\", \"know\", \"know\", \"korea\", \"korea\", \"korea\", \"korea\", \"korea\", \"korea\", \"korea\", \"korea\", \"korea\", \"korea\", \"kunduz\", \"kunduz\", \"kunduz\", \"kunduz\", \"kunduz\", \"kunduz\", \"kuts\", \"kuts\", \"la\", \"la\", \"la\", \"la\", \"la\", \"la\", \"la\", \"la\", \"la\", \"la\", \"lacapria\", \"lacapria\", \"lacapria\", \"lacapria\", \"lacapria\", \"lacapria\", \"lacapria\", \"lacapria\", \"lacapria\", \"lacymacauley\", \"lacymacauley\", \"lacymacauley\", \"lacymacauley\", \"laduke\", \"laduke\", \"laduke\", \"laduke\", \"laurent\", \"laurent\", \"laurent\", \"laurent\", \"laurent\", \"laurent\", \"laurent\", \"laurent\", \"law\", \"law\", \"law\", \"law\", \"law\", \"law\", \"law\", \"law\", \"law\", \"law\", \"le\", \"le\", \"le\", \"le\", \"le\", \"le\", \"le\", \"le\", \"le\", \"le\", \"leeb\", \"leeb\", \"leeb\", \"leeb\", \"leeb\", \"leeb\", \"left\", \"left\", \"left\", \"left\", \"left\", \"left\", \"left\", \"left\", \"left\", \"left\", \"leron\", \"leron\", \"les\", \"les\", \"les\", \"les\", \"les\", \"les\", \"les\", \"les\", \"les\", \"les\", \"like\", \"like\", \"like\", \"like\", \"like\", \"like\", \"like\", \"like\", \"like\", \"like\", \"linux\", \"linux\", \"linux\", \"linux\", \"linux\", \"linux\", \"linux\", \"linux\", \"lkerung\", \"lkerung\", \"longhorns\", \"look\", \"look\", \"look\", \"look\", \"look\", \"look\", \"look\", \"look\", \"look\", \"look\", \"lula\", \"lula\", \"lula\", \"lula\", \"lula\", \"lula\", \"lula\", \"macfadyen\", \"macfadyen\", \"macfadyen\", \"macfadyen\", \"macfadyen\", \"macfadyen\", \"macfadyen\", \"macfadyen\", \"macfadyen\", \"macfadyen\", \"machines\", \"machines\", \"machines\", \"machines\", \"machines\", \"machines\", \"machines\", \"machines\", \"machines\", \"machines\", \"magnesium\", \"magnesium\", \"magnesium\", \"magnesium\", \"magnesium\", \"magnesium\", \"magnesium\", \"magnesium\", \"magnesium\", \"magnesium\", \"magnifier661\", \"magnifier661\", \"magnifier661\", \"man\", \"man\", \"man\", \"man\", \"man\", \"man\", \"man\", \"man\", \"man\", \"man\", \"march\", \"march\", \"march\", \"march\", \"march\", \"march\", \"march\", \"march\", \"march\", \"march\", \"martelly\", \"martelly\", \"maury\", \"maury\", \"maury\", \"maury\", \"maury\", \"maury\", \"maxine\", \"maxine\", \"maxine\", \"maxine\", \"maxine\", \"maxine\", \"maxine\", \"maxine\", \"maxine\", \"maxine\", \"mcclatchydc\", \"mcclatchydc\", \"mcclatchydc\", \"mccrory\", \"mccrory\", \"mccrory\", \"mccrory\", \"mccrory\", \"mccrory\", \"mccrory\", \"mccrory\", \"mccrory\", \"mccrory\", \"mccrummen\", \"mccrummen\", \"mccrummen\", \"mccrummen\", \"mcfaul\", \"mcfaul\", \"mcfaul\", \"mcfaul\", \"mcfaul\", \"mcfaul\", \"mcfaul\", \"mcfaul\", \"meadors\", \"meadors\", \"meadors\", \"meadors\", \"meadors\", \"meadors\", \"meadors\", \"media\", \"media\", \"media\", \"media\", \"media\", \"media\", \"media\", \"media\", \"media\", \"media\", \"meeting\", \"meeting\", \"meeting\", \"meeting\", \"meeting\", \"meeting\", \"meeting\", \"meeting\", \"meeting\", \"meeting\", \"mercado\", \"mercado\", \"mercado\", \"mercado\", \"mercado\", \"mercado\", \"meryl\", \"meryl\", \"meryl\", \"meryl\", \"meryl\", \"meryl\", \"meryl\", \"meryl\", \"meryl\", \"meryl\", \"metros\", \"metros\", \"metros\", \"metros\", \"metros\", \"metros\", \"metros\", \"mets\", \"mets\", \"mets\", \"mets\", \"mets\", \"microchips\", \"microchips\", \"microchips\", \"microchips\", \"microchips\", \"middlebury\", \"middlebury\", \"middlebury\", \"middlebury\", \"middlebury\", \"middlebury\", \"middlebury\", \"milit\", \"milit\", \"milit\", \"milit\", \"milit\", \"military\", \"military\", \"military\", \"military\", \"military\", \"military\", \"military\", \"military\", \"military\", \"military\", \"minivan\", \"minivan\", \"minivan\", \"minivan\", \"missile\", \"missile\", \"missile\", \"missile\", \"missile\", \"missile\", \"missile\", \"missile\", \"missile\", \"missile\", \"monthlong\", \"monthlong\", \"monthlong\", \"moon\", \"moon\", \"moon\", \"moon\", \"moon\", \"moon\", \"moon\", \"moon\", \"moon\", \"moon\", \"moore\", \"moore\", \"moore\", \"moore\", \"moore\", \"moore\", \"moore\", \"moore\", \"moore\", \"moore\", \"mosby\", \"mosby\", \"mosby\", \"mosby\", \"mosby\", \"mosby\", \"mosby\", \"mosby\", \"mosby\", \"mosul\", \"mosul\", \"mosul\", \"mosul\", \"mosul\", \"mosul\", \"mosul\", \"mosul\", \"mosul\", \"mosul\", \"moveable\", \"moveable\", \"moveable\", \"moveable\", \"mr\", \"mr\", \"mr\", \"mr\", \"mr\", \"mr\", \"mr\", \"mr\", \"mr\", \"mr\", \"mumford\", \"mumford\", \"mumford\", \"mumford\", \"mumford\", \"mumford\", \"mumford\", \"mumford\", \"mumford\", \"mumford\", \"muslim\", \"muslim\", \"muslim\", \"muslim\", \"muslim\", \"muslim\", \"muslim\", \"muslim\", \"muslim\", \"muslim\", \"national\", \"national\", \"national\", \"national\", \"national\", \"national\", \"national\", \"national\", \"national\", \"national\", \"navy\", \"navy\", \"navy\", \"navy\", \"navy\", \"navy\", \"navy\", \"navy\", \"navy\", \"navy\", \"nci\", \"nci\", \"nci\", \"nci\", \"ncia\", \"ncia\", \"ncia\", \"neanderthals\", \"neanderthals\", \"neanderthals\", \"neanderthals\", \"neanderthals\", \"neanderthals\", \"neanderthals\", \"neanderthals\", \"neanderthals\", \"neanderthals\", \"negan\", \"negan\", \"negan\", \"negan\", \"negan\", \"new\", \"new\", \"new\", \"new\", \"new\", \"new\", \"new\", \"new\", \"new\", \"new\", \"news\", \"news\", \"news\", \"news\", \"news\", \"news\", \"news\", \"news\", \"news\", \"news\", \"newsbud\", \"newsbud\", \"newsbud\", \"newsbud\", \"newsbud\", \"nicht\", \"nicht\", \"nicht\", \"nicht\", \"nicht\", \"nicht\", \"nicht\", \"nics\", \"nics\", \"nics\", \"nics\", \"nics\", \"north\", \"north\", \"north\", \"north\", \"north\", \"north\", \"north\", \"north\", \"north\", \"north\", \"notifications\", \"notifications\", \"notifications\", \"notifications\", \"notifications\", \"notifications\", \"notifications\", \"notifications\", \"notify\", \"notify\", \"notify\", \"notify\", \"notify\", \"notify\", \"notify\", \"notify\", \"notify\", \"notify\", \"nra\", \"nra\", \"nra\", \"nra\", \"nra\", \"nra\", \"nra\", \"nra\", \"nra\", \"nra\", \"nspcc\", \"nuclear\", \"nuclear\", \"nuclear\", \"nuclear\", \"nuclear\", \"nuclear\", \"nuclear\", \"nuclear\", \"nuclear\", \"nuclear\", \"oathkeepers\", \"oathkeepers\", \"oathkeepers\", \"oathkeepers\", \"oathkeepers\", \"oathkeepers\", \"oathkeepers\", \"obama\", \"obama\", \"obama\", \"obama\", \"obama\", \"obama\", \"obama\", \"obama\", \"obama\", \"obama\", \"obamacare\", \"obamacare\", \"obamacare\", \"obamacare\", \"obamacare\", \"obamacare\", \"obamacare\", \"obamacare\", \"obamacare\", \"obamacare\", \"obwohl\", \"obwohl\", \"officer\", \"officer\", \"officer\", \"officer\", \"officer\", \"officer\", \"officer\", \"officer\", \"officer\", \"officer\", \"og\", \"og\", \"og\", \"og\", \"og\", \"og\", \"og\", \"og\", \"og\", \"og\", \"onu\", \"onu\", \"onu\", \"onu\", \"onu\", \"onu\", \"onu\", \"oroville\", \"oroville\", \"oroville\", \"oroville\", \"oroville\", \"oroville\", \"oroville\", \"oroville\", \"orrick\", \"orrick\", \"orrick\", \"orrick\", \"orrick\", \"os\", \"os\", \"os\", \"os\", \"os\", \"os\", \"os\", \"os\", \"os\", \"os\", \"otis\", \"otis\", \"otis\", \"otis\", \"otis\", \"otis\", \"otis\", \"otis\", \"otis\", \"otis\", \"overshoots\", \"overshoots\", \"overshoots\", \"overshoots\", \"p3pnexwpnas07_data02\", \"p3pnexwpnas07_data02\", \"p3pnexwpnas07_data02\", \"p3pnexwpnas07_data02\", \"p3pnexwpnas07_data02\", \"p3pnexwpnas07_data02\", \"paix\", \"paix\", \"paix\", \"paix\", \"pancakes\", \"pancakes\", \"pancakes\", \"pancakes\", \"pantaleo\", \"pantaleo\", \"pantaleo\", \"pantaleo\", \"pantaleo\", \"pantaleo\", \"pantaleo\", \"pantaleo\", \"paragraphs\", \"paragraphs\", \"paragraphs\", \"paragraphs\", \"paragraphs\", \"paragraphs\", \"paragraphs\", \"paragraphs\", \"paragraphs\", \"paragraphs\", \"parenthood\", \"parenthood\", \"parenthood\", \"parenthood\", \"parenthood\", \"parenthood\", \"parenthood\", \"parenthood\", \"parenthood\", \"parenthood\", \"parses\", \"parses\", \"parses\", \"partway\", \"partway\", \"partway\", \"partway\", \"party\", \"party\", \"party\", \"party\", \"party\", \"party\", \"party\", \"party\", \"party\", \"party\", \"peacenik\", \"peacenik\", \"peacenik\", \"pela\", \"pela\", \"pela\", \"pencils\", \"pencils\", \"pencils\", \"pencils\", \"people\", \"people\", \"people\", \"people\", \"people\", \"people\", \"people\", \"people\", \"people\", \"people\", \"percent\", \"percent\", \"percent\", \"percent\", \"percent\", \"percent\", \"percent\", \"percent\", \"percent\", \"percent\", \"perez\", \"perez\", \"perez\", \"perez\", \"perez\", \"perez\", \"perez\", \"perez\", \"perez\", \"perez\", \"permanence\", \"permanence\", \"permanence\", \"permanence\", \"permanence\", \"permanence\", \"peron\", \"peron\", \"peron\", \"peron\", \"peut\", \"peut\", \"peut\", \"peut\", \"peut\", \"pgp\", \"pgp\", \"piersmorgan\", \"piersmorgan\", \"piersmorgan\", \"piersmorgan\", \"pinhead\", \"pinhead\", \"pinhead\", \"piscopo\", \"piscopo\", \"piscopo\", \"piscopo\", \"podesta\", \"podesta\", \"podesta\", \"podesta\", \"podesta\", \"podesta\", \"podesta\", \"podesta\", \"podesta\", \"podesta\", \"police\", \"police\", \"police\", \"police\", \"police\", \"police\", \"police\", \"police\", \"police\", \"police\", \"policy\", \"policy\", \"policy\", \"policy\", \"policy\", \"policy\", \"policy\", \"policy\", \"policy\", \"policy\", \"political\", \"political\", \"political\", \"political\", \"political\", \"political\", \"political\", \"political\", \"political\", \"political\", \"polls\", \"polls\", \"polls\", \"polls\", \"polls\", \"polls\", \"polls\", \"polls\", \"polls\", \"polls\", \"por\", \"por\", \"por\", \"por\", \"por\", \"por\", \"por\", \"por\", \"por\", \"post\", \"post\", \"post\", \"post\", \"post\", \"post\", \"post\", \"post\", \"post\", \"post\", \"presidency\", \"presidency\", \"presidency\", \"presidency\", \"presidency\", \"presidency\", \"presidency\", \"presidency\", \"presidency\", \"presidency\", \"president\", \"president\", \"president\", \"president\", \"president\", \"president\", \"president\", \"president\", \"president\", \"president\", \"presidential\", \"presidential\", \"presidential\", \"presidential\", \"presidential\", \"presidential\", \"presidential\", \"presidential\", \"presidential\", \"presidential\", \"prozent\", \"prozent\", \"prozent\", \"prozent\", \"public\", \"public\", \"public\", \"public\", \"public\", \"public\", \"public\", \"public\", \"public\", \"public\", \"putin\", \"putin\", \"putin\", \"putin\", \"putin\", \"putin\", \"putin\", \"putin\", \"putin\", \"putin\", \"puzder\", \"puzder\", \"puzder\", \"puzder\", \"puzder\", \"puzder\", \"puzder\", \"puzder\", \"puzder\", \"pyongyang\", \"pyongyang\", \"pyongyang\", \"pyongyang\", \"pyongyang\", \"pyongyang\", \"pyongyang\", \"pyongyang\", \"pyongyang\", \"pyongyang\", \"qaeda\", \"qaeda\", \"qaeda\", \"qaeda\", \"qaeda\", \"qaeda\", \"qaeda\", \"qaeda\", \"qaeda\", \"qaeda\", \"quadruples\", \"quadruples\", \"quadruples\", \"quadruples\", \"quadruples\", \"quadruples\", \"quadruples\", \"quadruples\", \"quarterly\", \"quarterly\", \"quarterly\", \"quarterly\", \"quarterly\", \"quarterly\", \"quarterly\", \"quarterly\", \"quarterly\", \"quarterly\", \"que\", \"que\", \"que\", \"que\", \"que\", \"que\", \"que\", \"que\", \"que\", \"que\", \"quicken\", \"quicken\", \"quicken\", \"quicken\", \"quicken\", \"quicken\", \"quicken\", \"quot\", \"quot\", \"quot\", \"quot\", \"quot\", \"quot\", \"quot\", \"quot\", \"quot\", \"realdonaldtrump\", \"realdonaldtrump\", \"realdonaldtrump\", \"realdonaldtrump\", \"realdonaldtrump\", \"realdonaldtrump\", \"realdonaldtrump\", \"realdonaldtrump\", \"realdonaldtrump\", \"realdonaldtrump\", \"rear\", \"rear\", \"rear\", \"rear\", \"rear\", \"rear\", \"rear\", \"rear\", \"rear\", \"rear\", \"refugees\", \"refugees\", \"refugees\", \"refugees\", \"refugees\", \"refugees\", \"refugees\", \"refugees\", \"refugees\", \"refugees\", \"regaled\", \"regaled\", \"regaled\", \"regaled\", \"regaled\", \"regaled\", \"regaled\", \"registrado\", \"registrado\", \"reilly\", \"reilly\", \"reilly\", \"reilly\", \"reilly\", \"reilly\", \"reilly\", \"reilly\", \"reilly\", \"reilly\", \"repjohnlewis\", \"repjohnlewis\", \"repjohnlewis\", \"repjohnlewis\", \"repjohnlewis\", \"repjohnlewis\", \"republican\", \"republican\", \"republican\", \"republican\", \"republican\", \"republican\", \"republican\", \"republican\", \"republican\", \"republican\", \"republicans\", \"republicans\", \"republicans\", \"republicans\", \"republicans\", \"republicans\", \"republicans\", \"republicans\", \"republicans\", \"republicans\", \"retired\", \"retired\", \"retired\", \"retired\", \"retired\", \"retired\", \"retired\", \"retired\", \"retired\", \"retired\", \"right\", \"right\", \"right\", \"right\", \"right\", \"right\", \"right\", \"right\", \"right\", \"right\", \"robb\", \"robb\", \"robb\", \"rockprincess\", \"rockprincess\", \"rockprincess\", \"rockprincess818\", \"rockprincess818\", \"rockprincess818\", \"rt_doc\", \"rt_doc\", \"rt_doc\", \"rt_documentary\", \"rt_documentary\", \"rt_documentary\", \"rtd\", \"rtd\", \"rtd\", \"rtd\", \"rtd\", \"rtdoc\", \"rtdoc\", \"rtdocumentary\", \"rtdocumentary\", \"rtdocumentary\", \"rubycramer\", \"rubycramer\", \"rubycramer\", \"rufus\", \"rufus\", \"rufus\", \"rufus\", \"rufus\", \"rufus\", \"rufus\", \"rufus\", \"rufus\", \"rufus\", \"ruso\", \"ruso\", \"ruso\", \"ruso\", \"ruso\", \"russia\", \"russia\", \"russia\", \"russia\", \"russia\", \"russia\", \"russia\", \"russia\", \"russia\", \"russia\", \"russian\", \"russian\", \"russian\", \"russian\", \"russian\", \"russian\", \"russian\", \"russian\", \"russian\", \"russian\", \"russland\", \"russland\", \"russland\", \"russland\", \"russland\", \"russland\", \"russlands\", \"russlands\", \"ryder\", \"ryder\", \"ryder\", \"ryder\", \"saey\", \"saey\", \"saey\", \"saey\", \"sagt\", \"sagt\", \"sagt\", \"said\", \"said\", \"said\", \"said\", \"said\", \"said\", \"said\", \"said\", \"said\", \"said\", \"salhernandez\", \"salhernandez\", \"salhernandez\", \"salhernandez\", \"sansaricq\", \"sansaricq\", \"sansaricq\", \"sant\", \"sant\", \"sant\", \"sather\", \"sather\", \"sather\", \"sather\", \"saudi\", \"saudi\", \"saudi\", \"saudi\", \"saudi\", \"saudi\", \"saudi\", \"saudi\", \"saudi\", \"saudi\", \"says\", \"says\", \"says\", \"says\", \"says\", \"says\", \"says\", \"says\", \"says\", \"says\", \"sayyaf\", \"sayyaf\", \"sayyaf\", \"sayyaf\", \"sayyaf\", \"sayyaf\", \"scaleable\", \"scalia\", \"scalia\", \"scalia\", \"scalia\", \"scalia\", \"scalia\", \"scalia\", \"scalia\", \"scalia\", \"scalia\", \"schieffer\", \"schieffer\", \"schieffer\", \"schieffer\", \"school\", \"school\", \"school\", \"school\", \"school\", \"school\", \"school\", \"school\", \"school\", \"school\", \"scotusblog\", \"scotusblog\", \"scotusblog\", \"scotusblog\", \"scotusblog\", \"scotusblog\", \"se\", \"se\", \"se\", \"se\", \"se\", \"se\", \"se\", \"se\", \"se\", \"se\", \"seagal\", \"seagal\", \"seagal\", \"seagal\", \"seagal\", \"seagal\", \"seagal\", \"seanhannity\", \"seanhannity\", \"seanhannity\", \"seanhannity\", \"seanhannity\", \"seanhannity\", \"seanhannity\", \"seanhannity\", \"seanhannity\", \"seanhannity\", \"security\", \"security\", \"security\", \"security\", \"security\", \"security\", \"security\", \"security\", \"security\", \"security\", \"sekulow\", \"sekulow\", \"sekulow\", \"sekulow\", \"sekulow\", \"sekulow\", \"sekulow\", \"sekulow\", \"sekulow\", \"sekulow\", \"seus\", \"seus\", \"sex\", \"sex\", \"sex\", \"sex\", \"sex\", \"sex\", \"sex\", \"sex\", \"sex\", \"sex\", \"shakespearean\", \"shakespearean\", \"sheppard\", \"sheppard\", \"sheppard\", \"sheppard\", \"sheppard\", \"sheppard\", \"sheppard\", \"sheppard\", \"shkreli\", \"shkreli\", \"shkreli\", \"shkreli\", \"shkreli\", \"shkreli\", \"shkreli\", \"shkreli\", \"shkreli\", \"shoina\", \"shoina\", \"shoina\", \"sich\", \"sich\", \"sich\", \"sich\", \"sich\", \"sich\", \"sich\", \"sich\", \"sie\", \"sie\", \"sie\", \"sie\", \"sie\", \"sie\", \"sie\", \"sie\", \"sie\", \"sigonella\", \"sigonella\", \"sigonella\", \"sigonella\", \"sigurdur\", \"sigurdur\", \"sigurdur\", \"silica\", \"silica\", \"silica\", \"silica\", \"silica\", \"silica\", \"sind\", \"sind\", \"sind\", \"sind\", \"sind\", \"sind\", \"sind\", \"sind\", \"sind\", \"sjp\", \"sjp\", \"sjp\", \"sjp\", \"sjp\", \"sjp\", \"sjp\", \"sjp\", \"sjp\", \"skagit\", \"skagit\", \"skagit\", \"skagit\", \"skagit\", \"skagit\", \"slits\", \"slits\", \"slits\", \"slits\", \"smu\", \"smu\", \"smu\", \"smu\", \"snipes\", \"snipes\", \"snipes\", \"snipes\", \"snipes\", \"snipes\", \"snipes\", \"snuggy\", \"snuggy\", \"snuggy\", \"snuggy\", \"sondern\", \"sondern\", \"sondern\", \"southside\", \"southside\", \"southside\", \"southside\", \"southside\", \"southside\", \"southside\", \"southside\", \"spicer\", \"spicer\", \"spicer\", \"spicer\", \"spicer\", \"spicer\", \"spicer\", \"spicer\", \"spicer\", \"spicer\", \"squishy\", \"squishy\", \"squishy\", \"squishy\", \"squishy\", \"staaten\", \"staaten\", \"staaten\", \"state\", \"state\", \"state\", \"state\", \"state\", \"state\", \"state\", \"state\", \"state\", \"state\", \"states\", \"states\", \"states\", \"states\", \"states\", \"states\", \"states\", \"states\", \"states\", \"states\", \"stiffy\", \"stiffy\", \"stiffy\", \"stiffy\", \"streamcast\", \"streamcast\", \"streamcast\", \"streamcast\", \"streamcast\", \"streep\", \"streep\", \"streep\", \"streep\", \"streep\", \"streep\", \"streep\", \"streep\", \"streep\", \"streep\", \"student\", \"student\", \"student\", \"student\", \"student\", \"student\", \"student\", \"student\", \"student\", \"student\", \"students\", \"students\", \"students\", \"students\", \"students\", \"students\", \"students\", \"students\", \"students\", \"students\", \"sumaria\", \"sumaria\", \"sumerian\", \"sumerian\", \"sumerian\", \"sumerian\", \"sumerian\", \"sumerian\", \"sumerian\", \"sumerian\", \"supercharge\", \"supercharge\", \"supercharge\", \"supercharge\", \"supercharge\", \"superfund\", \"superfund\", \"superfund\", \"superfund\", \"superfund\", \"superfund\", \"superfund\", \"superluminal\", \"superluminal\", \"superluminal\", \"superluminal\", \"superluminal\", \"superluminal\", \"superluminal\", \"supermoon\", \"supermoon\", \"supermoon\", \"supermoon\", \"supporters\", \"supporters\", \"supporters\", \"supporters\", \"supporters\", \"supporters\", \"supporters\", \"supporters\", \"supporters\", \"supporters\", \"swansea\", \"swansea\", \"swansea\", \"swansea\", \"syria\", \"syria\", \"syria\", \"syria\", \"syria\", \"syria\", \"syria\", \"syria\", \"syria\", \"syria\", \"syrian\", \"syrian\", \"syrian\", \"syrian\", \"syrian\", \"syrian\", \"syrian\", \"syrian\", \"syrian\", \"syrian\", \"system\", \"system\", \"system\", \"system\", \"system\", \"system\", \"system\", \"system\", \"system\", \"system\", \"talcum\", \"talcum\", \"talcum\", \"talcum\", \"talcum\", \"talcum\", \"talcum\", \"tata\", \"tata\", \"tata\", \"tata\", \"tata\", \"tata\", \"tata\", \"tata\", \"tbilisi\", \"tbilisi\", \"tbilisi\", \"tbilisi\", \"tbilisi\", \"tbilisi\", \"tbilisi\", \"tbilisi\", \"ted\", \"ted\", \"ted\", \"ted\", \"ted\", \"ted\", \"ted\", \"ted\", \"ted\", \"ted\", \"telfer\", \"telfer\", \"texas\", \"texas\", \"texas\", \"texas\", \"texas\", \"texas\", \"texas\", \"texas\", \"texas\", \"texas\", \"text\", \"text\", \"text\", \"text\", \"text\", \"text\", \"text\", \"text\", \"text\", \"text\", \"things\", \"things\", \"things\", \"things\", \"things\", \"things\", \"things\", \"things\", \"things\", \"things\", \"think\", \"think\", \"think\", \"think\", \"think\", \"think\", \"think\", \"think\", \"think\", \"think\", \"time\", \"time\", \"time\", \"time\", \"time\", \"time\", \"time\", \"time\", \"time\", \"time\", \"told\", \"told\", \"told\", \"told\", \"told\", \"told\", \"told\", \"told\", \"told\", \"told\", \"tonne\", \"tonne\", \"tonne\", \"travis\", \"travis\", \"travis\", \"travis\", \"travis\", \"travis\", \"travis\", \"travis\", \"travis\", \"travis\", \"trump\", \"trump\", \"trump\", \"trump\", \"trump\", \"trump\", \"trump\", \"trump\", \"trump\", \"trump\", \"tucker\", \"tucker\", \"tucker\", \"tucker\", \"tucker\", \"tucker\", \"tucker\", \"tucker\", \"tucker\", \"tucker\", \"turkey\", \"turkey\", \"turkey\", \"turkey\", \"turkey\", \"turkey\", \"turkey\", \"turkey\", \"turkey\", \"turkey\", \"tussled\", \"tussled\", \"tvstrap\", \"tvstrap\", \"tvstrap\", \"tvstrap\", \"twitter\", \"twitter\", \"twitter\", \"twitter\", \"twitter\", \"twitter\", \"twitter\", \"twitter\", \"twitter\", \"twitter\", \"tzrwu\", \"tzrwu\", \"tzrwu\", \"tzrwu\", \"tzrwu\", \"tzrwu\", \"tzrwu\", \"ufc\", \"ufc\", \"ufc\", \"ufc\", \"ufc\", \"ufc\", \"ufc\", \"uma\", \"uma\", \"uma\", \"un\", \"un\", \"un\", \"un\", \"un\", \"un\", \"un\", \"un\", \"un\", \"un\", \"unabh\", \"unabh\", \"unaired\", \"und\", \"und\", \"und\", \"und\", \"und\", \"und\", \"und\", \"und\", \"und\", \"und\", \"une\", \"une\", \"une\", \"une\", \"une\", \"une\", \"une\", \"une\", \"une\", \"une\", \"united\", \"united\", \"united\", \"united\", \"united\", \"united\", \"united\", \"united\", \"united\", \"united\", \"university\", \"university\", \"university\", \"university\", \"university\", \"university\", \"university\", \"university\", \"university\", \"university\", \"unterst\", \"unterst\", \"unterst\", \"unterst\", \"unwed\", \"unwed\", \"unwed\", \"unwed\", \"usps\", \"usps\", \"usps\", \"usps\", \"usps\", \"usps\", \"usps\", \"usps\", \"usps\", \"utm_campaign\", \"utm_campaign\", \"utm_campaign\", \"utm_campaign\", \"utm_campaign\", \"utm_campaign\", \"utm_campaign\", \"utm_content\", \"utm_content\", \"utm_content\", \"utm_content\", \"utm_content\", \"utm_content\", \"utm_content\", \"utm_medium\", \"utm_medium\", \"utm_medium\", \"utm_medium\", \"utm_medium\", \"utm_medium\", \"utm_medium\", \"utm_source\", \"utm_source\", \"utm_source\", \"utm_source\", \"utm_source\", \"utm_source\", \"utm_source\", \"varneyco\", \"varneyco\", \"vdare\", \"vdare\", \"vdare\", \"vdare\", \"vdare\", \"vdare\", \"vdare\", \"vdare\", \"vdare\", \"vdare\", \"ve\", \"ve\", \"ve\", \"ve\", \"ve\", \"ve\", \"ve\", \"ve\", \"ve\", \"ve\", \"vereinigten\", \"vereinigten\", \"vereinigten\", \"vereinigten\", \"video\", \"video\", \"video\", \"video\", \"video\", \"video\", \"video\", \"video\", \"video\", \"video\", \"viele\", \"viele\", \"viele\", \"viennese\", \"vilsack\", \"vilsack\", \"vilsack\", \"vilsack\", \"vilsack\", \"vilsack\", \"vilsack\", \"vilsack\", \"vilsack\", \"vitamin\", \"vitamin\", \"vitamin\", \"vitamin\", \"vitamin\", \"vitamin\", \"vitamin\", \"vitamin\", \"vitamin\", \"vitamin\", \"voldemort\", \"voldemort\", \"voldemort\", \"voldemort\", \"voldemort\", \"voldemort\", \"vor\", \"vor\", \"vor\", \"vor\", \"vor\", \"vor\", \"vor\", \"vote\", \"vote\", \"vote\", \"vote\", \"vote\", \"vote\", \"vote\", \"vote\", \"vote\", \"vote\", \"voters\", \"voters\", \"voters\", \"voters\", \"voters\", \"voters\", \"voters\", \"voters\", \"voters\", \"voters\", \"wale\", \"wale\", \"wall\", \"wall\", \"wall\", \"wall\", \"wall\", \"wall\", \"wall\", \"wall\", \"wall\", \"wall\", \"want\", \"want\", \"want\", \"want\", \"want\", \"want\", \"want\", \"want\", \"want\", \"want\", \"war\", \"war\", \"war\", \"war\", \"war\", \"war\", \"war\", \"war\", \"war\", \"war\", \"watch\", \"watch\", \"watch\", \"watch\", \"watch\", \"watch\", \"watch\", \"watch\", \"watch\", \"watch\", \"water\", \"water\", \"water\", \"water\", \"water\", \"water\", \"water\", \"water\", \"water\", \"water\", \"way\", \"way\", \"way\", \"way\", \"way\", \"way\", \"way\", \"way\", \"way\", \"way\", \"weapons\", \"weapons\", \"weapons\", \"weapons\", \"weapons\", \"weapons\", \"weapons\", \"weapons\", \"weapons\", \"weapons\", \"webmaster\", \"webmaster\", \"webzine\", \"webzine\", \"webzine\", \"wellman\", \"wellman\", \"wellman\", \"wellman\", \"wellness\", \"wellness\", \"wellness\", \"wellness\", \"wellness\", \"wellness\", \"wellness\", \"wellness\", \"wellness\", \"wellness\", \"werde\", \"werde\", \"werde\", \"weston\", \"weston\", \"weston\", \"weston\", \"weston\", \"weston\", \"weston\", \"weston\", \"weston\", \"white\", \"white\", \"white\", \"white\", \"white\", \"white\", \"white\", \"white\", \"white\", \"white\", \"whitehaven\", \"whitehaven\", \"whitehaven\", \"wisc\", \"wisc\", \"wisc\", \"wisc\", \"wisc\", \"wisc\", \"witherspoon\", \"witherspoon\", \"witherspoon\", \"witherspoon\", \"witherspoon\", \"wo\", \"wo\", \"wo\", \"wo\", \"wo\", \"women\", \"women\", \"women\", \"women\", \"women\", \"women\", \"women\", \"women\", \"women\", \"women\", \"woolley\", \"woolley\", \"work\", \"work\", \"work\", \"work\", \"work\", \"work\", \"work\", \"work\", \"work\", \"work\", \"world\", \"world\", \"world\", \"world\", \"world\", \"world\", \"world\", \"world\", \"world\", \"world\", \"worshipper\", \"worshipper\", \"wpengine\", \"wpengine\", \"wxia\", \"wxia\", \"yanez\", \"yanez\", \"yanez\", \"yanez\", \"yanez\", \"yanez\", \"yanez\", \"year\", \"year\", \"year\", \"year\", \"year\", \"year\", \"year\", \"year\", \"year\", \"year\", \"yearbooks\", \"yearbooks\", \"yearbooks\", \"years\", \"years\", \"years\", \"years\", \"years\", \"years\", \"years\", \"years\", \"years\", \"years\", \"yenta\", \"yenta\", \"yenta\", \"zhirinovsky\", \"zhirinovsky\", \"zhirinovsky\", \"zhirinovsky\", \"zhirinovsky\", \"zhirinovsky\", \"zhirinovsky\", \"zhirinovsky\", \"zu\", \"zu\", \"zu\", \"zu\", \"zu\", \"zu\", \"zu\", \"zu\", \"zur\", \"zur\", \"zur\", \"zur\", \"zur\", \"zur\"]}, \"R\": 30, \"lambda.step\": 0.01, \"plot.opts\": {\"xlab\": \"PC1\", \"ylab\": \"PC2\"}, \"topic.order\": [1, 2, 3, 4, 5, 6, 7, 8, 9, 10]};\n",
       "\n",
       "function LDAvis_load_lib(url, callback){\n",
       "  var s = document.createElement('script');\n",
       "  s.src = url;\n",
       "  s.async = true;\n",
       "  s.onreadystatechange = s.onload = callback;\n",
       "  s.onerror = function(){console.warn(\"failed to load library \" + url);};\n",
       "  document.getElementsByTagName(\"head\")[0].appendChild(s);\n",
       "}\n",
       "\n",
       "if(typeof(LDAvis) !== \"undefined\"){\n",
       "   // already loaded: just create the visualization\n",
       "   !function(LDAvis){\n",
       "       new LDAvis(\"#\" + \"ldavis_el1375140247188523152559047532\", ldavis_el1375140247188523152559047532_data);\n",
       "   }(LDAvis);\n",
       "}else if(typeof define === \"function\" && define.amd){\n",
       "   // require.js is available: use it to load d3/LDAvis\n",
       "   require.config({paths: {d3: \"https://d3js.org/d3.v5\"}});\n",
       "   require([\"d3\"], function(d3){\n",
       "      window.d3 = d3;\n",
       "      LDAvis_load_lib(\"https://cdn.jsdelivr.net/gh/bmabey/pyLDAvis@3.3.1/pyLDAvis/js/ldavis.v3.0.0.js\", function(){\n",
       "        new LDAvis(\"#\" + \"ldavis_el1375140247188523152559047532\", ldavis_el1375140247188523152559047532_data);\n",
       "      });\n",
       "    });\n",
       "}else{\n",
       "    // require.js not available: dynamically load d3 & LDAvis\n",
       "    LDAvis_load_lib(\"https://d3js.org/d3.v5.js\", function(){\n",
       "         LDAvis_load_lib(\"https://cdn.jsdelivr.net/gh/bmabey/pyLDAvis@3.3.1/pyLDAvis/js/ldavis.v3.0.0.js\", function(){\n",
       "                 new LDAvis(\"#\" + \"ldavis_el1375140247188523152559047532\", ldavis_el1375140247188523152559047532_data);\n",
       "            })\n",
       "         });\n",
       "}\n",
       "</script>"
      ],
      "text/plain": [
       "<IPython.core.display.HTML object>"
      ]
     },
     "execution_count": 38,
     "metadata": {},
     "output_type": "execute_result"
    }
   ],
   "source": [
    "pyLDAvis.display(lda_display)"
   ]
  },
  {
   "cell_type": "markdown",
   "id": "beacd769",
   "metadata": {},
   "source": [
    "### on Fake News"
   ]
  },
  {
   "cell_type": "code",
   "execution_count": 70,
   "id": "1b3be132",
   "metadata": {},
   "outputs": [
    {
     "name": "stderr",
     "output_type": "stream",
     "text": [
      "/opt/anaconda3/lib/python3.9/site-packages/sklearn/feature_extraction/text.py:388: UserWarning: Your stop_words may be inconsistent with your preprocessing. Tokenizing the stop words generated tokens ['ll', 've'] not in stop_words.\n",
      "  warnings.warn('Your stop_words may be inconsistent with '\n"
     ]
    },
    {
     "data": {
      "text/plain": [
       "(35028, 322263)"
      ]
     },
     "execution_count": 70,
     "metadata": {},
     "output_type": "execute_result"
    }
   ],
   "source": [
    "tfidf_text = TfidfVectorizer(stop_words=stopwords, ngram_range=(1, 2), min_df=5, max_df=0.6) \n",
    "vectors_text = tfidf_text.fit_transform(df_fake['text_clean']) \n",
    "vectors_text.shape"
   ]
  },
  {
   "cell_type": "markdown",
   "id": "bf443b2b",
   "metadata": {},
   "source": [
    "#### Nonnegative Matrix Factorization (NMF)"
   ]
  },
  {
   "cell_type": "code",
   "execution_count": 72,
   "id": "6ced5af9",
   "metadata": {},
   "outputs": [
    {
     "name": "stderr",
     "output_type": "stream",
     "text": [
      "/opt/anaconda3/lib/python3.9/site-packages/sklearn/decomposition/_nmf.py:312: FutureWarning: The 'init' value, when 'init=None' and n_components is less than n_samples and n_features, will be changed from 'nndsvd' to 'nndsvda' in 1.1 (renaming of 0.26).\n",
      "  warnings.warn((\"The 'init' value, when 'init=None' and \"\n"
     ]
    }
   ],
   "source": [
    "nmf_text_model = NMF(n_components=10, random_state=42) \n",
    "W_text_matrix = nmf_text_model.fit_transform(vectors_text) \n",
    "H_text_matrix = nmf_text_model.components_"
   ]
  },
  {
   "cell_type": "code",
   "execution_count": 73,
   "id": "c8a7be57",
   "metadata": {
    "scrolled": true
   },
   "outputs": [
    {
     "name": "stdout",
     "output_type": "stream",
     "text": [
      "\n",
      "Topic 00\n",
      " trump (1.82)\n",
      " president (0.32)\n",
      " donald (0.28)\n",
      " donald trump (0.27)\n",
      " white (0.25)\n",
      "\n",
      "Topic 01\n",
      " korea (1.69)\n",
      " north (1.42)\n",
      " north korea (1.39)\n",
      " china (0.78)\n",
      " nuclear (0.63)\n",
      "\n",
      "Topic 02\n",
      " mr (3.54)\n",
      " mr trump (1.76)\n",
      " mrs (0.39)\n",
      " mrs clinton (0.38)\n",
      " ms (0.30)\n",
      "\n",
      "Topic 03\n",
      " police (0.20)\n",
      " people (0.16)\n",
      " new (0.14)\n",
      " like (0.11)\n",
      " ms (0.10)\n",
      "\n",
      "Topic 04\n",
      " tax (0.80)\n",
      " bill (0.49)\n",
      " house (0.46)\n",
      " senate (0.43)\n",
      " republicans (0.36)\n",
      "\n",
      "Topic 05\n",
      " clinton (1.39)\n",
      " sanders (0.61)\n",
      " campaign (0.31)\n",
      " democratic (0.30)\n",
      " hillary (0.30)\n",
      "\n",
      "Topic 06\n",
      " eu (0.91)\n",
      " brexit (0.55)\n",
      " britain (0.53)\n",
      " european (0.49)\n",
      " minister (0.32)\n",
      "\n",
      "Topic 07\n",
      " iran (0.43)\n",
      " islamic (0.40)\n",
      " islamic state (0.38)\n",
      " syria (0.37)\n",
      " syrian (0.31)\n",
      "\n",
      "Topic 08\n",
      " russia (1.03)\n",
      " russian (0.85)\n",
      " putin (0.51)\n",
      " moscow (0.48)\n",
      " intelligence (0.41)\n",
      "\n",
      "Topic 09\n",
      " court (1.00)\n",
      " supreme court (0.46)\n",
      " supreme (0.45)\n",
      " judge (0.34)\n",
      " justice (0.30)\n"
     ]
    }
   ],
   "source": [
    "display_topics(nmf_text_model, tfidf_text.get_feature_names())"
   ]
  },
  {
   "cell_type": "markdown",
   "id": "2b83669a",
   "metadata": {},
   "source": [
    "#### Latent Semantic Analysis/Truncated SVD"
   ]
  },
  {
   "cell_type": "code",
   "execution_count": 22,
   "id": "80eec550",
   "metadata": {},
   "outputs": [],
   "source": [
    "from sklearn.decomposition import TruncatedSVD"
   ]
  },
  {
   "cell_type": "code",
   "execution_count": 23,
   "id": "49909a58",
   "metadata": {},
   "outputs": [],
   "source": [
    "svd_model = TruncatedSVD(n_components = 10, random_state=42) \n",
    "W_svd_matrix = svd_model.fit_transform(vectors_text) \n",
    "H_svd_matrix = svd_model.components_"
   ]
  },
  {
   "cell_type": "code",
   "execution_count": 24,
   "id": "1c5b6ccd",
   "metadata": {},
   "outputs": [
    {
     "name": "stdout",
     "output_type": "stream",
     "text": [
      "\n",
      "Topic 00\n",
      " trump (0.42)\n",
      " clinton (0.19)\n",
      " hillary (0.14)\n",
      " president (0.13)\n",
      " obama (0.12)\n",
      "\n",
      "Topic 01\n",
      " clinton (0.94)\n",
      " fbi (0.55)\n",
      " hillary (0.53)\n",
      " emails (0.36)\n",
      " hillary clinton (0.30)\n",
      "\n",
      "Topic 02\n",
      " clinton (-0.93)\n",
      " hillary (-0.63)\n",
      " trump (-0.61)\n",
      " fbi (-0.45)\n",
      " hillary clinton (-0.36)\n",
      "\n",
      "Topic 03\n",
      " boiler (11.31)\n",
      " boiler room (10.25)\n",
      " acr (7.73)\n",
      " room (6.99)\n",
      " pm (5.02)\n",
      "\n",
      "Topic 04\n",
      " russia (-5.89)\n",
      " russian (-4.06)\n",
      " syria (-3.76)\n",
      " trump (-2.88)\n",
      " war (-2.58)\n",
      "\n",
      "Topic 05\n",
      " fbi (12.90)\n",
      " comey (11.00)\n",
      " police (6.43)\n",
      " investigation (6.30)\n",
      " twitter (4.20)\n",
      "\n",
      "Topic 06\n",
      " de (4.19)\n",
      " la (2.56)\n",
      " que (2.09)\n",
      " el (1.85)\n",
      " en (1.75)\n",
      "\n",
      "Topic 07\n",
      " de (12.80)\n",
      " la (7.89)\n",
      " que (6.51)\n",
      " el (5.80)\n",
      " obama (5.44)\n",
      "\n",
      "Topic 08\n",
      " obama (-3.52)\n",
      " president (-1.51)\n",
      " twitter (-0.99)\n",
      " hillary (-0.92)\n",
      " twitter com (-0.90)\n",
      "\n",
      "Topic 09\n",
      " police (-1.67)\n",
      " black (-1.60)\n",
      " officers (-0.69)\n",
      " lives matter (-0.62)\n",
      " black lives (-0.59)\n"
     ]
    }
   ],
   "source": [
    "display_topics(svd_model, tfidf_text.get_feature_names())"
   ]
  },
  {
   "cell_type": "markdown",
   "id": "99e67e83",
   "metadata": {},
   "source": [
    "#### LDA"
   ]
  },
  {
   "cell_type": "code",
   "execution_count": 26,
   "id": "67b2a6c5",
   "metadata": {},
   "outputs": [],
   "source": [
    "from sklearn.feature_extraction.text import CountVectorizer"
   ]
  },
  {
   "cell_type": "code",
   "execution_count": 27,
   "id": "fdc76150",
   "metadata": {},
   "outputs": [],
   "source": [
    "count_vectorizer = CountVectorizer(stop_words=stopwords, min_df=5, max_df=0.7)"
   ]
  },
  {
   "cell_type": "code",
   "execution_count": 28,
   "id": "66313026",
   "metadata": {},
   "outputs": [
    {
     "name": "stderr",
     "output_type": "stream",
     "text": [
      "/opt/anaconda3/lib/python3.9/site-packages/sklearn/feature_extraction/text.py:388: UserWarning: Your stop_words may be inconsistent with your preprocessing. Tokenizing the stop words generated tokens ['ll', 've'] not in stop_words.\n",
      "  warnings.warn('Your stop_words may be inconsistent with '\n"
     ]
    }
   ],
   "source": [
    "count_vectors = count_vectorizer.fit_transform(df_fake[\"text_clean\"])"
   ]
  },
  {
   "cell_type": "code",
   "execution_count": 29,
   "id": "2a48b9de",
   "metadata": {},
   "outputs": [],
   "source": [
    "from sklearn.decomposition import LatentDirichletAllocation"
   ]
  },
  {
   "cell_type": "code",
   "execution_count": 30,
   "id": "44612820",
   "metadata": {},
   "outputs": [],
   "source": [
    "lda_model = LatentDirichletAllocation(n_components = 10, random_state=42)"
   ]
  },
  {
   "cell_type": "code",
   "execution_count": null,
   "id": "b2d3cd1b",
   "metadata": {},
   "outputs": [],
   "source": [
    "W_lda_matrix = lda_model.fit_transform(count_vectors) \n",
    "H_lda_matrix = lda_model.components_"
   ]
  },
  {
   "cell_type": "code",
   "execution_count": null,
   "id": "48a85fa2",
   "metadata": {},
   "outputs": [],
   "source": [
    "display_topics(lda_model, count_vectorizer.get_feature_names())"
   ]
  },
  {
   "cell_type": "code",
   "execution_count": null,
   "id": "c2e3966b",
   "metadata": {},
   "outputs": [],
   "source": []
  }
 ],
 "metadata": {
  "colab": {
   "include_colab_link": true,
   "provenance": []
  },
  "kernelspec": {
   "display_name": "Python 3 (ipykernel)",
   "language": "python",
   "name": "python3"
  },
  "language_info": {
   "codemirror_mode": {
    "name": "ipython",
    "version": 3
   },
   "file_extension": ".py",
   "mimetype": "text/x-python",
   "name": "python",
   "nbconvert_exporter": "python",
   "pygments_lexer": "ipython3",
   "version": "3.9.7"
  },
  "toc": {
   "base_numbering": 1,
   "nav_menu": {},
   "number_sections": true,
   "sideBar": true,
   "skip_h1_title": false,
   "title_cell": "Table of Contents",
   "title_sidebar": "Contents",
   "toc_cell": false,
   "toc_position": {
    "height": "calc(100% - 180px)",
    "left": "10px",
    "top": "150px",
    "width": "165px"
   },
   "toc_section_display": true,
   "toc_window_display": false
  }
 },
 "nbformat": 4,
 "nbformat_minor": 5
}
