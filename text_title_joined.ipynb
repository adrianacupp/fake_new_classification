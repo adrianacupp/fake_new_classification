{
 "cells": [
  {
   "cell_type": "markdown",
   "id": "a2b1b67a",
   "metadata": {
    "colab_type": "text",
    "id": "view-in-github"
   },
   "source": [
    "<a href=\"https://colab.research.google.com/github/adrianacupp/fake_new_classification/blob/main/text_title_joined.ipynb\" target=\"_parent\"><img src=\"https://colab.research.google.com/assets/colab-badge.svg\" alt=\"Open In Colab\"/></a>"
   ]
  },
  {
   "cell_type": "markdown",
   "id": "f4986024",
   "metadata": {
    "id": "f4986024"
   },
   "source": [
    "# Importing"
   ]
  },
  {
   "cell_type": "code",
   "execution_count": 3,
   "id": "02ffee36",
   "metadata": {
    "colab": {
     "base_uri": "https://localhost:8080/"
    },
    "id": "02ffee36",
    "outputId": "f996d23b-5559-4094-9f5a-5d7845504c1c"
   },
   "outputs": [
    {
     "name": "stderr",
     "output_type": "stream",
     "text": [
      "[nltk_data] Downloading package stopwords to\n",
      "[nltk_data]     /Users/adrianacuppuleri/nltk_data...\n",
      "[nltk_data]   Package stopwords is already up-to-date!\n"
     ]
    }
   ],
   "source": [
    "import pandas as pd\n",
    "import nltk\n",
    "import spacy\n",
    "from nltk import ngrams\n",
    "from nltk.tokenize import word_tokenize \n",
    "from sklearn.datasets import make_classification\n",
    "from nltk.corpus import stopwords\n",
    "nltk.download('stopwords')\n",
    "from nltk.stem import WordNetLemmatizer\n",
    "import re\n",
    "import pycld2 as cld2\n",
    "from langdetect import detect\n",
    "import numpy as np\n",
    "from sklearn.feature_extraction.text import CountVectorizer\n",
    "from sklearn.model_selection import train_test_split\n",
    "from sklearn.feature_extraction.text import TfidfVectorizer\n",
    "from sklearn.svm import LinearSVC\n",
    "from sklearn.metrics import accuracy_score\n",
    "from sklearn.metrics import roc_auc_score\n",
    "from sklearn.metrics import cohen_kappa_score, classification_report \n",
    "from sklearn.svm import SVC\n",
    "from sklearn import metrics\n",
    "from sklearn.datasets import make_classification\n",
    "from sklearn.metrics import RocCurveDisplay, plot_roc_curve"
   ]
  },
  {
   "cell_type": "code",
   "execution_count": 4,
   "id": "-ENfVhcSapHi",
   "metadata": {
    "colab": {
     "base_uri": "https://localhost:8080/"
    },
    "id": "-ENfVhcSapHi",
    "outputId": "7c9f90ce-909f-493e-b175-af0430da119e"
   },
   "outputs": [
    {
     "name": "stdout",
     "output_type": "stream",
     "text": [
      "Requirement already satisfied: langdetect in /opt/anaconda3/lib/python3.9/site-packages (1.0.9)\r\n",
      "Requirement already satisfied: six in /opt/anaconda3/lib/python3.9/site-packages (from langdetect) (1.16.0)\r\n"
     ]
    }
   ],
   "source": [
    "!pip install langdetect"
   ]
  },
  {
   "cell_type": "code",
   "execution_count": 5,
   "id": "12306168",
   "metadata": {
    "colab": {
     "base_uri": "https://localhost:8080/",
     "height": 378
    },
    "id": "12306168",
    "outputId": "5723f95a-685d-440d-b504-82ab5518ad49"
   },
   "outputs": [
    {
     "data": {
      "text/html": [
       "<div>\n",
       "<style scoped>\n",
       "    .dataframe tbody tr th:only-of-type {\n",
       "        vertical-align: middle;\n",
       "    }\n",
       "\n",
       "    .dataframe tbody tr th {\n",
       "        vertical-align: top;\n",
       "    }\n",
       "\n",
       "    .dataframe thead th {\n",
       "        text-align: right;\n",
       "    }\n",
       "</style>\n",
       "<table border=\"1\" class=\"dataframe\">\n",
       "  <thead>\n",
       "    <tr style=\"text-align: right;\">\n",
       "      <th></th>\n",
       "      <th>title</th>\n",
       "      <th>text</th>\n",
       "      <th>label</th>\n",
       "    </tr>\n",
       "  </thead>\n",
       "  <tbody>\n",
       "    <tr>\n",
       "      <th>0</th>\n",
       "      <td>LAW ENFORCEMENT ON HIGH ALERT Following Threat...</td>\n",
       "      <td>No comment is expected from Barack Obama Membe...</td>\n",
       "      <td>1</td>\n",
       "    </tr>\n",
       "    <tr>\n",
       "      <th>1</th>\n",
       "      <td>NaN</td>\n",
       "      <td>Did they post their votes for Hillary already?</td>\n",
       "      <td>1</td>\n",
       "    </tr>\n",
       "    <tr>\n",
       "      <th>2</th>\n",
       "      <td>UNBELIEVABLE! OBAMA’S ATTORNEY GENERAL SAYS MO...</td>\n",
       "      <td>Now, most of the demonstrators gathered last ...</td>\n",
       "      <td>1</td>\n",
       "    </tr>\n",
       "    <tr>\n",
       "      <th>3</th>\n",
       "      <td>Bobby Jindal, raised Hindu, uses story of Chri...</td>\n",
       "      <td>A dozen politically active pastors came here f...</td>\n",
       "      <td>0</td>\n",
       "    </tr>\n",
       "    <tr>\n",
       "      <th>4</th>\n",
       "      <td>SATAN 2: Russia unvelis an image of its terrif...</td>\n",
       "      <td>The RS-28 Sarmat missile, dubbed Satan 2, will...</td>\n",
       "      <td>1</td>\n",
       "    </tr>\n",
       "    <tr>\n",
       "      <th>...</th>\n",
       "      <td>...</td>\n",
       "      <td>...</td>\n",
       "      <td>...</td>\n",
       "    </tr>\n",
       "    <tr>\n",
       "      <th>72129</th>\n",
       "      <td>Russians steal research on Trump in hack of U....</td>\n",
       "      <td>WASHINGTON (Reuters) - Hackers believed to be ...</td>\n",
       "      <td>0</td>\n",
       "    </tr>\n",
       "    <tr>\n",
       "      <th>72130</th>\n",
       "      <td>WATCH: Giuliani Demands That Democrats Apolog...</td>\n",
       "      <td>You know, because in fantasyland Republicans n...</td>\n",
       "      <td>1</td>\n",
       "    </tr>\n",
       "    <tr>\n",
       "      <th>72131</th>\n",
       "      <td>Migrants Refuse To Leave Train At Refugee Camp...</td>\n",
       "      <td>Migrants Refuse To Leave Train At Refugee Camp...</td>\n",
       "      <td>0</td>\n",
       "    </tr>\n",
       "    <tr>\n",
       "      <th>72132</th>\n",
       "      <td>Trump tussle gives unpopular Mexican leader mu...</td>\n",
       "      <td>MEXICO CITY (Reuters) - Donald Trump’s combati...</td>\n",
       "      <td>0</td>\n",
       "    </tr>\n",
       "    <tr>\n",
       "      <th>72133</th>\n",
       "      <td>Goldman Sachs Endorses Hillary Clinton For Pre...</td>\n",
       "      <td>Goldman Sachs Endorses Hillary Clinton For Pre...</td>\n",
       "      <td>1</td>\n",
       "    </tr>\n",
       "  </tbody>\n",
       "</table>\n",
       "<p>72134 rows × 3 columns</p>\n",
       "</div>"
      ],
      "text/plain": [
       "                                                   title  \\\n",
       "0      LAW ENFORCEMENT ON HIGH ALERT Following Threat...   \n",
       "1                                                    NaN   \n",
       "2      UNBELIEVABLE! OBAMA’S ATTORNEY GENERAL SAYS MO...   \n",
       "3      Bobby Jindal, raised Hindu, uses story of Chri...   \n",
       "4      SATAN 2: Russia unvelis an image of its terrif...   \n",
       "...                                                  ...   \n",
       "72129  Russians steal research on Trump in hack of U....   \n",
       "72130   WATCH: Giuliani Demands That Democrats Apolog...   \n",
       "72131  Migrants Refuse To Leave Train At Refugee Camp...   \n",
       "72132  Trump tussle gives unpopular Mexican leader mu...   \n",
       "72133  Goldman Sachs Endorses Hillary Clinton For Pre...   \n",
       "\n",
       "                                                    text  label  \n",
       "0      No comment is expected from Barack Obama Membe...      1  \n",
       "1         Did they post their votes for Hillary already?      1  \n",
       "2       Now, most of the demonstrators gathered last ...      1  \n",
       "3      A dozen politically active pastors came here f...      0  \n",
       "4      The RS-28 Sarmat missile, dubbed Satan 2, will...      1  \n",
       "...                                                  ...    ...  \n",
       "72129  WASHINGTON (Reuters) - Hackers believed to be ...      0  \n",
       "72130  You know, because in fantasyland Republicans n...      1  \n",
       "72131  Migrants Refuse To Leave Train At Refugee Camp...      0  \n",
       "72132  MEXICO CITY (Reuters) - Donald Trump’s combati...      0  \n",
       "72133  Goldman Sachs Endorses Hillary Clinton For Pre...      1  \n",
       "\n",
       "[72134 rows x 3 columns]"
      ]
     },
     "execution_count": 5,
     "metadata": {},
     "output_type": "execute_result"
    }
   ],
   "source": [
    "df = pd.read_csv(\"data/WELFake_Dataset.csv\")\n",
    "df.drop(columns=[\"Unnamed: 0\"], inplace=True)\n",
    "df"
   ]
  },
  {
   "cell_type": "code",
   "execution_count": 6,
   "id": "0db641bb",
   "metadata": {
    "id": "0db641bb",
    "outputId": "5aebef43-8931-4270-c9c7-14dd56fb331a"
   },
   "outputs": [
    {
     "name": "stdout",
     "output_type": "stream",
     "text": [
      "<class 'pandas.core.frame.DataFrame'>\n",
      "RangeIndex: 72134 entries, 0 to 72133\n",
      "Data columns (total 3 columns):\n",
      " #   Column  Non-Null Count  Dtype \n",
      "---  ------  --------------  ----- \n",
      " 0   title   71576 non-null  object\n",
      " 1   text    72095 non-null  object\n",
      " 2   label   72134 non-null  int64 \n",
      "dtypes: int64(1), object(2)\n",
      "memory usage: 1.7+ MB\n"
     ]
    }
   ],
   "source": [
    "df.info()"
   ]
  },
  {
   "cell_type": "code",
   "execution_count": 7,
   "id": "92022f1b",
   "metadata": {
    "id": "92022f1b",
    "outputId": "ba5fc5ef-6df2-4d17-809a-d2ce1cb508e1"
   },
   "outputs": [
    {
     "data": {
      "text/plain": [
       "1    37106\n",
       "0    35028\n",
       "Name: label, dtype: int64"
      ]
     },
     "execution_count": 7,
     "metadata": {},
     "output_type": "execute_result"
    }
   ],
   "source": [
    "df['label'].value_counts()"
   ]
  },
  {
   "cell_type": "code",
   "execution_count": 8,
   "id": "8b15658b",
   "metadata": {
    "id": "8b15658b",
    "outputId": "35385051-ccc5-41b1-8265-9692a7da4ad8"
   },
   "outputs": [
    {
     "data": {
      "text/html": [
       "<div>\n",
       "<style scoped>\n",
       "    .dataframe tbody tr th:only-of-type {\n",
       "        vertical-align: middle;\n",
       "    }\n",
       "\n",
       "    .dataframe tbody tr th {\n",
       "        vertical-align: top;\n",
       "    }\n",
       "\n",
       "    .dataframe thead th {\n",
       "        text-align: right;\n",
       "    }\n",
       "</style>\n",
       "<table border=\"1\" class=\"dataframe\">\n",
       "  <thead>\n",
       "    <tr style=\"text-align: right;\">\n",
       "      <th></th>\n",
       "      <th>title</th>\n",
       "      <th>text</th>\n",
       "      <th>label</th>\n",
       "    </tr>\n",
       "  </thead>\n",
       "  <tbody>\n",
       "  </tbody>\n",
       "</table>\n",
       "</div>"
      ],
      "text/plain": [
       "Empty DataFrame\n",
       "Columns: [title, text, label]\n",
       "Index: []"
      ]
     },
     "execution_count": 8,
     "metadata": {},
     "output_type": "execute_result"
    }
   ],
   "source": [
    "df[df['title'].isna() & df['text'].isna()]"
   ]
  },
  {
   "cell_type": "code",
   "execution_count": 9,
   "id": "7cfc1eff",
   "metadata": {
    "id": "7cfc1eff",
    "outputId": "b676f615-5e24-472b-8a9d-db40c921ab17"
   },
   "outputs": [
    {
     "data": {
      "text/html": [
       "<div>\n",
       "<style scoped>\n",
       "    .dataframe tbody tr th:only-of-type {\n",
       "        vertical-align: middle;\n",
       "    }\n",
       "\n",
       "    .dataframe tbody tr th {\n",
       "        vertical-align: top;\n",
       "    }\n",
       "\n",
       "    .dataframe thead th {\n",
       "        text-align: right;\n",
       "    }\n",
       "</style>\n",
       "<table border=\"1\" class=\"dataframe\">\n",
       "  <thead>\n",
       "    <tr style=\"text-align: right;\">\n",
       "      <th></th>\n",
       "      <th>title</th>\n",
       "      <th>text</th>\n",
       "      <th>label</th>\n",
       "    </tr>\n",
       "  </thead>\n",
       "  <tbody>\n",
       "    <tr>\n",
       "      <th>1</th>\n",
       "      <td>NaN</td>\n",
       "      <td>Did they post their votes for Hillary already?</td>\n",
       "      <td>1</td>\n",
       "    </tr>\n",
       "    <tr>\n",
       "      <th>43</th>\n",
       "      <td>NaN</td>\n",
       "      <td>True. Hillary needs a distraction and what bet...</td>\n",
       "      <td>1</td>\n",
       "    </tr>\n",
       "    <tr>\n",
       "      <th>162</th>\n",
       "      <td>NaN</td>\n",
       "      <td>All eyes on Electoral delegates. The People kn...</td>\n",
       "      <td>1</td>\n",
       "    </tr>\n",
       "    <tr>\n",
       "      <th>185</th>\n",
       "      <td>NaN</td>\n",
       "      <td>Cool</td>\n",
       "      <td>1</td>\n",
       "    </tr>\n",
       "    <tr>\n",
       "      <th>269</th>\n",
       "      <td>NaN</td>\n",
       "      <td>A leading US senator: US Supporting War in Syr...</td>\n",
       "      <td>1</td>\n",
       "    </tr>\n",
       "    <tr>\n",
       "      <th>...</th>\n",
       "      <td>...</td>\n",
       "      <td>...</td>\n",
       "      <td>...</td>\n",
       "    </tr>\n",
       "    <tr>\n",
       "      <th>71484</th>\n",
       "      <td>NaN</td>\n",
       "      <td>Another Arab supremacist masturbation fantasy....</td>\n",
       "      <td>1</td>\n",
       "    </tr>\n",
       "    <tr>\n",
       "      <th>71521</th>\n",
       "      <td>NaN</td>\n",
       "      <td>I'm sure they drastically changed accounting m...</td>\n",
       "      <td>1</td>\n",
       "    </tr>\n",
       "    <tr>\n",
       "      <th>71540</th>\n",
       "      <td>NaN</td>\n",
       "      <td>It's easy to imagine Obama or Kerry pissing hi...</td>\n",
       "      <td>1</td>\n",
       "    </tr>\n",
       "    <tr>\n",
       "      <th>71570</th>\n",
       "      <td>NaN</td>\n",
       "      <td>Ever since the powers to be assassinated JFK A...</td>\n",
       "      <td>1</td>\n",
       "    </tr>\n",
       "    <tr>\n",
       "      <th>71734</th>\n",
       "      <td>NaN</td>\n",
       "      <td>Hmm, free college, now that's an idea.</td>\n",
       "      <td>1</td>\n",
       "    </tr>\n",
       "  </tbody>\n",
       "</table>\n",
       "<p>597 rows × 3 columns</p>\n",
       "</div>"
      ],
      "text/plain": [
       "      title                                               text  label\n",
       "1       NaN     Did they post their votes for Hillary already?      1\n",
       "43      NaN  True. Hillary needs a distraction and what bet...      1\n",
       "162     NaN  All eyes on Electoral delegates. The People kn...      1\n",
       "185     NaN                                               Cool      1\n",
       "269     NaN  A leading US senator: US Supporting War in Syr...      1\n",
       "...     ...                                                ...    ...\n",
       "71484   NaN  Another Arab supremacist masturbation fantasy....      1\n",
       "71521   NaN  I'm sure they drastically changed accounting m...      1\n",
       "71540   NaN  It's easy to imagine Obama or Kerry pissing hi...      1\n",
       "71570   NaN  Ever since the powers to be assassinated JFK A...      1\n",
       "71734   NaN             Hmm, free college, now that's an idea.      1\n",
       "\n",
       "[597 rows x 3 columns]"
      ]
     },
     "execution_count": 9,
     "metadata": {},
     "output_type": "execute_result"
    }
   ],
   "source": [
    "df[df['title'].isna() | df['text'].isna()]"
   ]
  },
  {
   "cell_type": "code",
   "execution_count": 10,
   "id": "14ff2eb2",
   "metadata": {
    "id": "14ff2eb2"
   },
   "outputs": [],
   "source": [
    "df['text'] = df['title'] + ' ' + df['text']"
   ]
  },
  {
   "cell_type": "code",
   "execution_count": 11,
   "id": "5b45bee3",
   "metadata": {
    "id": "5b45bee3"
   },
   "outputs": [],
   "source": [
    "df.drop(['title'], axis=1,inplace=True)"
   ]
  },
  {
   "cell_type": "code",
   "execution_count": 12,
   "id": "57847b94",
   "metadata": {
    "id": "57847b94",
    "outputId": "779d4284-7e1c-4f74-f078-f67241ab1590"
   },
   "outputs": [
    {
     "data": {
      "text/html": [
       "<div>\n",
       "<style scoped>\n",
       "    .dataframe tbody tr th:only-of-type {\n",
       "        vertical-align: middle;\n",
       "    }\n",
       "\n",
       "    .dataframe tbody tr th {\n",
       "        vertical-align: top;\n",
       "    }\n",
       "\n",
       "    .dataframe thead th {\n",
       "        text-align: right;\n",
       "    }\n",
       "</style>\n",
       "<table border=\"1\" class=\"dataframe\">\n",
       "  <thead>\n",
       "    <tr style=\"text-align: right;\">\n",
       "      <th></th>\n",
       "      <th>text</th>\n",
       "      <th>label</th>\n",
       "    </tr>\n",
       "  </thead>\n",
       "  <tbody>\n",
       "    <tr>\n",
       "      <th>0</th>\n",
       "      <td>LAW ENFORCEMENT ON HIGH ALERT Following Threat...</td>\n",
       "      <td>1</td>\n",
       "    </tr>\n",
       "    <tr>\n",
       "      <th>1</th>\n",
       "      <td>NaN</td>\n",
       "      <td>1</td>\n",
       "    </tr>\n",
       "    <tr>\n",
       "      <th>2</th>\n",
       "      <td>UNBELIEVABLE! OBAMA’S ATTORNEY GENERAL SAYS MO...</td>\n",
       "      <td>1</td>\n",
       "    </tr>\n",
       "    <tr>\n",
       "      <th>3</th>\n",
       "      <td>Bobby Jindal, raised Hindu, uses story of Chri...</td>\n",
       "      <td>0</td>\n",
       "    </tr>\n",
       "    <tr>\n",
       "      <th>4</th>\n",
       "      <td>SATAN 2: Russia unvelis an image of its terrif...</td>\n",
       "      <td>1</td>\n",
       "    </tr>\n",
       "    <tr>\n",
       "      <th>...</th>\n",
       "      <td>...</td>\n",
       "      <td>...</td>\n",
       "    </tr>\n",
       "    <tr>\n",
       "      <th>72129</th>\n",
       "      <td>Russians steal research on Trump in hack of U....</td>\n",
       "      <td>0</td>\n",
       "    </tr>\n",
       "    <tr>\n",
       "      <th>72130</th>\n",
       "      <td>WATCH: Giuliani Demands That Democrats Apolog...</td>\n",
       "      <td>1</td>\n",
       "    </tr>\n",
       "    <tr>\n",
       "      <th>72131</th>\n",
       "      <td>Migrants Refuse To Leave Train At Refugee Camp...</td>\n",
       "      <td>0</td>\n",
       "    </tr>\n",
       "    <tr>\n",
       "      <th>72132</th>\n",
       "      <td>Trump tussle gives unpopular Mexican leader mu...</td>\n",
       "      <td>0</td>\n",
       "    </tr>\n",
       "    <tr>\n",
       "      <th>72133</th>\n",
       "      <td>Goldman Sachs Endorses Hillary Clinton For Pre...</td>\n",
       "      <td>1</td>\n",
       "    </tr>\n",
       "  </tbody>\n",
       "</table>\n",
       "<p>72134 rows × 2 columns</p>\n",
       "</div>"
      ],
      "text/plain": [
       "                                                    text  label\n",
       "0      LAW ENFORCEMENT ON HIGH ALERT Following Threat...      1\n",
       "1                                                    NaN      1\n",
       "2      UNBELIEVABLE! OBAMA’S ATTORNEY GENERAL SAYS MO...      1\n",
       "3      Bobby Jindal, raised Hindu, uses story of Chri...      0\n",
       "4      SATAN 2: Russia unvelis an image of its terrif...      1\n",
       "...                                                  ...    ...\n",
       "72129  Russians steal research on Trump in hack of U....      0\n",
       "72130   WATCH: Giuliani Demands That Democrats Apolog...      1\n",
       "72131  Migrants Refuse To Leave Train At Refugee Camp...      0\n",
       "72132  Trump tussle gives unpopular Mexican leader mu...      0\n",
       "72133  Goldman Sachs Endorses Hillary Clinton For Pre...      1\n",
       "\n",
       "[72134 rows x 2 columns]"
      ]
     },
     "execution_count": 12,
     "metadata": {},
     "output_type": "execute_result"
    }
   ],
   "source": [
    "df"
   ]
  },
  {
   "cell_type": "code",
   "execution_count": 13,
   "id": "78b75825",
   "metadata": {
    "id": "78b75825"
   },
   "outputs": [],
   "source": [
    "df.dropna(axis=0, how='any', inplace=True)"
   ]
  },
  {
   "cell_type": "code",
   "execution_count": 14,
   "id": "00b97007",
   "metadata": {
    "id": "00b97007",
    "outputId": "8691a464-85de-4a00-e01d-58674c37aaf4"
   },
   "outputs": [
    {
     "data": {
      "text/html": [
       "<div>\n",
       "<style scoped>\n",
       "    .dataframe tbody tr th:only-of-type {\n",
       "        vertical-align: middle;\n",
       "    }\n",
       "\n",
       "    .dataframe tbody tr th {\n",
       "        vertical-align: top;\n",
       "    }\n",
       "\n",
       "    .dataframe thead th {\n",
       "        text-align: right;\n",
       "    }\n",
       "</style>\n",
       "<table border=\"1\" class=\"dataframe\">\n",
       "  <thead>\n",
       "    <tr style=\"text-align: right;\">\n",
       "      <th></th>\n",
       "      <th>text</th>\n",
       "      <th>label</th>\n",
       "    </tr>\n",
       "  </thead>\n",
       "  <tbody>\n",
       "    <tr>\n",
       "      <th>0</th>\n",
       "      <td>LAW ENFORCEMENT ON HIGH ALERT Following Threat...</td>\n",
       "      <td>1</td>\n",
       "    </tr>\n",
       "    <tr>\n",
       "      <th>1</th>\n",
       "      <td>UNBELIEVABLE! OBAMA’S ATTORNEY GENERAL SAYS MO...</td>\n",
       "      <td>1</td>\n",
       "    </tr>\n",
       "    <tr>\n",
       "      <th>2</th>\n",
       "      <td>Bobby Jindal, raised Hindu, uses story of Chri...</td>\n",
       "      <td>0</td>\n",
       "    </tr>\n",
       "    <tr>\n",
       "      <th>3</th>\n",
       "      <td>SATAN 2: Russia unvelis an image of its terrif...</td>\n",
       "      <td>1</td>\n",
       "    </tr>\n",
       "    <tr>\n",
       "      <th>4</th>\n",
       "      <td>About Time! Christian Group Sues Amazon and SP...</td>\n",
       "      <td>1</td>\n",
       "    </tr>\n",
       "    <tr>\n",
       "      <th>...</th>\n",
       "      <td>...</td>\n",
       "      <td>...</td>\n",
       "    </tr>\n",
       "    <tr>\n",
       "      <th>71532</th>\n",
       "      <td>Russians steal research on Trump in hack of U....</td>\n",
       "      <td>0</td>\n",
       "    </tr>\n",
       "    <tr>\n",
       "      <th>71533</th>\n",
       "      <td>WATCH: Giuliani Demands That Democrats Apolog...</td>\n",
       "      <td>1</td>\n",
       "    </tr>\n",
       "    <tr>\n",
       "      <th>71534</th>\n",
       "      <td>Migrants Refuse To Leave Train At Refugee Camp...</td>\n",
       "      <td>0</td>\n",
       "    </tr>\n",
       "    <tr>\n",
       "      <th>71535</th>\n",
       "      <td>Trump tussle gives unpopular Mexican leader mu...</td>\n",
       "      <td>0</td>\n",
       "    </tr>\n",
       "    <tr>\n",
       "      <th>71536</th>\n",
       "      <td>Goldman Sachs Endorses Hillary Clinton For Pre...</td>\n",
       "      <td>1</td>\n",
       "    </tr>\n",
       "  </tbody>\n",
       "</table>\n",
       "<p>71537 rows × 2 columns</p>\n",
       "</div>"
      ],
      "text/plain": [
       "                                                    text  label\n",
       "0      LAW ENFORCEMENT ON HIGH ALERT Following Threat...      1\n",
       "1      UNBELIEVABLE! OBAMA’S ATTORNEY GENERAL SAYS MO...      1\n",
       "2      Bobby Jindal, raised Hindu, uses story of Chri...      0\n",
       "3      SATAN 2: Russia unvelis an image of its terrif...      1\n",
       "4      About Time! Christian Group Sues Amazon and SP...      1\n",
       "...                                                  ...    ...\n",
       "71532  Russians steal research on Trump in hack of U....      0\n",
       "71533   WATCH: Giuliani Demands That Democrats Apolog...      1\n",
       "71534  Migrants Refuse To Leave Train At Refugee Camp...      0\n",
       "71535  Trump tussle gives unpopular Mexican leader mu...      0\n",
       "71536  Goldman Sachs Endorses Hillary Clinton For Pre...      1\n",
       "\n",
       "[71537 rows x 2 columns]"
      ]
     },
     "execution_count": 14,
     "metadata": {},
     "output_type": "execute_result"
    }
   ],
   "source": [
    "df.reset_index(drop=True, inplace=True)\n",
    "df"
   ]
  },
  {
   "cell_type": "markdown",
   "id": "d02fcba2",
   "metadata": {
    "id": "d02fcba2"
   },
   "source": [
    "# Text preprocessing\n",
    "## With NLTK"
   ]
  },
  {
   "cell_type": "markdown",
   "id": "0d2fbb7c",
   "metadata": {
    "id": "0d2fbb7c"
   },
   "source": [
    "### Cleaning text"
   ]
  },
  {
   "cell_type": "code",
   "execution_count": 15,
   "id": "043308c1",
   "metadata": {
    "id": "043308c1"
   },
   "outputs": [],
   "source": [
    "def clean(text):\n",
    "    text = str(text).lower()\n",
    "    text = re.sub(r'\\s+', ' ', text)           # sequences of white spaces\n",
    "    text = re.sub(r'[^\\x00-\\x7F]+',' ', text)  # Removing all the non ASCII characters\n",
    "    text = re.sub(r'\\s+',' ', text)            # Replacing multiple Spaces with Single Space\n",
    "    text = re.sub(r'\\.{2,}', ' ', text)        # Replacing Two or more dots with one\n",
    "    text = re.sub(r'[^\\x00-\\x7F]+',' ', text)  # Removing all the non ASCII characters\n",
    "    text = re.sub(r'\\W+',' ', text)            # Replace everything non-alpahnumeric with a space\n",
    "    return text.strip()"
   ]
  },
  {
   "cell_type": "code",
   "execution_count": 16,
   "id": "9ad59b07",
   "metadata": {
    "id": "9ad59b07"
   },
   "outputs": [],
   "source": [
    "df['text_clean'] = df['text'].map(clean)"
   ]
  },
  {
   "cell_type": "code",
   "execution_count": 17,
   "id": "5a77d168",
   "metadata": {
    "id": "5a77d168"
   },
   "outputs": [],
   "source": [
    "df[\"empty_cell_text\"] = df['text_clean'].str.contains(r'^\\s*$', na=False)"
   ]
  },
  {
   "cell_type": "code",
   "execution_count": 18,
   "id": "355ccbd4",
   "metadata": {
    "id": "355ccbd4",
    "outputId": "8dba8f59-4d5a-4194-f0d7-13e95f9b1257"
   },
   "outputs": [
    {
     "data": {
      "text/html": [
       "<div>\n",
       "<style scoped>\n",
       "    .dataframe tbody tr th:only-of-type {\n",
       "        vertical-align: middle;\n",
       "    }\n",
       "\n",
       "    .dataframe tbody tr th {\n",
       "        vertical-align: top;\n",
       "    }\n",
       "\n",
       "    .dataframe thead th {\n",
       "        text-align: right;\n",
       "    }\n",
       "</style>\n",
       "<table border=\"1\" class=\"dataframe\">\n",
       "  <thead>\n",
       "    <tr style=\"text-align: right;\">\n",
       "      <th></th>\n",
       "      <th>text</th>\n",
       "      <th>label</th>\n",
       "      <th>text_clean</th>\n",
       "      <th>empty_cell_text</th>\n",
       "    </tr>\n",
       "  </thead>\n",
       "  <tbody>\n",
       "    <tr>\n",
       "      <th>0</th>\n",
       "      <td>LAW ENFORCEMENT ON HIGH ALERT Following Threat...</td>\n",
       "      <td>1</td>\n",
       "      <td>law enforcement on high alert following threat...</td>\n",
       "      <td>False</td>\n",
       "    </tr>\n",
       "    <tr>\n",
       "      <th>1</th>\n",
       "      <td>UNBELIEVABLE! OBAMA’S ATTORNEY GENERAL SAYS MO...</td>\n",
       "      <td>1</td>\n",
       "      <td>unbelievable obama s attorney general says mos...</td>\n",
       "      <td>False</td>\n",
       "    </tr>\n",
       "    <tr>\n",
       "      <th>2</th>\n",
       "      <td>Bobby Jindal, raised Hindu, uses story of Chri...</td>\n",
       "      <td>0</td>\n",
       "      <td>bobby jindal raised hindu uses story of christ...</td>\n",
       "      <td>False</td>\n",
       "    </tr>\n",
       "    <tr>\n",
       "      <th>3</th>\n",
       "      <td>SATAN 2: Russia unvelis an image of its terrif...</td>\n",
       "      <td>1</td>\n",
       "      <td>satan 2 russia unvelis an image of its terrify...</td>\n",
       "      <td>False</td>\n",
       "    </tr>\n",
       "    <tr>\n",
       "      <th>4</th>\n",
       "      <td>About Time! Christian Group Sues Amazon and SP...</td>\n",
       "      <td>1</td>\n",
       "      <td>about time christian group sues amazon and spl...</td>\n",
       "      <td>False</td>\n",
       "    </tr>\n",
       "    <tr>\n",
       "      <th>...</th>\n",
       "      <td>...</td>\n",
       "      <td>...</td>\n",
       "      <td>...</td>\n",
       "      <td>...</td>\n",
       "    </tr>\n",
       "    <tr>\n",
       "      <th>71532</th>\n",
       "      <td>Russians steal research on Trump in hack of U....</td>\n",
       "      <td>0</td>\n",
       "      <td>russians steal research on trump in hack of u ...</td>\n",
       "      <td>False</td>\n",
       "    </tr>\n",
       "    <tr>\n",
       "      <th>71533</th>\n",
       "      <td>WATCH: Giuliani Demands That Democrats Apolog...</td>\n",
       "      <td>1</td>\n",
       "      <td>watch giuliani demands that democrats apologiz...</td>\n",
       "      <td>False</td>\n",
       "    </tr>\n",
       "    <tr>\n",
       "      <th>71534</th>\n",
       "      <td>Migrants Refuse To Leave Train At Refugee Camp...</td>\n",
       "      <td>0</td>\n",
       "      <td>migrants refuse to leave train at refugee camp...</td>\n",
       "      <td>False</td>\n",
       "    </tr>\n",
       "    <tr>\n",
       "      <th>71535</th>\n",
       "      <td>Trump tussle gives unpopular Mexican leader mu...</td>\n",
       "      <td>0</td>\n",
       "      <td>trump tussle gives unpopular mexican leader mu...</td>\n",
       "      <td>False</td>\n",
       "    </tr>\n",
       "    <tr>\n",
       "      <th>71536</th>\n",
       "      <td>Goldman Sachs Endorses Hillary Clinton For Pre...</td>\n",
       "      <td>1</td>\n",
       "      <td>goldman sachs endorses hillary clinton for pre...</td>\n",
       "      <td>False</td>\n",
       "    </tr>\n",
       "  </tbody>\n",
       "</table>\n",
       "<p>71537 rows × 4 columns</p>\n",
       "</div>"
      ],
      "text/plain": [
       "                                                    text  label  \\\n",
       "0      LAW ENFORCEMENT ON HIGH ALERT Following Threat...      1   \n",
       "1      UNBELIEVABLE! OBAMA’S ATTORNEY GENERAL SAYS MO...      1   \n",
       "2      Bobby Jindal, raised Hindu, uses story of Chri...      0   \n",
       "3      SATAN 2: Russia unvelis an image of its terrif...      1   \n",
       "4      About Time! Christian Group Sues Amazon and SP...      1   \n",
       "...                                                  ...    ...   \n",
       "71532  Russians steal research on Trump in hack of U....      0   \n",
       "71533   WATCH: Giuliani Demands That Democrats Apolog...      1   \n",
       "71534  Migrants Refuse To Leave Train At Refugee Camp...      0   \n",
       "71535  Trump tussle gives unpopular Mexican leader mu...      0   \n",
       "71536  Goldman Sachs Endorses Hillary Clinton For Pre...      1   \n",
       "\n",
       "                                              text_clean  empty_cell_text  \n",
       "0      law enforcement on high alert following threat...            False  \n",
       "1      unbelievable obama s attorney general says mos...            False  \n",
       "2      bobby jindal raised hindu uses story of christ...            False  \n",
       "3      satan 2 russia unvelis an image of its terrify...            False  \n",
       "4      about time christian group sues amazon and spl...            False  \n",
       "...                                                  ...              ...  \n",
       "71532  russians steal research on trump in hack of u ...            False  \n",
       "71533  watch giuliani demands that democrats apologiz...            False  \n",
       "71534  migrants refuse to leave train at refugee camp...            False  \n",
       "71535  trump tussle gives unpopular mexican leader mu...            False  \n",
       "71536  goldman sachs endorses hillary clinton for pre...            False  \n",
       "\n",
       "[71537 rows x 4 columns]"
      ]
     },
     "execution_count": 18,
     "metadata": {},
     "output_type": "execute_result"
    }
   ],
   "source": [
    "df"
   ]
  },
  {
   "cell_type": "markdown",
   "id": "e11e1a96",
   "metadata": {
    "id": "e11e1a96"
   },
   "source": [
    "### Removing empty cells"
   ]
  },
  {
   "cell_type": "code",
   "execution_count": 19,
   "id": "d7293250",
   "metadata": {
    "id": "d7293250",
    "outputId": "b73a166f-ca31-4888-ca7d-6be5830dffe7",
    "scrolled": false
   },
   "outputs": [
    {
     "data": {
      "text/html": [
       "<div>\n",
       "<style scoped>\n",
       "    .dataframe tbody tr th:only-of-type {\n",
       "        vertical-align: middle;\n",
       "    }\n",
       "\n",
       "    .dataframe tbody tr th {\n",
       "        vertical-align: top;\n",
       "    }\n",
       "\n",
       "    .dataframe thead th {\n",
       "        text-align: right;\n",
       "    }\n",
       "</style>\n",
       "<table border=\"1\" class=\"dataframe\">\n",
       "  <thead>\n",
       "    <tr style=\"text-align: right;\">\n",
       "      <th></th>\n",
       "      <th>text</th>\n",
       "      <th>label</th>\n",
       "      <th>text_clean</th>\n",
       "      <th>empty_cell_text</th>\n",
       "    </tr>\n",
       "  </thead>\n",
       "  <tbody>\n",
       "    <tr>\n",
       "      <th>0</th>\n",
       "      <td>LAW ENFORCEMENT ON HIGH ALERT Following Threat...</td>\n",
       "      <td>1</td>\n",
       "      <td>law enforcement on high alert following threat...</td>\n",
       "      <td>False</td>\n",
       "    </tr>\n",
       "    <tr>\n",
       "      <th>1</th>\n",
       "      <td>UNBELIEVABLE! OBAMA’S ATTORNEY GENERAL SAYS MO...</td>\n",
       "      <td>1</td>\n",
       "      <td>unbelievable obama s attorney general says mos...</td>\n",
       "      <td>False</td>\n",
       "    </tr>\n",
       "    <tr>\n",
       "      <th>2</th>\n",
       "      <td>Bobby Jindal, raised Hindu, uses story of Chri...</td>\n",
       "      <td>0</td>\n",
       "      <td>bobby jindal raised hindu uses story of christ...</td>\n",
       "      <td>False</td>\n",
       "    </tr>\n",
       "    <tr>\n",
       "      <th>3</th>\n",
       "      <td>SATAN 2: Russia unvelis an image of its terrif...</td>\n",
       "      <td>1</td>\n",
       "      <td>satan 2 russia unvelis an image of its terrify...</td>\n",
       "      <td>False</td>\n",
       "    </tr>\n",
       "    <tr>\n",
       "      <th>4</th>\n",
       "      <td>About Time! Christian Group Sues Amazon and SP...</td>\n",
       "      <td>1</td>\n",
       "      <td>about time christian group sues amazon and spl...</td>\n",
       "      <td>False</td>\n",
       "    </tr>\n",
       "    <tr>\n",
       "      <th>...</th>\n",
       "      <td>...</td>\n",
       "      <td>...</td>\n",
       "      <td>...</td>\n",
       "      <td>...</td>\n",
       "    </tr>\n",
       "    <tr>\n",
       "      <th>71532</th>\n",
       "      <td>Russians steal research on Trump in hack of U....</td>\n",
       "      <td>0</td>\n",
       "      <td>russians steal research on trump in hack of u ...</td>\n",
       "      <td>False</td>\n",
       "    </tr>\n",
       "    <tr>\n",
       "      <th>71533</th>\n",
       "      <td>WATCH: Giuliani Demands That Democrats Apolog...</td>\n",
       "      <td>1</td>\n",
       "      <td>watch giuliani demands that democrats apologiz...</td>\n",
       "      <td>False</td>\n",
       "    </tr>\n",
       "    <tr>\n",
       "      <th>71534</th>\n",
       "      <td>Migrants Refuse To Leave Train At Refugee Camp...</td>\n",
       "      <td>0</td>\n",
       "      <td>migrants refuse to leave train at refugee camp...</td>\n",
       "      <td>False</td>\n",
       "    </tr>\n",
       "    <tr>\n",
       "      <th>71535</th>\n",
       "      <td>Trump tussle gives unpopular Mexican leader mu...</td>\n",
       "      <td>0</td>\n",
       "      <td>trump tussle gives unpopular mexican leader mu...</td>\n",
       "      <td>False</td>\n",
       "    </tr>\n",
       "    <tr>\n",
       "      <th>71536</th>\n",
       "      <td>Goldman Sachs Endorses Hillary Clinton For Pre...</td>\n",
       "      <td>1</td>\n",
       "      <td>goldman sachs endorses hillary clinton for pre...</td>\n",
       "      <td>False</td>\n",
       "    </tr>\n",
       "  </tbody>\n",
       "</table>\n",
       "<p>71525 rows × 4 columns</p>\n",
       "</div>"
      ],
      "text/plain": [
       "                                                    text  label  \\\n",
       "0      LAW ENFORCEMENT ON HIGH ALERT Following Threat...      1   \n",
       "1      UNBELIEVABLE! OBAMA’S ATTORNEY GENERAL SAYS MO...      1   \n",
       "2      Bobby Jindal, raised Hindu, uses story of Chri...      0   \n",
       "3      SATAN 2: Russia unvelis an image of its terrif...      1   \n",
       "4      About Time! Christian Group Sues Amazon and SP...      1   \n",
       "...                                                  ...    ...   \n",
       "71532  Russians steal research on Trump in hack of U....      0   \n",
       "71533   WATCH: Giuliani Demands That Democrats Apolog...      1   \n",
       "71534  Migrants Refuse To Leave Train At Refugee Camp...      0   \n",
       "71535  Trump tussle gives unpopular Mexican leader mu...      0   \n",
       "71536  Goldman Sachs Endorses Hillary Clinton For Pre...      1   \n",
       "\n",
       "                                              text_clean  empty_cell_text  \n",
       "0      law enforcement on high alert following threat...            False  \n",
       "1      unbelievable obama s attorney general says mos...            False  \n",
       "2      bobby jindal raised hindu uses story of christ...            False  \n",
       "3      satan 2 russia unvelis an image of its terrify...            False  \n",
       "4      about time christian group sues amazon and spl...            False  \n",
       "...                                                  ...              ...  \n",
       "71532  russians steal research on trump in hack of u ...            False  \n",
       "71533  watch giuliani demands that democrats apologiz...            False  \n",
       "71534  migrants refuse to leave train at refugee camp...            False  \n",
       "71535  trump tussle gives unpopular mexican leader mu...            False  \n",
       "71536  goldman sachs endorses hillary clinton for pre...            False  \n",
       "\n",
       "[71525 rows x 4 columns]"
      ]
     },
     "execution_count": 19,
     "metadata": {},
     "output_type": "execute_result"
    }
   ],
   "source": [
    "df.drop(df.loc[df[\"empty_cell_text\"]].index, inplace=True)\n",
    "df"
   ]
  },
  {
   "cell_type": "code",
   "execution_count": 20,
   "id": "5919917e",
   "metadata": {
    "id": "5919917e"
   },
   "outputs": [],
   "source": [
    "df.reset_index(drop=True, inplace=True)\n",
    "df.drop(columns=[\"empty_cell_text\"], inplace=True)"
   ]
  },
  {
   "cell_type": "code",
   "execution_count": 21,
   "id": "0a46e769",
   "metadata": {
    "id": "0a46e769",
    "outputId": "83d7893b-6e7a-468d-8977-e9b9373ab2af"
   },
   "outputs": [
    {
     "data": {
      "text/html": [
       "<div>\n",
       "<style scoped>\n",
       "    .dataframe tbody tr th:only-of-type {\n",
       "        vertical-align: middle;\n",
       "    }\n",
       "\n",
       "    .dataframe tbody tr th {\n",
       "        vertical-align: top;\n",
       "    }\n",
       "\n",
       "    .dataframe thead th {\n",
       "        text-align: right;\n",
       "    }\n",
       "</style>\n",
       "<table border=\"1\" class=\"dataframe\">\n",
       "  <thead>\n",
       "    <tr style=\"text-align: right;\">\n",
       "      <th></th>\n",
       "      <th>text</th>\n",
       "      <th>label</th>\n",
       "      <th>text_clean</th>\n",
       "    </tr>\n",
       "  </thead>\n",
       "  <tbody>\n",
       "    <tr>\n",
       "      <th>0</th>\n",
       "      <td>LAW ENFORCEMENT ON HIGH ALERT Following Threat...</td>\n",
       "      <td>1</td>\n",
       "      <td>law enforcement on high alert following threat...</td>\n",
       "    </tr>\n",
       "    <tr>\n",
       "      <th>1</th>\n",
       "      <td>UNBELIEVABLE! OBAMA’S ATTORNEY GENERAL SAYS MO...</td>\n",
       "      <td>1</td>\n",
       "      <td>unbelievable obama s attorney general says mos...</td>\n",
       "    </tr>\n",
       "    <tr>\n",
       "      <th>2</th>\n",
       "      <td>Bobby Jindal, raised Hindu, uses story of Chri...</td>\n",
       "      <td>0</td>\n",
       "      <td>bobby jindal raised hindu uses story of christ...</td>\n",
       "    </tr>\n",
       "    <tr>\n",
       "      <th>3</th>\n",
       "      <td>SATAN 2: Russia unvelis an image of its terrif...</td>\n",
       "      <td>1</td>\n",
       "      <td>satan 2 russia unvelis an image of its terrify...</td>\n",
       "    </tr>\n",
       "    <tr>\n",
       "      <th>4</th>\n",
       "      <td>About Time! Christian Group Sues Amazon and SP...</td>\n",
       "      <td>1</td>\n",
       "      <td>about time christian group sues amazon and spl...</td>\n",
       "    </tr>\n",
       "    <tr>\n",
       "      <th>...</th>\n",
       "      <td>...</td>\n",
       "      <td>...</td>\n",
       "      <td>...</td>\n",
       "    </tr>\n",
       "    <tr>\n",
       "      <th>71520</th>\n",
       "      <td>Russians steal research on Trump in hack of U....</td>\n",
       "      <td>0</td>\n",
       "      <td>russians steal research on trump in hack of u ...</td>\n",
       "    </tr>\n",
       "    <tr>\n",
       "      <th>71521</th>\n",
       "      <td>WATCH: Giuliani Demands That Democrats Apolog...</td>\n",
       "      <td>1</td>\n",
       "      <td>watch giuliani demands that democrats apologiz...</td>\n",
       "    </tr>\n",
       "    <tr>\n",
       "      <th>71522</th>\n",
       "      <td>Migrants Refuse To Leave Train At Refugee Camp...</td>\n",
       "      <td>0</td>\n",
       "      <td>migrants refuse to leave train at refugee camp...</td>\n",
       "    </tr>\n",
       "    <tr>\n",
       "      <th>71523</th>\n",
       "      <td>Trump tussle gives unpopular Mexican leader mu...</td>\n",
       "      <td>0</td>\n",
       "      <td>trump tussle gives unpopular mexican leader mu...</td>\n",
       "    </tr>\n",
       "    <tr>\n",
       "      <th>71524</th>\n",
       "      <td>Goldman Sachs Endorses Hillary Clinton For Pre...</td>\n",
       "      <td>1</td>\n",
       "      <td>goldman sachs endorses hillary clinton for pre...</td>\n",
       "    </tr>\n",
       "  </tbody>\n",
       "</table>\n",
       "<p>71525 rows × 3 columns</p>\n",
       "</div>"
      ],
      "text/plain": [
       "                                                    text  label  \\\n",
       "0      LAW ENFORCEMENT ON HIGH ALERT Following Threat...      1   \n",
       "1      UNBELIEVABLE! OBAMA’S ATTORNEY GENERAL SAYS MO...      1   \n",
       "2      Bobby Jindal, raised Hindu, uses story of Chri...      0   \n",
       "3      SATAN 2: Russia unvelis an image of its terrif...      1   \n",
       "4      About Time! Christian Group Sues Amazon and SP...      1   \n",
       "...                                                  ...    ...   \n",
       "71520  Russians steal research on Trump in hack of U....      0   \n",
       "71521   WATCH: Giuliani Demands That Democrats Apolog...      1   \n",
       "71522  Migrants Refuse To Leave Train At Refugee Camp...      0   \n",
       "71523  Trump tussle gives unpopular Mexican leader mu...      0   \n",
       "71524  Goldman Sachs Endorses Hillary Clinton For Pre...      1   \n",
       "\n",
       "                                              text_clean  \n",
       "0      law enforcement on high alert following threat...  \n",
       "1      unbelievable obama s attorney general says mos...  \n",
       "2      bobby jindal raised hindu uses story of christ...  \n",
       "3      satan 2 russia unvelis an image of its terrify...  \n",
       "4      about time christian group sues amazon and spl...  \n",
       "...                                                  ...  \n",
       "71520  russians steal research on trump in hack of u ...  \n",
       "71521  watch giuliani demands that democrats apologiz...  \n",
       "71522  migrants refuse to leave train at refugee camp...  \n",
       "71523  trump tussle gives unpopular mexican leader mu...  \n",
       "71524  goldman sachs endorses hillary clinton for pre...  \n",
       "\n",
       "[71525 rows x 3 columns]"
      ]
     },
     "execution_count": 21,
     "metadata": {},
     "output_type": "execute_result"
    }
   ],
   "source": [
    "df"
   ]
  },
  {
   "cell_type": "markdown",
   "id": "34c04487",
   "metadata": {
    "id": "34c04487"
   },
   "source": [
    "### Language detection"
   ]
  },
  {
   "cell_type": "code",
   "execution_count": 22,
   "id": "425677e1",
   "metadata": {
    "id": "425677e1"
   },
   "outputs": [],
   "source": [
    "def detect_lang(text):\n",
    "    _, _, _, detected_language = cld2.detect(text, returnVectors=True)\n",
    "    return str(detected_language)"
   ]
  },
  {
   "cell_type": "code",
   "execution_count": 23,
   "id": "45128b57",
   "metadata": {
    "id": "45128b57"
   },
   "outputs": [],
   "source": [
    "df['text_lang'] = df['text_clean'].map(detect_lang)"
   ]
  },
  {
   "cell_type": "code",
   "execution_count": 24,
   "id": "01b4579d",
   "metadata": {
    "id": "01b4579d",
    "outputId": "4fe96107-f34b-4763-921e-7e63e5f8d49f",
    "scrolled": true
   },
   "outputs": [
    {
     "data": {
      "text/plain": [
       "0        ((0, 4965, 'ENGLISH', 'en'),)\n",
       "1         ((0, 343, 'ENGLISH', 'en'),)\n",
       "2        ((0, 7896, 'ENGLISH', 'en'),)\n",
       "3        ((0, 1970, 'ENGLISH', 'en'),)\n",
       "4        ((0, 1561, 'ENGLISH', 'en'),)\n",
       "                     ...              \n",
       "71520    ((0, 4727, 'ENGLISH', 'en'),)\n",
       "71521    ((0, 3673, 'ENGLISH', 'en'),)\n",
       "71522    ((0, 2836, 'ENGLISH', 'en'),)\n",
       "71523    ((0, 3356, 'ENGLISH', 'en'),)\n",
       "71524    ((0, 2681, 'ENGLISH', 'en'),)\n",
       "Name: text_lang, Length: 71525, dtype: object"
      ]
     },
     "execution_count": 24,
     "metadata": {},
     "output_type": "execute_result"
    }
   ],
   "source": [
    "df['text_lang'].astype(str)"
   ]
  },
  {
   "cell_type": "code",
   "execution_count": 25,
   "id": "4e3fc81f",
   "metadata": {
    "id": "4e3fc81f"
   },
   "outputs": [],
   "source": [
    "df['text_lang'] = ~df[\"text_lang\"].str.contains('ENGLISH|Unknown', regex=True)"
   ]
  },
  {
   "cell_type": "code",
   "execution_count": 26,
   "id": "9e15e0f2",
   "metadata": {
    "id": "9e15e0f2",
    "outputId": "5aa2b2ff-b7dd-48d6-935b-3f7d55f55ad5"
   },
   "outputs": [
    {
     "data": {
      "text/html": [
       "<div>\n",
       "<style scoped>\n",
       "    .dataframe tbody tr th:only-of-type {\n",
       "        vertical-align: middle;\n",
       "    }\n",
       "\n",
       "    .dataframe tbody tr th {\n",
       "        vertical-align: top;\n",
       "    }\n",
       "\n",
       "    .dataframe thead th {\n",
       "        text-align: right;\n",
       "    }\n",
       "</style>\n",
       "<table border=\"1\" class=\"dataframe\">\n",
       "  <thead>\n",
       "    <tr style=\"text-align: right;\">\n",
       "      <th></th>\n",
       "      <th>text</th>\n",
       "      <th>label</th>\n",
       "      <th>text_clean</th>\n",
       "      <th>text_lang</th>\n",
       "    </tr>\n",
       "  </thead>\n",
       "  <tbody>\n",
       "    <tr>\n",
       "      <th>0</th>\n",
       "      <td>LAW ENFORCEMENT ON HIGH ALERT Following Threat...</td>\n",
       "      <td>1</td>\n",
       "      <td>law enforcement on high alert following threat...</td>\n",
       "      <td>False</td>\n",
       "    </tr>\n",
       "    <tr>\n",
       "      <th>1</th>\n",
       "      <td>UNBELIEVABLE! OBAMA’S ATTORNEY GENERAL SAYS MO...</td>\n",
       "      <td>1</td>\n",
       "      <td>unbelievable obama s attorney general says mos...</td>\n",
       "      <td>False</td>\n",
       "    </tr>\n",
       "    <tr>\n",
       "      <th>2</th>\n",
       "      <td>Bobby Jindal, raised Hindu, uses story of Chri...</td>\n",
       "      <td>0</td>\n",
       "      <td>bobby jindal raised hindu uses story of christ...</td>\n",
       "      <td>False</td>\n",
       "    </tr>\n",
       "    <tr>\n",
       "      <th>3</th>\n",
       "      <td>SATAN 2: Russia unvelis an image of its terrif...</td>\n",
       "      <td>1</td>\n",
       "      <td>satan 2 russia unvelis an image of its terrify...</td>\n",
       "      <td>False</td>\n",
       "    </tr>\n",
       "    <tr>\n",
       "      <th>4</th>\n",
       "      <td>About Time! Christian Group Sues Amazon and SP...</td>\n",
       "      <td>1</td>\n",
       "      <td>about time christian group sues amazon and spl...</td>\n",
       "      <td>False</td>\n",
       "    </tr>\n",
       "    <tr>\n",
       "      <th>...</th>\n",
       "      <td>...</td>\n",
       "      <td>...</td>\n",
       "      <td>...</td>\n",
       "      <td>...</td>\n",
       "    </tr>\n",
       "    <tr>\n",
       "      <th>71520</th>\n",
       "      <td>Russians steal research on Trump in hack of U....</td>\n",
       "      <td>0</td>\n",
       "      <td>russians steal research on trump in hack of u ...</td>\n",
       "      <td>False</td>\n",
       "    </tr>\n",
       "    <tr>\n",
       "      <th>71521</th>\n",
       "      <td>WATCH: Giuliani Demands That Democrats Apolog...</td>\n",
       "      <td>1</td>\n",
       "      <td>watch giuliani demands that democrats apologiz...</td>\n",
       "      <td>False</td>\n",
       "    </tr>\n",
       "    <tr>\n",
       "      <th>71522</th>\n",
       "      <td>Migrants Refuse To Leave Train At Refugee Camp...</td>\n",
       "      <td>0</td>\n",
       "      <td>migrants refuse to leave train at refugee camp...</td>\n",
       "      <td>False</td>\n",
       "    </tr>\n",
       "    <tr>\n",
       "      <th>71523</th>\n",
       "      <td>Trump tussle gives unpopular Mexican leader mu...</td>\n",
       "      <td>0</td>\n",
       "      <td>trump tussle gives unpopular mexican leader mu...</td>\n",
       "      <td>False</td>\n",
       "    </tr>\n",
       "    <tr>\n",
       "      <th>71524</th>\n",
       "      <td>Goldman Sachs Endorses Hillary Clinton For Pre...</td>\n",
       "      <td>1</td>\n",
       "      <td>goldman sachs endorses hillary clinton for pre...</td>\n",
       "      <td>False</td>\n",
       "    </tr>\n",
       "  </tbody>\n",
       "</table>\n",
       "<p>71525 rows × 4 columns</p>\n",
       "</div>"
      ],
      "text/plain": [
       "                                                    text  label  \\\n",
       "0      LAW ENFORCEMENT ON HIGH ALERT Following Threat...      1   \n",
       "1      UNBELIEVABLE! OBAMA’S ATTORNEY GENERAL SAYS MO...      1   \n",
       "2      Bobby Jindal, raised Hindu, uses story of Chri...      0   \n",
       "3      SATAN 2: Russia unvelis an image of its terrif...      1   \n",
       "4      About Time! Christian Group Sues Amazon and SP...      1   \n",
       "...                                                  ...    ...   \n",
       "71520  Russians steal research on Trump in hack of U....      0   \n",
       "71521   WATCH: Giuliani Demands That Democrats Apolog...      1   \n",
       "71522  Migrants Refuse To Leave Train At Refugee Camp...      0   \n",
       "71523  Trump tussle gives unpopular Mexican leader mu...      0   \n",
       "71524  Goldman Sachs Endorses Hillary Clinton For Pre...      1   \n",
       "\n",
       "                                              text_clean  text_lang  \n",
       "0      law enforcement on high alert following threat...      False  \n",
       "1      unbelievable obama s attorney general says mos...      False  \n",
       "2      bobby jindal raised hindu uses story of christ...      False  \n",
       "3      satan 2 russia unvelis an image of its terrify...      False  \n",
       "4      about time christian group sues amazon and spl...      False  \n",
       "...                                                  ...        ...  \n",
       "71520  russians steal research on trump in hack of u ...      False  \n",
       "71521  watch giuliani demands that democrats apologiz...      False  \n",
       "71522  migrants refuse to leave train at refugee camp...      False  \n",
       "71523  trump tussle gives unpopular mexican leader mu...      False  \n",
       "71524  goldman sachs endorses hillary clinton for pre...      False  \n",
       "\n",
       "[71525 rows x 4 columns]"
      ]
     },
     "execution_count": 26,
     "metadata": {},
     "output_type": "execute_result"
    }
   ],
   "source": [
    "df"
   ]
  },
  {
   "cell_type": "code",
   "execution_count": 27,
   "id": "0d158929",
   "metadata": {
    "id": "0d158929"
   },
   "outputs": [],
   "source": [
    "df.drop(df.loc[df[\"text_lang\" ]].index, inplace=True)"
   ]
  },
  {
   "cell_type": "code",
   "execution_count": 28,
   "id": "49241ac9",
   "metadata": {
    "id": "49241ac9",
    "outputId": "30716475-7206-4bd7-9cd3-e42fa588ecb8"
   },
   "outputs": [
    {
     "data": {
      "text/html": [
       "<div>\n",
       "<style scoped>\n",
       "    .dataframe tbody tr th:only-of-type {\n",
       "        vertical-align: middle;\n",
       "    }\n",
       "\n",
       "    .dataframe tbody tr th {\n",
       "        vertical-align: top;\n",
       "    }\n",
       "\n",
       "    .dataframe thead th {\n",
       "        text-align: right;\n",
       "    }\n",
       "</style>\n",
       "<table border=\"1\" class=\"dataframe\">\n",
       "  <thead>\n",
       "    <tr style=\"text-align: right;\">\n",
       "      <th></th>\n",
       "      <th>text</th>\n",
       "      <th>label</th>\n",
       "      <th>text_clean</th>\n",
       "      <th>text_lang</th>\n",
       "    </tr>\n",
       "  </thead>\n",
       "  <tbody>\n",
       "    <tr>\n",
       "      <th>0</th>\n",
       "      <td>LAW ENFORCEMENT ON HIGH ALERT Following Threat...</td>\n",
       "      <td>1</td>\n",
       "      <td>law enforcement on high alert following threat...</td>\n",
       "      <td>False</td>\n",
       "    </tr>\n",
       "    <tr>\n",
       "      <th>1</th>\n",
       "      <td>UNBELIEVABLE! OBAMA’S ATTORNEY GENERAL SAYS MO...</td>\n",
       "      <td>1</td>\n",
       "      <td>unbelievable obama s attorney general says mos...</td>\n",
       "      <td>False</td>\n",
       "    </tr>\n",
       "    <tr>\n",
       "      <th>2</th>\n",
       "      <td>Bobby Jindal, raised Hindu, uses story of Chri...</td>\n",
       "      <td>0</td>\n",
       "      <td>bobby jindal raised hindu uses story of christ...</td>\n",
       "      <td>False</td>\n",
       "    </tr>\n",
       "    <tr>\n",
       "      <th>3</th>\n",
       "      <td>SATAN 2: Russia unvelis an image of its terrif...</td>\n",
       "      <td>1</td>\n",
       "      <td>satan 2 russia unvelis an image of its terrify...</td>\n",
       "      <td>False</td>\n",
       "    </tr>\n",
       "    <tr>\n",
       "      <th>4</th>\n",
       "      <td>About Time! Christian Group Sues Amazon and SP...</td>\n",
       "      <td>1</td>\n",
       "      <td>about time christian group sues amazon and spl...</td>\n",
       "      <td>False</td>\n",
       "    </tr>\n",
       "    <tr>\n",
       "      <th>...</th>\n",
       "      <td>...</td>\n",
       "      <td>...</td>\n",
       "      <td>...</td>\n",
       "      <td>...</td>\n",
       "    </tr>\n",
       "    <tr>\n",
       "      <th>71520</th>\n",
       "      <td>Russians steal research on Trump in hack of U....</td>\n",
       "      <td>0</td>\n",
       "      <td>russians steal research on trump in hack of u ...</td>\n",
       "      <td>False</td>\n",
       "    </tr>\n",
       "    <tr>\n",
       "      <th>71521</th>\n",
       "      <td>WATCH: Giuliani Demands That Democrats Apolog...</td>\n",
       "      <td>1</td>\n",
       "      <td>watch giuliani demands that democrats apologiz...</td>\n",
       "      <td>False</td>\n",
       "    </tr>\n",
       "    <tr>\n",
       "      <th>71522</th>\n",
       "      <td>Migrants Refuse To Leave Train At Refugee Camp...</td>\n",
       "      <td>0</td>\n",
       "      <td>migrants refuse to leave train at refugee camp...</td>\n",
       "      <td>False</td>\n",
       "    </tr>\n",
       "    <tr>\n",
       "      <th>71523</th>\n",
       "      <td>Trump tussle gives unpopular Mexican leader mu...</td>\n",
       "      <td>0</td>\n",
       "      <td>trump tussle gives unpopular mexican leader mu...</td>\n",
       "      <td>False</td>\n",
       "    </tr>\n",
       "    <tr>\n",
       "      <th>71524</th>\n",
       "      <td>Goldman Sachs Endorses Hillary Clinton For Pre...</td>\n",
       "      <td>1</td>\n",
       "      <td>goldman sachs endorses hillary clinton for pre...</td>\n",
       "      <td>False</td>\n",
       "    </tr>\n",
       "  </tbody>\n",
       "</table>\n",
       "<p>71425 rows × 4 columns</p>\n",
       "</div>"
      ],
      "text/plain": [
       "                                                    text  label  \\\n",
       "0      LAW ENFORCEMENT ON HIGH ALERT Following Threat...      1   \n",
       "1      UNBELIEVABLE! OBAMA’S ATTORNEY GENERAL SAYS MO...      1   \n",
       "2      Bobby Jindal, raised Hindu, uses story of Chri...      0   \n",
       "3      SATAN 2: Russia unvelis an image of its terrif...      1   \n",
       "4      About Time! Christian Group Sues Amazon and SP...      1   \n",
       "...                                                  ...    ...   \n",
       "71520  Russians steal research on Trump in hack of U....      0   \n",
       "71521   WATCH: Giuliani Demands That Democrats Apolog...      1   \n",
       "71522  Migrants Refuse To Leave Train At Refugee Camp...      0   \n",
       "71523  Trump tussle gives unpopular Mexican leader mu...      0   \n",
       "71524  Goldman Sachs Endorses Hillary Clinton For Pre...      1   \n",
       "\n",
       "                                              text_clean  text_lang  \n",
       "0      law enforcement on high alert following threat...      False  \n",
       "1      unbelievable obama s attorney general says mos...      False  \n",
       "2      bobby jindal raised hindu uses story of christ...      False  \n",
       "3      satan 2 russia unvelis an image of its terrify...      False  \n",
       "4      about time christian group sues amazon and spl...      False  \n",
       "...                                                  ...        ...  \n",
       "71520  russians steal research on trump in hack of u ...      False  \n",
       "71521  watch giuliani demands that democrats apologiz...      False  \n",
       "71522  migrants refuse to leave train at refugee camp...      False  \n",
       "71523  trump tussle gives unpopular mexican leader mu...      False  \n",
       "71524  goldman sachs endorses hillary clinton for pre...      False  \n",
       "\n",
       "[71425 rows x 4 columns]"
      ]
     },
     "execution_count": 28,
     "metadata": {},
     "output_type": "execute_result"
    }
   ],
   "source": [
    "df"
   ]
  },
  {
   "cell_type": "code",
   "execution_count": 29,
   "id": "b0343ae0",
   "metadata": {
    "id": "b0343ae0"
   },
   "outputs": [],
   "source": [
    "df.reset_index(drop=True, inplace=True)"
   ]
  },
  {
   "cell_type": "code",
   "execution_count": 30,
   "id": "e9139d59",
   "metadata": {
    "id": "e9139d59",
    "outputId": "a7cee69a-6262-47f8-e283-a4461b6c8f0b"
   },
   "outputs": [
    {
     "data": {
      "text/html": [
       "<div>\n",
       "<style scoped>\n",
       "    .dataframe tbody tr th:only-of-type {\n",
       "        vertical-align: middle;\n",
       "    }\n",
       "\n",
       "    .dataframe tbody tr th {\n",
       "        vertical-align: top;\n",
       "    }\n",
       "\n",
       "    .dataframe thead th {\n",
       "        text-align: right;\n",
       "    }\n",
       "</style>\n",
       "<table border=\"1\" class=\"dataframe\">\n",
       "  <thead>\n",
       "    <tr style=\"text-align: right;\">\n",
       "      <th></th>\n",
       "      <th>text</th>\n",
       "      <th>label</th>\n",
       "      <th>text_clean</th>\n",
       "      <th>text_lang</th>\n",
       "    </tr>\n",
       "  </thead>\n",
       "  <tbody>\n",
       "    <tr>\n",
       "      <th>0</th>\n",
       "      <td>LAW ENFORCEMENT ON HIGH ALERT Following Threat...</td>\n",
       "      <td>1</td>\n",
       "      <td>law enforcement on high alert following threat...</td>\n",
       "      <td>False</td>\n",
       "    </tr>\n",
       "    <tr>\n",
       "      <th>1</th>\n",
       "      <td>UNBELIEVABLE! OBAMA’S ATTORNEY GENERAL SAYS MO...</td>\n",
       "      <td>1</td>\n",
       "      <td>unbelievable obama s attorney general says mos...</td>\n",
       "      <td>False</td>\n",
       "    </tr>\n",
       "    <tr>\n",
       "      <th>2</th>\n",
       "      <td>Bobby Jindal, raised Hindu, uses story of Chri...</td>\n",
       "      <td>0</td>\n",
       "      <td>bobby jindal raised hindu uses story of christ...</td>\n",
       "      <td>False</td>\n",
       "    </tr>\n",
       "    <tr>\n",
       "      <th>3</th>\n",
       "      <td>SATAN 2: Russia unvelis an image of its terrif...</td>\n",
       "      <td>1</td>\n",
       "      <td>satan 2 russia unvelis an image of its terrify...</td>\n",
       "      <td>False</td>\n",
       "    </tr>\n",
       "    <tr>\n",
       "      <th>4</th>\n",
       "      <td>About Time! Christian Group Sues Amazon and SP...</td>\n",
       "      <td>1</td>\n",
       "      <td>about time christian group sues amazon and spl...</td>\n",
       "      <td>False</td>\n",
       "    </tr>\n",
       "    <tr>\n",
       "      <th>5</th>\n",
       "      <td>DR BEN CARSON TARGETED BY THE IRS: “I never ha...</td>\n",
       "      <td>1</td>\n",
       "      <td>dr ben carson targeted by the irs i never had ...</td>\n",
       "      <td>False</td>\n",
       "    </tr>\n",
       "    <tr>\n",
       "      <th>6</th>\n",
       "      <td>HOUSE INTEL CHAIR On Trump-Russia Fake Story: ...</td>\n",
       "      <td>1</td>\n",
       "      <td>house intel chair on trump russia fake story n...</td>\n",
       "      <td>False</td>\n",
       "    </tr>\n",
       "    <tr>\n",
       "      <th>7</th>\n",
       "      <td>Sports Bar Owner Bans NFL Games…Will Show Only...</td>\n",
       "      <td>1</td>\n",
       "      <td>sports bar owner bans nfl games will show only...</td>\n",
       "      <td>False</td>\n",
       "    </tr>\n",
       "    <tr>\n",
       "      <th>8</th>\n",
       "      <td>Latest Pipeline Leak Underscores Dangers Of Da...</td>\n",
       "      <td>1</td>\n",
       "      <td>latest pipeline leak underscores dangers of da...</td>\n",
       "      <td>False</td>\n",
       "    </tr>\n",
       "    <tr>\n",
       "      <th>9</th>\n",
       "      <td>GOP Senator Just Smacked Down The Most Puncha...</td>\n",
       "      <td>1</td>\n",
       "      <td>gop senator just smacked down the most punchab...</td>\n",
       "      <td>False</td>\n",
       "    </tr>\n",
       "    <tr>\n",
       "      <th>10</th>\n",
       "      <td>May Brexit offer would hurt, cost EU citizens ...</td>\n",
       "      <td>0</td>\n",
       "      <td>may brexit offer would hurt cost eu citizens e...</td>\n",
       "      <td>False</td>\n",
       "    </tr>\n",
       "    <tr>\n",
       "      <th>11</th>\n",
       "      <td>Schumer calls on Trump to appoint official to ...</td>\n",
       "      <td>0</td>\n",
       "      <td>schumer calls on trump to appoint official to ...</td>\n",
       "      <td>False</td>\n",
       "    </tr>\n",
       "    <tr>\n",
       "      <th>12</th>\n",
       "      <td>WATCH: HILARIOUS AD Calls Into Question Health...</td>\n",
       "      <td>1</td>\n",
       "      <td>watch hilarious ad calls into question health ...</td>\n",
       "      <td>False</td>\n",
       "    </tr>\n",
       "    <tr>\n",
       "      <th>13</th>\n",
       "      <td>No Change Expected for ESPN Political Agenda D...</td>\n",
       "      <td>0</td>\n",
       "      <td>no change expected for espn political agenda d...</td>\n",
       "      <td>False</td>\n",
       "    </tr>\n",
       "    <tr>\n",
       "      <th>14</th>\n",
       "      <td>Billionaire Odebrecht in Brazil scandal releas...</td>\n",
       "      <td>0</td>\n",
       "      <td>billionaire odebrecht in brazil scandal releas...</td>\n",
       "      <td>False</td>\n",
       "    </tr>\n",
       "    <tr>\n",
       "      <th>15</th>\n",
       "      <td>BRITISH WOMAN LOSES VIRGINITY To Asylum Seekin...</td>\n",
       "      <td>1</td>\n",
       "      <td>british woman loses virginity to asylum seekin...</td>\n",
       "      <td>False</td>\n",
       "    </tr>\n",
       "    <tr>\n",
       "      <th>16</th>\n",
       "      <td>U.N. seeks humanitarian pause in Sanaa where s...</td>\n",
       "      <td>0</td>\n",
       "      <td>u n seeks humanitarian pause in sanaa where st...</td>\n",
       "      <td>False</td>\n",
       "    </tr>\n",
       "    <tr>\n",
       "      <th>17</th>\n",
       "      <td>MAJOR LIBERAL RAG RELUCTANTLY PUBLISHES Articl...</td>\n",
       "      <td>1</td>\n",
       "      <td>major liberal rag reluctantly publishes articl...</td>\n",
       "      <td>False</td>\n",
       "    </tr>\n",
       "    <tr>\n",
       "      <th>18</th>\n",
       "      <td>Second judge says Clinton email setup may have...</td>\n",
       "      <td>0</td>\n",
       "      <td>second judge says clinton email setup may have...</td>\n",
       "      <td>False</td>\n",
       "    </tr>\n",
       "    <tr>\n",
       "      <th>19</th>\n",
       "      <td>America gives Grand Piano to horse Wednesday 9...</td>\n",
       "      <td>1</td>\n",
       "      <td>america gives grand piano to horse wednesday 9...</td>\n",
       "      <td>False</td>\n",
       "    </tr>\n",
       "    <tr>\n",
       "      <th>20</th>\n",
       "      <td>Hillary’s crime family: End of days for the U....</td>\n",
       "      <td>1</td>\n",
       "      <td>hillary s crime family end of days for the u s...</td>\n",
       "      <td>False</td>\n",
       "    </tr>\n",
       "    <tr>\n",
       "      <th>21</th>\n",
       "      <td>Sean Spicer Baffles Reporters, Claims Trump I...</td>\n",
       "      <td>1</td>\n",
       "      <td>sean spicer baffles reporters claims trump isn...</td>\n",
       "      <td>False</td>\n",
       "    </tr>\n",
       "    <tr>\n",
       "      <th>22</th>\n",
       "      <td>UNHOLY ALLIANCE: Hillary Clinton’s Saudi Spons...</td>\n",
       "      <td>1</td>\n",
       "      <td>unholy alliance hillary clinton s saudi sponso...</td>\n",
       "      <td>False</td>\n",
       "    </tr>\n",
       "    <tr>\n",
       "      <th>23</th>\n",
       "      <td>Even Trump’s Best Friend Joe Scarborough Can’...</td>\n",
       "      <td>1</td>\n",
       "      <td>even trump s best friend joe scarborough can t...</td>\n",
       "      <td>False</td>\n",
       "    </tr>\n",
       "    <tr>\n",
       "      <th>24</th>\n",
       "      <td>BOOM! Danish Government Considers Seizing Migr...</td>\n",
       "      <td>1</td>\n",
       "      <td>boom danish government considers seizing migra...</td>\n",
       "      <td>False</td>\n",
       "    </tr>\n",
       "    <tr>\n",
       "      <th>25</th>\n",
       "      <td>Supreme Court Won’t Hear Appeal From Texas on ...</td>\n",
       "      <td>0</td>\n",
       "      <td>supreme court won t hear appeal from texas on ...</td>\n",
       "      <td>False</td>\n",
       "    </tr>\n",
       "    <tr>\n",
       "      <th>26</th>\n",
       "      <td>Islamic State driven out of last stronghold in...</td>\n",
       "      <td>0</td>\n",
       "      <td>islamic state driven out of last stronghold in...</td>\n",
       "      <td>False</td>\n",
       "    </tr>\n",
       "    <tr>\n",
       "      <th>27</th>\n",
       "      <td>Senators Propose Giving States Option to Keep ...</td>\n",
       "      <td>0</td>\n",
       "      <td>senators propose giving states option to keep ...</td>\n",
       "      <td>False</td>\n",
       "    </tr>\n",
       "    <tr>\n",
       "      <th>28</th>\n",
       "      <td>Do You Belong To An Extraterrestrial Lineage? ...</td>\n",
       "      <td>1</td>\n",
       "      <td>do you belong to an extraterrestrial lineage a...</td>\n",
       "      <td>False</td>\n",
       "    </tr>\n",
       "    <tr>\n",
       "      <th>29</th>\n",
       "      <td>Zimbabwe's Mugabe appears in public for first ...</td>\n",
       "      <td>0</td>\n",
       "      <td>zimbabwe s mugabe appears in public for first ...</td>\n",
       "      <td>False</td>\n",
       "    </tr>\n",
       "    <tr>\n",
       "      <th>30</th>\n",
       "      <td>Credit Suisse Boss Faces Revolt From Bankers O...</td>\n",
       "      <td>0</td>\n",
       "      <td>credit suisse boss faces revolt from bankers o...</td>\n",
       "      <td>False</td>\n",
       "    </tr>\n",
       "    <tr>\n",
       "      <th>31</th>\n",
       "      <td>THE ROBBING OF INNOCENCE: 12 Yr Old Students G...</td>\n",
       "      <td>1</td>\n",
       "      <td>the robbing of innocence 12 yr old students gi...</td>\n",
       "      <td>False</td>\n",
       "    </tr>\n",
       "    <tr>\n",
       "      <th>32</th>\n",
       "      <td>Schaeuble to head German parliament, unblockin...</td>\n",
       "      <td>0</td>\n",
       "      <td>schaeuble to head german parliament unblocking...</td>\n",
       "      <td>False</td>\n",
       "    </tr>\n",
       "    <tr>\n",
       "      <th>33</th>\n",
       "      <td>At U.S.-China summit, Trump presses Xi on trad...</td>\n",
       "      <td>0</td>\n",
       "      <td>at u s china summit trump presses xi on trade ...</td>\n",
       "      <td>False</td>\n",
       "    </tr>\n",
       "    <tr>\n",
       "      <th>34</th>\n",
       "      <td>Clinton extends lead over Trump to 7 points: R...</td>\n",
       "      <td>0</td>\n",
       "      <td>clinton extends lead over trump to 7 points re...</td>\n",
       "      <td>False</td>\n",
       "    </tr>\n",
       "    <tr>\n",
       "      <th>35</th>\n",
       "      <td>JOE BIDEN’S SHOCKING ANNOUNCEMENT: “What the h...</td>\n",
       "      <td>1</td>\n",
       "      <td>joe biden s shocking announcement what the hel...</td>\n",
       "      <td>False</td>\n",
       "    </tr>\n",
       "    <tr>\n",
       "      <th>36</th>\n",
       "      <td>Comment une petite fille russe de 4 ans a appr...</td>\n",
       "      <td>1</td>\n",
       "      <td>comment une petite fille russe de 4 ans a appr...</td>\n",
       "      <td>False</td>\n",
       "    </tr>\n",
       "    <tr>\n",
       "      <th>37</th>\n",
       "      <td>Emboldened NRA Threatens New York Times: ‘We’...</td>\n",
       "      <td>1</td>\n",
       "      <td>emboldened nra threatens new york times we re ...</td>\n",
       "      <td>False</td>\n",
       "    </tr>\n",
       "    <tr>\n",
       "      <th>38</th>\n",
       "      <td>Noam Chomsky GOES OFF On Donald Trump: ‘He’s ...</td>\n",
       "      <td>1</td>\n",
       "      <td>noam chomsky goes off on donald trump he s a c...</td>\n",
       "      <td>False</td>\n",
       "    </tr>\n",
       "    <tr>\n",
       "      <th>39</th>\n",
       "      <td>5 Ways The Media Responded With Butthurt To Do...</td>\n",
       "      <td>1</td>\n",
       "      <td>5 ways the media responded with butthurt to do...</td>\n",
       "      <td>False</td>\n",
       "    </tr>\n",
       "    <tr>\n",
       "      <th>40</th>\n",
       "      <td>Iran, Russia and Turkey Agree to Enforce Syria...</td>\n",
       "      <td>0</td>\n",
       "      <td>iran russia and turkey agree to enforce syria ...</td>\n",
       "      <td>False</td>\n",
       "    </tr>\n",
       "    <tr>\n",
       "      <th>41</th>\n",
       "      <td>BREAKING: OBAMA POISED To Exact Revenge On PUT...</td>\n",
       "      <td>1</td>\n",
       "      <td>breaking obama poised to exact revenge on puti...</td>\n",
       "      <td>False</td>\n",
       "    </tr>\n",
       "    <tr>\n",
       "      <th>42</th>\n",
       "      <td>Trump says Brexit to be 'a great thing', wants...</td>\n",
       "      <td>0</td>\n",
       "      <td>trump says brexit to be a great thing wants qu...</td>\n",
       "      <td>False</td>\n",
       "    </tr>\n",
       "    <tr>\n",
       "      <th>43</th>\n",
       "      <td>Sekulow: Expect ‘Whining Testimony’ from Comey...</td>\n",
       "      <td>0</td>\n",
       "      <td>sekulow expect whining testimony from comey he...</td>\n",
       "      <td>False</td>\n",
       "    </tr>\n",
       "    <tr>\n",
       "      <th>44</th>\n",
       "      <td>Mayday on the Carolina Queen - The New York Ti...</td>\n",
       "      <td>0</td>\n",
       "      <td>mayday on the carolina queen the new york time...</td>\n",
       "      <td>False</td>\n",
       "    </tr>\n",
       "    <tr>\n",
       "      <th>45</th>\n",
       "      <td>Illinois House passes $5 billion tax package, ...</td>\n",
       "      <td>0</td>\n",
       "      <td>illinois house passes 5 billion tax package sp...</td>\n",
       "      <td>False</td>\n",
       "    </tr>\n",
       "    <tr>\n",
       "      <th>46</th>\n",
       "      <td>AT&amp;T, Time Warner and the Death of Privacy AT&amp;...</td>\n",
       "      <td>1</td>\n",
       "      <td>at t time warner and the death of privacy at t...</td>\n",
       "      <td>False</td>\n",
       "    </tr>\n",
       "    <tr>\n",
       "      <th>47</th>\n",
       "      <td>An Architect Who Built His Career on Resuscita...</td>\n",
       "      <td>0</td>\n",
       "      <td>an architect who built his career on resuscita...</td>\n",
       "      <td>False</td>\n",
       "    </tr>\n",
       "    <tr>\n",
       "      <th>48</th>\n",
       "      <td>American dream, revisited by Pepe Escobar for ...</td>\n",
       "      <td>1</td>\n",
       "      <td>american dream revisited by pepe escobar for t...</td>\n",
       "      <td>False</td>\n",
       "    </tr>\n",
       "    <tr>\n",
       "      <th>49</th>\n",
       "      <td>Fear of Iranian general left Iraqi Kurdish oil...</td>\n",
       "      <td>0</td>\n",
       "      <td>fear of iranian general left iraqi kurdish oil...</td>\n",
       "      <td>False</td>\n",
       "    </tr>\n",
       "  </tbody>\n",
       "</table>\n",
       "</div>"
      ],
      "text/plain": [
       "                                                 text  label  \\\n",
       "0   LAW ENFORCEMENT ON HIGH ALERT Following Threat...      1   \n",
       "1   UNBELIEVABLE! OBAMA’S ATTORNEY GENERAL SAYS MO...      1   \n",
       "2   Bobby Jindal, raised Hindu, uses story of Chri...      0   \n",
       "3   SATAN 2: Russia unvelis an image of its terrif...      1   \n",
       "4   About Time! Christian Group Sues Amazon and SP...      1   \n",
       "5   DR BEN CARSON TARGETED BY THE IRS: “I never ha...      1   \n",
       "6   HOUSE INTEL CHAIR On Trump-Russia Fake Story: ...      1   \n",
       "7   Sports Bar Owner Bans NFL Games…Will Show Only...      1   \n",
       "8   Latest Pipeline Leak Underscores Dangers Of Da...      1   \n",
       "9    GOP Senator Just Smacked Down The Most Puncha...      1   \n",
       "10  May Brexit offer would hurt, cost EU citizens ...      0   \n",
       "11  Schumer calls on Trump to appoint official to ...      0   \n",
       "12  WATCH: HILARIOUS AD Calls Into Question Health...      1   \n",
       "13  No Change Expected for ESPN Political Agenda D...      0   \n",
       "14  Billionaire Odebrecht in Brazil scandal releas...      0   \n",
       "15  BRITISH WOMAN LOSES VIRGINITY To Asylum Seekin...      1   \n",
       "16  U.N. seeks humanitarian pause in Sanaa where s...      0   \n",
       "17  MAJOR LIBERAL RAG RELUCTANTLY PUBLISHES Articl...      1   \n",
       "18  Second judge says Clinton email setup may have...      0   \n",
       "19  America gives Grand Piano to horse Wednesday 9...      1   \n",
       "20  Hillary’s crime family: End of days for the U....      1   \n",
       "21   Sean Spicer Baffles Reporters, Claims Trump I...      1   \n",
       "22  UNHOLY ALLIANCE: Hillary Clinton’s Saudi Spons...      1   \n",
       "23   Even Trump’s Best Friend Joe Scarborough Can’...      1   \n",
       "24  BOOM! Danish Government Considers Seizing Migr...      1   \n",
       "25  Supreme Court Won’t Hear Appeal From Texas on ...      0   \n",
       "26  Islamic State driven out of last stronghold in...      0   \n",
       "27  Senators Propose Giving States Option to Keep ...      0   \n",
       "28  Do You Belong To An Extraterrestrial Lineage? ...      1   \n",
       "29  Zimbabwe's Mugabe appears in public for first ...      0   \n",
       "30  Credit Suisse Boss Faces Revolt From Bankers O...      0   \n",
       "31  THE ROBBING OF INNOCENCE: 12 Yr Old Students G...      1   \n",
       "32  Schaeuble to head German parliament, unblockin...      0   \n",
       "33  At U.S.-China summit, Trump presses Xi on trad...      0   \n",
       "34  Clinton extends lead over Trump to 7 points: R...      0   \n",
       "35  JOE BIDEN’S SHOCKING ANNOUNCEMENT: “What the h...      1   \n",
       "36  Comment une petite fille russe de 4 ans a appr...      1   \n",
       "37   Emboldened NRA Threatens New York Times: ‘We’...      1   \n",
       "38   Noam Chomsky GOES OFF On Donald Trump: ‘He’s ...      1   \n",
       "39  5 Ways The Media Responded With Butthurt To Do...      1   \n",
       "40  Iran, Russia and Turkey Agree to Enforce Syria...      0   \n",
       "41  BREAKING: OBAMA POISED To Exact Revenge On PUT...      1   \n",
       "42  Trump says Brexit to be 'a great thing', wants...      0   \n",
       "43  Sekulow: Expect ‘Whining Testimony’ from Comey...      0   \n",
       "44  Mayday on the Carolina Queen - The New York Ti...      0   \n",
       "45  Illinois House passes $5 billion tax package, ...      0   \n",
       "46  AT&T, Time Warner and the Death of Privacy AT&...      1   \n",
       "47  An Architect Who Built His Career on Resuscita...      0   \n",
       "48  American dream, revisited by Pepe Escobar for ...      1   \n",
       "49  Fear of Iranian general left Iraqi Kurdish oil...      0   \n",
       "\n",
       "                                           text_clean  text_lang  \n",
       "0   law enforcement on high alert following threat...      False  \n",
       "1   unbelievable obama s attorney general says mos...      False  \n",
       "2   bobby jindal raised hindu uses story of christ...      False  \n",
       "3   satan 2 russia unvelis an image of its terrify...      False  \n",
       "4   about time christian group sues amazon and spl...      False  \n",
       "5   dr ben carson targeted by the irs i never had ...      False  \n",
       "6   house intel chair on trump russia fake story n...      False  \n",
       "7   sports bar owner bans nfl games will show only...      False  \n",
       "8   latest pipeline leak underscores dangers of da...      False  \n",
       "9   gop senator just smacked down the most punchab...      False  \n",
       "10  may brexit offer would hurt cost eu citizens e...      False  \n",
       "11  schumer calls on trump to appoint official to ...      False  \n",
       "12  watch hilarious ad calls into question health ...      False  \n",
       "13  no change expected for espn political agenda d...      False  \n",
       "14  billionaire odebrecht in brazil scandal releas...      False  \n",
       "15  british woman loses virginity to asylum seekin...      False  \n",
       "16  u n seeks humanitarian pause in sanaa where st...      False  \n",
       "17  major liberal rag reluctantly publishes articl...      False  \n",
       "18  second judge says clinton email setup may have...      False  \n",
       "19  america gives grand piano to horse wednesday 9...      False  \n",
       "20  hillary s crime family end of days for the u s...      False  \n",
       "21  sean spicer baffles reporters claims trump isn...      False  \n",
       "22  unholy alliance hillary clinton s saudi sponso...      False  \n",
       "23  even trump s best friend joe scarborough can t...      False  \n",
       "24  boom danish government considers seizing migra...      False  \n",
       "25  supreme court won t hear appeal from texas on ...      False  \n",
       "26  islamic state driven out of last stronghold in...      False  \n",
       "27  senators propose giving states option to keep ...      False  \n",
       "28  do you belong to an extraterrestrial lineage a...      False  \n",
       "29  zimbabwe s mugabe appears in public for first ...      False  \n",
       "30  credit suisse boss faces revolt from bankers o...      False  \n",
       "31  the robbing of innocence 12 yr old students gi...      False  \n",
       "32  schaeuble to head german parliament unblocking...      False  \n",
       "33  at u s china summit trump presses xi on trade ...      False  \n",
       "34  clinton extends lead over trump to 7 points re...      False  \n",
       "35  joe biden s shocking announcement what the hel...      False  \n",
       "36  comment une petite fille russe de 4 ans a appr...      False  \n",
       "37  emboldened nra threatens new york times we re ...      False  \n",
       "38  noam chomsky goes off on donald trump he s a c...      False  \n",
       "39  5 ways the media responded with butthurt to do...      False  \n",
       "40  iran russia and turkey agree to enforce syria ...      False  \n",
       "41  breaking obama poised to exact revenge on puti...      False  \n",
       "42  trump says brexit to be a great thing wants qu...      False  \n",
       "43  sekulow expect whining testimony from comey he...      False  \n",
       "44  mayday on the carolina queen the new york time...      False  \n",
       "45  illinois house passes 5 billion tax package sp...      False  \n",
       "46  at t time warner and the death of privacy at t...      False  \n",
       "47  an architect who built his career on resuscita...      False  \n",
       "48  american dream revisited by pepe escobar for t...      False  \n",
       "49  fear of iranian general left iraqi kurdish oil...      False  "
      ]
     },
     "execution_count": 30,
     "metadata": {},
     "output_type": "execute_result"
    }
   ],
   "source": [
    "df.head(50)"
   ]
  },
  {
   "cell_type": "code",
   "execution_count": 31,
   "id": "bf969491",
   "metadata": {
    "id": "bf969491"
   },
   "outputs": [],
   "source": [
    "df.drop(columns=[\"text_lang\"], inplace=True)"
   ]
  },
  {
   "cell_type": "code",
   "execution_count": 32,
   "id": "ac7b9a32",
   "metadata": {
    "id": "ac7b9a32",
    "outputId": "14691373-3eca-421f-b35f-f1011518fd41"
   },
   "outputs": [
    {
     "name": "stdout",
     "output_type": "stream",
     "text": [
      "<class 'pandas.core.frame.DataFrame'>\n",
      "RangeIndex: 71425 entries, 0 to 71424\n",
      "Data columns (total 3 columns):\n",
      " #   Column      Non-Null Count  Dtype \n",
      "---  ------      --------------  ----- \n",
      " 0   text        71425 non-null  object\n",
      " 1   label       71425 non-null  int64 \n",
      " 2   text_clean  71425 non-null  object\n",
      "dtypes: int64(1), object(2)\n",
      "memory usage: 1.6+ MB\n"
     ]
    }
   ],
   "source": [
    "df.info()"
   ]
  },
  {
   "cell_type": "code",
   "execution_count": 33,
   "id": "513c3a1e",
   "metadata": {
    "id": "513c3a1e"
   },
   "outputs": [],
   "source": [
    "df.to_csv(\"data/df_pre_tok_text.csv\")"
   ]
  },
  {
   "cell_type": "markdown",
   "id": "326c9a19",
   "metadata": {
    "id": "326c9a19"
   },
   "source": [
    "### Tokenizing"
   ]
  },
  {
   "cell_type": "code",
   "execution_count": 35,
   "id": "3be23080",
   "metadata": {
    "id": "3be23080"
   },
   "outputs": [],
   "source": [
    "tokenizer = nltk.data.load(\"tokenizers/punkt/english.pickle\")"
   ]
  },
  {
   "cell_type": "code",
   "execution_count": 36,
   "id": "83f2eafa",
   "metadata": {
    "id": "83f2eafa"
   },
   "outputs": [],
   "source": [
    "df['token_text'] = df.apply(lambda row: nltk.word_tokenize(row['text_clean']), axis=1)"
   ]
  },
  {
   "cell_type": "code",
   "execution_count": null,
   "id": "93b51ffa",
   "metadata": {
    "id": "93b51ffa"
   },
   "outputs": [],
   "source": [
    "#df.token_text[0]"
   ]
  },
  {
   "cell_type": "markdown",
   "id": "46e6072f",
   "metadata": {
    "id": "46e6072f"
   },
   "source": [
    "### POS tagging"
   ]
  },
  {
   "cell_type": "code",
   "execution_count": 37,
   "id": "80892b51",
   "metadata": {
    "id": "80892b51"
   },
   "outputs": [
    {
     "name": "stdout",
     "output_type": "stream",
     "text": [
      "$: dollar\n",
      "    $ -$ --$ A$ C$ HK$ M$ NZ$ S$ U.S.$ US$\n",
      "'': closing quotation mark\n",
      "    ' ''\n",
      "(: opening parenthesis\n",
      "    ( [ {\n",
      "): closing parenthesis\n",
      "    ) ] }\n",
      ",: comma\n",
      "    ,\n",
      "--: dash\n",
      "    --\n",
      ".: sentence terminator\n",
      "    . ! ?\n",
      ":: colon or ellipsis\n",
      "    : ; ...\n",
      "CC: conjunction, coordinating\n",
      "    & 'n and both but either et for less minus neither nor or plus so\n",
      "    therefore times v. versus vs. whether yet\n",
      "CD: numeral, cardinal\n",
      "    mid-1890 nine-thirty forty-two one-tenth ten million 0.5 one forty-\n",
      "    seven 1987 twenty '79 zero two 78-degrees eighty-four IX '60s .025\n",
      "    fifteen 271,124 dozen quintillion DM2,000 ...\n",
      "DT: determiner\n",
      "    all an another any both del each either every half la many much nary\n",
      "    neither no some such that the them these this those\n",
      "EX: existential there\n",
      "    there\n",
      "FW: foreign word\n",
      "    gemeinschaft hund ich jeux habeas Haementeria Herr K'ang-si vous\n",
      "    lutihaw alai je jour objets salutaris fille quibusdam pas trop Monte\n",
      "    terram fiche oui corporis ...\n",
      "IN: preposition or conjunction, subordinating\n",
      "    astride among uppon whether out inside pro despite on by throughout\n",
      "    below within for towards near behind atop around if like until below\n",
      "    next into if beside ...\n",
      "JJ: adjective or numeral, ordinal\n",
      "    third ill-mannered pre-war regrettable oiled calamitous first separable\n",
      "    ectoplasmic battery-powered participatory fourth still-to-be-named\n",
      "    multilingual multi-disciplinary ...\n",
      "JJR: adjective, comparative\n",
      "    bleaker braver breezier briefer brighter brisker broader bumper busier\n",
      "    calmer cheaper choosier cleaner clearer closer colder commoner costlier\n",
      "    cozier creamier crunchier cuter ...\n",
      "JJS: adjective, superlative\n",
      "    calmest cheapest choicest classiest cleanest clearest closest commonest\n",
      "    corniest costliest crassest creepiest crudest cutest darkest deadliest\n",
      "    dearest deepest densest dinkiest ...\n",
      "LS: list item marker\n",
      "    A A. B B. C C. D E F First G H I J K One SP-44001 SP-44002 SP-44005\n",
      "    SP-44007 Second Third Three Two * a b c d first five four one six three\n",
      "    two\n",
      "MD: modal auxiliary\n",
      "    can cannot could couldn't dare may might must need ought shall should\n",
      "    shouldn't will would\n",
      "NN: noun, common, singular or mass\n",
      "    common-carrier cabbage knuckle-duster Casino afghan shed thermostat\n",
      "    investment slide humour falloff slick wind hyena override subhumanity\n",
      "    machinist ...\n",
      "NNP: noun, proper, singular\n",
      "    Motown Venneboerger Czestochwa Ranzer Conchita Trumplane Christos\n",
      "    Oceanside Escobar Kreisler Sawyer Cougar Yvette Ervin ODI Darryl CTCA\n",
      "    Shannon A.K.C. Meltex Liverpool ...\n",
      "NNPS: noun, proper, plural\n",
      "    Americans Americas Amharas Amityvilles Amusements Anarcho-Syndicalists\n",
      "    Andalusians Andes Andruses Angels Animals Anthony Antilles Antiques\n",
      "    Apache Apaches Apocrypha ...\n",
      "NNS: noun, common, plural\n",
      "    undergraduates scotches bric-a-brac products bodyguards facets coasts\n",
      "    divestitures storehouses designs clubs fragrances averages\n",
      "    subjectivists apprehensions muses factory-jobs ...\n",
      "PDT: pre-determiner\n",
      "    all both half many quite such sure this\n",
      "POS: genitive marker\n",
      "    ' 's\n",
      "PRP: pronoun, personal\n",
      "    hers herself him himself hisself it itself me myself one oneself ours\n",
      "    ourselves ownself self she thee theirs them themselves they thou thy us\n",
      "PRP$: pronoun, possessive\n",
      "    her his mine my our ours their thy your\n",
      "RB: adverb\n",
      "    occasionally unabatingly maddeningly adventurously professedly\n",
      "    stirringly prominently technologically magisterially predominately\n",
      "    swiftly fiscally pitilessly ...\n",
      "RBR: adverb, comparative\n",
      "    further gloomier grander graver greater grimmer harder harsher\n",
      "    healthier heavier higher however larger later leaner lengthier less-\n",
      "    perfectly lesser lonelier longer louder lower more ...\n",
      "RBS: adverb, superlative\n",
      "    best biggest bluntest earliest farthest first furthest hardest\n",
      "    heartiest highest largest least less most nearest second tightest worst\n",
      "RP: particle\n",
      "    aboard about across along apart around aside at away back before behind\n",
      "    by crop down ever fast for forth from go high i.e. in into just later\n",
      "    low more off on open out over per pie raising start teeth that through\n",
      "    under unto up up-pp upon whole with you\n",
      "SYM: symbol\n",
      "    % & ' '' ''. ) ). * + ,. < = > @ A[fj] U.S U.S.S.R * ** ***\n",
      "TO: \"to\" as preposition or infinitive marker\n",
      "    to\n",
      "UH: interjection\n",
      "    Goodbye Goody Gosh Wow Jeepers Jee-sus Hubba Hey Kee-reist Oops amen\n",
      "    huh howdy uh dammit whammo shucks heck anyways whodunnit honey golly\n",
      "    man baby diddle hush sonuvabitch ...\n",
      "VB: verb, base form\n",
      "    ask assemble assess assign assume atone attention avoid bake balkanize\n",
      "    bank begin behold believe bend benefit bevel beware bless boil bomb\n",
      "    boost brace break bring broil brush build ...\n",
      "VBD: verb, past tense\n",
      "    dipped pleaded swiped regummed soaked tidied convened halted registered\n",
      "    cushioned exacted snubbed strode aimed adopted belied figgered\n",
      "    speculated wore appreciated contemplated ...\n",
      "VBG: verb, present participle or gerund\n",
      "    telegraphing stirring focusing angering judging stalling lactating\n",
      "    hankerin' alleging veering capping approaching traveling besieging\n",
      "    encrypting interrupting erasing wincing ...\n",
      "VBN: verb, past participle\n",
      "    multihulled dilapidated aerosolized chaired languished panelized used\n",
      "    experimented flourished imitated reunifed factored condensed sheared\n",
      "    unsettled primed dubbed desired ...\n",
      "VBP: verb, present tense, not 3rd person singular\n",
      "    predominate wrap resort sue twist spill cure lengthen brush terminate\n",
      "    appear tend stray glisten obtain comprise detest tease attract\n",
      "    emphasize mold postpone sever return wag ...\n",
      "VBZ: verb, present tense, 3rd person singular\n",
      "    bases reconstructs marks mixes displeases seals carps weaves snatches\n",
      "    slumps stretches authorizes smolders pictures emerges stockpiles\n",
      "    seduces fizzes uses bolsters slaps speaks pleads ...\n",
      "WDT: WH-determiner\n",
      "    that what whatever which whichever\n",
      "WP: WH-pronoun\n",
      "    that what whatever whatsoever which who whom whosoever\n",
      "WP$: WH-pronoun, possessive\n",
      "    whose\n",
      "WRB: Wh-adverb\n",
      "    how however whence whenever where whereby whereever wherein whereof why\n",
      "``: opening quotation mark\n",
      "    ` ``\n"
     ]
    }
   ],
   "source": [
    "nltk.help.upenn_tagset()"
   ]
  },
  {
   "cell_type": "code",
   "execution_count": null,
   "id": "4d5e091d",
   "metadata": {
    "id": "4d5e091d"
   },
   "outputs": [],
   "source": [
    "#df['tag_text'] = df.apply(lambda row: nltk.pos_tag(row['token_text']), axis=1)"
   ]
  },
  {
   "cell_type": "markdown",
   "id": "19ad49f9",
   "metadata": {
    "id": "19ad49f9"
   },
   "source": [
    "### Lemmatizing tagged words"
   ]
  },
  {
   "cell_type": "code",
   "execution_count": 38,
   "id": "1bab44cb",
   "metadata": {
    "id": "1bab44cb"
   },
   "outputs": [],
   "source": [
    "lem = WordNetLemmatizer()"
   ]
  },
  {
   "cell_type": "code",
   "execution_count": 39,
   "id": "bd8c8be6",
   "metadata": {
    "id": "bd8c8be6"
   },
   "outputs": [],
   "source": [
    "def lemmatize(words):\n",
    "    lemmatized_words = [lem.lemmatize(word) for word in words]\n",
    "    return lemmatized_words"
   ]
  },
  {
   "cell_type": "code",
   "execution_count": 40,
   "id": "d64602d6",
   "metadata": {
    "id": "d64602d6"
   },
   "outputs": [],
   "source": [
    "df['lem_text'] = df.apply(lambda row: lemmatize(row['token_text']), axis=1)"
   ]
  },
  {
   "cell_type": "code",
   "execution_count": 41,
   "id": "5a29d95d",
   "metadata": {
    "id": "5a29d95d",
    "outputId": "c370cfb9-f629-48b1-9307-7bff5c5a8729"
   },
   "outputs": [
    {
     "data": {
      "text/html": [
       "<div>\n",
       "<style scoped>\n",
       "    .dataframe tbody tr th:only-of-type {\n",
       "        vertical-align: middle;\n",
       "    }\n",
       "\n",
       "    .dataframe tbody tr th {\n",
       "        vertical-align: top;\n",
       "    }\n",
       "\n",
       "    .dataframe thead th {\n",
       "        text-align: right;\n",
       "    }\n",
       "</style>\n",
       "<table border=\"1\" class=\"dataframe\">\n",
       "  <thead>\n",
       "    <tr style=\"text-align: right;\">\n",
       "      <th></th>\n",
       "      <th>text</th>\n",
       "      <th>label</th>\n",
       "      <th>text_clean</th>\n",
       "      <th>token_text</th>\n",
       "      <th>lem_text</th>\n",
       "    </tr>\n",
       "  </thead>\n",
       "  <tbody>\n",
       "    <tr>\n",
       "      <th>0</th>\n",
       "      <td>LAW ENFORCEMENT ON HIGH ALERT Following Threat...</td>\n",
       "      <td>1</td>\n",
       "      <td>law enforcement on high alert following threat...</td>\n",
       "      <td>[law, enforcement, on, high, alert, following,...</td>\n",
       "      <td>[law, enforcement, on, high, alert, following,...</td>\n",
       "    </tr>\n",
       "    <tr>\n",
       "      <th>1</th>\n",
       "      <td>UNBELIEVABLE! OBAMA’S ATTORNEY GENERAL SAYS MO...</td>\n",
       "      <td>1</td>\n",
       "      <td>unbelievable obama s attorney general says mos...</td>\n",
       "      <td>[unbelievable, obama, s, attorney, general, sa...</td>\n",
       "      <td>[unbelievable, obama, s, attorney, general, sa...</td>\n",
       "    </tr>\n",
       "    <tr>\n",
       "      <th>2</th>\n",
       "      <td>Bobby Jindal, raised Hindu, uses story of Chri...</td>\n",
       "      <td>0</td>\n",
       "      <td>bobby jindal raised hindu uses story of christ...</td>\n",
       "      <td>[bobby, jindal, raised, hindu, uses, story, of...</td>\n",
       "      <td>[bobby, jindal, raised, hindu, us, story, of, ...</td>\n",
       "    </tr>\n",
       "    <tr>\n",
       "      <th>3</th>\n",
       "      <td>SATAN 2: Russia unvelis an image of its terrif...</td>\n",
       "      <td>1</td>\n",
       "      <td>satan 2 russia unvelis an image of its terrify...</td>\n",
       "      <td>[satan, 2, russia, unvelis, an, image, of, its...</td>\n",
       "      <td>[satan, 2, russia, unvelis, an, image, of, it,...</td>\n",
       "    </tr>\n",
       "    <tr>\n",
       "      <th>4</th>\n",
       "      <td>About Time! Christian Group Sues Amazon and SP...</td>\n",
       "      <td>1</td>\n",
       "      <td>about time christian group sues amazon and spl...</td>\n",
       "      <td>[about, time, christian, group, sues, amazon, ...</td>\n",
       "      <td>[about, time, christian, group, sue, amazon, a...</td>\n",
       "    </tr>\n",
       "    <tr>\n",
       "      <th>...</th>\n",
       "      <td>...</td>\n",
       "      <td>...</td>\n",
       "      <td>...</td>\n",
       "      <td>...</td>\n",
       "      <td>...</td>\n",
       "    </tr>\n",
       "    <tr>\n",
       "      <th>71420</th>\n",
       "      <td>Russians steal research on Trump in hack of U....</td>\n",
       "      <td>0</td>\n",
       "      <td>russians steal research on trump in hack of u ...</td>\n",
       "      <td>[russians, steal, research, on, trump, in, hac...</td>\n",
       "      <td>[russian, steal, research, on, trump, in, hack...</td>\n",
       "    </tr>\n",
       "    <tr>\n",
       "      <th>71421</th>\n",
       "      <td>WATCH: Giuliani Demands That Democrats Apolog...</td>\n",
       "      <td>1</td>\n",
       "      <td>watch giuliani demands that democrats apologiz...</td>\n",
       "      <td>[watch, giuliani, demands, that, democrats, ap...</td>\n",
       "      <td>[watch, giuliani, demand, that, democrat, apol...</td>\n",
       "    </tr>\n",
       "    <tr>\n",
       "      <th>71422</th>\n",
       "      <td>Migrants Refuse To Leave Train At Refugee Camp...</td>\n",
       "      <td>0</td>\n",
       "      <td>migrants refuse to leave train at refugee camp...</td>\n",
       "      <td>[migrants, refuse, to, leave, train, at, refug...</td>\n",
       "      <td>[migrant, refuse, to, leave, train, at, refuge...</td>\n",
       "    </tr>\n",
       "    <tr>\n",
       "      <th>71423</th>\n",
       "      <td>Trump tussle gives unpopular Mexican leader mu...</td>\n",
       "      <td>0</td>\n",
       "      <td>trump tussle gives unpopular mexican leader mu...</td>\n",
       "      <td>[trump, tussle, gives, unpopular, mexican, lea...</td>\n",
       "      <td>[trump, tussle, give, unpopular, mexican, lead...</td>\n",
       "    </tr>\n",
       "    <tr>\n",
       "      <th>71424</th>\n",
       "      <td>Goldman Sachs Endorses Hillary Clinton For Pre...</td>\n",
       "      <td>1</td>\n",
       "      <td>goldman sachs endorses hillary clinton for pre...</td>\n",
       "      <td>[goldman, sachs, endorses, hillary, clinton, f...</td>\n",
       "      <td>[goldman, sachs, endorses, hillary, clinton, f...</td>\n",
       "    </tr>\n",
       "  </tbody>\n",
       "</table>\n",
       "<p>71425 rows × 5 columns</p>\n",
       "</div>"
      ],
      "text/plain": [
       "                                                    text  label  \\\n",
       "0      LAW ENFORCEMENT ON HIGH ALERT Following Threat...      1   \n",
       "1      UNBELIEVABLE! OBAMA’S ATTORNEY GENERAL SAYS MO...      1   \n",
       "2      Bobby Jindal, raised Hindu, uses story of Chri...      0   \n",
       "3      SATAN 2: Russia unvelis an image of its terrif...      1   \n",
       "4      About Time! Christian Group Sues Amazon and SP...      1   \n",
       "...                                                  ...    ...   \n",
       "71420  Russians steal research on Trump in hack of U....      0   \n",
       "71421   WATCH: Giuliani Demands That Democrats Apolog...      1   \n",
       "71422  Migrants Refuse To Leave Train At Refugee Camp...      0   \n",
       "71423  Trump tussle gives unpopular Mexican leader mu...      0   \n",
       "71424  Goldman Sachs Endorses Hillary Clinton For Pre...      1   \n",
       "\n",
       "                                              text_clean  \\\n",
       "0      law enforcement on high alert following threat...   \n",
       "1      unbelievable obama s attorney general says mos...   \n",
       "2      bobby jindal raised hindu uses story of christ...   \n",
       "3      satan 2 russia unvelis an image of its terrify...   \n",
       "4      about time christian group sues amazon and spl...   \n",
       "...                                                  ...   \n",
       "71420  russians steal research on trump in hack of u ...   \n",
       "71421  watch giuliani demands that democrats apologiz...   \n",
       "71422  migrants refuse to leave train at refugee camp...   \n",
       "71423  trump tussle gives unpopular mexican leader mu...   \n",
       "71424  goldman sachs endorses hillary clinton for pre...   \n",
       "\n",
       "                                              token_text  \\\n",
       "0      [law, enforcement, on, high, alert, following,...   \n",
       "1      [unbelievable, obama, s, attorney, general, sa...   \n",
       "2      [bobby, jindal, raised, hindu, uses, story, of...   \n",
       "3      [satan, 2, russia, unvelis, an, image, of, its...   \n",
       "4      [about, time, christian, group, sues, amazon, ...   \n",
       "...                                                  ...   \n",
       "71420  [russians, steal, research, on, trump, in, hac...   \n",
       "71421  [watch, giuliani, demands, that, democrats, ap...   \n",
       "71422  [migrants, refuse, to, leave, train, at, refug...   \n",
       "71423  [trump, tussle, gives, unpopular, mexican, lea...   \n",
       "71424  [goldman, sachs, endorses, hillary, clinton, f...   \n",
       "\n",
       "                                                lem_text  \n",
       "0      [law, enforcement, on, high, alert, following,...  \n",
       "1      [unbelievable, obama, s, attorney, general, sa...  \n",
       "2      [bobby, jindal, raised, hindu, us, story, of, ...  \n",
       "3      [satan, 2, russia, unvelis, an, image, of, it,...  \n",
       "4      [about, time, christian, group, sue, amazon, a...  \n",
       "...                                                  ...  \n",
       "71420  [russian, steal, research, on, trump, in, hack...  \n",
       "71421  [watch, giuliani, demand, that, democrat, apol...  \n",
       "71422  [migrant, refuse, to, leave, train, at, refuge...  \n",
       "71423  [trump, tussle, give, unpopular, mexican, lead...  \n",
       "71424  [goldman, sachs, endorses, hillary, clinton, f...  \n",
       "\n",
       "[71425 rows x 5 columns]"
      ]
     },
     "execution_count": 41,
     "metadata": {},
     "output_type": "execute_result"
    }
   ],
   "source": [
    "df"
   ]
  },
  {
   "cell_type": "code",
   "execution_count": null,
   "id": "8db4cfaf",
   "metadata": {
    "id": "8db4cfaf"
   },
   "outputs": [],
   "source": [
    "#df.to_csv(\"data/df_lemmatized_text.csv\")"
   ]
  },
  {
   "cell_type": "markdown",
   "id": "fae1e257",
   "metadata": {
    "id": "fae1e257"
   },
   "source": [
    "### Stopwords"
   ]
  },
  {
   "cell_type": "code",
   "execution_count": 42,
   "id": "e6934b53",
   "metadata": {
    "id": "e6934b53",
    "outputId": "4e51d0b0-a6f2-4ed1-9a0e-288c76bf1070"
   },
   "outputs": [
    {
     "data": {
      "text/plain": [
       "['i',\n",
       " 'me',\n",
       " 'my',\n",
       " 'myself',\n",
       " 'we',\n",
       " 'our',\n",
       " 'ours',\n",
       " 'ourselves',\n",
       " 'you',\n",
       " \"you're\",\n",
       " \"you've\",\n",
       " \"you'll\",\n",
       " \"you'd\",\n",
       " 'your',\n",
       " 'yours',\n",
       " 'yourself',\n",
       " 'yourselves',\n",
       " 'he',\n",
       " 'him',\n",
       " 'his',\n",
       " 'himself',\n",
       " 'she',\n",
       " \"she's\",\n",
       " 'her',\n",
       " 'hers',\n",
       " 'herself',\n",
       " 'it',\n",
       " \"it's\",\n",
       " 'its',\n",
       " 'itself',\n",
       " 'they',\n",
       " 'them',\n",
       " 'their',\n",
       " 'theirs',\n",
       " 'themselves',\n",
       " 'what',\n",
       " 'which',\n",
       " 'who',\n",
       " 'whom',\n",
       " 'this',\n",
       " 'that',\n",
       " \"that'll\",\n",
       " 'these',\n",
       " 'those',\n",
       " 'am',\n",
       " 'is',\n",
       " 'are',\n",
       " 'was',\n",
       " 'were',\n",
       " 'be',\n",
       " 'been',\n",
       " 'being',\n",
       " 'have',\n",
       " 'has',\n",
       " 'had',\n",
       " 'having',\n",
       " 'do',\n",
       " 'does',\n",
       " 'did',\n",
       " 'doing',\n",
       " 'a',\n",
       " 'an',\n",
       " 'the',\n",
       " 'and',\n",
       " 'but',\n",
       " 'if',\n",
       " 'or',\n",
       " 'because',\n",
       " 'as',\n",
       " 'until',\n",
       " 'while',\n",
       " 'of',\n",
       " 'at',\n",
       " 'by',\n",
       " 'for',\n",
       " 'with',\n",
       " 'about',\n",
       " 'against',\n",
       " 'between',\n",
       " 'into',\n",
       " 'through',\n",
       " 'during',\n",
       " 'before',\n",
       " 'after',\n",
       " 'above',\n",
       " 'below',\n",
       " 'to',\n",
       " 'from',\n",
       " 'up',\n",
       " 'down',\n",
       " 'in',\n",
       " 'out',\n",
       " 'on',\n",
       " 'off',\n",
       " 'over',\n",
       " 'under',\n",
       " 'again',\n",
       " 'further',\n",
       " 'then',\n",
       " 'once',\n",
       " 'here',\n",
       " 'there',\n",
       " 'when',\n",
       " 'where',\n",
       " 'why',\n",
       " 'how',\n",
       " 'all',\n",
       " 'any',\n",
       " 'both',\n",
       " 'each',\n",
       " 'few',\n",
       " 'more',\n",
       " 'most',\n",
       " 'other',\n",
       " 'some',\n",
       " 'such',\n",
       " 'no',\n",
       " 'nor',\n",
       " 'not',\n",
       " 'only',\n",
       " 'own',\n",
       " 'same',\n",
       " 'so',\n",
       " 'than',\n",
       " 'too',\n",
       " 'very',\n",
       " 's',\n",
       " 't',\n",
       " 'can',\n",
       " 'will',\n",
       " 'just',\n",
       " 'don',\n",
       " \"don't\",\n",
       " 'should',\n",
       " \"should've\",\n",
       " 'now',\n",
       " 'd',\n",
       " 'll',\n",
       " 'm',\n",
       " 'o',\n",
       " 're',\n",
       " 've',\n",
       " 'y',\n",
       " 'ain',\n",
       " 'aren',\n",
       " \"aren't\",\n",
       " 'couldn',\n",
       " \"couldn't\",\n",
       " 'didn',\n",
       " \"didn't\",\n",
       " 'doesn',\n",
       " \"doesn't\",\n",
       " 'hadn',\n",
       " \"hadn't\",\n",
       " 'hasn',\n",
       " \"hasn't\",\n",
       " 'haven',\n",
       " \"haven't\",\n",
       " 'isn',\n",
       " \"isn't\",\n",
       " 'ma',\n",
       " 'mightn',\n",
       " \"mightn't\",\n",
       " 'mustn',\n",
       " \"mustn't\",\n",
       " 'needn',\n",
       " \"needn't\",\n",
       " 'shan',\n",
       " \"shan't\",\n",
       " 'shouldn',\n",
       " \"shouldn't\",\n",
       " 'wasn',\n",
       " \"wasn't\",\n",
       " 'weren',\n",
       " \"weren't\",\n",
       " 'won',\n",
       " \"won't\",\n",
       " 'wouldn',\n",
       " \"wouldn't\"]"
      ]
     },
     "execution_count": 42,
     "metadata": {},
     "output_type": "execute_result"
    }
   ],
   "source": [
    "stop_words = list(stopwords.words('english')) \n",
    "stop_words"
   ]
  },
  {
   "cell_type": "code",
   "execution_count": 43,
   "id": "e8d96650",
   "metadata": {
    "id": "e8d96650"
   },
   "outputs": [],
   "source": [
    "for i in range(len(stop_words)):\n",
    "    stop_words[i] = re.sub(r\"\\s*'\\s*\\w*\",\"\",stop_words[i])"
   ]
  },
  {
   "cell_type": "code",
   "execution_count": 44,
   "id": "221c94f6",
   "metadata": {
    "id": "221c94f6"
   },
   "outputs": [],
   "source": [
    "df[\"stop_text\"] = df[\"lem_text\"].apply(lambda x: ' '.join([word for word in x if word not in (stop_words)]))"
   ]
  },
  {
   "cell_type": "code",
   "execution_count": 45,
   "id": "c71e9d33",
   "metadata": {
    "id": "c71e9d33",
    "outputId": "08861969-ec31-4962-9052-4059d0051533"
   },
   "outputs": [
    {
     "data": {
      "text/plain": [
       "'law enforcement high alert following threat cop white 9 11by blacklivesmatter fyf911 terrorist video comment expected barack obama member fyf911 fukyoflag blacklivesmatter movement called lynching hanging white people cop encouraged others radio show tuesday night turn tide kill white people cop send message killing black people america one f yoflag organizer called sunshine ha radio blog show hosted texas called sunshine f ing opinion radio show snapshot fyf911 lolatwhitefear twitter page 9 53 p show wa urging supporter call fyf911 tonight continue dismantle illusion white snapshot twitter radio call invite fyf911the radio show aired 10 00 p eastern standard time show caller clearly call lynching killing white people 2 39 minute clip radio show heard wa provided breitbart texas someone would like referred hannibal ha already received death threat result interrupting fyf911 conference call unidentified black man said mother f kers start f ing like u bunch ni er takin one u roll said cause already roll gang anyway six seven black mother f ckers see white person lynch let turn table conspired cop started losing people state emergency speculated one two thing would happen big r war ni er going start backin already getting killed f k got lose sunshine could heard saying yep true f king true said need turn table kid getting shot somebody need become sacrifice side said everybody whatever like say everybody ha different position war continued give f k anyway said might well utilized turn table n er said way start lookin like havin many casualty causality side instead killing black people black life matter mother f kers got make matter find mother f ker alone snap f hang damn tree take picture send mother f kers need one example people start watchin turn table said said start trickle effect said one white person hung flat hanging start trickle effect continued black people good starting trend said wa get upper hand another black man spoke saying needed kill cop killing u first black male said best method right breitbart texas previously reported sunshine wa upset racist white people infiltrated disrupted one conference call subsequently released phone number one infiltrator veteran immediately started receiving threatening call one f yoflag movement supporter allegedly told veteran infiltrated publicly posted conference call going rape gut pregnant wife f ing piece sh unborn creature hung tree breitbart texas previously encountered sunshine sandra bland protest waller county jail texas said white people killed told journalist photographer see nappy hair head mean one militant negro said wa protest redneck mother f kers murdered sandra bland nappy hair like fyf911 black radical say holding imperial power actually responsible terrorist attack september 11th accountable day reported breitbart texas several website twitter handle movement palmetto star describes one head organizer said youtube video supporter burning symbol illusion superiority false white supremacy like american flag british flag police uniform ku klux klan hood sierra mcgrone nocturnus libertus posted help young afrikan clean rag oppression posted two photo one appears photo black man wiping naked butt american flag entire story breitbart news'"
      ]
     },
     "execution_count": 45,
     "metadata": {},
     "output_type": "execute_result"
    }
   ],
   "source": [
    "df['stop_text'][0]"
   ]
  },
  {
   "cell_type": "code",
   "execution_count": null,
   "id": "6f1fe215",
   "metadata": {
    "id": "6f1fe215",
    "outputId": "8bc94bef-3a14-4bc3-db09-84c0a823ee1f"
   },
   "outputs": [
    {
     "name": "stdout",
     "output_type": "stream",
     "text": [
      "The history saving thread hit an unexpected error (OperationalError('database or disk is full')).History will not be written to the database.\n"
     ]
    }
   ],
   "source": [
    "#df.to_csv(\"data/df_stopwords_text.csv\")"
   ]
  },
  {
   "cell_type": "markdown",
   "id": "50c42115",
   "metadata": {
    "id": "50c42115"
   },
   "source": [
    "### BOW with countvec [ignore]"
   ]
  },
  {
   "cell_type": "code",
   "execution_count": 47,
   "id": "3f8e5b03",
   "metadata": {
    "id": "3f8e5b03"
   },
   "outputs": [],
   "source": [
    "def create_vectorizer(sentences):\n",
    "    vectorizer = CountVectorizer(max_features=100)\n",
    "    X = vectorizer.fit_transform(sentences)\n",
    "    return (vectorizer, X)"
   ]
  },
  {
   "cell_type": "code",
   "execution_count": 48,
   "id": "b8855d4b",
   "metadata": {
    "id": "b8855d4b"
   },
   "outputs": [],
   "source": [
    "(vectorizer, X) = create_vectorizer(df.stop_text)"
   ]
  },
  {
   "cell_type": "code",
   "execution_count": 49,
   "id": "5161fabc",
   "metadata": {
    "id": "5161fabc",
    "outputId": "de5483c0-69c3-48bc-9783-b9da7225ecf6"
   },
   "outputs": [
    {
     "name": "stdout",
     "output_type": "stream",
     "text": [
      "['2016', 'according', 'also', 'america', 'american', 'attack', 'back', 'bill', 'campaign', 'case', 'city', 'clinton', 'come', 'could', 'country', 'court', 'day', 'democrat', 'donald', 'election', 'even', 'first', 'former', 'get', 'go', 'going', 'government', 'group', 'ha', 'hillary', 'house', 'know', 'last', 'law', 'leader', 'life', 'like', 'made', 'make', 'many', 'may', 'medium', 'member', 'million', 'month', 'mr', 'much', 'national', 'need', 'new', 'news', 'obama', 'official', 'one', 'part', 'party', 'people', 'percent', 'police', 'policy', 'political', 'president', 'presidential', 'public', 'report', 'republican', 'reuters', 'right', 'russia', 'said', 'say', 'security', 'see', 'since', 'state', 'support', 'take', 'thing', 'think', 'time', 'told', 'trump', 'two', 'united', 'video', 'vote', 'wa', 'want', 'war', 'washington', 'way', 'week', 'well', 'white', 'woman', 'work', 'world', 'would', 'year', 'york']\n"
     ]
    },
    {
     "name": "stderr",
     "output_type": "stream",
     "text": [
      "/opt/anaconda3/lib/python3.9/site-packages/sklearn/utils/deprecation.py:87: FutureWarning: Function get_feature_names is deprecated; get_feature_names is deprecated in 1.0 and will be removed in 1.2. Please use get_feature_names_out instead.\n",
      "  warnings.warn(msg, category=FutureWarning)\n"
     ]
    }
   ],
   "source": [
    "print(vectorizer.get_feature_names())"
   ]
  },
  {
   "cell_type": "code",
   "execution_count": null,
   "id": "40c77fd9",
   "metadata": {
    "id": "40c77fd9",
    "outputId": "5bf0c928-0a93-41fb-efea-ef889aea2d82"
   },
   "outputs": [
    {
     "name": "stdout",
     "output_type": "stream",
     "text": [
      "  (0, 33)\t1\n",
      "  (0, 93)\t10\n",
      "  (0, 84)\t2\n",
      "  (0, 51)\t1\n",
      "  (0, 42)\t1\n",
      "  (0, 56)\t10\n",
      "  (0, 3)\t1\n",
      "  (0, 53)\t11\n",
      "  (0, 28)\t3\n",
      "  (0, 86)\t5\n",
      "  (0, 79)\t1\n",
      "  (0, 97)\t2\n",
      "  (0, 36)\t6\n",
      "  (0, 69)\t14\n",
      "  (0, 72)\t2\n",
      "  (0, 74)\t1\n",
      "  (0, 82)\t2\n",
      "  (0, 77)\t1\n",
      "  (0, 88)\t2\n",
      "  (0, 25)\t2\n",
      "  (0, 13)\t1\n",
      "  (0, 48)\t3\n",
      "  (0, 70)\t2\n",
      "  (0, 92)\t1\n",
      "  (0, 90)\t1\n",
      "  :\t:\n",
      "  (71424, 39)\t1\n",
      "  (71424, 76)\t1\n",
      "  (71424, 23)\t1\n",
      "  (71424, 67)\t1\n",
      "  (71424, 80)\t2\n",
      "  (71424, 0)\t1\n",
      "  (71424, 62)\t1\n",
      "  (71424, 98)\t1\n",
      "  (71424, 60)\t2\n",
      "  (71424, 61)\t2\n",
      "  (71424, 22)\t1\n",
      "  (71424, 8)\t2\n",
      "  (71424, 47)\t1\n",
      "  (71424, 12)\t1\n",
      "  (71424, 31)\t4\n",
      "  (71424, 49)\t1\n",
      "  (71424, 14)\t1\n",
      "  (71424, 95)\t2\n",
      "  (71424, 2)\t2\n",
      "  (71424, 63)\t2\n",
      "  (71424, 46)\t1\n",
      "  (71424, 87)\t1\n",
      "  (71424, 11)\t12\n",
      "  (71424, 29)\t7\n",
      "  (71424, 99)\t1\n"
     ]
    }
   ],
   "source": [
    "print(X)"
   ]
  },
  {
   "cell_type": "code",
   "execution_count": 50,
   "id": "04a617ef",
   "metadata": {
    "id": "04a617ef"
   },
   "outputs": [],
   "source": [
    "denseX = X.todense()"
   ]
  },
  {
   "cell_type": "code",
   "execution_count": 51,
   "id": "fecc9037",
   "metadata": {
    "id": "fecc9037",
    "outputId": "5368f4f6-ff62-4414-8d02-2d14f17740ee"
   },
   "outputs": [
    {
     "data": {
      "text/plain": [
       "matrix([[ 0,  0,  0,  1,  2,  1,  0,  0,  0,  0,  0,  0,  0,  1,  0,  0,\n",
       "          1,  0,  0,  0,  0,  1,  0,  1,  0,  2,  0,  0,  3,  0,  0,  0,\n",
       "          0,  1,  0,  1,  6,  0,  1,  1,  0,  0,  1,  0,  0,  0,  0,  0,\n",
       "          3,  0,  1,  1,  0, 11,  0,  0, 10,  0,  1,  0,  0,  0,  0,  0,\n",
       "          0,  0,  0,  1,  0, 14,  2,  0,  2,  0,  1,  0,  1,  1,  0,  1,\n",
       "          2,  0,  2,  0,  2,  0,  5,  0,  2,  0,  1,  0,  1, 10,  0,  0,\n",
       "          0,  2,  0,  0]])"
      ]
     },
     "execution_count": 51,
     "metadata": {},
     "output_type": "execute_result"
    }
   ],
   "source": [
    "denseX[0]"
   ]
  },
  {
   "cell_type": "code",
   "execution_count": 52,
   "id": "fe594008",
   "metadata": {
    "id": "fe594008",
    "outputId": "e4aa2ab6-2ecd-4861-9e73-3cc94c06cba7"
   },
   "outputs": [
    {
     "data": {
      "text/html": [
       "<div>\n",
       "<style scoped>\n",
       "    .dataframe tbody tr th:only-of-type {\n",
       "        vertical-align: middle;\n",
       "    }\n",
       "\n",
       "    .dataframe tbody tr th {\n",
       "        vertical-align: top;\n",
       "    }\n",
       "\n",
       "    .dataframe thead th {\n",
       "        text-align: right;\n",
       "    }\n",
       "</style>\n",
       "<table border=\"1\" class=\"dataframe\">\n",
       "  <thead>\n",
       "    <tr style=\"text-align: right;\">\n",
       "      <th></th>\n",
       "      <th>text</th>\n",
       "      <th>label</th>\n",
       "      <th>text_clean</th>\n",
       "      <th>token_text</th>\n",
       "      <th>lem_text</th>\n",
       "      <th>stop_text</th>\n",
       "    </tr>\n",
       "  </thead>\n",
       "  <tbody>\n",
       "    <tr>\n",
       "      <th>0</th>\n",
       "      <td>LAW ENFORCEMENT ON HIGH ALERT Following Threat...</td>\n",
       "      <td>1</td>\n",
       "      <td>law enforcement on high alert following threat...</td>\n",
       "      <td>[law, enforcement, on, high, alert, following,...</td>\n",
       "      <td>[law, enforcement, on, high, alert, following,...</td>\n",
       "      <td>law enforcement high alert following threat co...</td>\n",
       "    </tr>\n",
       "    <tr>\n",
       "      <th>1</th>\n",
       "      <td>UNBELIEVABLE! OBAMA’S ATTORNEY GENERAL SAYS MO...</td>\n",
       "      <td>1</td>\n",
       "      <td>unbelievable obama s attorney general says mos...</td>\n",
       "      <td>[unbelievable, obama, s, attorney, general, sa...</td>\n",
       "      <td>[unbelievable, obama, s, attorney, general, sa...</td>\n",
       "      <td>unbelievable obama attorney general say charlo...</td>\n",
       "    </tr>\n",
       "    <tr>\n",
       "      <th>2</th>\n",
       "      <td>Bobby Jindal, raised Hindu, uses story of Chri...</td>\n",
       "      <td>0</td>\n",
       "      <td>bobby jindal raised hindu uses story of christ...</td>\n",
       "      <td>[bobby, jindal, raised, hindu, uses, story, of...</td>\n",
       "      <td>[bobby, jindal, raised, hindu, us, story, of, ...</td>\n",
       "      <td>bobby jindal raised hindu us story christian c...</td>\n",
       "    </tr>\n",
       "    <tr>\n",
       "      <th>3</th>\n",
       "      <td>SATAN 2: Russia unvelis an image of its terrif...</td>\n",
       "      <td>1</td>\n",
       "      <td>satan 2 russia unvelis an image of its terrify...</td>\n",
       "      <td>[satan, 2, russia, unvelis, an, image, of, its...</td>\n",
       "      <td>[satan, 2, russia, unvelis, an, image, of, it,...</td>\n",
       "      <td>satan 2 russia unvelis image terrifying new su...</td>\n",
       "    </tr>\n",
       "    <tr>\n",
       "      <th>4</th>\n",
       "      <td>About Time! Christian Group Sues Amazon and SP...</td>\n",
       "      <td>1</td>\n",
       "      <td>about time christian group sues amazon and spl...</td>\n",
       "      <td>[about, time, christian, group, sues, amazon, ...</td>\n",
       "      <td>[about, time, christian, group, sue, amazon, a...</td>\n",
       "      <td>time christian group sue amazon splc designati...</td>\n",
       "    </tr>\n",
       "    <tr>\n",
       "      <th>...</th>\n",
       "      <td>...</td>\n",
       "      <td>...</td>\n",
       "      <td>...</td>\n",
       "      <td>...</td>\n",
       "      <td>...</td>\n",
       "      <td>...</td>\n",
       "    </tr>\n",
       "    <tr>\n",
       "      <th>71420</th>\n",
       "      <td>Russians steal research on Trump in hack of U....</td>\n",
       "      <td>0</td>\n",
       "      <td>russians steal research on trump in hack of u ...</td>\n",
       "      <td>[russians, steal, research, on, trump, in, hac...</td>\n",
       "      <td>[russian, steal, research, on, trump, in, hack...</td>\n",
       "      <td>russian steal research trump hack u democratic...</td>\n",
       "    </tr>\n",
       "    <tr>\n",
       "      <th>71421</th>\n",
       "      <td>WATCH: Giuliani Demands That Democrats Apolog...</td>\n",
       "      <td>1</td>\n",
       "      <td>watch giuliani demands that democrats apologiz...</td>\n",
       "      <td>[watch, giuliani, demands, that, democrats, ap...</td>\n",
       "      <td>[watch, giuliani, demand, that, democrat, apol...</td>\n",
       "      <td>watch giuliani demand democrat apologize trump...</td>\n",
       "    </tr>\n",
       "    <tr>\n",
       "      <th>71422</th>\n",
       "      <td>Migrants Refuse To Leave Train At Refugee Camp...</td>\n",
       "      <td>0</td>\n",
       "      <td>migrants refuse to leave train at refugee camp...</td>\n",
       "      <td>[migrants, refuse, to, leave, train, at, refug...</td>\n",
       "      <td>[migrant, refuse, to, leave, train, at, refuge...</td>\n",
       "      <td>migrant refuse leave train refugee camp hungar...</td>\n",
       "    </tr>\n",
       "    <tr>\n",
       "      <th>71423</th>\n",
       "      <td>Trump tussle gives unpopular Mexican leader mu...</td>\n",
       "      <td>0</td>\n",
       "      <td>trump tussle gives unpopular mexican leader mu...</td>\n",
       "      <td>[trump, tussle, gives, unpopular, mexican, lea...</td>\n",
       "      <td>[trump, tussle, give, unpopular, mexican, lead...</td>\n",
       "      <td>trump tussle give unpopular mexican leader muc...</td>\n",
       "    </tr>\n",
       "    <tr>\n",
       "      <th>71424</th>\n",
       "      <td>Goldman Sachs Endorses Hillary Clinton For Pre...</td>\n",
       "      <td>1</td>\n",
       "      <td>goldman sachs endorses hillary clinton for pre...</td>\n",
       "      <td>[goldman, sachs, endorses, hillary, clinton, f...</td>\n",
       "      <td>[goldman, sachs, endorses, hillary, clinton, f...</td>\n",
       "      <td>goldman sachs endorses hillary clinton preside...</td>\n",
       "    </tr>\n",
       "  </tbody>\n",
       "</table>\n",
       "<p>71425 rows × 6 columns</p>\n",
       "</div>"
      ],
      "text/plain": [
       "                                                    text  label  \\\n",
       "0      LAW ENFORCEMENT ON HIGH ALERT Following Threat...      1   \n",
       "1      UNBELIEVABLE! OBAMA’S ATTORNEY GENERAL SAYS MO...      1   \n",
       "2      Bobby Jindal, raised Hindu, uses story of Chri...      0   \n",
       "3      SATAN 2: Russia unvelis an image of its terrif...      1   \n",
       "4      About Time! Christian Group Sues Amazon and SP...      1   \n",
       "...                                                  ...    ...   \n",
       "71420  Russians steal research on Trump in hack of U....      0   \n",
       "71421   WATCH: Giuliani Demands That Democrats Apolog...      1   \n",
       "71422  Migrants Refuse To Leave Train At Refugee Camp...      0   \n",
       "71423  Trump tussle gives unpopular Mexican leader mu...      0   \n",
       "71424  Goldman Sachs Endorses Hillary Clinton For Pre...      1   \n",
       "\n",
       "                                              text_clean  \\\n",
       "0      law enforcement on high alert following threat...   \n",
       "1      unbelievable obama s attorney general says mos...   \n",
       "2      bobby jindal raised hindu uses story of christ...   \n",
       "3      satan 2 russia unvelis an image of its terrify...   \n",
       "4      about time christian group sues amazon and spl...   \n",
       "...                                                  ...   \n",
       "71420  russians steal research on trump in hack of u ...   \n",
       "71421  watch giuliani demands that democrats apologiz...   \n",
       "71422  migrants refuse to leave train at refugee camp...   \n",
       "71423  trump tussle gives unpopular mexican leader mu...   \n",
       "71424  goldman sachs endorses hillary clinton for pre...   \n",
       "\n",
       "                                              token_text  \\\n",
       "0      [law, enforcement, on, high, alert, following,...   \n",
       "1      [unbelievable, obama, s, attorney, general, sa...   \n",
       "2      [bobby, jindal, raised, hindu, uses, story, of...   \n",
       "3      [satan, 2, russia, unvelis, an, image, of, its...   \n",
       "4      [about, time, christian, group, sues, amazon, ...   \n",
       "...                                                  ...   \n",
       "71420  [russians, steal, research, on, trump, in, hac...   \n",
       "71421  [watch, giuliani, demands, that, democrats, ap...   \n",
       "71422  [migrants, refuse, to, leave, train, at, refug...   \n",
       "71423  [trump, tussle, gives, unpopular, mexican, lea...   \n",
       "71424  [goldman, sachs, endorses, hillary, clinton, f...   \n",
       "\n",
       "                                                lem_text  \\\n",
       "0      [law, enforcement, on, high, alert, following,...   \n",
       "1      [unbelievable, obama, s, attorney, general, sa...   \n",
       "2      [bobby, jindal, raised, hindu, us, story, of, ...   \n",
       "3      [satan, 2, russia, unvelis, an, image, of, it,...   \n",
       "4      [about, time, christian, group, sue, amazon, a...   \n",
       "...                                                  ...   \n",
       "71420  [russian, steal, research, on, trump, in, hack...   \n",
       "71421  [watch, giuliani, demand, that, democrat, apol...   \n",
       "71422  [migrant, refuse, to, leave, train, at, refuge...   \n",
       "71423  [trump, tussle, give, unpopular, mexican, lead...   \n",
       "71424  [goldman, sachs, endorses, hillary, clinton, f...   \n",
       "\n",
       "                                               stop_text  \n",
       "0      law enforcement high alert following threat co...  \n",
       "1      unbelievable obama attorney general say charlo...  \n",
       "2      bobby jindal raised hindu us story christian c...  \n",
       "3      satan 2 russia unvelis image terrifying new su...  \n",
       "4      time christian group sue amazon splc designati...  \n",
       "...                                                  ...  \n",
       "71420  russian steal research trump hack u democratic...  \n",
       "71421  watch giuliani demand democrat apologize trump...  \n",
       "71422  migrant refuse leave train refugee camp hungar...  \n",
       "71423  trump tussle give unpopular mexican leader muc...  \n",
       "71424  goldman sachs endorses hillary clinton preside...  \n",
       "\n",
       "[71425 rows x 6 columns]"
      ]
     },
     "execution_count": 52,
     "metadata": {},
     "output_type": "execute_result"
    }
   ],
   "source": [
    "df"
   ]
  },
  {
   "cell_type": "markdown",
   "id": "1a647aea",
   "metadata": {
    "id": "1a647aea"
   },
   "source": [
    "## Modeling"
   ]
  },
  {
   "cell_type": "markdown",
   "id": "7a8f7cf4",
   "metadata": {
    "id": "7a8f7cf4"
   },
   "source": [
    "### TF-IDF "
   ]
  },
  {
   "cell_type": "code",
   "execution_count": null,
   "id": "e5083675",
   "metadata": {
    "id": "e5083675"
   },
   "outputs": [],
   "source": [
    "#df = pd.read_csv(\"data/df_stopwords.csv\")\n",
    "#df.drop(columns=[\"Unnamed: 0\"], inplace=True)\n",
    "#df"
   ]
  },
  {
   "cell_type": "code",
   "execution_count": 34,
   "id": "01bc9cca",
   "metadata": {
    "id": "01bc9cca",
    "outputId": "51875d01-68e4-4e2d-aee3-5cc5795f0a93"
   },
   "outputs": [
    {
     "name": "stdout",
     "output_type": "stream",
     "text": [
      "<class 'pandas.core.frame.DataFrame'>\n",
      "RangeIndex: 71425 entries, 0 to 71424\n",
      "Data columns (total 3 columns):\n",
      " #   Column      Non-Null Count  Dtype \n",
      "---  ------      --------------  ----- \n",
      " 0   text        71425 non-null  object\n",
      " 1   label       71425 non-null  int64 \n",
      " 2   text_clean  71425 non-null  object\n",
      "dtypes: int64(1), object(2)\n",
      "memory usage: 1.6+ MB\n"
     ]
    }
   ],
   "source": [
    "df.info()"
   ]
  },
  {
   "cell_type": "code",
   "execution_count": 35,
   "id": "b31e7272",
   "metadata": {
    "id": "b31e7272"
   },
   "outputs": [
    {
     "ename": "KeyError",
     "evalue": "'stop_text'",
     "output_type": "error",
     "traceback": [
      "\u001b[0;31m---------------------------------------------------------------------------\u001b[0m",
      "\u001b[0;31mKeyError\u001b[0m                                  Traceback (most recent call last)",
      "\u001b[0;32m/opt/anaconda3/lib/python3.9/site-packages/pandas/core/indexes/base.py\u001b[0m in \u001b[0;36mget_loc\u001b[0;34m(self, key, method, tolerance)\u001b[0m\n\u001b[1;32m   3360\u001b[0m             \u001b[0;32mtry\u001b[0m\u001b[0;34m:\u001b[0m\u001b[0;34m\u001b[0m\u001b[0;34m\u001b[0m\u001b[0m\n\u001b[0;32m-> 3361\u001b[0;31m                 \u001b[0;32mreturn\u001b[0m \u001b[0mself\u001b[0m\u001b[0;34m.\u001b[0m\u001b[0m_engine\u001b[0m\u001b[0;34m.\u001b[0m\u001b[0mget_loc\u001b[0m\u001b[0;34m(\u001b[0m\u001b[0mcasted_key\u001b[0m\u001b[0;34m)\u001b[0m\u001b[0;34m\u001b[0m\u001b[0;34m\u001b[0m\u001b[0m\n\u001b[0m\u001b[1;32m   3362\u001b[0m             \u001b[0;32mexcept\u001b[0m \u001b[0mKeyError\u001b[0m \u001b[0;32mas\u001b[0m \u001b[0merr\u001b[0m\u001b[0;34m:\u001b[0m\u001b[0;34m\u001b[0m\u001b[0;34m\u001b[0m\u001b[0m\n",
      "\u001b[0;32m/opt/anaconda3/lib/python3.9/site-packages/pandas/_libs/index.pyx\u001b[0m in \u001b[0;36mpandas._libs.index.IndexEngine.get_loc\u001b[0;34m()\u001b[0m\n",
      "\u001b[0;32m/opt/anaconda3/lib/python3.9/site-packages/pandas/_libs/index.pyx\u001b[0m in \u001b[0;36mpandas._libs.index.IndexEngine.get_loc\u001b[0;34m()\u001b[0m\n",
      "\u001b[0;32mpandas/_libs/hashtable_class_helper.pxi\u001b[0m in \u001b[0;36mpandas._libs.hashtable.PyObjectHashTable.get_item\u001b[0;34m()\u001b[0m\n",
      "\u001b[0;32mpandas/_libs/hashtable_class_helper.pxi\u001b[0m in \u001b[0;36mpandas._libs.hashtable.PyObjectHashTable.get_item\u001b[0;34m()\u001b[0m\n",
      "\u001b[0;31mKeyError\u001b[0m: 'stop_text'",
      "\nThe above exception was the direct cause of the following exception:\n",
      "\u001b[0;31mKeyError\u001b[0m                                  Traceback (most recent call last)",
      "\u001b[0;32m/var/folders/mm/gw92vpys6rggjz_4z42s244w0000gn/T/ipykernel_4033/2321936595.py\u001b[0m in \u001b[0;36m<module>\u001b[0;34m\u001b[0m\n\u001b[0;32m----> 1\u001b[0;31m X_train, X_test, Y_train, Y_test = train_test_split(df['stop_text'],\n\u001b[0m\u001b[1;32m      2\u001b[0m \u001b[0mdf\u001b[0m\u001b[0;34m[\u001b[0m\u001b[0;34m'label'\u001b[0m\u001b[0;34m]\u001b[0m\u001b[0;34m,\u001b[0m\u001b[0;34m\u001b[0m\u001b[0;34m\u001b[0m\u001b[0m\n\u001b[1;32m      3\u001b[0m \u001b[0mtest_size\u001b[0m\u001b[0;34m=\u001b[0m\u001b[0;36m0.2\u001b[0m\u001b[0;34m,\u001b[0m\u001b[0;34m\u001b[0m\u001b[0;34m\u001b[0m\u001b[0m\n\u001b[1;32m      4\u001b[0m \u001b[0mrandom_state\u001b[0m\u001b[0;34m=\u001b[0m\u001b[0;36m42\u001b[0m\u001b[0;34m,\u001b[0m\u001b[0;34m\u001b[0m\u001b[0;34m\u001b[0m\u001b[0m\n\u001b[1;32m      5\u001b[0m stratify=df['label'])\n",
      "\u001b[0;32m/opt/anaconda3/lib/python3.9/site-packages/pandas/core/frame.py\u001b[0m in \u001b[0;36m__getitem__\u001b[0;34m(self, key)\u001b[0m\n\u001b[1;32m   3456\u001b[0m             \u001b[0;32mif\u001b[0m \u001b[0mself\u001b[0m\u001b[0;34m.\u001b[0m\u001b[0mcolumns\u001b[0m\u001b[0;34m.\u001b[0m\u001b[0mnlevels\u001b[0m \u001b[0;34m>\u001b[0m \u001b[0;36m1\u001b[0m\u001b[0;34m:\u001b[0m\u001b[0;34m\u001b[0m\u001b[0;34m\u001b[0m\u001b[0m\n\u001b[1;32m   3457\u001b[0m                 \u001b[0;32mreturn\u001b[0m \u001b[0mself\u001b[0m\u001b[0;34m.\u001b[0m\u001b[0m_getitem_multilevel\u001b[0m\u001b[0;34m(\u001b[0m\u001b[0mkey\u001b[0m\u001b[0;34m)\u001b[0m\u001b[0;34m\u001b[0m\u001b[0;34m\u001b[0m\u001b[0m\n\u001b[0;32m-> 3458\u001b[0;31m             \u001b[0mindexer\u001b[0m \u001b[0;34m=\u001b[0m \u001b[0mself\u001b[0m\u001b[0;34m.\u001b[0m\u001b[0mcolumns\u001b[0m\u001b[0;34m.\u001b[0m\u001b[0mget_loc\u001b[0m\u001b[0;34m(\u001b[0m\u001b[0mkey\u001b[0m\u001b[0;34m)\u001b[0m\u001b[0;34m\u001b[0m\u001b[0;34m\u001b[0m\u001b[0m\n\u001b[0m\u001b[1;32m   3459\u001b[0m             \u001b[0;32mif\u001b[0m \u001b[0mis_integer\u001b[0m\u001b[0;34m(\u001b[0m\u001b[0mindexer\u001b[0m\u001b[0;34m)\u001b[0m\u001b[0;34m:\u001b[0m\u001b[0;34m\u001b[0m\u001b[0;34m\u001b[0m\u001b[0m\n\u001b[1;32m   3460\u001b[0m                 \u001b[0mindexer\u001b[0m \u001b[0;34m=\u001b[0m \u001b[0;34m[\u001b[0m\u001b[0mindexer\u001b[0m\u001b[0;34m]\u001b[0m\u001b[0;34m\u001b[0m\u001b[0;34m\u001b[0m\u001b[0m\n",
      "\u001b[0;32m/opt/anaconda3/lib/python3.9/site-packages/pandas/core/indexes/base.py\u001b[0m in \u001b[0;36mget_loc\u001b[0;34m(self, key, method, tolerance)\u001b[0m\n\u001b[1;32m   3361\u001b[0m                 \u001b[0;32mreturn\u001b[0m \u001b[0mself\u001b[0m\u001b[0;34m.\u001b[0m\u001b[0m_engine\u001b[0m\u001b[0;34m.\u001b[0m\u001b[0mget_loc\u001b[0m\u001b[0;34m(\u001b[0m\u001b[0mcasted_key\u001b[0m\u001b[0;34m)\u001b[0m\u001b[0;34m\u001b[0m\u001b[0;34m\u001b[0m\u001b[0m\n\u001b[1;32m   3362\u001b[0m             \u001b[0;32mexcept\u001b[0m \u001b[0mKeyError\u001b[0m \u001b[0;32mas\u001b[0m \u001b[0merr\u001b[0m\u001b[0;34m:\u001b[0m\u001b[0;34m\u001b[0m\u001b[0;34m\u001b[0m\u001b[0m\n\u001b[0;32m-> 3363\u001b[0;31m                 \u001b[0;32mraise\u001b[0m \u001b[0mKeyError\u001b[0m\u001b[0;34m(\u001b[0m\u001b[0mkey\u001b[0m\u001b[0;34m)\u001b[0m \u001b[0;32mfrom\u001b[0m \u001b[0merr\u001b[0m\u001b[0;34m\u001b[0m\u001b[0;34m\u001b[0m\u001b[0m\n\u001b[0m\u001b[1;32m   3364\u001b[0m \u001b[0;34m\u001b[0m\u001b[0m\n\u001b[1;32m   3365\u001b[0m         \u001b[0;32mif\u001b[0m \u001b[0mis_scalar\u001b[0m\u001b[0;34m(\u001b[0m\u001b[0mkey\u001b[0m\u001b[0;34m)\u001b[0m \u001b[0;32mand\u001b[0m \u001b[0misna\u001b[0m\u001b[0;34m(\u001b[0m\u001b[0mkey\u001b[0m\u001b[0;34m)\u001b[0m \u001b[0;32mand\u001b[0m \u001b[0;32mnot\u001b[0m \u001b[0mself\u001b[0m\u001b[0;34m.\u001b[0m\u001b[0mhasnans\u001b[0m\u001b[0;34m:\u001b[0m\u001b[0;34m\u001b[0m\u001b[0;34m\u001b[0m\u001b[0m\n",
      "\u001b[0;31mKeyError\u001b[0m: 'stop_text'"
     ]
    }
   ],
   "source": [
    "X_train, X_test, Y_train, Y_test = train_test_split(df['stop_text'],\n",
    "df['label'],\n",
    "test_size=0.2,\n",
    "random_state=42,\n",
    "stratify=df['label'])"
   ]
  },
  {
   "cell_type": "code",
   "execution_count": 55,
   "id": "4fc33263",
   "metadata": {
    "id": "4fc33263",
    "outputId": "32b9221b-e780-450e-ba9d-362d0eedf595"
   },
   "outputs": [
    {
     "name": "stdout",
     "output_type": "stream",
     "text": [
      "Size of Training Data  57140\n",
      "Size of Test Data  14285\n",
      "Distribution of classes in Training Data :\n",
      "Fake item  50.95904795239762\n",
      "Real item  49.04095204760238\n",
      "Distribution of classes in Testing Data :\n",
      "Fake item  50.955547777388865\n",
      "Real item  49.04445222261113\n"
     ]
    }
   ],
   "source": [
    "print ('Size of Training Data ', X_train.shape[0])\n",
    "print ('Size of Test Data ', X_test.shape[0])\n",
    "print ('Distribution of classes in Training Data :')\n",
    "print ('Fake item ', str(sum(Y_train == 1)/ len(Y_train) * 100.0))\n",
    "print ('Real item ', str(sum(Y_train == 0)/ len(Y_train) * 100.0))\n",
    "print ('Distribution of classes in Testing Data :')\n",
    "print ('Fake item ', str(sum(Y_test == 1)/ len(Y_test) * 100.0))\n",
    "print ('Real item ', str(sum(Y_test == 0)/ len(Y_test) * 100.0))"
   ]
  },
  {
   "cell_type": "code",
   "execution_count": 56,
   "id": "f0f46676",
   "metadata": {
    "id": "f0f46676"
   },
   "outputs": [],
   "source": [
    "tfidf = TfidfVectorizer(analyzer = 'word', max_features = 20000, ngram_range=(1,2))\n",
    "X_train_tf = tfidf.fit_transform(X_train)\n",
    "X_test_tf = tfidf.transform(X_test)"
   ]
  },
  {
   "cell_type": "code",
   "execution_count": 57,
   "id": "59b28f50",
   "metadata": {
    "id": "59b28f50",
    "outputId": "816be032-cbf1-4b47-d299-638d22133c6e"
   },
   "outputs": [
    {
     "data": {
      "text/html": [
       "<style>#sk-container-id-1 {color: black;background-color: white;}#sk-container-id-1 pre{padding: 0;}#sk-container-id-1 div.sk-toggleable {background-color: white;}#sk-container-id-1 label.sk-toggleable__label {cursor: pointer;display: block;width: 100%;margin-bottom: 0;padding: 0.3em;box-sizing: border-box;text-align: center;}#sk-container-id-1 label.sk-toggleable__label-arrow:before {content: \"▸\";float: left;margin-right: 0.25em;color: #696969;}#sk-container-id-1 label.sk-toggleable__label-arrow:hover:before {color: black;}#sk-container-id-1 div.sk-estimator:hover label.sk-toggleable__label-arrow:before {color: black;}#sk-container-id-1 div.sk-toggleable__content {max-height: 0;max-width: 0;overflow: hidden;text-align: left;background-color: #f0f8ff;}#sk-container-id-1 div.sk-toggleable__content pre {margin: 0.2em;color: black;border-radius: 0.25em;background-color: #f0f8ff;}#sk-container-id-1 input.sk-toggleable__control:checked~div.sk-toggleable__content {max-height: 200px;max-width: 100%;overflow: auto;}#sk-container-id-1 input.sk-toggleable__control:checked~label.sk-toggleable__label-arrow:before {content: \"▾\";}#sk-container-id-1 div.sk-estimator input.sk-toggleable__control:checked~label.sk-toggleable__label {background-color: #d4ebff;}#sk-container-id-1 div.sk-label input.sk-toggleable__control:checked~label.sk-toggleable__label {background-color: #d4ebff;}#sk-container-id-1 input.sk-hidden--visually {border: 0;clip: rect(1px 1px 1px 1px);clip: rect(1px, 1px, 1px, 1px);height: 1px;margin: -1px;overflow: hidden;padding: 0;position: absolute;width: 1px;}#sk-container-id-1 div.sk-estimator {font-family: monospace;background-color: #f0f8ff;border: 1px dotted black;border-radius: 0.25em;box-sizing: border-box;margin-bottom: 0.5em;}#sk-container-id-1 div.sk-estimator:hover {background-color: #d4ebff;}#sk-container-id-1 div.sk-parallel-item::after {content: \"\";width: 100%;border-bottom: 1px solid gray;flex-grow: 1;}#sk-container-id-1 div.sk-label:hover label.sk-toggleable__label {background-color: #d4ebff;}#sk-container-id-1 div.sk-serial::before {content: \"\";position: absolute;border-left: 1px solid gray;box-sizing: border-box;top: 0;bottom: 0;left: 50%;z-index: 0;}#sk-container-id-1 div.sk-serial {display: flex;flex-direction: column;align-items: center;background-color: white;padding-right: 0.2em;padding-left: 0.2em;position: relative;}#sk-container-id-1 div.sk-item {position: relative;z-index: 1;}#sk-container-id-1 div.sk-parallel {display: flex;align-items: stretch;justify-content: center;background-color: white;position: relative;}#sk-container-id-1 div.sk-item::before, #sk-container-id-1 div.sk-parallel-item::before {content: \"\";position: absolute;border-left: 1px solid gray;box-sizing: border-box;top: 0;bottom: 0;left: 50%;z-index: -1;}#sk-container-id-1 div.sk-parallel-item {display: flex;flex-direction: column;z-index: 1;position: relative;background-color: white;}#sk-container-id-1 div.sk-parallel-item:first-child::after {align-self: flex-end;width: 50%;}#sk-container-id-1 div.sk-parallel-item:last-child::after {align-self: flex-start;width: 50%;}#sk-container-id-1 div.sk-parallel-item:only-child::after {width: 0;}#sk-container-id-1 div.sk-dashed-wrapped {border: 1px dashed gray;margin: 0 0.4em 0.5em 0.4em;box-sizing: border-box;padding-bottom: 0.4em;background-color: white;}#sk-container-id-1 div.sk-label label {font-family: monospace;font-weight: bold;display: inline-block;line-height: 1.2em;}#sk-container-id-1 div.sk-label-container {text-align: center;}#sk-container-id-1 div.sk-container {/* jupyter's `normalize.less` sets `[hidden] { display: none; }` but bootstrap.min.css set `[hidden] { display: none !important; }` so we also need the `!important` here to be able to override the default hidden behavior on the sphinx rendered scikit-learn.org. See: https://github.com/scikit-learn/scikit-learn/issues/21755 */display: inline-block !important;position: relative;}#sk-container-id-1 div.sk-text-repr-fallback {display: none;}</style><div id=\"sk-container-id-1\" class=\"sk-top-container\"><div class=\"sk-text-repr-fallback\"><pre>LinearSVC(random_state=42, tol=1e-05)</pre><b>In a Jupyter environment, please rerun this cell to show the HTML representation or trust the notebook. <br />On GitHub, the HTML representation is unable to render, please try loading this page with nbviewer.org.</b></div><div class=\"sk-container\" hidden><div class=\"sk-item\"><div class=\"sk-estimator sk-toggleable\"><input class=\"sk-toggleable__control sk-hidden--visually\" id=\"sk-estimator-id-1\" type=\"checkbox\" checked><label for=\"sk-estimator-id-1\" class=\"sk-toggleable__label sk-toggleable__label-arrow\">LinearSVC</label><div class=\"sk-toggleable__content\"><pre>LinearSVC(random_state=42, tol=1e-05)</pre></div></div></div></div></div>"
      ],
      "text/plain": [
       "LinearSVC(random_state=42, tol=1e-05)"
      ]
     },
     "execution_count": 57,
     "metadata": {},
     "output_type": "execute_result"
    }
   ],
   "source": [
    "SVC = LinearSVC(random_state=42, tol=1e-5)\n",
    "SVC.fit(X_train_tf, Y_train)"
   ]
  },
  {
   "cell_type": "code",
   "execution_count": 58,
   "id": "2d82e86c",
   "metadata": {
    "id": "2d82e86c",
    "outputId": "a176c3d3-0204-4daf-b10e-cad7d4b6c2d4"
   },
   "outputs": [
    {
     "name": "stdout",
     "output_type": "stream",
     "text": [
      "Accuracy Score -  0.9662583129156458\n",
      "ROC-AUC Score -  0.9661549790482413\n"
     ]
    }
   ],
   "source": [
    "Y_pred = SVC.predict(X_test_tf)\n",
    "print ('Accuracy Score - ', accuracy_score(Y_test, Y_pred))\n",
    "print ('ROC-AUC Score - ', roc_auc_score(Y_test, Y_pred))"
   ]
  },
  {
   "cell_type": "code",
   "execution_count": 53,
   "id": "97081fc8",
   "metadata": {
    "id": "97081fc8",
    "outputId": "8cc03256-f931-40cc-e35a-cc3f4d05d979",
    "scrolled": false
   },
   "outputs": [],
   "source": [
    "#tfidf.get_feature_names()"
   ]
  },
  {
   "cell_type": "markdown",
   "id": "782d4e54",
   "metadata": {},
   "source": [
    "## Visualization"
   ]
  },
  {
   "cell_type": "code",
   "execution_count": 62,
   "id": "6b7229c7",
   "metadata": {},
   "outputs": [],
   "source": [
    "df_true = df.drop(df[df.label == 0].index)"
   ]
  },
  {
   "cell_type": "code",
   "execution_count": 63,
   "id": "bf1ece83",
   "metadata": {},
   "outputs": [],
   "source": [
    "df_fake = df.drop(df[df.label == 1].index)"
   ]
  },
  {
   "cell_type": "code",
   "execution_count": 36,
   "id": "39a5e494",
   "metadata": {},
   "outputs": [],
   "source": [
    "from sklearn.feature_extraction.text import TfidfVectorizer"
   ]
  },
  {
   "cell_type": "code",
   "execution_count": 37,
   "id": "deb0604d",
   "metadata": {},
   "outputs": [],
   "source": [
    "from spacy.lang.en.stop_words import STOP_WORDS as stopwords"
   ]
  },
  {
   "cell_type": "markdown",
   "id": "060e8040",
   "metadata": {},
   "source": [
    "### on Real News"
   ]
  },
  {
   "cell_type": "code",
   "execution_count": 67,
   "id": "958058a5",
   "metadata": {},
   "outputs": [
    {
     "name": "stderr",
     "output_type": "stream",
     "text": [
      "/opt/anaconda3/lib/python3.9/site-packages/sklearn/feature_extraction/text.py:388: UserWarning: Your stop_words may be inconsistent with your preprocessing. Tokenizing the stop words generated tokens ['ll', 've'] not in stop_words.\n",
      "  warnings.warn('Your stop_words may be inconsistent with '\n"
     ]
    },
    {
     "data": {
      "text/plain": [
       "(36397, 337562)"
      ]
     },
     "execution_count": 67,
     "metadata": {},
     "output_type": "execute_result"
    }
   ],
   "source": [
    "tfidf_text = TfidfVectorizer(stop_words=stopwords, ngram_range=(1, 2), min_df=5, max_df=0.6) \n",
    "vectors_text = tfidf_text.fit_transform(df_true['text_clean']) \n",
    "vectors_text.shape"
   ]
  },
  {
   "cell_type": "markdown",
   "id": "a5c8b190",
   "metadata": {},
   "source": [
    "#### Nonnegative Matrix Factorization (NMF)"
   ]
  },
  {
   "cell_type": "code",
   "execution_count": 40,
   "id": "92d70adb",
   "metadata": {},
   "outputs": [],
   "source": [
    "from sklearn.decomposition import NMF"
   ]
  },
  {
   "cell_type": "code",
   "execution_count": 68,
   "id": "e7b64fae",
   "metadata": {},
   "outputs": [
    {
     "name": "stderr",
     "output_type": "stream",
     "text": [
      "/opt/anaconda3/lib/python3.9/site-packages/sklearn/decomposition/_nmf.py:312: FutureWarning: The 'init' value, when 'init=None' and n_components is less than n_samples and n_features, will be changed from 'nndsvd' to 'nndsvda' in 1.1 (renaming of 0.26).\n",
      "  warnings.warn((\"The 'init' value, when 'init=None' and \"\n"
     ]
    }
   ],
   "source": [
    "nmf_text_model = NMF(n_components=10, random_state=42) \n",
    "W_text_matrix = nmf_text_model.fit_transform(vectors_text) \n",
    "H_text_matrix = nmf_text_model.components_"
   ]
  },
  {
   "cell_type": "code",
   "execution_count": 43,
   "id": "e0e730ed",
   "metadata": {},
   "outputs": [],
   "source": [
    "def display_topics(model, features, no_top_words=5): \n",
    "    for topic, word_vector in enumerate(model.components_):\n",
    "        total = word_vector.sum() \n",
    "        largest = word_vector.argsort()[::-1] # invert sort order\n",
    "        print(\"\\nTopic %02d\" % topic) \n",
    "        for i in range(0, no_top_words): \n",
    "            print(\" %s (%2.2f)\" % (features[largest[i]], \n",
    "                    word_vector[largest[i]]*100.0/total))"
   ]
  },
  {
   "cell_type": "code",
   "execution_count": 69,
   "id": "66c6663c",
   "metadata": {},
   "outputs": [
    {
     "name": "stdout",
     "output_type": "stream",
     "text": [
      "\n",
      "Topic 00\n",
      " trump (1.99)\n",
      " donald (0.49)\n",
      " donald trump (0.46)\n",
      " president (0.23)\n",
      " campaign (0.19)\n",
      "\n",
      "Topic 01\n",
      " people (0.18)\n",
      " world (0.11)\n",
      " like (0.10)\n",
      " government (0.10)\n",
      " new (0.09)\n",
      "\n",
      "Topic 02\n",
      " clinton (1.53)\n",
      " hillary (1.12)\n",
      " hillary clinton (0.61)\n",
      " campaign (0.31)\n",
      " foundation (0.24)\n",
      "\n",
      "Topic 03\n",
      " boiler (1.93)\n",
      " boiler room (1.74)\n",
      " acr (1.32)\n",
      " room (1.19)\n",
      " pm (0.85)\n",
      "\n",
      "Topic 04\n",
      " russia (0.54)\n",
      " syria (0.43)\n",
      " russian (0.38)\n",
      " war (0.32)\n",
      " military (0.25)\n",
      "\n",
      "Topic 05\n",
      " fbi (1.20)\n",
      " comey (0.94)\n",
      " investigation (0.56)\n",
      " emails (0.41)\n",
      " director (0.34)\n",
      "\n",
      "Topic 06\n",
      " police (0.76)\n",
      " black (0.58)\n",
      " officers (0.29)\n",
      " gun (0.22)\n",
      " officer (0.22)\n",
      "\n",
      "Topic 07\n",
      " de (3.89)\n",
      " la (2.39)\n",
      " que (1.96)\n",
      " el (1.75)\n",
      " en (1.62)\n",
      "\n",
      "Topic 08\n",
      " obama (1.45)\n",
      " president (0.67)\n",
      " president obama (0.37)\n",
      " house (0.33)\n",
      " white house (0.32)\n",
      "\n",
      "Topic 09\n",
      " twitter (0.94)\n",
      " com (0.79)\n",
      " twitter com (0.79)\n",
      " pic (0.75)\n",
      " pic twitter (0.75)\n"
     ]
    }
   ],
   "source": [
    "display_topics(nmf_text_model, tfidf_text.get_feature_names())"
   ]
  },
  {
   "cell_type": "markdown",
   "id": "beacd769",
   "metadata": {},
   "source": [
    "### on Fake News"
   ]
  },
  {
   "cell_type": "code",
   "execution_count": 70,
   "id": "1b3be132",
   "metadata": {},
   "outputs": [
    {
     "name": "stderr",
     "output_type": "stream",
     "text": [
      "/opt/anaconda3/lib/python3.9/site-packages/sklearn/feature_extraction/text.py:388: UserWarning: Your stop_words may be inconsistent with your preprocessing. Tokenizing the stop words generated tokens ['ll', 've'] not in stop_words.\n",
      "  warnings.warn('Your stop_words may be inconsistent with '\n"
     ]
    },
    {
     "data": {
      "text/plain": [
       "(35028, 322263)"
      ]
     },
     "execution_count": 70,
     "metadata": {},
     "output_type": "execute_result"
    }
   ],
   "source": [
    "tfidf_text = TfidfVectorizer(stop_words=stopwords, ngram_range=(1, 2), min_df=5, max_df=0.6) \n",
    "vectors_text = tfidf_text.fit_transform(df_fake['text_clean']) \n",
    "vectors_text.shape"
   ]
  },
  {
   "cell_type": "markdown",
   "id": "bf443b2b",
   "metadata": {},
   "source": [
    "#### Nonnegative Matrix Factorization (NMF)"
   ]
  },
  {
   "cell_type": "code",
   "execution_count": 72,
   "id": "6ced5af9",
   "metadata": {},
   "outputs": [
    {
     "name": "stderr",
     "output_type": "stream",
     "text": [
      "/opt/anaconda3/lib/python3.9/site-packages/sklearn/decomposition/_nmf.py:312: FutureWarning: The 'init' value, when 'init=None' and n_components is less than n_samples and n_features, will be changed from 'nndsvd' to 'nndsvda' in 1.1 (renaming of 0.26).\n",
      "  warnings.warn((\"The 'init' value, when 'init=None' and \"\n"
     ]
    }
   ],
   "source": [
    "nmf_text_model = NMF(n_components=10, random_state=42) \n",
    "W_text_matrix = nmf_text_model.fit_transform(vectors_text) \n",
    "H_text_matrix = nmf_text_model.components_"
   ]
  },
  {
   "cell_type": "code",
   "execution_count": 73,
   "id": "c8a7be57",
   "metadata": {},
   "outputs": [
    {
     "name": "stdout",
     "output_type": "stream",
     "text": [
      "\n",
      "Topic 00\n",
      " trump (1.82)\n",
      " president (0.32)\n",
      " donald (0.28)\n",
      " donald trump (0.27)\n",
      " white (0.25)\n",
      "\n",
      "Topic 01\n",
      " korea (1.69)\n",
      " north (1.42)\n",
      " north korea (1.39)\n",
      " china (0.78)\n",
      " nuclear (0.63)\n",
      "\n",
      "Topic 02\n",
      " mr (3.54)\n",
      " mr trump (1.76)\n",
      " mrs (0.39)\n",
      " mrs clinton (0.38)\n",
      " ms (0.30)\n",
      "\n",
      "Topic 03\n",
      " police (0.20)\n",
      " people (0.16)\n",
      " new (0.14)\n",
      " like (0.11)\n",
      " ms (0.10)\n",
      "\n",
      "Topic 04\n",
      " tax (0.80)\n",
      " bill (0.49)\n",
      " house (0.46)\n",
      " senate (0.43)\n",
      " republicans (0.36)\n",
      "\n",
      "Topic 05\n",
      " clinton (1.39)\n",
      " sanders (0.61)\n",
      " campaign (0.31)\n",
      " democratic (0.30)\n",
      " hillary (0.30)\n",
      "\n",
      "Topic 06\n",
      " eu (0.91)\n",
      " brexit (0.55)\n",
      " britain (0.53)\n",
      " european (0.49)\n",
      " minister (0.32)\n",
      "\n",
      "Topic 07\n",
      " iran (0.43)\n",
      " islamic (0.40)\n",
      " islamic state (0.38)\n",
      " syria (0.37)\n",
      " syrian (0.31)\n",
      "\n",
      "Topic 08\n",
      " russia (1.03)\n",
      " russian (0.85)\n",
      " putin (0.51)\n",
      " moscow (0.48)\n",
      " intelligence (0.41)\n",
      "\n",
      "Topic 09\n",
      " court (1.00)\n",
      " supreme court (0.46)\n",
      " supreme (0.45)\n",
      " judge (0.34)\n",
      " justice (0.30)\n"
     ]
    }
   ],
   "source": [
    "display_topics(nmf_text_model, tfidf_text.get_feature_names())"
   ]
  }
 ],
 "metadata": {
  "colab": {
   "include_colab_link": true,
   "provenance": []
  },
  "kernelspec": {
   "display_name": "Python 3 (ipykernel)",
   "language": "python",
   "name": "python3"
  },
  "language_info": {
   "codemirror_mode": {
    "name": "ipython",
    "version": 3
   },
   "file_extension": ".py",
   "mimetype": "text/x-python",
   "name": "python",
   "nbconvert_exporter": "python",
   "pygments_lexer": "ipython3",
   "version": "3.9.7"
  },
  "toc": {
   "base_numbering": 1,
   "nav_menu": {},
   "number_sections": true,
   "sideBar": true,
   "skip_h1_title": false,
   "title_cell": "Table of Contents",
   "title_sidebar": "Contents",
   "toc_cell": false,
   "toc_position": {
    "height": "calc(100% - 180px)",
    "left": "10px",
    "top": "150px",
    "width": "165px"
   },
   "toc_section_display": true,
   "toc_window_display": true
  }
 },
 "nbformat": 4,
 "nbformat_minor": 5
}
